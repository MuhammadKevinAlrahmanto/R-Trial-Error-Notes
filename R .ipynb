{
 "cells": [
  {
   "cell_type": "markdown",
   "id": "7cb27a3e",
   "metadata": {},
   "source": [
    "# 1. Introduction"
   ]
  },
  {
   "cell_type": "code",
   "execution_count": 40,
   "id": "578b5d1e",
   "metadata": {},
   "outputs": [
    {
     "name": "stdout",
     "output_type": "stream",
     "text": [
      "[1] 1\n",
      "[1] 1\n",
      "[1] 3\n",
      "[1] 2.302585\n"
     ]
    }
   ],
   "source": [
    "a=10/10\n",
    "b= exp(0)\n",
    "c=sqrt(9)\n",
    "d=log(10)\n",
    "print(a)\n",
    "print(b)\n",
    "print(c)\n",
    "print(d)"
   ]
  },
  {
   "cell_type": "code",
   "execution_count": 41,
   "id": "dda32a26",
   "metadata": {},
   "outputs": [],
   "source": [
    "?exp()"
   ]
  },
  {
   "cell_type": "code",
   "execution_count": 20,
   "id": "83905a78",
   "metadata": {},
   "outputs": [
    {
     "data": {
      "text/html": [
       "21"
      ],
      "text/latex": [
       "21"
      ],
      "text/markdown": [
       "21"
      ],
      "text/plain": [
       "[1] 21"
      ]
     },
     "metadata": {},
     "output_type": "display_data"
    }
   ],
   "source": [
    "melons = c(11, 21, 31, 41) #vector\n",
    "melons[2]"
   ]
  },
  {
   "cell_type": "code",
   "execution_count": 23,
   "id": "648571b2",
   "metadata": {},
   "outputs": [
    {
     "data": {
      "text/html": [
       "<ol class=list-inline>\n",
       "\t<li>0.5</li>\n",
       "\t<li>1</li>\n",
       "\t<li>1.5</li>\n",
       "\t<li>2.5</li>\n",
       "</ol>\n"
      ],
      "text/latex": [
       "\\begin{enumerate*}\n",
       "\\item 0.5\n",
       "\\item 1\n",
       "\\item 1.5\n",
       "\\item 2.5\n",
       "\\end{enumerate*}\n"
      ],
      "text/markdown": [
       "1. 0.5\n",
       "2. 1\n",
       "3. 1.5\n",
       "4. 2.5\n",
       "\n",
       "\n"
      ],
      "text/plain": [
       "[1] 0.5 1.0 1.5 2.5"
      ]
     },
     "metadata": {},
     "output_type": "display_data"
    }
   ],
   "source": [
    "lemons <- c (1, 2, 3, 5)\n",
    "lemons/2"
   ]
  },
  {
   "cell_type": "code",
   "execution_count": 24,
   "id": "150f5ef6",
   "metadata": {},
   "outputs": [
    {
     "data": {
      "text/html": [
       "<ol class=list-inline>\n",
       "\t<li>12</li>\n",
       "\t<li>23</li>\n",
       "\t<li>34</li>\n",
       "\t<li>46</li>\n",
       "</ol>\n"
      ],
      "text/latex": [
       "\\begin{enumerate*}\n",
       "\\item 12\n",
       "\\item 23\n",
       "\\item 34\n",
       "\\item 46\n",
       "\\end{enumerate*}\n"
      ],
      "text/markdown": [
       "1. 12\n",
       "2. 23\n",
       "3. 34\n",
       "4. 46\n",
       "\n",
       "\n"
      ],
      "text/plain": [
       "[1] 12 23 34 46"
      ]
     },
     "metadata": {},
     "output_type": "display_data"
    }
   ],
   "source": [
    "melons+lemons"
   ]
  },
  {
   "cell_type": "code",
   "execution_count": 25,
   "id": "5e5d2b1b",
   "metadata": {},
   "outputs": [
    {
     "data": {
      "text/html": [
       "104"
      ],
      "text/latex": [
       "104"
      ],
      "text/markdown": [
       "104"
      ],
      "text/plain": [
       "[1] 104"
      ]
     },
     "metadata": {},
     "output_type": "display_data"
    }
   ],
   "source": [
    "sum(melons)"
   ]
  },
  {
   "cell_type": "code",
   "execution_count": 26,
   "id": "eda1b943",
   "metadata": {},
   "outputs": [
    {
     "data": {
      "text/html": [
       "2.75"
      ],
      "text/latex": [
       "2.75"
      ],
      "text/markdown": [
       "2.75"
      ],
      "text/plain": [
       "[1] 2.75"
      ]
     },
     "metadata": {},
     "output_type": "display_data"
    }
   ],
   "source": [
    "mean(lemons)"
   ]
  },
  {
   "cell_type": "code",
   "execution_count": 27,
   "id": "528fc343",
   "metadata": {},
   "outputs": [
    {
     "data": {
      "text/html": [
       "<ol class=list-inline>\n",
       "\t<li>TRUE</li>\n",
       "\t<li>TRUE</li>\n",
       "\t<li>TRUE</li>\n",
       "\t<li>TRUE</li>\n",
       "</ol>\n"
      ],
      "text/latex": [
       "\\begin{enumerate*}\n",
       "\\item TRUE\n",
       "\\item TRUE\n",
       "\\item TRUE\n",
       "\\item TRUE\n",
       "\\end{enumerate*}\n"
      ],
      "text/markdown": [
       "1. TRUE\n",
       "2. TRUE\n",
       "3. TRUE\n",
       "4. TRUE\n",
       "\n",
       "\n"
      ],
      "text/plain": [
       "[1] TRUE TRUE TRUE TRUE"
      ]
     },
     "metadata": {},
     "output_type": "display_data"
    }
   ],
   "source": [
    "melons>2"
   ]
  },
  {
   "cell_type": "code",
   "execution_count": 28,
   "id": "e4ebfe2d",
   "metadata": {},
   "outputs": [
    {
     "data": {
      "text/html": [
       "<ol class=list-inline>\n",
       "\t<li>FALSE</li>\n",
       "\t<li>FALSE</li>\n",
       "\t<li>FALSE</li>\n",
       "\t<li>TRUE</li>\n",
       "</ol>\n"
      ],
      "text/latex": [
       "\\begin{enumerate*}\n",
       "\\item FALSE\n",
       "\\item FALSE\n",
       "\\item FALSE\n",
       "\\item TRUE\n",
       "\\end{enumerate*}\n"
      ],
      "text/markdown": [
       "1. FALSE\n",
       "2. FALSE\n",
       "3. FALSE\n",
       "4. TRUE\n",
       "\n",
       "\n"
      ],
      "text/plain": [
       "[1] FALSE FALSE FALSE  TRUE"
      ]
     },
     "metadata": {},
     "output_type": "display_data"
    }
   ],
   "source": [
    "lemons == 5"
   ]
  },
  {
   "cell_type": "code",
   "execution_count": 29,
   "id": "9249b4b6",
   "metadata": {},
   "outputs": [
    {
     "data": {
      "text/html": [
       "<ol class=list-inline>\n",
       "\t<li>31</li>\n",
       "\t<li>41</li>\n",
       "</ol>\n"
      ],
      "text/latex": [
       "\\begin{enumerate*}\n",
       "\\item 31\n",
       "\\item 41\n",
       "\\end{enumerate*}\n"
      ],
      "text/markdown": [
       "1. 31\n",
       "2. 41\n",
       "\n",
       "\n"
      ],
      "text/plain": [
       "[1] 31 41"
      ]
     },
     "metadata": {},
     "output_type": "display_data"
    }
   ],
   "source": [
    "melons[melons>30]"
   ]
  },
  {
   "cell_type": "code",
   "execution_count": 30,
   "id": "3680fa15",
   "metadata": {},
   "outputs": [
    {
     "data": {
      "text/html": [
       "<ol class=list-inline>\n",
       "\t<li>FALSE</li>\n",
       "\t<li>TRUE</li>\n",
       "\t<li>TRUE</li>\n",
       "\t<li>TRUE</li>\n",
       "</ol>\n"
      ],
      "text/latex": [
       "\\begin{enumerate*}\n",
       "\\item FALSE\n",
       "\\item TRUE\n",
       "\\item TRUE\n",
       "\\item TRUE\n",
       "\\end{enumerate*}\n"
      ],
      "text/markdown": [
       "1. FALSE\n",
       "2. TRUE\n",
       "3. TRUE\n",
       "4. TRUE\n",
       "\n",
       "\n"
      ],
      "text/plain": [
       "[1] FALSE  TRUE  TRUE  TRUE"
      ]
     },
     "metadata": {},
     "output_type": "display_data"
    }
   ],
   "source": [
    "melons > 30 | melons == 21"
   ]
  },
  {
   "cell_type": "code",
   "execution_count": 33,
   "id": "8ca725df",
   "metadata": {},
   "outputs": [
    {
     "data": {
      "text/html": [
       "Inf"
      ],
      "text/latex": [
       "Inf"
      ],
      "text/markdown": [
       "Inf"
      ],
      "text/plain": [
       "[1] Inf"
      ]
     },
     "metadata": {},
     "output_type": "display_data"
    }
   ],
   "source": [
    "sum(c(2, 3, 4/0))"
   ]
  },
  {
   "cell_type": "code",
   "execution_count": 34,
   "id": "bd0a8964",
   "metadata": {},
   "outputs": [
    {
     "name": "stderr",
     "output_type": "stream",
     "text": [
      "Warning message in sqrt(-1):\n",
      "\"NaNs produced\""
     ]
    },
    {
     "data": {
      "text/html": [
       "NaN"
      ],
      "text/latex": [
       "NaN"
      ],
      "text/markdown": [
       "NaN"
      ],
      "text/plain": [
       "[1] NaN"
      ]
     },
     "metadata": {},
     "output_type": "display_data"
    }
   ],
   "source": [
    "sqrt(-1)"
   ]
  },
  {
   "cell_type": "code",
   "execution_count": 36,
   "id": "03925fda",
   "metadata": {},
   "outputs": [
    {
     "data": {
      "text/html": [
       "5"
      ],
      "text/latex": [
       "5"
      ],
      "text/markdown": [
       "5"
      ],
      "text/plain": [
       "[1] 5"
      ]
     },
     "metadata": {},
     "output_type": "display_data"
    }
   ],
   "source": [
    "sum(c(2, 3, NA), na.rm=TRUE)"
   ]
  },
  {
   "cell_type": "code",
   "execution_count": 185,
   "id": "77c95e12",
   "metadata": {},
   "outputs": [
    {
     "data": {
      "text/html": [
       "<ol class=list-inline>\n",
       "\t<li>9</li>\n",
       "\t<li>7</li>\n",
       "\t<li>13</li>\n",
       "\t<li>11</li>\n",
       "</ol>\n"
      ],
      "text/latex": [
       "\\begin{enumerate*}\n",
       "\\item 9\n",
       "\\item 7\n",
       "\\item 13\n",
       "\\item 11\n",
       "\\end{enumerate*}\n"
      ],
      "text/markdown": [
       "1. 9\n",
       "2. 7\n",
       "3. 13\n",
       "4. 11\n",
       "\n",
       "\n"
      ],
      "text/plain": [
       "[1]  9  7 13 11"
      ]
     },
     "metadata": {},
     "output_type": "display_data"
    }
   ],
   "source": [
    "c(1, 3, 5, 7)+ c(8, 4)"
   ]
  },
  {
   "cell_type": "code",
   "execution_count": 187,
   "id": "64dedb90",
   "metadata": {},
   "outputs": [
    {
     "name": "stderr",
     "output_type": "stream",
     "text": [
      "Warning message in c(1, 2, 3, 4) + c(5, 2, 3):\n",
      "\"longer object length is not a multiple of shorter object length\""
     ]
    },
    {
     "data": {
      "text/html": [
       "<ol class=list-inline>\n",
       "\t<li>6</li>\n",
       "\t<li>4</li>\n",
       "\t<li>6</li>\n",
       "\t<li>9</li>\n",
       "</ol>\n"
      ],
      "text/latex": [
       "\\begin{enumerate*}\n",
       "\\item 6\n",
       "\\item 4\n",
       "\\item 6\n",
       "\\item 9\n",
       "\\end{enumerate*}\n"
      ],
      "text/markdown": [
       "1. 6\n",
       "2. 4\n",
       "3. 6\n",
       "4. 9\n",
       "\n",
       "\n"
      ],
      "text/plain": [
       "[1] 6 4 6 9"
      ]
     },
     "metadata": {},
     "output_type": "display_data"
    }
   ],
   "source": [
    "c(1, 2, 3, 4) + c(5, 2, 3)"
   ]
  },
  {
   "cell_type": "markdown",
   "id": "4f405cea",
   "metadata": {},
   "source": [
    "# 2. Vector"
   ]
  },
  {
   "cell_type": "markdown",
   "id": "7fcfd49b",
   "metadata": {},
   "source": [
    "## 2.1 Creating Vector"
   ]
  },
  {
   "cell_type": "code",
   "execution_count": 43,
   "id": "58f9e9b0",
   "metadata": {},
   "outputs": [],
   "source": [
    "?c()"
   ]
  },
  {
   "cell_type": "code",
   "execution_count": 59,
   "id": "9d9088a6",
   "metadata": {},
   "outputs": [
    {
     "data": {
      "text/html": [
       "<ol class=list-inline>\n",
       "\t<li>10000</li>\n",
       "\t<li>20000</li>\n",
       "\t<li>4000</li>\n",
       "\t<li>3000</li>\n",
       "</ol>\n"
      ],
      "text/latex": [
       "\\begin{enumerate*}\n",
       "\\item 10000\n",
       "\\item 20000\n",
       "\\item 4000\n",
       "\\item 3000\n",
       "\\end{enumerate*}\n"
      ],
      "text/markdown": [
       "1. 10000\n",
       "2. 20000\n",
       "3. 4000\n",
       "4. 3000\n",
       "\n",
       "\n"
      ],
      "text/plain": [
       "[1] 10000 20000  4000  3000"
      ]
     },
     "metadata": {},
     "output_type": "display_data"
    }
   ],
   "source": [
    "numeric <- c(10000, 20000, 4000, 3000)\n",
    "numeric"
   ]
  },
  {
   "cell_type": "code",
   "execution_count": 60,
   "id": "247ee3c4",
   "metadata": {},
   "outputs": [
    {
     "data": {
      "text/html": [
       "<ol class=list-inline>\n",
       "\t<li>'10000'</li>\n",
       "\t<li>'20000'</li>\n",
       "\t<li>'4000'</li>\n",
       "\t<li>'3000'</li>\n",
       "\t<li>'string here'</li>\n",
       "</ol>\n"
      ],
      "text/latex": [
       "\\begin{enumerate*}\n",
       "\\item '10000'\n",
       "\\item '20000'\n",
       "\\item '4000'\n",
       "\\item '3000'\n",
       "\\item 'string here'\n",
       "\\end{enumerate*}\n"
      ],
      "text/markdown": [
       "1. '10000'\n",
       "2. '20000'\n",
       "3. '4000'\n",
       "4. '3000'\n",
       "5. 'string here'\n",
       "\n",
       "\n"
      ],
      "text/plain": [
       "[1] \"10000\"       \"20000\"       \"4000\"        \"3000\"        \"string here\""
      ]
     },
     "metadata": {},
     "output_type": "display_data"
    }
   ],
   "source": [
    "string_infected <- c(10000, 20000, 4000, 3000, 'string here')\n",
    "# R by default, converts every element of the object to a charactyer\n",
    "string_infected"
   ]
  },
  {
   "cell_type": "code",
   "execution_count": 61,
   "id": "7338ee0f",
   "metadata": {},
   "outputs": [
    {
     "ename": "ERROR",
     "evalue": "Error in numeric * 2: non-numeric argument to binary operator\n",
     "output_type": "error",
     "traceback": [
      "Error in numeric * 2: non-numeric argument to binary operator\nTraceback:\n"
     ]
    }
   ],
   "source": [
    "rm(numeric) #remove objects\n",
    "numeric*2"
   ]
  },
  {
   "cell_type": "markdown",
   "id": "e1cc3f29",
   "metadata": {},
   "source": [
    "## 2.2 Vector Indexing and Slicing"
   ]
  },
  {
   "cell_type": "code",
   "execution_count": 63,
   "id": "69be5580",
   "metadata": {},
   "outputs": [],
   "source": [
    "melons <- c(11.1, 12.5, 13.5, 17.5)"
   ]
  },
  {
   "cell_type": "code",
   "execution_count": 71,
   "id": "74b2e294",
   "metadata": {},
   "outputs": [
    {
     "data": {
      "text/html": [
       "12.5"
      ],
      "text/latex": [
       "12.5"
      ],
      "text/markdown": [
       "12.5"
      ],
      "text/plain": [
       "[1] 12.5"
      ]
     },
     "metadata": {},
     "output_type": "display_data"
    }
   ],
   "source": [
    "melons[2]"
   ]
  },
  {
   "cell_type": "code",
   "execution_count": 72,
   "id": "7f9ac5f8",
   "metadata": {},
   "outputs": [
    {
     "data": {
      "text/html": [
       "<ol class=list-inline>\n",
       "\t<li>11.1</li>\n",
       "\t<li>12.5</li>\n",
       "\t<li>13.5</li>\n",
       "</ol>\n"
      ],
      "text/latex": [
       "\\begin{enumerate*}\n",
       "\\item 11.1\n",
       "\\item 12.5\n",
       "\\item 13.5\n",
       "\\end{enumerate*}\n"
      ],
      "text/markdown": [
       "1. 11.1\n",
       "2. 12.5\n",
       "3. 13.5\n",
       "\n",
       "\n"
      ],
      "text/plain": [
       "[1] 11.1 12.5 13.5"
      ]
     },
     "metadata": {},
     "output_type": "display_data"
    }
   ],
   "source": [
    "melons[1:3]"
   ]
  },
  {
   "cell_type": "code",
   "execution_count": 73,
   "id": "402a5eea",
   "metadata": {},
   "outputs": [
    {
     "data": {
      "text/html": [
       "<ol class=list-inline>\n",
       "\t<li>11.1</li>\n",
       "\t<li>17.5</li>\n",
       "</ol>\n"
      ],
      "text/latex": [
       "\\begin{enumerate*}\n",
       "\\item 11.1\n",
       "\\item 17.5\n",
       "\\end{enumerate*}\n"
      ],
      "text/markdown": [
       "1. 11.1\n",
       "2. 17.5\n",
       "\n",
       "\n"
      ],
      "text/plain": [
       "[1] 11.1 17.5"
      ]
     },
     "metadata": {},
     "output_type": "display_data"
    }
   ],
   "source": [
    "melons[c(1,4)]"
   ]
  },
  {
   "cell_type": "code",
   "execution_count": 76,
   "id": "03f9bb60",
   "metadata": {},
   "outputs": [
    {
     "data": {
      "text/html": [
       "<ol class=list-inline>\n",
       "\t<li>13.5</li>\n",
       "\t<li>17.5</li>\n",
       "</ol>\n"
      ],
      "text/latex": [
       "\\begin{enumerate*}\n",
       "\\item 13.5\n",
       "\\item 17.5\n",
       "\\end{enumerate*}\n"
      ],
      "text/markdown": [
       "1. 13.5\n",
       "2. 17.5\n",
       "\n",
       "\n"
      ],
      "text/plain": [
       "[1] 13.5 17.5"
      ]
     },
     "metadata": {},
     "output_type": "display_data"
    }
   ],
   "source": [
    "melons[3:length(melons)]"
   ]
  },
  {
   "cell_type": "markdown",
   "id": "3cb46ea5",
   "metadata": {},
   "source": [
    "## 2.3 Calculation with vectors"
   ]
  },
  {
   "cell_type": "code",
   "execution_count": 82,
   "id": "b14460aa",
   "metadata": {},
   "outputs": [
    {
     "data": {
      "text/html": [
       "54.6"
      ],
      "text/latex": [
       "54.6"
      ],
      "text/markdown": [
       "54.6"
      ],
      "text/plain": [
       "[1] 54.6"
      ]
     },
     "metadata": {},
     "output_type": "display_data"
    }
   ],
   "source": [
    "melons[1]+melons[2]+melons[3]+melons[4]"
   ]
  },
  {
   "cell_type": "code",
   "execution_count": 78,
   "id": "68107e72",
   "metadata": {},
   "outputs": [
    {
     "name": "stdout",
     "output_type": "stream",
     "text": [
      "[1] 11.1\n",
      "[1] 23.6\n",
      "[1] 37.1\n",
      "[1] 54.6\n"
     ]
    }
   ],
   "source": [
    "result=0\n",
    "for (i in 1: length(melons)) {\n",
    "    result= result + melons[i]\n",
    "    print(result)\n",
    "}"
   ]
  },
  {
   "cell_type": "code",
   "execution_count": 81,
   "id": "87c0032b",
   "metadata": {},
   "outputs": [
    {
     "data": {
      "text/html": [
       "TRUE"
      ],
      "text/latex": [
       "TRUE"
      ],
      "text/markdown": [
       "TRUE"
      ],
      "text/plain": [
       "[1] TRUE"
      ]
     },
     "metadata": {},
     "output_type": "display_data"
    }
   ],
   "source": [
    "result == sum(melons)"
   ]
  },
  {
   "cell_type": "code",
   "execution_count": 84,
   "id": "7966fca8",
   "metadata": {},
   "outputs": [
    {
     "data": {
      "text/html": [
       "<ol class=list-inline>\n",
       "\t<li>66171.1601683766</li>\n",
       "\t<li>268337.286520874</li>\n",
       "\t<li>729416.369847701</li>\n",
       "\t<li>39824784.3975762</li>\n",
       "</ol>\n"
      ],
      "text/latex": [
       "\\begin{enumerate*}\n",
       "\\item 66171.1601683766\n",
       "\\item 268337.286520874\n",
       "\\item 729416.369847701\n",
       "\\item 39824784.3975762\n",
       "\\end{enumerate*}\n"
      ],
      "text/markdown": [
       "1. 66171.1601683766\n",
       "2. 268337.286520874\n",
       "3. 729416.369847701\n",
       "4. 39824784.3975762\n",
       "\n",
       "\n"
      ],
      "text/plain": [
       "[1]    66171.16   268337.29   729416.37 39824784.40"
      ]
     },
     "metadata": {},
     "output_type": "display_data"
    }
   ],
   "source": [
    "exp(melons)"
   ]
  },
  {
   "cell_type": "code",
   "execution_count": 91,
   "id": "3ecbb392",
   "metadata": {},
   "outputs": [
    {
     "data": {
      "image/png": "[encoded data removed]",
      "text/plain": [
       "plot without title"
      ]
     },
     "metadata": {},
     "output_type": "display_data"
    }
   ],
   "source": [
    "plot(log(melons),type= \"l\")"
   ]
  },
  {
   "cell_type": "code",
   "execution_count": 92,
   "id": "74c3df01",
   "metadata": {},
   "outputs": [
    {
     "data": {
      "text/html": [
       "<ol class=list-inline>\n",
       "\t<li>734499.87786898</li>\n",
       "\t<li>3354216.08151093</li>\n",
       "\t<li>9847120.99294397</li>\n",
       "\t<li>696933726.957584</li>\n",
       "</ol>\n"
      ],
      "text/latex": [
       "\\begin{enumerate*}\n",
       "\\item 734499.87786898\n",
       "\\item 3354216.08151093\n",
       "\\item 9847120.99294397\n",
       "\\item 696933726.957584\n",
       "\\end{enumerate*}\n"
      ],
      "text/markdown": [
       "1. 734499.87786898\n",
       "2. 3354216.08151093\n",
       "3. 9847120.99294397\n",
       "4. 696933726.957584\n",
       "\n",
       "\n"
      ],
      "text/plain": [
       "[1]    734499.9   3354216.1   9847121.0 696933727.0"
      ]
     },
     "metadata": {},
     "output_type": "display_data"
    }
   ],
   "source": [
    "exp(melons)*melons"
   ]
  },
  {
   "cell_type": "markdown",
   "id": "a3f4ffa7",
   "metadata": {},
   "source": [
    "## 2.3 More Funcitons & Unexpected "
   ]
  },
  {
   "cell_type": "code",
   "execution_count": 93,
   "id": "50c488f7",
   "metadata": {},
   "outputs": [
    {
     "data": {
      "text/html": [
       "<ol class=list-inline>\n",
       "\t<li>11.1</li>\n",
       "\t<li>12.5</li>\n",
       "\t<li>13.5</li>\n",
       "\t<li>17.5</li>\n",
       "</ol>\n"
      ],
      "text/latex": [
       "\\begin{enumerate*}\n",
       "\\item 11.1\n",
       "\\item 12.5\n",
       "\\item 13.5\n",
       "\\item 17.5\n",
       "\\end{enumerate*}\n"
      ],
      "text/markdown": [
       "1. 11.1\n",
       "2. 12.5\n",
       "3. 13.5\n",
       "4. 17.5\n",
       "\n",
       "\n"
      ],
      "text/plain": [
       "[1] 11.1 12.5 13.5 17.5"
      ]
     },
     "metadata": {},
     "output_type": "display_data"
    }
   ],
   "source": [
    "melons"
   ]
  },
  {
   "cell_type": "code",
   "execution_count": 95,
   "id": "64124cb1",
   "metadata": {},
   "outputs": [
    {
     "data": {
      "text/html": [
       "13.65"
      ],
      "text/latex": [
       "13.65"
      ],
      "text/markdown": [
       "13.65"
      ],
      "text/plain": [
       "[1] 13.65"
      ]
     },
     "metadata": {},
     "output_type": "display_data"
    }
   ],
   "source": [
    "mean(melons)"
   ]
  },
  {
   "cell_type": "code",
   "execution_count": 96,
   "id": "7ccbd263",
   "metadata": {},
   "outputs": [
    {
     "data": {
      "text/html": [
       "13.65"
      ],
      "text/latex": [
       "13.65"
      ],
      "text/markdown": [
       "13.65"
      ],
      "text/plain": [
       "[1] 13.65"
      ]
     },
     "metadata": {},
     "output_type": "display_data"
    }
   ],
   "source": [
    "sum(melons)/length(melons)"
   ]
  },
  {
   "cell_type": "code",
   "execution_count": 97,
   "id": "e2dc2944",
   "metadata": {},
   "outputs": [
    {
     "data": {
      "text/html": [
       "13"
      ],
      "text/latex": [
       "13"
      ],
      "text/markdown": [
       "13"
      ],
      "text/plain": [
       "[1] 13"
      ]
     },
     "metadata": {},
     "output_type": "display_data"
    }
   ],
   "source": [
    "median(melons)"
   ]
  },
  {
   "cell_type": "code",
   "execution_count": 101,
   "id": "3483f47e",
   "metadata": {},
   "outputs": [
    {
     "data": {
      "text/html": [
       "2.74893918933589"
      ],
      "text/latex": [
       "2.74893918933589"
      ],
      "text/markdown": [
       "2.74893918933589"
      ],
      "text/plain": [
       "[1] 2.748939"
      ]
     },
     "metadata": {},
     "output_type": "display_data"
    }
   ],
   "source": [
    "sd(melons)"
   ]
  },
  {
   "cell_type": "code",
   "execution_count": 103,
   "id": "2f5ad97d",
   "metadata": {},
   "outputs": [
    {
     "data": {
      "text/html": [
       "<ol class=list-inline>\n",
       "\t<li>78</li>\n",
       "\t<li>6</li>\n",
       "\t<li>6</li>\n",
       "\t<li>1</li>\n",
       "\t<li>0</li>\n",
       "\t<li>-3</li>\n",
       "</ol>\n"
      ],
      "text/latex": [
       "\\begin{enumerate*}\n",
       "\\item 78\n",
       "\\item 6\n",
       "\\item 6\n",
       "\\item 1\n",
       "\\item 0\n",
       "\\item -3\n",
       "\\end{enumerate*}\n"
      ],
      "text/markdown": [
       "1. 78\n",
       "2. 6\n",
       "3. 6\n",
       "4. 1\n",
       "5. 0\n",
       "6. -3\n",
       "\n",
       "\n"
      ],
      "text/plain": [
       "[1] 78  6  6  1  0 -3"
      ]
     },
     "metadata": {},
     "output_type": "display_data"
    }
   ],
   "source": [
    "sort(c(6, 78, 1, -3, 0, 6), decreasing=TRUE)"
   ]
  },
  {
   "cell_type": "code",
   "execution_count": 104,
   "id": "14115708",
   "metadata": {},
   "outputs": [],
   "source": [
    "help(sum)"
   ]
  },
  {
   "cell_type": "code",
   "execution_count": 106,
   "id": "b6ce8110",
   "metadata": {},
   "outputs": [
    {
     "data": {
      "text/html": [
       "15"
      ],
      "text/latex": [
       "15"
      ],
      "text/markdown": [
       "15"
      ],
      "text/plain": [
       "[1] 15"
      ]
     },
     "metadata": {},
     "output_type": "display_data"
    }
   ],
   "source": [
    "sum(1:5)"
   ]
  },
  {
   "cell_type": "code",
   "execution_count": 105,
   "id": "9529ea4e",
   "metadata": {},
   "outputs": [
    {
     "data": {
      "text/html": [
       "15"
      ],
      "text/latex": [
       "15"
      ],
      "text/markdown": [
       "15"
      ],
      "text/plain": [
       "[1] 15"
      ]
     },
     "metadata": {},
     "output_type": "display_data"
    }
   ],
   "source": [
    "sum(1:2, 3:5)"
   ]
  },
  {
   "cell_type": "markdown",
   "id": "9e58344a",
   "metadata": {},
   "source": [
    "## 2.4 Comparison"
   ]
  },
  {
   "cell_type": "code",
   "execution_count": 108,
   "id": "fa81ff7f",
   "metadata": {},
   "outputs": [
    {
     "data": {
      "text/html": [
       "<ol class=list-inline>\n",
       "\t<li>13.5</li>\n",
       "\t<li>17.5</li>\n",
       "</ol>\n"
      ],
      "text/latex": [
       "\\begin{enumerate*}\n",
       "\\item 13.5\n",
       "\\item 17.5\n",
       "\\end{enumerate*}\n"
      ],
      "text/markdown": [
       "1. 13.5\n",
       "2. 17.5\n",
       "\n",
       "\n"
      ],
      "text/plain": [
       "[1] 13.5 17.5"
      ]
     },
     "metadata": {},
     "output_type": "display_data"
    }
   ],
   "source": [
    "melons[melons>13]"
   ]
  },
  {
   "cell_type": "code",
   "execution_count": 109,
   "id": "29c5bfd6",
   "metadata": {},
   "outputs": [
    {
     "data": {
      "text/html": [
       "<ol class=list-inline>\n",
       "\t<li>FALSE</li>\n",
       "\t<li>TRUE</li>\n",
       "\t<li>FALSE</li>\n",
       "\t<li>FALSE</li>\n",
       "</ol>\n"
      ],
      "text/latex": [
       "\\begin{enumerate*}\n",
       "\\item FALSE\n",
       "\\item TRUE\n",
       "\\item FALSE\n",
       "\\item FALSE\n",
       "\\end{enumerate*}\n"
      ],
      "text/markdown": [
       "1. FALSE\n",
       "2. TRUE\n",
       "3. FALSE\n",
       "4. FALSE\n",
       "\n",
       "\n"
      ],
      "text/plain": [
       "[1] FALSE  TRUE FALSE FALSE"
      ]
     },
     "metadata": {},
     "output_type": "display_data"
    }
   ],
   "source": [
    "melons == 12.5"
   ]
  },
  {
   "cell_type": "code",
   "execution_count": 110,
   "id": "864bac2a",
   "metadata": {},
   "outputs": [
    {
     "data": {
      "text/html": [
       "<ol class=list-inline>\n",
       "\t<li>TRUE</li>\n",
       "\t<li>FALSE</li>\n",
       "\t<li>TRUE</li>\n",
       "\t<li>TRUE</li>\n",
       "</ol>\n"
      ],
      "text/latex": [
       "\\begin{enumerate*}\n",
       "\\item TRUE\n",
       "\\item FALSE\n",
       "\\item TRUE\n",
       "\\item TRUE\n",
       "\\end{enumerate*}\n"
      ],
      "text/markdown": [
       "1. TRUE\n",
       "2. FALSE\n",
       "3. TRUE\n",
       "4. TRUE\n",
       "\n",
       "\n"
      ],
      "text/plain": [
       "[1]  TRUE FALSE  TRUE  TRUE"
      ]
     },
     "metadata": {},
     "output_type": "display_data"
    }
   ],
   "source": [
    "melons != 12.5"
   ]
  },
  {
   "cell_type": "markdown",
   "id": "f167d812",
   "metadata": {},
   "source": [
    "## 2.5 Vectors Names Property"
   ]
  },
  {
   "cell_type": "code",
   "execution_count": 116,
   "id": "aa2785da",
   "metadata": {},
   "outputs": [],
   "source": [
    "?names()"
   ]
  },
  {
   "cell_type": "code",
   "execution_count": 118,
   "id": "e1f1b6df",
   "metadata": {},
   "outputs": [
    {
     "data": {
      "text/plain": [
       "NULL"
      ]
     },
     "metadata": {},
     "output_type": "display_data"
    }
   ],
   "source": [
    "z <- 1:3\n",
    "names(z)\n",
    "## assign just one name\n",
    "names(z)[2] <- \"b\""
   ]
  },
  {
   "cell_type": "code",
   "execution_count": 121,
   "id": "5e4fa229",
   "metadata": {},
   "outputs": [
    {
     "data": {
      "text/html": [
       "<dl class=dl-horizontal>\n",
       "\t<dt>1</dt>\n",
       "\t\t<dd>1</dd>\n",
       "\t<dt>b</dt>\n",
       "\t\t<dd>2</dd>\n",
       "\t<dt>3</dt>\n",
       "\t\t<dd>3</dd>\n",
       "</dl>\n"
      ],
      "text/latex": [
       "\\begin{description*}\n",
       "\\item[1] 1\n",
       "\\item[b] 2\n",
       "\\item[3] 3\n",
       "\\end{description*}\n"
      ],
      "text/markdown": [
       "1\n",
       ":   1b\n",
       ":   23\n",
       ":   3\n",
       "\n"
      ],
      "text/plain": [
       "<NA>    b <NA> \n",
       "   1    2    3 "
      ]
     },
     "metadata": {},
     "output_type": "display_data"
    }
   ],
   "source": [
    "z"
   ]
  },
  {
   "cell_type": "code",
   "execution_count": 123,
   "id": "7a361b30",
   "metadata": {},
   "outputs": [
    {
     "data": {
      "text/html": [
       "<strong>b:</strong> 2"
      ],
      "text/latex": [
       "\\textbf{b:} 2"
      ],
      "text/markdown": [
       "**b:** 2"
      ],
      "text/plain": [
       "b \n",
       "2 "
      ]
     },
     "metadata": {},
     "output_type": "display_data"
    }
   ],
   "source": [
    "z[\"b\"]"
   ]
  },
  {
   "cell_type": "code",
   "execution_count": 124,
   "id": "eda6a48a",
   "metadata": {},
   "outputs": [
    {
     "data": {
      "text/html": [
       "<strong>NA:</strong> &lt;NA&gt;"
      ],
      "text/latex": [
       "\\textbf{NA:} <NA>"
      ],
      "text/markdown": [
       "**NA:** &lt;NA&gt;"
      ],
      "text/plain": [
       "<NA> \n",
       "  NA "
      ]
     },
     "metadata": {},
     "output_type": "display_data"
    }
   ],
   "source": [
    "z[\"3\"]"
   ]
  },
  {
   "cell_type": "code",
   "execution_count": 127,
   "id": "6d664e57",
   "metadata": {},
   "outputs": [
    {
     "data": {
      "text/html": [
       "<strong>NA:</strong> 1"
      ],
      "text/latex": [
       "\\textbf{NA:} 1"
      ],
      "text/markdown": [
       "**NA:** 1"
      ],
      "text/plain": [
       "<NA> \n",
       "   1 "
      ]
     },
     "metadata": {},
     "output_type": "display_data"
    }
   ],
   "source": [
    "z[1]"
   ]
  },
  {
   "cell_type": "code",
   "execution_count": 128,
   "id": "0d8ad967",
   "metadata": {},
   "outputs": [
    {
     "data": {
      "text/html": [
       "<ol class=list-inline>\n",
       "\t<li>12</li>\n",
       "\t<li>15</li>\n",
       "\t<li>28</li>\n",
       "\t<li>765</li>\n",
       "</ol>\n"
      ],
      "text/latex": [
       "\\begin{enumerate*}\n",
       "\\item 12\n",
       "\\item 15\n",
       "\\item 28\n",
       "\\item 765\n",
       "\\end{enumerate*}\n"
      ],
      "text/markdown": [
       "1. 12\n",
       "2. 15\n",
       "3. 28\n",
       "4. 765\n",
       "\n",
       "\n"
      ],
      "text/plain": [
       "[1]  12  15  28 765"
      ]
     },
     "metadata": {},
     "output_type": "display_data"
    }
   ],
   "source": [
    "pop = c(12, 15, 28, 765)\n",
    "pop"
   ]
  },
  {
   "cell_type": "code",
   "execution_count": 129,
   "id": "98f87e2b",
   "metadata": {},
   "outputs": [
    {
     "data": {
      "text/html": [
       "<dl class=dl-horizontal>\n",
       "\t<dt>a</dt>\n",
       "\t\t<dd>12</dd>\n",
       "\t<dt>b</dt>\n",
       "\t\t<dd>15</dd>\n",
       "\t<dt>c</dt>\n",
       "\t\t<dd>28</dd>\n",
       "\t<dt>d</dt>\n",
       "\t\t<dd>765</dd>\n",
       "</dl>\n"
      ],
      "text/latex": [
       "\\begin{description*}\n",
       "\\item[a] 12\n",
       "\\item[b] 15\n",
       "\\item[c] 28\n",
       "\\item[d] 765\n",
       "\\end{description*}\n"
      ],
      "text/markdown": [
       "a\n",
       ":   12b\n",
       ":   15c\n",
       ":   28d\n",
       ":   765\n",
       "\n"
      ],
      "text/plain": [
       "  a   b   c   d \n",
       " 12  15  28 765 "
      ]
     },
     "metadata": {},
     "output_type": "display_data"
    }
   ],
   "source": [
    "names(pop) = c('a', 'b', 'c', 'd')\n",
    "pop"
   ]
  },
  {
   "cell_type": "code",
   "execution_count": 130,
   "id": "7443be1d",
   "metadata": {},
   "outputs": [
    {
     "data": {
      "text/html": [
       "<strong>a:</strong> 12"
      ],
      "text/latex": [
       "\\textbf{a:} 12"
      ],
      "text/markdown": [
       "**a:** 12"
      ],
      "text/plain": [
       " a \n",
       "12 "
      ]
     },
     "metadata": {},
     "output_type": "display_data"
    }
   ],
   "source": [
    "pop[1]"
   ]
  },
  {
   "cell_type": "code",
   "execution_count": 131,
   "id": "287a7cdc",
   "metadata": {},
   "outputs": [
    {
     "data": {
      "text/html": [
       "<strong>d:</strong> 765"
      ],
      "text/latex": [
       "\\textbf{d:} 765"
      ],
      "text/markdown": [
       "**d:** 765"
      ],
      "text/plain": [
       "  d \n",
       "765 "
      ]
     },
     "metadata": {},
     "output_type": "display_data"
    }
   ],
   "source": [
    "pop['d']"
   ]
  },
  {
   "cell_type": "code",
   "execution_count": 135,
   "id": "69d551ed",
   "metadata": {},
   "outputs": [
    {
     "data": {
      "text/html": [
       "<dl class=dl-horizontal>\n",
       "\t<dt>a</dt>\n",
       "\t\t<dd>24</dd>\n",
       "\t<dt>c</dt>\n",
       "\t\t<dd>56</dd>\n",
       "</dl>\n"
      ],
      "text/latex": [
       "\\begin{description*}\n",
       "\\item[a] 24\n",
       "\\item[c] 56\n",
       "\\end{description*}\n"
      ],
      "text/markdown": [
       "a\n",
       ":   24c\n",
       ":   56\n",
       "\n"
      ],
      "text/plain": [
       " a  c \n",
       "24 56 "
      ]
     },
     "metadata": {},
     "output_type": "display_data"
    }
   ],
   "source": [
    "pop[c('a', 'c')]*2"
   ]
  },
  {
   "cell_type": "markdown",
   "id": "314feafc",
   "metadata": {},
   "source": [
    "## 2.6 Modifying Vector Elements"
   ]
  },
  {
   "cell_type": "markdown",
   "id": "fb99d342",
   "metadata": {},
   "source": [
    "#### part 1"
   ]
  },
  {
   "cell_type": "code",
   "execution_count": 149,
   "id": "a9304a7f",
   "metadata": {},
   "outputs": [
    {
     "data": {
      "text/html": [
       "<dl class=dl-horizontal>\n",
       "\t<dt>a</dt>\n",
       "\t\t<dd>12</dd>\n",
       "\t<dt>b</dt>\n",
       "\t\t<dd>15</dd>\n",
       "\t<dt>c</dt>\n",
       "\t\t<dd>28</dd>\n",
       "\t<dt>d</dt>\n",
       "\t\t<dd>765</dd>\n",
       "</dl>\n"
      ],
      "text/latex": [
       "\\begin{description*}\n",
       "\\item[a] 12\n",
       "\\item[b] 15\n",
       "\\item[c] 28\n",
       "\\item[d] 765\n",
       "\\end{description*}\n"
      ],
      "text/markdown": [
       "a\n",
       ":   12b\n",
       ":   15c\n",
       ":   28d\n",
       ":   765\n",
       "\n"
      ],
      "text/plain": [
       "  a   b   c   d \n",
       " 12  15  28 765 "
      ]
     },
     "metadata": {},
     "output_type": "display_data"
    }
   ],
   "source": [
    "pop = c(12, 15, 28, 765)\n",
    "names(pop) = c('a', 'b', 'c', 'd')\n",
    "pop"
   ]
  },
  {
   "cell_type": "code",
   "execution_count": 150,
   "id": "8f9a435a",
   "metadata": {},
   "outputs": [],
   "source": [
    "pop[1] = 99"
   ]
  },
  {
   "cell_type": "code",
   "execution_count": 151,
   "id": "809377a9",
   "metadata": {},
   "outputs": [
    {
     "data": {
      "text/html": [
       "<dl class=dl-horizontal>\n",
       "\t<dt>a</dt>\n",
       "\t\t<dd>99</dd>\n",
       "\t<dt>b</dt>\n",
       "\t\t<dd>15</dd>\n",
       "\t<dt>c</dt>\n",
       "\t\t<dd>28</dd>\n",
       "\t<dt>d</dt>\n",
       "\t\t<dd>765</dd>\n",
       "</dl>\n"
      ],
      "text/latex": [
       "\\begin{description*}\n",
       "\\item[a] 99\n",
       "\\item[b] 15\n",
       "\\item[c] 28\n",
       "\\item[d] 765\n",
       "\\end{description*}\n"
      ],
      "text/markdown": [
       "a\n",
       ":   99b\n",
       ":   15c\n",
       ":   28d\n",
       ":   765\n",
       "\n"
      ],
      "text/plain": [
       "  a   b   c   d \n",
       " 99  15  28 765 "
      ]
     },
     "metadata": {},
     "output_type": "display_data"
    }
   ],
   "source": [
    "pop"
   ]
  },
  {
   "cell_type": "code",
   "execution_count": 152,
   "id": "74bb8d26",
   "metadata": {},
   "outputs": [
    {
     "data": {
      "text/html": [
       "<dl class=dl-horizontal>\n",
       "\t<dt>a</dt>\n",
       "\t\t<dd>99</dd>\n",
       "\t<dt>b</dt>\n",
       "\t\t<dd>11</dd>\n",
       "\t<dt>c</dt>\n",
       "\t\t<dd>28</dd>\n",
       "\t<dt>d</dt>\n",
       "\t\t<dd>12</dd>\n",
       "</dl>\n"
      ],
      "text/latex": [
       "\\begin{description*}\n",
       "\\item[a] 99\n",
       "\\item[b] 11\n",
       "\\item[c] 28\n",
       "\\item[d] 12\n",
       "\\end{description*}\n"
      ],
      "text/markdown": [
       "a\n",
       ":   99b\n",
       ":   11c\n",
       ":   28d\n",
       ":   12\n",
       "\n"
      ],
      "text/plain": [
       " a  b  c  d \n",
       "99 11 28 12 "
      ]
     },
     "metadata": {},
     "output_type": "display_data"
    }
   ],
   "source": [
    "pop[c(2, 4)] = c(11, 12)\n",
    "pop"
   ]
  },
  {
   "cell_type": "code",
   "execution_count": 157,
   "id": "0c697758",
   "metadata": {},
   "outputs": [
    {
     "data": {
      "text/html": [
       "<dl class=dl-horizontal>\n",
       "\t<dt>a</dt>\n",
       "\t\t<dd>8</dd>\n",
       "\t<dt>b</dt>\n",
       "\t\t<dd>8</dd>\n",
       "\t<dt>c</dt>\n",
       "\t\t<dd>8</dd>\n",
       "\t<dt>d</dt>\n",
       "\t\t<dd>8</dd>\n",
       "</dl>\n"
      ],
      "text/latex": [
       "\\begin{description*}\n",
       "\\item[a] 8\n",
       "\\item[b] 8\n",
       "\\item[c] 8\n",
       "\\item[d] 8\n",
       "\\end{description*}\n"
      ],
      "text/markdown": [
       "a\n",
       ":   8b\n",
       ":   8c\n",
       ":   8d\n",
       ":   8\n",
       "\n"
      ],
      "text/plain": [
       "a b c d \n",
       "8 8 8 8 "
      ]
     },
     "metadata": {},
     "output_type": "display_data"
    }
   ],
   "source": [
    "pop[pop>2] <- 8\n",
    "pop"
   ]
  },
  {
   "cell_type": "markdown",
   "id": "509412a9",
   "metadata": {},
   "source": [
    "#### part 2"
   ]
  },
  {
   "cell_type": "code",
   "execution_count": 178,
   "id": "ead5d9a5",
   "metadata": {},
   "outputs": [
    {
     "data": {
      "text/html": [
       "<dl class=dl-horizontal>\n",
       "\t<dt>a</dt>\n",
       "\t\t<dd>1</dd>\n",
       "\t<dt>b</dt>\n",
       "\t\t<dd>2</dd>\n",
       "\t<dt>c</dt>\n",
       "\t\t<dd>3</dd>\n",
       "\t<dt>d</dt>\n",
       "\t\t<dd>4</dd>\n",
       "</dl>\n"
      ],
      "text/latex": [
       "\\begin{description*}\n",
       "\\item[a] 1\n",
       "\\item[b] 2\n",
       "\\item[c] 3\n",
       "\\item[d] 4\n",
       "\\end{description*}\n"
      ],
      "text/markdown": [
       "a\n",
       ":   1b\n",
       ":   2c\n",
       ":   3d\n",
       ":   4\n",
       "\n"
      ],
      "text/plain": [
       "a b c d \n",
       "1 2 3 4 "
      ]
     },
     "metadata": {},
     "output_type": "display_data"
    }
   ],
   "source": [
    "pop[1:4]= c(1, 2, 3, 4)\n",
    "names(pop) = c('a', 'b', 'c', 'd')\n",
    "pop"
   ]
  },
  {
   "cell_type": "code",
   "execution_count": 179,
   "id": "225170c2",
   "metadata": {},
   "outputs": [
    {
     "data": {
      "text/html": [
       "<dl class=dl-horizontal>\n",
       "\t<dt>a</dt>\n",
       "\t\t<dd>1</dd>\n",
       "\t<dt>c</dt>\n",
       "\t\t<dd>3</dd>\n",
       "</dl>\n"
      ],
      "text/latex": [
       "\\begin{description*}\n",
       "\\item[a] 1\n",
       "\\item[c] 3\n",
       "\\end{description*}\n"
      ],
      "text/markdown": [
       "a\n",
       ":   1c\n",
       ":   3\n",
       "\n"
      ],
      "text/plain": [
       "a c \n",
       "1 3 "
      ]
     },
     "metadata": {},
     "output_type": "display_data"
    }
   ],
   "source": [
    "pop <- pop[-c(2,4)] #choose everything but!\n",
    "pop"
   ]
  },
  {
   "cell_type": "code",
   "execution_count": 180,
   "id": "c31fbc14",
   "metadata": {},
   "outputs": [
    {
     "data": {
      "text/html": [
       "3"
      ],
      "text/latex": [
       "3"
      ],
      "text/markdown": [
       "3"
      ],
      "text/plain": [
       "[1] 3"
      ]
     },
     "metadata": {},
     "output_type": "display_data"
    }
   ],
   "source": [
    "max(pop)"
   ]
  },
  {
   "cell_type": "code",
   "execution_count": 181,
   "id": "5b50c2a6",
   "metadata": {},
   "outputs": [
    {
     "data": {
      "text/html": [
       "<dl class=dl-horizontal>\n",
       "\t<dt>a</dt>\n",
       "\t\t<dd>8</dd>\n",
       "\t<dt>c</dt>\n",
       "\t\t<dd>15</dd>\n",
       "</dl>\n"
      ],
      "text/latex": [
       "\\begin{description*}\n",
       "\\item[a] 8\n",
       "\\item[c] 15\n",
       "\\end{description*}\n"
      ],
      "text/markdown": [
       "a\n",
       ":   8c\n",
       ":   15\n",
       "\n"
      ],
      "text/plain": [
       " a  c \n",
       " 8 15 "
      ]
     },
     "metadata": {},
     "output_type": "display_data"
    }
   ],
   "source": [
    "pop = pop*10\n",
    "pop - pop*(c(0.2, 0.5))"
   ]
  },
  {
   "cell_type": "markdown",
   "id": "925551fd",
   "metadata": {},
   "source": [
    "#### Part 3"
   ]
  },
  {
   "cell_type": "code",
   "execution_count": 204,
   "id": "1e1bdd15",
   "metadata": {},
   "outputs": [
    {
     "data": {
      "text/html": [
       "<ol class=list-inline>\n",
       "\t<li>12</li>\n",
       "\t<li>11</li>\n",
       "\t<li>12</li>\n",
       "\t<li>13</li>\n",
       "\t<li>14</li>\n",
       "\t<li>13</li>\n",
       "\t<li>12</li>\n",
       "\t<li>10</li>\n",
       "\t<li>12</li>\n",
       "\t<li>12</li>\n",
       "\t<li>14</li>\n",
       "\t<li>13</li>\n",
       "</ol>\n"
      ],
      "text/latex": [
       "\\begin{enumerate*}\n",
       "\\item 12\n",
       "\\item 11\n",
       "\\item 12\n",
       "\\item 13\n",
       "\\item 14\n",
       "\\item 13\n",
       "\\item 12\n",
       "\\item 10\n",
       "\\item 12\n",
       "\\item 12\n",
       "\\item 14\n",
       "\\item 13\n",
       "\\end{enumerate*}\n"
      ],
      "text/markdown": [
       "1. 12\n",
       "2. 11\n",
       "3. 12\n",
       "4. 13\n",
       "5. 14\n",
       "6. 13\n",
       "7. 12\n",
       "8. 10\n",
       "9. 12\n",
       "10. 12\n",
       "11. 14\n",
       "12. 13\n",
       "\n",
       "\n"
      ],
      "text/plain": [
       " [1] 12 11 12 13 14 13 12 10 12 12 14 13"
      ]
     },
     "metadata": {},
     "output_type": "display_data"
    }
   ],
   "source": [
    "kids_ages=c(12, 11, 12, 13, 14, 13, 12, 10, 12, 12, 14, 13)\n",
    "kids_ages"
   ]
  },
  {
   "cell_type": "code",
   "execution_count": 199,
   "id": "cc6ec980",
   "metadata": {},
   "outputs": [
    {
     "data": {
      "text/html": [
       "12.3333333333333"
      ],
      "text/latex": [
       "12.3333333333333"
      ],
      "text/markdown": [
       "12.3333333333333"
      ],
      "text/plain": [
       "[1] 12.33333"
      ]
     },
     "metadata": {},
     "output_type": "display_data"
    }
   ],
   "source": [
    "mean(kids_ages)"
   ]
  },
  {
   "cell_type": "code",
   "execution_count": 200,
   "id": "205f9daf",
   "metadata": {},
   "outputs": [
    {
     "data": {
      "text/html": [
       "<ol class=list-inline>\n",
       "\t<li>10</li>\n",
       "\t<li>11</li>\n",
       "\t<li>12</li>\n",
       "\t<li>12</li>\n",
       "\t<li>12</li>\n",
       "\t<li>12</li>\n",
       "\t<li>12</li>\n",
       "\t<li>13</li>\n",
       "\t<li>13</li>\n",
       "\t<li>13</li>\n",
       "\t<li>14</li>\n",
       "\t<li>14</li>\n",
       "</ol>\n"
      ],
      "text/latex": [
       "\\begin{enumerate*}\n",
       "\\item 10\n",
       "\\item 11\n",
       "\\item 12\n",
       "\\item 12\n",
       "\\item 12\n",
       "\\item 12\n",
       "\\item 12\n",
       "\\item 13\n",
       "\\item 13\n",
       "\\item 13\n",
       "\\item 14\n",
       "\\item 14\n",
       "\\end{enumerate*}\n"
      ],
      "text/markdown": [
       "1. 10\n",
       "2. 11\n",
       "3. 12\n",
       "4. 12\n",
       "5. 12\n",
       "6. 12\n",
       "7. 12\n",
       "8. 13\n",
       "9. 13\n",
       "10. 13\n",
       "11. 14\n",
       "12. 14\n",
       "\n",
       "\n"
      ],
      "text/plain": [
       " [1] 10 11 12 12 12 12 12 13 13 13 14 14"
      ]
     },
     "metadata": {},
     "output_type": "display_data"
    }
   ],
   "source": [
    "sort(kids_ages)"
   ]
  },
  {
   "cell_type": "code",
   "execution_count": 201,
   "id": "5ff12ce4",
   "metadata": {},
   "outputs": [
    {
     "data": {
      "text/html": [
       "12"
      ],
      "text/latex": [
       "12"
      ],
      "text/markdown": [
       "12"
      ],
      "text/plain": [
       "[1] 12"
      ]
     },
     "metadata": {},
     "output_type": "display_data"
    }
   ],
   "source": [
    "sort(kids_ages)[length(kids_ages)/2]"
   ]
  },
  {
   "cell_type": "code",
   "execution_count": 202,
   "id": "a217a696",
   "metadata": {},
   "outputs": [
    {
     "data": {
      "text/html": [
       "12"
      ],
      "text/latex": [
       "12"
      ],
      "text/markdown": [
       "12"
      ],
      "text/plain": [
       "[1] 12"
      ]
     },
     "metadata": {},
     "output_type": "display_data"
    }
   ],
   "source": [
    "median(kids_ages)"
   ]
  },
  {
   "cell_type": "code",
   "execution_count": 205,
   "id": "e44aad18",
   "metadata": {},
   "outputs": [
    {
     "data": {
      "text/html": [
       "<ol class=list-inline>\n",
       "\t<li>14</li>\n",
       "\t<li>10</li>\n",
       "\t<li>14</li>\n",
       "</ol>\n"
      ],
      "text/latex": [
       "\\begin{enumerate*}\n",
       "\\item 14\n",
       "\\item 10\n",
       "\\item 14\n",
       "\\end{enumerate*}\n"
      ],
      "text/markdown": [
       "1. 14\n",
       "2. 10\n",
       "3. 14\n",
       "\n",
       "\n"
      ],
      "text/plain": [
       "[1] 14 10 14"
      ]
     },
     "metadata": {},
     "output_type": "display_data"
    }
   ],
   "source": [
    "subset_ages=kids_ages[kids_ages> 13 | kids_ages<11]\n",
    "subset_ages"
   ]
  },
  {
   "cell_type": "markdown",
   "id": "dcc1b8f2",
   "metadata": {},
   "source": [
    "# 3. Data Types"
   ]
  },
  {
   "cell_type": "markdown",
   "id": "405a8f6a",
   "metadata": {},
   "source": [
    "## 3.1 Data Types"
   ]
  },
  {
   "cell_type": "markdown",
   "id": "c226f840",
   "metadata": {},
   "source": [
    "- as.numeric()\n",
    "- as.integer()\n",
    "- as.character()\n",
    "- as.logical\n",
    "- as.Date()\n",
    "- is.numeric()\n",
    "- class()"
   ]
  },
  {
   "cell_type": "code",
   "execution_count": 207,
   "id": "6e4c8c59",
   "metadata": {},
   "outputs": [
    {
     "data": {
      "text/html": [
       "'numeric'"
      ],
      "text/latex": [
       "'numeric'"
      ],
      "text/markdown": [
       "'numeric'"
      ],
      "text/plain": [
       "[1] \"numeric\""
      ]
     },
     "metadata": {},
     "output_type": "display_data"
    }
   ],
   "source": [
    "number=1\n",
    "class(number)"
   ]
  },
  {
   "cell_type": "code",
   "execution_count": 208,
   "id": "81098bf9",
   "metadata": {},
   "outputs": [
    {
     "data": {
      "text/html": [
       "'double'"
      ],
      "text/latex": [
       "'double'"
      ],
      "text/markdown": [
       "'double'"
      ],
      "text/plain": [
       "[1] \"double\""
      ]
     },
     "metadata": {},
     "output_type": "display_data"
    }
   ],
   "source": [
    "typeof(number)"
   ]
  },
  {
   "cell_type": "code",
   "execution_count": 209,
   "id": "0d6c1030",
   "metadata": {},
   "outputs": [
    {
     "data": {
      "text/html": [
       "'Date'"
      ],
      "text/latex": [
       "'Date'"
      ],
      "text/markdown": [
       "'Date'"
      ],
      "text/plain": [
       "[1] \"Date\""
      ]
     },
     "metadata": {},
     "output_type": "display_data"
    }
   ],
   "source": [
    "my_date=as.Date('2019-01-01')\n",
    "class(my_date)"
   ]
  },
  {
   "cell_type": "code",
   "execution_count": 210,
   "id": "c243b9f7",
   "metadata": {},
   "outputs": [
    {
     "data": {
      "text/html": [
       "'integer'"
      ],
      "text/latex": [
       "'integer'"
      ],
      "text/markdown": [
       "'integer'"
      ],
      "text/plain": [
       "[1] \"integer\""
      ]
     },
     "metadata": {},
     "output_type": "display_data"
    }
   ],
   "source": [
    "class(1L)"
   ]
  },
  {
   "cell_type": "code",
   "execution_count": 211,
   "id": "b6dd3659",
   "metadata": {},
   "outputs": [
    {
     "data": {
      "text/html": [
       "'character'"
      ],
      "text/latex": [
       "'character'"
      ],
      "text/markdown": [
       "'character'"
      ],
      "text/plain": [
       "[1] \"character\""
      ]
     },
     "metadata": {},
     "output_type": "display_data"
    }
   ],
   "source": [
    "class('abc')"
   ]
  },
  {
   "cell_type": "code",
   "execution_count": 213,
   "id": "8bf9344e",
   "metadata": {},
   "outputs": [
    {
     "name": "stderr",
     "output_type": "stream",
     "text": [
      "Warning message in eval(expr, envir, enclos):\n",
      "\"NAs introduced by coercion\""
     ]
    },
    {
     "data": {
      "text/html": [
       "&lt;NA&gt;"
      ],
      "text/latex": [
       "<NA>"
      ],
      "text/markdown": [
       "&lt;NA&gt;"
      ],
      "text/plain": [
       "[1] NA"
      ]
     },
     "metadata": {},
     "output_type": "display_data"
    }
   ],
   "source": [
    "as.numeric('21-12')"
   ]
  },
  {
   "cell_type": "code",
   "execution_count": 214,
   "id": "9e177960",
   "metadata": {},
   "outputs": [
    {
     "data": {
      "text/html": [
       "21"
      ],
      "text/latex": [
       "21"
      ],
      "text/markdown": [
       "21"
      ],
      "text/plain": [
       "[1] 21"
      ]
     },
     "metadata": {},
     "output_type": "display_data"
    }
   ],
   "source": [
    "as.numeric('21')"
   ]
  },
  {
   "cell_type": "code",
   "execution_count": 216,
   "id": "6be3297e",
   "metadata": {},
   "outputs": [
    {
     "name": "stderr",
     "output_type": "stream",
     "text": [
      "Warning message in eval(expr, envir, enclos):\n",
      "\"NAs introduced by coercion\""
     ]
    },
    {
     "data": {
      "text/html": [
       "&lt;NA&gt;"
      ],
      "text/latex": [
       "<NA>"
      ],
      "text/markdown": [
       "&lt;NA&gt;"
      ],
      "text/plain": [
       "[1] NA"
      ]
     },
     "metadata": {},
     "output_type": "display_data"
    }
   ],
   "source": [
    "as.numeric('a')"
   ]
  },
  {
   "cell_type": "code",
   "execution_count": 218,
   "id": "e1231d67",
   "metadata": {},
   "outputs": [
    {
     "data": {
      "text/html": [
       "'character'"
      ],
      "text/latex": [
       "'character'"
      ],
      "text/markdown": [
       "'character'"
      ],
      "text/plain": [
       "[1] \"character\""
      ]
     },
     "metadata": {},
     "output_type": "display_data"
    }
   ],
   "source": [
    "class(c(1,2,3, 'abc'))"
   ]
  },
  {
   "cell_type": "code",
   "execution_count": 219,
   "id": "a927b074",
   "metadata": {},
   "outputs": [
    {
     "data": {
      "text/html": [
       "'numeric'"
      ],
      "text/latex": [
       "'numeric'"
      ],
      "text/markdown": [
       "'numeric'"
      ],
      "text/plain": [
       "[1] \"numeric\""
      ]
     },
     "metadata": {},
     "output_type": "display_data"
    }
   ],
   "source": [
    "class(c(1,2,3))"
   ]
  },
  {
   "cell_type": "code",
   "execution_count": 220,
   "id": "ebe87733",
   "metadata": {},
   "outputs": [
    {
     "data": {
      "text/html": [
       "FALSE"
      ],
      "text/latex": [
       "FALSE"
      ],
      "text/markdown": [
       "FALSE"
      ],
      "text/plain": [
       "[1] FALSE"
      ]
     },
     "metadata": {},
     "output_type": "display_data"
    }
   ],
   "source": [
    "is.numeric('123')"
   ]
  },
  {
   "cell_type": "code",
   "execution_count": 222,
   "id": "62057485",
   "metadata": {},
   "outputs": [
    {
     "data": {
      "text/html": [
       "TRUE"
      ],
      "text/latex": [
       "TRUE"
      ],
      "text/markdown": [
       "TRUE"
      ],
      "text/plain": [
       "[1] TRUE"
      ]
     },
     "metadata": {},
     "output_type": "display_data"
    }
   ],
   "source": [
    "is.character('abc')"
   ]
  },
  {
   "cell_type": "markdown",
   "id": "2b847450",
   "metadata": {},
   "source": [
    "## 3.2 Converting Data Type"
   ]
  },
  {
   "cell_type": "code",
   "execution_count": 223,
   "id": "8c9b50eb",
   "metadata": {},
   "outputs": [
    {
     "data": {
      "text/html": [
       "'23'"
      ],
      "text/latex": [
       "'23'"
      ],
      "text/markdown": [
       "'23'"
      ],
      "text/plain": [
       "[1] \"23\""
      ]
     },
     "metadata": {},
     "output_type": "display_data"
    }
   ],
   "source": [
    "number=23\n",
    "as.character(number)"
   ]
  },
  {
   "cell_type": "code",
   "execution_count": 227,
   "id": "ea3b6811",
   "metadata": {},
   "outputs": [
    {
     "data": {
      "text/html": [
       "14"
      ],
      "text/latex": [
       "14"
      ],
      "text/markdown": [
       "14"
      ],
      "text/plain": [
       "[1] 14"
      ]
     },
     "metadata": {},
     "output_type": "display_data"
    }
   ],
   "source": [
    "as.numeric('14')"
   ]
  },
  {
   "cell_type": "code",
   "execution_count": 229,
   "id": "942f818a",
   "metadata": {},
   "outputs": [
    {
     "data": {
      "text/html": [
       "<ol class=list-inline>\n",
       "\t<li>'1'</li>\n",
       "\t<li>'2'</li>\n",
       "\t<li>'3'</li>\n",
       "\t<li>'4'</li>\n",
       "</ol>\n"
      ],
      "text/latex": [
       "\\begin{enumerate*}\n",
       "\\item '1'\n",
       "\\item '2'\n",
       "\\item '3'\n",
       "\\item '4'\n",
       "\\end{enumerate*}\n"
      ],
      "text/markdown": [
       "1. '1'\n",
       "2. '2'\n",
       "3. '3'\n",
       "4. '4'\n",
       "\n",
       "\n"
      ],
      "text/plain": [
       "[1] \"1\" \"2\" \"3\" \"4\""
      ]
     },
     "metadata": {},
     "output_type": "display_data"
    }
   ],
   "source": [
    "as.character(c(1, 2, 3, 4))"
   ]
  },
  {
   "cell_type": "code",
   "execution_count": 231,
   "id": "b3dff6f5",
   "metadata": {},
   "outputs": [
    {
     "name": "stderr",
     "output_type": "stream",
     "text": [
      "Warning message in eval(expr, envir, enclos):\n",
      "\"NAs introduced by coercion\""
     ]
    },
    {
     "data": {
      "text/html": [
       "<ol class=list-inline>\n",
       "\t<li>2</li>\n",
       "\t<li>4</li>\n",
       "\t<li>6</li>\n",
       "\t<li>&lt;NA&gt;</li>\n",
       "</ol>\n"
      ],
      "text/latex": [
       "\\begin{enumerate*}\n",
       "\\item 2\n",
       "\\item 4\n",
       "\\item 6\n",
       "\\item <NA>\n",
       "\\end{enumerate*}\n"
      ],
      "text/markdown": [
       "1. 2\n",
       "2. 4\n",
       "3. 6\n",
       "4. &lt;NA&gt;\n",
       "\n",
       "\n"
      ],
      "text/plain": [
       "[1]  2  4  6 NA"
      ]
     },
     "metadata": {},
     "output_type": "display_data"
    }
   ],
   "source": [
    "as.numeric(c(1, 2, 3, 'abc'))*2"
   ]
  },
  {
   "cell_type": "code",
   "execution_count": 233,
   "id": "f1c46427",
   "metadata": {},
   "outputs": [
    {
     "data": {
      "text/html": [
       "<ol class=list-inline>\n",
       "\t<li>0</li>\n",
       "\t<li>1</li>\n",
       "</ol>\n"
      ],
      "text/latex": [
       "\\begin{enumerate*}\n",
       "\\item 0\n",
       "\\item 1\n",
       "\\end{enumerate*}\n"
      ],
      "text/markdown": [
       "1. 0\n",
       "2. 1\n",
       "\n",
       "\n"
      ],
      "text/plain": [
       "[1] 0 1"
      ]
     },
     "metadata": {},
     "output_type": "display_data"
    }
   ],
   "source": [
    "as.numeric(c(FALSE, TRUE))"
   ]
  },
  {
   "cell_type": "markdown",
   "id": "06a33b60",
   "metadata": {},
   "source": [
    "## 3.3 Factors"
   ]
  },
  {
   "cell_type": "code",
   "execution_count": 246,
   "id": "20560ae2",
   "metadata": {},
   "outputs": [
    {
     "data": {
      "text/html": [
       "<ol class=list-inline>\n",
       "\t<li>z</li>\n",
       "\t<li>r</li>\n",
       "\t<li>a</li>\n",
       "\t<li>a</li>\n",
       "\t<li>b</li>\n",
       "\t<li>b</li>\n",
       "\t<li>c</li>\n",
       "\t<li>d</li>\n",
       "\t<li>e</li>\n",
       "</ol>\n",
       "\n",
       "<details>\n",
       "\t<summary style=display:list-item;cursor:pointer>\n",
       "\t\t<strong>Levels</strong>:\n",
       "\t</summary>\n",
       "\t<ol class=list-inline>\n",
       "\t\t<li>'a'</li>\n",
       "\t\t<li>'b'</li>\n",
       "\t\t<li>'c'</li>\n",
       "\t\t<li>'d'</li>\n",
       "\t\t<li>'e'</li>\n",
       "\t\t<li>'r'</li>\n",
       "\t\t<li>'z'</li>\n",
       "\t</ol>\n",
       "</details>"
      ],
      "text/latex": [
       "\\begin{enumerate*}\n",
       "\\item z\n",
       "\\item r\n",
       "\\item a\n",
       "\\item a\n",
       "\\item b\n",
       "\\item b\n",
       "\\item c\n",
       "\\item d\n",
       "\\item e\n",
       "\\end{enumerate*}\n",
       "\n",
       "\\emph{Levels}: \\begin{enumerate*}\n",
       "\\item 'a'\n",
       "\\item 'b'\n",
       "\\item 'c'\n",
       "\\item 'd'\n",
       "\\item 'e'\n",
       "\\item 'r'\n",
       "\\item 'z'\n",
       "\\end{enumerate*}\n"
      ],
      "text/markdown": [
       "1. z\n",
       "2. r\n",
       "3. a\n",
       "4. a\n",
       "5. b\n",
       "6. b\n",
       "7. c\n",
       "8. d\n",
       "9. e\n",
       "\n",
       "\n",
       "\n",
       "**Levels**: 1. 'a'\n",
       "2. 'b'\n",
       "3. 'c'\n",
       "4. 'd'\n",
       "5. 'e'\n",
       "6. 'r'\n",
       "7. 'z'\n",
       "\n",
       "\n"
      ],
      "text/plain": [
       "[1] z r a a b b c d e\n",
       "Levels: a < b < c < d < e < r < z"
      ]
     },
     "metadata": {},
     "output_type": "display_data"
    }
   ],
   "source": [
    "labels=c('z', 'r', 'a', 'a', 'b', 'b', 'c', 'd', 'e')\n",
    "fl=factor(labels, order=TRUE) #distinct values\n",
    "fl"
   ]
  },
  {
   "cell_type": "code",
   "execution_count": 247,
   "id": "8357f66c",
   "metadata": {},
   "outputs": [
    {
     "data": {
      "text/html": [
       "<ol class=list-inline>\n",
       "\t<li>'ordered'</li>\n",
       "\t<li>'factor'</li>\n",
       "</ol>\n"
      ],
      "text/latex": [
       "\\begin{enumerate*}\n",
       "\\item 'ordered'\n",
       "\\item 'factor'\n",
       "\\end{enumerate*}\n"
      ],
      "text/markdown": [
       "1. 'ordered'\n",
       "2. 'factor'\n",
       "\n",
       "\n"
      ],
      "text/plain": [
       "[1] \"ordered\" \"factor\" "
      ]
     },
     "metadata": {},
     "output_type": "display_data"
    }
   ],
   "source": [
    "class(fl)"
   ]
  },
  {
   "cell_type": "code",
   "execution_count": 248,
   "id": "a315954a",
   "metadata": {},
   "outputs": [
    {
     "data": {
      "text/html": [
       "'integer'"
      ],
      "text/latex": [
       "'integer'"
      ],
      "text/markdown": [
       "'integer'"
      ],
      "text/plain": [
       "[1] \"integer\""
      ]
     },
     "metadata": {},
     "output_type": "display_data"
    }
   ],
   "source": [
    "typeof(fl)"
   ]
  },
  {
   "cell_type": "code",
   "execution_count": 249,
   "id": "78f6fe20",
   "metadata": {},
   "outputs": [
    {
     "data": {
      "text/html": [
       "<ol class=list-inline>\n",
       "\t<li>7</li>\n",
       "\t<li>6</li>\n",
       "\t<li>1</li>\n",
       "\t<li>1</li>\n",
       "\t<li>2</li>\n",
       "\t<li>2</li>\n",
       "\t<li>3</li>\n",
       "\t<li>4</li>\n",
       "\t<li>5</li>\n",
       "</ol>\n"
      ],
      "text/latex": [
       "\\begin{enumerate*}\n",
       "\\item 7\n",
       "\\item 6\n",
       "\\item 1\n",
       "\\item 1\n",
       "\\item 2\n",
       "\\item 2\n",
       "\\item 3\n",
       "\\item 4\n",
       "\\item 5\n",
       "\\end{enumerate*}\n"
      ],
      "text/markdown": [
       "1. 7\n",
       "2. 6\n",
       "3. 1\n",
       "4. 1\n",
       "5. 2\n",
       "6. 2\n",
       "7. 3\n",
       "8. 4\n",
       "9. 5\n",
       "\n",
       "\n"
      ],
      "text/plain": [
       "[1] 7 6 1 1 2 2 3 4 5"
      ]
     },
     "metadata": {},
     "output_type": "display_data"
    }
   ],
   "source": [
    "as.integer(fl)"
   ]
  },
  {
   "cell_type": "code",
   "execution_count": 250,
   "id": "0b96aa89",
   "metadata": {},
   "outputs": [
    {
     "data": {
      "text/html": [
       "7"
      ],
      "text/latex": [
       "7"
      ],
      "text/markdown": [
       "7"
      ],
      "text/plain": [
       "[1] 7"
      ]
     },
     "metadata": {},
     "output_type": "display_data"
    }
   ],
   "source": [
    "nlevels(fl)"
   ]
  },
  {
   "cell_type": "code",
   "execution_count": 251,
   "id": "95d857e5",
   "metadata": {},
   "outputs": [
    {
     "data": {
      "text/html": [
       "9"
      ],
      "text/latex": [
       "9"
      ],
      "text/markdown": [
       "9"
      ],
      "text/plain": [
       "[1] 9"
      ]
     },
     "metadata": {},
     "output_type": "display_data"
    }
   ],
   "source": [
    "length(fl)"
   ]
  },
  {
   "cell_type": "code",
   "execution_count": 255,
   "id": "b9783f3f",
   "metadata": {},
   "outputs": [
    {
     "data": {
      "text/html": [
       "<ol class=list-inline>\n",
       "\t<li>high</li>\n",
       "\t<li>low</li>\n",
       "\t<li>medium</li>\n",
       "\t<li>low</li>\n",
       "\t<li>high</li>\n",
       "\t<li>low</li>\n",
       "</ol>\n",
       "\n",
       "<details>\n",
       "\t<summary style=display:list-item;cursor:pointer>\n",
       "\t\t<strong>Levels</strong>:\n",
       "\t</summary>\n",
       "\t<ol class=list-inline>\n",
       "\t\t<li>'high'</li>\n",
       "\t\t<li>'low'</li>\n",
       "\t\t<li>'medium'</li>\n",
       "\t</ol>\n",
       "</details>"
      ],
      "text/latex": [
       "\\begin{enumerate*}\n",
       "\\item high\n",
       "\\item low\n",
       "\\item medium\n",
       "\\item low\n",
       "\\item high\n",
       "\\item low\n",
       "\\end{enumerate*}\n",
       "\n",
       "\\emph{Levels}: \\begin{enumerate*}\n",
       "\\item 'high'\n",
       "\\item 'low'\n",
       "\\item 'medium'\n",
       "\\end{enumerate*}\n"
      ],
      "text/markdown": [
       "1. high\n",
       "2. low\n",
       "3. medium\n",
       "4. low\n",
       "5. high\n",
       "6. low\n",
       "\n",
       "\n",
       "\n",
       "**Levels**: 1. 'high'\n",
       "2. 'low'\n",
       "3. 'medium'\n",
       "\n",
       "\n"
      ],
      "text/plain": [
       "[1] high   low    medium low    high   low   \n",
       "Levels: high low medium"
      ]
     },
     "metadata": {},
     "output_type": "display_data"
    }
   ],
   "source": [
    "al_lev=c('high', 'low', 'medium', 'low', 'high', 'low')\n",
    "factor(al_lev, order=FALSE)"
   ]
  },
  {
   "cell_type": "code",
   "execution_count": 256,
   "id": "fe6131b5",
   "metadata": {},
   "outputs": [
    {
     "data": {
      "text/html": [
       "<ol class=list-inline>\n",
       "\t<li>high</li>\n",
       "\t<li>low</li>\n",
       "\t<li>medium</li>\n",
       "\t<li>low</li>\n",
       "\t<li>high</li>\n",
       "\t<li>low</li>\n",
       "</ol>\n",
       "\n",
       "<details>\n",
       "\t<summary style=display:list-item;cursor:pointer>\n",
       "\t\t<strong>Levels</strong>:\n",
       "\t</summary>\n",
       "\t<ol class=list-inline>\n",
       "\t\t<li>'low'</li>\n",
       "\t\t<li>'medium'</li>\n",
       "\t\t<li>'high'</li>\n",
       "\t</ol>\n",
       "</details>"
      ],
      "text/latex": [
       "\\begin{enumerate*}\n",
       "\\item high\n",
       "\\item low\n",
       "\\item medium\n",
       "\\item low\n",
       "\\item high\n",
       "\\item low\n",
       "\\end{enumerate*}\n",
       "\n",
       "\\emph{Levels}: \\begin{enumerate*}\n",
       "\\item 'low'\n",
       "\\item 'medium'\n",
       "\\item 'high'\n",
       "\\end{enumerate*}\n"
      ],
      "text/markdown": [
       "1. high\n",
       "2. low\n",
       "3. medium\n",
       "4. low\n",
       "5. high\n",
       "6. low\n",
       "\n",
       "\n",
       "\n",
       "**Levels**: 1. 'low'\n",
       "2. 'medium'\n",
       "3. 'high'\n",
       "\n",
       "\n"
      ],
      "text/plain": [
       "[1] high   low    medium low    high   low   \n",
       "Levels: low medium high"
      ]
     },
     "metadata": {},
     "output_type": "display_data"
    }
   ],
   "source": [
    "al_lev=c('high', 'low', 'medium', 'low', 'high', 'low')\n",
    "factor(al_lev, order=FALSE, levels=c('low', 'medium', 'high'))"
   ]
  },
  {
   "cell_type": "markdown",
   "id": "1a03339b",
   "metadata": {},
   "source": [
    "## 3.4 Dates"
   ]
  },
  {
   "cell_type": "code",
   "execution_count": 259,
   "id": "3fdefa29",
   "metadata": {},
   "outputs": [
    {
     "data": {
      "text/html": [
       "'Date'"
      ],
      "text/latex": [
       "'Date'"
      ],
      "text/markdown": [
       "'Date'"
      ],
      "text/plain": [
       "[1] \"Date\""
      ]
     },
     "metadata": {},
     "output_type": "display_data"
    }
   ],
   "source": [
    "dates=as.Date(c('2019-01-01', '2019-01-02'))\n",
    "class(dates)"
   ]
  },
  {
   "cell_type": "code",
   "execution_count": 261,
   "id": "8b1045d2",
   "metadata": {},
   "outputs": [
    {
     "data": {
      "text/html": [
       "'double'"
      ],
      "text/latex": [
       "'double'"
      ],
      "text/markdown": [
       "'double'"
      ],
      "text/plain": [
       "[1] \"double\""
      ]
     },
     "metadata": {},
     "output_type": "display_data"
    }
   ],
   "source": [
    "typeof(dates)"
   ]
  },
  {
   "cell_type": "code",
   "execution_count": 263,
   "id": "c57c5631",
   "metadata": {},
   "outputs": [
    {
     "data": {
      "text/html": [
       "<ol class=list-inline>\n",
       "\t<li>17897</li>\n",
       "\t<li>17898</li>\n",
       "</ol>\n"
      ],
      "text/latex": [
       "\\begin{enumerate*}\n",
       "\\item 17897\n",
       "\\item 17898\n",
       "\\end{enumerate*}\n"
      ],
      "text/markdown": [
       "1. 17897\n",
       "2. 17898\n",
       "\n",
       "\n"
      ],
      "text/plain": [
       "[1] 17897 17898"
      ]
     },
     "metadata": {},
     "output_type": "display_data"
    }
   ],
   "source": [
    "as.numeric(dates) #1st January 1970"
   ]
  },
  {
   "cell_type": "code",
   "execution_count": 269,
   "id": "1bfa8540",
   "metadata": {},
   "outputs": [
    {
     "data": {
      "text/html": [
       "35795"
      ],
      "text/latex": [
       "35795"
      ],
      "text/markdown": [
       "35795"
      ],
      "text/plain": [
       "[1] 35795"
      ]
     },
     "metadata": {},
     "output_type": "display_data"
    }
   ],
   "source": [
    "sum(as.numeric(dates))"
   ]
  },
  {
   "cell_type": "code",
   "execution_count": 274,
   "id": "c5a28717",
   "metadata": {},
   "outputs": [
    {
     "data": {
      "text/html": [
       "<time datetime=\"2020-04-01\">2020-04-01</time>"
      ],
      "text/latex": [
       "2020-04-01"
      ],
      "text/markdown": [
       "2020-04-01"
      ],
      "text/plain": [
       "[1] \"2020-04-01\""
      ]
     },
     "metadata": {},
     "output_type": "display_data"
    }
   ],
   "source": [
    "as.Date(c('01/04/2019'), format='%d/%m/%y')"
   ]
  },
  {
   "cell_type": "code",
   "execution_count": 275,
   "id": "76f66d80",
   "metadata": {},
   "outputs": [
    {
     "data": {
      "text/html": [
       "<time datetime=\"2019-04-01\">2019-04-01</time>"
      ],
      "text/latex": [
       "2019-04-01"
      ],
      "text/markdown": [
       "2019-04-01"
      ],
      "text/plain": [
       "[1] \"2019-04-01\""
      ]
     },
     "metadata": {},
     "output_type": "display_data"
    }
   ],
   "source": [
    "as.Date(c('01/04/2019'), format='%d/%m/%Y')"
   ]
  },
  {
   "cell_type": "code",
   "execution_count": 289,
   "id": "acc19915",
   "metadata": {},
   "outputs": [
    {
     "data": {
      "text/html": [
       "<time datetime=\"2019-03-01\">2019-03-01</time>"
      ],
      "text/latex": [
       "2019-03-01"
      ],
      "text/markdown": [
       "2019-03-01"
      ],
      "text/plain": [
       "[1] \"2019-03-01\""
      ]
     },
     "metadata": {},
     "output_type": "display_data"
    }
   ],
   "source": [
    "as.Date(c('01March2019'), format='%d%b%Y')"
   ]
  },
  {
   "cell_type": "markdown",
   "id": "cf4bde1b",
   "metadata": {},
   "source": [
    "# 4. Arrays"
   ]
  },
  {
   "cell_type": "markdown",
   "id": "ab503d87",
   "metadata": {},
   "source": [
    "#### Part 1"
   ]
  },
  {
   "cell_type": "code",
   "execution_count": 373,
   "id": "16383512",
   "metadata": {},
   "outputs": [
    {
     "data": {
      "text/html": [
       "<ol class=list-inline>\n",
       "\t<li>1</li>\n",
       "\t<li>2</li>\n",
       "\t<li>3</li>\n",
       "\t<li>1</li>\n",
       "</ol>\n"
      ],
      "text/latex": [
       "\\begin{enumerate*}\n",
       "\\item 1\n",
       "\\item 2\n",
       "\\item 3\n",
       "\\item 1\n",
       "\\end{enumerate*}\n"
      ],
      "text/markdown": [
       "1. 1\n",
       "2. 2\n",
       "3. 3\n",
       "4. 1\n",
       "\n",
       "\n"
      ],
      "text/plain": [
       ", , 1\n",
       "\n",
       "     [,1] [,2]\n",
       "[1,]    1    2\n",
       "\n",
       ", , 2\n",
       "\n",
       "     [,1] [,2]\n",
       "[1,]    3    1\n"
      ]
     },
     "metadata": {},
     "output_type": "display_data"
    }
   ],
   "source": [
    "array(data=c(1, 2, 3), dim=c(1,2,2))"
   ]
  },
  {
   "cell_type": "markdown",
   "id": "18eb9f79",
   "metadata": {},
   "source": [
    "- Vectors as input\n",
    "- c(1,2,2) => 2 matrices with 1 row by 2 columns\n",
    "- Use dimnames to name elements\n",
    "- Hold element of the same type"
   ]
  },
  {
   "cell_type": "code",
   "execution_count": 374,
   "id": "7dd3fcdc",
   "metadata": {},
   "outputs": [
    {
     "data": {
      "text/html": [
       "<table>\n",
       "<thead><tr><th></th><th scope=col>Col 1</th><th scope=col>Col 2</th></tr></thead>\n",
       "<tbody>\n",
       "\t<tr><th scope=row>Row 1</th><td>10</td><td>15</td></tr>\n",
       "\t<tr><th scope=row>Row 2</th><td>14</td><td>20</td></tr>\n",
       "</tbody>\n",
       "</table>\n"
      ],
      "text/latex": [
       "\\begin{tabular}{r|ll}\n",
       "  & Col 1 & Col 2\\\\\n",
       "\\hline\n",
       "\tRow 1 & 10 & 15\\\\\n",
       "\tRow 2 & 14 & 20\\\\\n",
       "\\end{tabular}\n"
      ],
      "text/markdown": [
       "\n",
       "| <!--/--> | Col 1 | Col 2 |\n",
       "|---|---|---|\n",
       "| Row 1 | 10 | 15 |\n",
       "| Row 2 | 14 | 20 |\n",
       "\n"
      ],
      "text/plain": [
       "      Col 1 Col 2\n",
       "Row 1 10    15   \n",
       "Row 2 14    20   "
      ]
     },
     "metadata": {},
     "output_type": "display_data"
    }
   ],
   "source": [
    "example=array(data=c(10,14, 15, 20, 21, 22, 23, 25),\n",
    "      dim=c(2,2,2),\n",
    "      dimnames=list(c('Row 1', 'Row 2'),\n",
    "                    c('Col 1', 'Col 2'),\n",
    "                    c('Matrix 1', 'Matrix 2')\n",
    "                   )\n",
    ")\n",
    "example[,,1]"
   ]
  },
  {
   "cell_type": "code",
   "execution_count": 305,
   "id": "2d3afafb",
   "metadata": {},
   "outputs": [
    {
     "data": {
      "text/html": [
       "<table>\n",
       "<thead><tr><th></th><th scope=col>Col 1</th><th scope=col>Col 2</th></tr></thead>\n",
       "<tbody>\n",
       "\t<tr><th scope=row>Row 1</th><td>21</td><td>23</td></tr>\n",
       "\t<tr><th scope=row>Row 2</th><td>22</td><td>25</td></tr>\n",
       "</tbody>\n",
       "</table>\n"
      ],
      "text/latex": [
       "\\begin{tabular}{r|ll}\n",
       "  & Col 1 & Col 2\\\\\n",
       "\\hline\n",
       "\tRow 1 & 21 & 23\\\\\n",
       "\tRow 2 & 22 & 25\\\\\n",
       "\\end{tabular}\n"
      ],
      "text/markdown": [
       "\n",
       "| <!--/--> | Col 1 | Col 2 |\n",
       "|---|---|---|\n",
       "| Row 1 | 21 | 23 |\n",
       "| Row 2 | 22 | 25 |\n",
       "\n"
      ],
      "text/plain": [
       "      Col 1 Col 2\n",
       "Row 1 21    23   \n",
       "Row 2 22    25   "
      ]
     },
     "metadata": {},
     "output_type": "display_data"
    }
   ],
   "source": [
    "example[,,2]"
   ]
  },
  {
   "cell_type": "code",
   "execution_count": 306,
   "id": "5bf690f1",
   "metadata": {},
   "outputs": [
    {
     "data": {
      "text/html": [
       "10"
      ],
      "text/latex": [
       "10"
      ],
      "text/markdown": [
       "10"
      ],
      "text/plain": [
       "[1] 10"
      ]
     },
     "metadata": {},
     "output_type": "display_data"
    }
   ],
   "source": [
    "example['Row 1', 'Col 1', 'Matrix 1']"
   ]
  },
  {
   "cell_type": "markdown",
   "id": "21777139",
   "metadata": {},
   "source": [
    "Matrix: special types of 2 dimensional arrays"
   ]
  },
  {
   "cell_type": "code",
   "execution_count": 311,
   "id": "dc09ad90",
   "metadata": {},
   "outputs": [
    {
     "data": {
      "text/html": [
       "<table>\n",
       "<tbody>\n",
       "\t<tr><td>1</td><td>3</td></tr>\n",
       "\t<tr><td>2</td><td>4</td></tr>\n",
       "</tbody>\n",
       "</table>\n"
      ],
      "text/latex": [
       "\\begin{tabular}{ll}\n",
       "\t 1 & 3\\\\\n",
       "\t 2 & 4\\\\\n",
       "\\end{tabular}\n"
      ],
      "text/markdown": [
       "\n",
       "| 1 | 3 |\n",
       "| 2 | 4 |\n",
       "\n"
      ],
      "text/plain": [
       "     [,1] [,2]\n",
       "[1,] 1    3   \n",
       "[2,] 2    4   "
      ]
     },
     "metadata": {},
     "output_type": "display_data"
    }
   ],
   "source": [
    "matrix (data=c(1,2,3,4), nrow=2, ncol=2)"
   ]
  },
  {
   "cell_type": "markdown",
   "id": "68eecd52",
   "metadata": {},
   "source": [
    "#### Part 2"
   ]
  },
  {
   "cell_type": "code",
   "execution_count": 325,
   "id": "0d092fec",
   "metadata": {},
   "outputs": [
    {
     "data": {
      "text/html": [
       "<ol class=list-inline>\n",
       "\t<li>1</li>\n",
       "\t<li>2</li>\n",
       "\t<li>3</li>\n",
       "\t<li>4</li>\n",
       "</ol>\n"
      ],
      "text/latex": [
       "\\begin{enumerate*}\n",
       "\\item 1\n",
       "\\item 2\n",
       "\\item 3\n",
       "\\item 4\n",
       "\\end{enumerate*}\n"
      ],
      "text/markdown": [
       "1. 1\n",
       "2. 2\n",
       "3. 3\n",
       "4. 4\n",
       "\n",
       "\n"
      ],
      "text/plain": [
       "[1] 1 2 3 4"
      ]
     },
     "metadata": {},
     "output_type": "display_data"
    }
   ],
   "source": [
    "vect=1:4\n",
    "vect"
   ]
  },
  {
   "cell_type": "code",
   "execution_count": 326,
   "id": "1d063b48",
   "metadata": {},
   "outputs": [
    {
     "data": {
      "text/html": [
       "<table>\n",
       "<tbody>\n",
       "\t<tr><td>1</td><td>3</td></tr>\n",
       "\t<tr><td>2</td><td>4</td></tr>\n",
       "</tbody>\n",
       "</table>\n"
      ],
      "text/latex": [
       "\\begin{tabular}{ll}\n",
       "\t 1 & 3\\\\\n",
       "\t 2 & 4\\\\\n",
       "\\end{tabular}\n"
      ],
      "text/markdown": [
       "\n",
       "| 1 | 3 |\n",
       "| 2 | 4 |\n",
       "\n"
      ],
      "text/plain": [
       "     [,1] [,2]\n",
       "[1,] 1    3   \n",
       "[2,] 2    4   "
      ]
     },
     "metadata": {},
     "output_type": "display_data"
    }
   ],
   "source": [
    "my_ar=array(data=vect, dim=c(2,2))\n",
    "my_ar"
   ]
  },
  {
   "cell_type": "code",
   "execution_count": 327,
   "id": "b588e936",
   "metadata": {},
   "outputs": [
    {
     "data": {
      "text/html": [
       "<ol class=list-inline>\n",
       "\t<li>1</li>\n",
       "\t<li>2</li>\n",
       "</ol>\n"
      ],
      "text/latex": [
       "\\begin{enumerate*}\n",
       "\\item 1\n",
       "\\item 2\n",
       "\\end{enumerate*}\n"
      ],
      "text/markdown": [
       "1. 1\n",
       "2. 2\n",
       "\n",
       "\n"
      ],
      "text/plain": [
       "[1] 1 2"
      ]
     },
     "metadata": {},
     "output_type": "display_data"
    }
   ],
   "source": [
    "my_ar[,1]"
   ]
  },
  {
   "cell_type": "code",
   "execution_count": 328,
   "id": "df0f32d4",
   "metadata": {},
   "outputs": [
    {
     "data": {
      "text/html": [
       "<ol class=list-inline>\n",
       "\t<li>2</li>\n",
       "\t<li>4</li>\n",
       "</ol>\n"
      ],
      "text/latex": [
       "\\begin{enumerate*}\n",
       "\\item 2\n",
       "\\item 4\n",
       "\\end{enumerate*}\n"
      ],
      "text/markdown": [
       "1. 2\n",
       "2. 4\n",
       "\n",
       "\n"
      ],
      "text/plain": [
       "[1] 2 4"
      ]
     },
     "metadata": {},
     "output_type": "display_data"
    }
   ],
   "source": [
    "my_ar[2,]"
   ]
  },
  {
   "cell_type": "code",
   "execution_count": 329,
   "id": "4a140787",
   "metadata": {},
   "outputs": [
    {
     "data": {
      "text/html": [
       "3"
      ],
      "text/latex": [
       "3"
      ],
      "text/markdown": [
       "3"
      ],
      "text/plain": [
       "[1] 3"
      ]
     },
     "metadata": {},
     "output_type": "display_data"
    }
   ],
   "source": [
    "my_ar[1,2]"
   ]
  },
  {
   "cell_type": "code",
   "execution_count": 330,
   "id": "e8e9ea58",
   "metadata": {},
   "outputs": [
    {
     "data": {
      "text/html": [
       "'matrix'"
      ],
      "text/latex": [
       "'matrix'"
      ],
      "text/markdown": [
       "'matrix'"
      ],
      "text/plain": [
       "[1] \"matrix\""
      ]
     },
     "metadata": {},
     "output_type": "display_data"
    }
   ],
   "source": [
    "class(my_ar)"
   ]
  },
  {
   "cell_type": "code",
   "execution_count": 331,
   "id": "a39d4bb2",
   "metadata": {},
   "outputs": [
    {
     "data": {
      "text/html": [
       "<ol class=list-inline>\n",
       "\t<li>2</li>\n",
       "\t<li>2</li>\n",
       "</ol>\n"
      ],
      "text/latex": [
       "\\begin{enumerate*}\n",
       "\\item 2\n",
       "\\item 2\n",
       "\\end{enumerate*}\n"
      ],
      "text/markdown": [
       "1. 2\n",
       "2. 2\n",
       "\n",
       "\n"
      ],
      "text/plain": [
       "[1] 2 2"
      ]
     },
     "metadata": {},
     "output_type": "display_data"
    }
   ],
   "source": [
    "dim(my_ar)"
   ]
  },
  {
   "cell_type": "markdown",
   "id": "252b42bd",
   "metadata": {},
   "source": [
    "#### part 4"
   ]
  },
  {
   "cell_type": "code",
   "execution_count": 352,
   "id": "9e7b30ec",
   "metadata": {},
   "outputs": [
    {
     "data": {
      "text/html": [
       "<table>\n",
       "<tbody>\n",
       "\t<tr><td>1 </td><td>5 </td><td> 9</td><td>13</td></tr>\n",
       "\t<tr><td>2 </td><td>6 </td><td>10</td><td>14</td></tr>\n",
       "\t<tr><td>3 </td><td>7 </td><td>11</td><td>15</td></tr>\n",
       "\t<tr><td>4 </td><td>8 </td><td>12</td><td>16</td></tr>\n",
       "</tbody>\n",
       "</table>\n"
      ],
      "text/latex": [
       "\\begin{tabular}{llll}\n",
       "\t 1  & 5  &  9 & 13\\\\\n",
       "\t 2  & 6  & 10 & 14\\\\\n",
       "\t 3  & 7  & 11 & 15\\\\\n",
       "\t 4  & 8  & 12 & 16\\\\\n",
       "\\end{tabular}\n"
      ],
      "text/markdown": [
       "\n",
       "| 1  | 5  |  9 | 13 |\n",
       "| 2  | 6  | 10 | 14 |\n",
       "| 3  | 7  | 11 | 15 |\n",
       "| 4  | 8  | 12 | 16 |\n",
       "\n"
      ],
      "text/plain": [
       "     [,1] [,2] [,3] [,4]\n",
       "[1,] 1    5     9   13  \n",
       "[2,] 2    6    10   14  \n",
       "[3,] 3    7    11   15  \n",
       "[4,] 4    8    12   16  "
      ]
     },
     "metadata": {},
     "output_type": "display_data"
    }
   ],
   "source": [
    "my_array=array(1:16, dim=c(4,4))\n",
    "my_array"
   ]
  },
  {
   "cell_type": "code",
   "execution_count": 347,
   "id": "813d3dbe",
   "metadata": {},
   "outputs": [
    {
     "data": {
      "text/html": [
       "<ol class=list-inline>\n",
       "\t<li>13</li>\n",
       "\t<li>14</li>\n",
       "\t<li>15</li>\n",
       "\t<li>16</li>\n",
       "</ol>\n"
      ],
      "text/latex": [
       "\\begin{enumerate*}\n",
       "\\item 13\n",
       "\\item 14\n",
       "\\item 15\n",
       "\\item 16\n",
       "\\end{enumerate*}\n"
      ],
      "text/markdown": [
       "1. 13\n",
       "2. 14\n",
       "3. 15\n",
       "4. 16\n",
       "\n",
       "\n"
      ],
      "text/plain": [
       "[1] 13 14 15 16"
      ]
     },
     "metadata": {},
     "output_type": "display_data"
    }
   ],
   "source": [
    "my_array[,4]"
   ]
  },
  {
   "cell_type": "code",
   "execution_count": 348,
   "id": "7ff371d1",
   "metadata": {},
   "outputs": [
    {
     "data": {
      "text/html": [
       "<ol class=list-inline>\n",
       "\t<li>1</li>\n",
       "\t<li>5</li>\n",
       "\t<li>9</li>\n",
       "\t<li>13</li>\n",
       "</ol>\n"
      ],
      "text/latex": [
       "\\begin{enumerate*}\n",
       "\\item 1\n",
       "\\item 5\n",
       "\\item 9\n",
       "\\item 13\n",
       "\\end{enumerate*}\n"
      ],
      "text/markdown": [
       "1. 1\n",
       "2. 5\n",
       "3. 9\n",
       "4. 13\n",
       "\n",
       "\n"
      ],
      "text/plain": [
       "[1]  1  5  9 13"
      ]
     },
     "metadata": {},
     "output_type": "display_data"
    }
   ],
   "source": [
    "my_array[1,]"
   ]
  },
  {
   "cell_type": "code",
   "execution_count": 349,
   "id": "1ade1153",
   "metadata": {},
   "outputs": [
    {
     "data": {
      "text/html": [
       "<ol class=list-inline>\n",
       "\t<li>10</li>\n",
       "\t<li>11</li>\n",
       "</ol>\n"
      ],
      "text/latex": [
       "\\begin{enumerate*}\n",
       "\\item 10\n",
       "\\item 11\n",
       "\\end{enumerate*}\n"
      ],
      "text/markdown": [
       "1. 10\n",
       "2. 11\n",
       "\n",
       "\n"
      ],
      "text/plain": [
       "[1] 10 11"
      ]
     },
     "metadata": {},
     "output_type": "display_data"
    }
   ],
   "source": [
    "my_array[2:3,3]"
   ]
  },
  {
   "cell_type": "code",
   "execution_count": 350,
   "id": "dca88336",
   "metadata": {},
   "outputs": [
    {
     "data": {
      "text/html": [
       "<table>\n",
       "<tbody>\n",
       "\t<tr><td>11</td><td>15</td></tr>\n",
       "\t<tr><td>12</td><td>16</td></tr>\n",
       "</tbody>\n",
       "</table>\n"
      ],
      "text/latex": [
       "\\begin{tabular}{ll}\n",
       "\t 11 & 15\\\\\n",
       "\t 12 & 16\\\\\n",
       "\\end{tabular}\n"
      ],
      "text/markdown": [
       "\n",
       "| 11 | 15 |\n",
       "| 12 | 16 |\n",
       "\n"
      ],
      "text/plain": [
       "     [,1] [,2]\n",
       "[1,] 11   15  \n",
       "[2,] 12   16  "
      ]
     },
     "metadata": {},
     "output_type": "display_data"
    }
   ],
   "source": [
    "my_array[3:4, 3:4]"
   ]
  },
  {
   "cell_type": "code",
   "execution_count": 354,
   "id": "7cc7628a",
   "metadata": {},
   "outputs": [
    {
     "data": {
      "text/html": [
       "<table>\n",
       "<tbody>\n",
       "\t<tr><td>1  </td><td>5  </td><td>  9</td><td> 13</td></tr>\n",
       "\t<tr><td>2  </td><td>6  </td><td> 10</td><td> 14</td></tr>\n",
       "\t<tr><td>3  </td><td>7  </td><td>100</td><td>300</td></tr>\n",
       "\t<tr><td>4  </td><td>8  </td><td>200</td><td>400</td></tr>\n",
       "</tbody>\n",
       "</table>\n"
      ],
      "text/latex": [
       "\\begin{tabular}{llll}\n",
       "\t 1   & 5   &   9 &  13\\\\\n",
       "\t 2   & 6   &  10 &  14\\\\\n",
       "\t 3   & 7   & 100 & 300\\\\\n",
       "\t 4   & 8   & 200 & 400\\\\\n",
       "\\end{tabular}\n"
      ],
      "text/markdown": [
       "\n",
       "| 1   | 5   |   9 |  13 |\n",
       "| 2   | 6   |  10 |  14 |\n",
       "| 3   | 7   | 100 | 300 |\n",
       "| 4   | 8   | 200 | 400 |\n",
       "\n"
      ],
      "text/plain": [
       "     [,1] [,2] [,3] [,4]\n",
       "[1,] 1    5      9   13 \n",
       "[2,] 2    6     10   14 \n",
       "[3,] 3    7    100  300 \n",
       "[4,] 4    8    200  400 "
      ]
     },
     "metadata": {},
     "output_type": "display_data"
    }
   ],
   "source": [
    "my_array[3:4, 3:4] = c(100, 200, 300, 400)\n",
    "my_array"
   ]
  },
  {
   "cell_type": "code",
   "execution_count": 358,
   "id": "d47461ed",
   "metadata": {},
   "outputs": [
    {
     "data": {
      "text/html": [
       "<table>\n",
       "<tbody>\n",
       "\t<tr><td>1000</td><td>3000</td><td>5000</td><td>7000</td></tr>\n",
       "\t<tr><td>2000</td><td>4000</td><td>6000</td><td>8000</td></tr>\n",
       "\t<tr><td>   3</td><td>   7</td><td> 100</td><td> 300</td></tr>\n",
       "\t<tr><td>   4</td><td>   8</td><td> 200</td><td> 400</td></tr>\n",
       "</tbody>\n",
       "</table>\n"
      ],
      "text/latex": [
       "\\begin{tabular}{llll}\n",
       "\t 1000 & 3000 & 5000 & 7000\\\\\n",
       "\t 2000 & 4000 & 6000 & 8000\\\\\n",
       "\t    3 &    7 &  100 &  300\\\\\n",
       "\t    4 &    8 &  200 &  400\\\\\n",
       "\\end{tabular}\n"
      ],
      "text/markdown": [
       "\n",
       "| 1000 | 3000 | 5000 | 7000 |\n",
       "| 2000 | 4000 | 6000 | 8000 |\n",
       "|    3 |    7 |  100 |  300 |\n",
       "|    4 |    8 |  200 |  400 |\n",
       "\n"
      ],
      "text/plain": [
       "     [,1] [,2] [,3] [,4]\n",
       "[1,] 1000 3000 5000 7000\n",
       "[2,] 2000 4000 6000 8000\n",
       "[3,]    3    7  100  300\n",
       "[4,]    4    8  200  400"
      ]
     },
     "metadata": {},
     "output_type": "display_data"
    }
   ],
   "source": [
    "my_array[1:2, ] = array(c(1000, 2000, 3000, 4000, 5000, 6000, 7000, 8000), dim=c(2, 4))\n",
    "my_array"
   ]
  },
  {
   "cell_type": "code",
   "execution_count": 366,
   "id": "0a255a93",
   "metadata": {},
   "outputs": [
    {
     "data": {
      "text/html": [
       "<table>\n",
       "<tbody>\n",
       "\t<tr><td>100</td><td>100</td><td>100</td></tr>\n",
       "\t<tr><td>100</td><td>100</td><td>100</td></tr>\n",
       "\t<tr><td>100</td><td>100</td><td>100</td></tr>\n",
       "</tbody>\n",
       "</table>\n"
      ],
      "text/latex": [
       "\\begin{tabular}{lll}\n",
       "\t 100 & 100 & 100\\\\\n",
       "\t 100 & 100 & 100\\\\\n",
       "\t 100 & 100 & 100\\\\\n",
       "\\end{tabular}\n"
      ],
      "text/markdown": [
       "\n",
       "| 100 | 100 | 100 |\n",
       "| 100 | 100 | 100 |\n",
       "| 100 | 100 | 100 |\n",
       "\n"
      ],
      "text/plain": [
       "     [,1] [,2] [,3]\n",
       "[1,] 100  100  100 \n",
       "[2,] 100  100  100 \n",
       "[3,] 100  100  100 "
      ]
     },
     "metadata": {},
     "output_type": "display_data"
    }
   ],
   "source": [
    "ma=array(data=c(100, 100, 100), dim=c(3,3,2))\n",
    "ma[,,1]"
   ]
  },
  {
   "cell_type": "code",
   "execution_count": 367,
   "id": "391bdbea",
   "metadata": {},
   "outputs": [
    {
     "data": {
      "text/html": [
       "<table>\n",
       "<tbody>\n",
       "\t<tr><td>20</td><td>20</td><td>20</td></tr>\n",
       "\t<tr><td>20</td><td>20</td><td>20</td></tr>\n",
       "\t<tr><td>20</td><td>20</td><td>20</td></tr>\n",
       "</tbody>\n",
       "</table>\n"
      ],
      "text/latex": [
       "\\begin{tabular}{lll}\n",
       "\t 20 & 20 & 20\\\\\n",
       "\t 20 & 20 & 20\\\\\n",
       "\t 20 & 20 & 20\\\\\n",
       "\\end{tabular}\n"
      ],
      "text/markdown": [
       "\n",
       "| 20 | 20 | 20 |\n",
       "| 20 | 20 | 20 |\n",
       "| 20 | 20 | 20 |\n",
       "\n"
      ],
      "text/plain": [
       "     [,1] [,2] [,3]\n",
       "[1,] 20   20   20  \n",
       "[2,] 20   20   20  \n",
       "[3,] 20   20   20  "
      ]
     },
     "metadata": {},
     "output_type": "display_data"
    }
   ],
   "source": [
    "ma[,,1]=sqrt(ma[,,1])*2\n",
    "ma[,,1]"
   ]
  },
  {
   "cell_type": "code",
   "execution_count": 372,
   "id": "cc6d7930",
   "metadata": {},
   "outputs": [
    {
     "data": {
      "text/html": [
       "<table>\n",
       "<tbody>\n",
       "\t<tr><td>20 </td><td>100</td></tr>\n",
       "\t<tr><td>20 </td><td>100</td></tr>\n",
       "\t<tr><td>20 </td><td>100</td></tr>\n",
       "</tbody>\n",
       "</table>\n"
      ],
      "text/latex": [
       "\\begin{tabular}{ll}\n",
       "\t 20  & 100\\\\\n",
       "\t 20  & 100\\\\\n",
       "\t 20  & 100\\\\\n",
       "\\end{tabular}\n"
      ],
      "text/markdown": [
       "\n",
       "| 20  | 100 |\n",
       "| 20  | 100 |\n",
       "| 20  | 100 |\n",
       "\n"
      ],
      "text/plain": [
       "     [,1] [,2]\n",
       "[1,] 20   100 \n",
       "[2,] 20   100 \n",
       "[3,] 20   100 "
      ]
     },
     "metadata": {},
     "output_type": "display_data"
    }
   ],
   "source": [
    "ma[,2,]"
   ]
  },
  {
   "cell_type": "code",
   "execution_count": 369,
   "id": "33d6084a",
   "metadata": {},
   "outputs": [
    {
     "data": {
      "text/html": [
       "<table>\n",
       "<tbody>\n",
       "\t<tr><td>20</td><td>20</td><td>20</td></tr>\n",
       "\t<tr><td>20</td><td>20</td><td>20</td></tr>\n",
       "\t<tr><td>20</td><td>20</td><td>20</td></tr>\n",
       "</tbody>\n",
       "</table>\n"
      ],
      "text/latex": [
       "\\begin{tabular}{lll}\n",
       "\t 20 & 20 & 20\\\\\n",
       "\t 20 & 20 & 20\\\\\n",
       "\t 20 & 20 & 20\\\\\n",
       "\\end{tabular}\n"
      ],
      "text/markdown": [
       "\n",
       "| 20 | 20 | 20 |\n",
       "| 20 | 20 | 20 |\n",
       "| 20 | 20 | 20 |\n",
       "\n"
      ],
      "text/plain": [
       "     [,1] [,2] [,3]\n",
       "[1,] 20   20   20  \n",
       "[2,] 20   20   20  \n",
       "[3,] 20   20   20  "
      ]
     },
     "metadata": {},
     "output_type": "display_data"
    }
   ],
   "source": [
    "ma[,,1]"
   ]
  },
  {
   "cell_type": "code",
   "execution_count": 370,
   "id": "43fdfc0e",
   "metadata": {},
   "outputs": [
    {
     "data": {
      "text/html": [
       "<table>\n",
       "<tbody>\n",
       "\t<tr><td>100</td><td>100</td><td>100</td></tr>\n",
       "\t<tr><td>100</td><td>100</td><td>100</td></tr>\n",
       "\t<tr><td>100</td><td>100</td><td>100</td></tr>\n",
       "</tbody>\n",
       "</table>\n"
      ],
      "text/latex": [
       "\\begin{tabular}{lll}\n",
       "\t 100 & 100 & 100\\\\\n",
       "\t 100 & 100 & 100\\\\\n",
       "\t 100 & 100 & 100\\\\\n",
       "\\end{tabular}\n"
      ],
      "text/markdown": [
       "\n",
       "| 100 | 100 | 100 |\n",
       "| 100 | 100 | 100 |\n",
       "| 100 | 100 | 100 |\n",
       "\n"
      ],
      "text/plain": [
       "     [,1] [,2] [,3]\n",
       "[1,] 100  100  100 \n",
       "[2,] 100  100  100 \n",
       "[3,] 100  100  100 "
      ]
     },
     "metadata": {},
     "output_type": "display_data"
    }
   ],
   "source": [
    "ma[,,2]"
   ]
  },
  {
   "cell_type": "markdown",
   "id": "e90e5964",
   "metadata": {},
   "source": [
    "## 4.1 Dimnames"
   ]
  },
  {
   "cell_type": "code",
   "execution_count": 413,
   "id": "f9ab1f29",
   "metadata": {},
   "outputs": [
    {
     "data": {
      "text/html": [
       "<table>\n",
       "<thead><tr><th></th><th scope=col>Pop</th><th scope=col>GDP</th></tr></thead>\n",
       "<tbody>\n",
       "\t<tr><th scope=row>Portugal</th><td>200</td><td>300</td></tr>\n",
       "\t<tr><th scope=row>UK</th><td>200</td><td>340</td></tr>\n",
       "</tbody>\n",
       "</table>\n"
      ],
      "text/latex": [
       "\\begin{tabular}{r|ll}\n",
       "  & Pop & GDP\\\\\n",
       "\\hline\n",
       "\tPortugal & 200 & 300\\\\\n",
       "\tUK & 200 & 340\\\\\n",
       "\\end{tabular}\n"
      ],
      "text/markdown": [
       "\n",
       "| <!--/--> | Pop | GDP |\n",
       "|---|---|---|\n",
       "| Portugal | 200 | 300 |\n",
       "| UK | 200 | 340 |\n",
       "\n"
      ],
      "text/plain": [
       "         Pop GDP\n",
       "Portugal 200 300\n",
       "UK       200 340"
      ]
     },
     "metadata": {},
     "output_type": "display_data"
    }
   ],
   "source": [
    "tes=array(c(200, 200, 300, 340, 230, 120, 540, 400), dim=c(2,2, 2), dimnames=list(c('Portugal', 'UK'), #rows\n",
    "                                                                              c('Pop', 'GDP'), #columns\n",
    "                                                                              c('2018', '2019') #year\n",
    "\n",
    "))\n",
    "tes[,,'2018']"
   ]
  },
  {
   "cell_type": "code",
   "execution_count": 414,
   "id": "621f36d9",
   "metadata": {},
   "outputs": [
    {
     "data": {
      "text/html": [
       "<table>\n",
       "<thead><tr><th></th><th scope=col>Pop</th><th scope=col>GDP</th></tr></thead>\n",
       "<tbody>\n",
       "\t<tr><th scope=row>Portugal</th><td>230</td><td>540</td></tr>\n",
       "\t<tr><th scope=row>UK</th><td>120</td><td>400</td></tr>\n",
       "</tbody>\n",
       "</table>\n"
      ],
      "text/latex": [
       "\\begin{tabular}{r|ll}\n",
       "  & Pop & GDP\\\\\n",
       "\\hline\n",
       "\tPortugal & 230 & 540\\\\\n",
       "\tUK & 120 & 400\\\\\n",
       "\\end{tabular}\n"
      ],
      "text/markdown": [
       "\n",
       "| <!--/--> | Pop | GDP |\n",
       "|---|---|---|\n",
       "| Portugal | 230 | 540 |\n",
       "| UK | 120 | 400 |\n",
       "\n"
      ],
      "text/plain": [
       "         Pop GDP\n",
       "Portugal 230 540\n",
       "UK       120 400"
      ]
     },
     "metadata": {},
     "output_type": "display_data"
    }
   ],
   "source": [
    "tes[,,'2019']"
   ]
  },
  {
   "cell_type": "code",
   "execution_count": 415,
   "id": "56d76f78",
   "metadata": {},
   "outputs": [
    {
     "data": {
      "text/html": [
       "<ol>\n",
       "\t<li><ol class=list-inline>\n",
       "\t<li>'Portugal'</li>\n",
       "\t<li>'UK'</li>\n",
       "</ol>\n",
       "</li>\n",
       "\t<li><ol class=list-inline>\n",
       "\t<li>'Pop'</li>\n",
       "\t<li>'GDP'</li>\n",
       "</ol>\n",
       "</li>\n",
       "\t<li><ol class=list-inline>\n",
       "\t<li>'2018'</li>\n",
       "\t<li>'2019'</li>\n",
       "</ol>\n",
       "</li>\n",
       "</ol>\n"
      ],
      "text/latex": [
       "\\begin{enumerate}\n",
       "\\item \\begin{enumerate*}\n",
       "\\item 'Portugal'\n",
       "\\item 'UK'\n",
       "\\end{enumerate*}\n",
       "\n",
       "\\item \\begin{enumerate*}\n",
       "\\item 'Pop'\n",
       "\\item 'GDP'\n",
       "\\end{enumerate*}\n",
       "\n",
       "\\item \\begin{enumerate*}\n",
       "\\item '2018'\n",
       "\\item '2019'\n",
       "\\end{enumerate*}\n",
       "\n",
       "\\end{enumerate}\n"
      ],
      "text/markdown": [
       "1. 1. 'Portugal'\n",
       "2. 'UK'\n",
       "\n",
       "\n",
       "\n",
       "2. 1. 'Pop'\n",
       "2. 'GDP'\n",
       "\n",
       "\n",
       "\n",
       "3. 1. '2018'\n",
       "2. '2019'\n",
       "\n",
       "\n",
       "\n",
       "\n",
       "\n"
      ],
      "text/plain": [
       "[[1]]\n",
       "[1] \"Portugal\" \"UK\"      \n",
       "\n",
       "[[2]]\n",
       "[1] \"Pop\" \"GDP\"\n",
       "\n",
       "[[3]]\n",
       "[1] \"2018\" \"2019\"\n"
      ]
     },
     "metadata": {},
     "output_type": "display_data"
    }
   ],
   "source": [
    "dimnames(tes)"
   ]
  },
  {
   "cell_type": "code",
   "execution_count": 416,
   "id": "f174fceb",
   "metadata": {},
   "outputs": [],
   "source": [
    "dimnames(tes)[[1]] = c('Spain', 'USA')"
   ]
  },
  {
   "cell_type": "code",
   "execution_count": 417,
   "id": "949b2708",
   "metadata": {},
   "outputs": [
    {
     "data": {
      "text/html": [
       "<table>\n",
       "<thead><tr><th></th><th scope=col>Pop</th><th scope=col>GDP</th></tr></thead>\n",
       "<tbody>\n",
       "\t<tr><th scope=row>Spain</th><td>200</td><td>300</td></tr>\n",
       "\t<tr><th scope=row>USA</th><td>200</td><td>340</td></tr>\n",
       "</tbody>\n",
       "</table>\n"
      ],
      "text/latex": [
       "\\begin{tabular}{r|ll}\n",
       "  & Pop & GDP\\\\\n",
       "\\hline\n",
       "\tSpain & 200 & 300\\\\\n",
       "\tUSA & 200 & 340\\\\\n",
       "\\end{tabular}\n"
      ],
      "text/markdown": [
       "\n",
       "| <!--/--> | Pop | GDP |\n",
       "|---|---|---|\n",
       "| Spain | 200 | 300 |\n",
       "| USA | 200 | 340 |\n",
       "\n"
      ],
      "text/plain": [
       "      Pop GDP\n",
       "Spain 200 300\n",
       "USA   200 340"
      ]
     },
     "metadata": {},
     "output_type": "display_data"
    }
   ],
   "source": [
    "tes[,,1]"
   ]
  },
  {
   "cell_type": "code",
   "execution_count": 418,
   "id": "ef343582",
   "metadata": {},
   "outputs": [
    {
     "data": {
      "text/html": [
       "2"
      ],
      "text/latex": [
       "2"
      ],
      "text/markdown": [
       "2"
      ],
      "text/plain": [
       "[1] 2"
      ]
     },
     "metadata": {},
     "output_type": "display_data"
    }
   ],
   "source": [
    "nrow(tes)"
   ]
  },
  {
   "cell_type": "code",
   "execution_count": 419,
   "id": "22b33720",
   "metadata": {},
   "outputs": [
    {
     "data": {
      "text/html": [
       "2"
      ],
      "text/latex": [
       "2"
      ],
      "text/markdown": [
       "2"
      ],
      "text/plain": [
       "[1] 2"
      ]
     },
     "metadata": {},
     "output_type": "display_data"
    }
   ],
   "source": [
    "ncol(tes)"
   ]
  },
  {
   "cell_type": "code",
   "execution_count": 420,
   "id": "3b2817de",
   "metadata": {},
   "outputs": [
    {
     "data": {
      "text/html": [
       "<table>\n",
       "<thead><tr><th></th><th scope=col>Pop</th><th scope=col>GDP</th></tr></thead>\n",
       "<tbody>\n",
       "\t<tr><th scope=row>Spain</th><td>200</td><td>300</td></tr>\n",
       "\t<tr><th scope=row>USA</th><td>200</td><td>340</td></tr>\n",
       "</tbody>\n",
       "</table>\n"
      ],
      "text/latex": [
       "\\begin{tabular}{r|ll}\n",
       "  & Pop & GDP\\\\\n",
       "\\hline\n",
       "\tSpain & 200 & 300\\\\\n",
       "\tUSA & 200 & 340\\\\\n",
       "\\end{tabular}\n"
      ],
      "text/markdown": [
       "\n",
       "| <!--/--> | Pop | GDP |\n",
       "|---|---|---|\n",
       "| Spain | 200 | 300 |\n",
       "| USA | 200 | 340 |\n",
       "\n"
      ],
      "text/plain": [
       "      Pop GDP\n",
       "Spain 200 300\n",
       "USA   200 340"
      ]
     },
     "metadata": {},
     "output_type": "display_data"
    }
   ],
   "source": [
    "tes[,,-c(2)]"
   ]
  },
  {
   "cell_type": "code",
   "execution_count": 421,
   "id": "b3d210f6",
   "metadata": {},
   "outputs": [
    {
     "data": {
      "text/html": [
       "<ol class=list-inline>\n",
       "\t<li>2</li>\n",
       "\t<li>2</li>\n",
       "\t<li>2</li>\n",
       "</ol>\n"
      ],
      "text/latex": [
       "\\begin{enumerate*}\n",
       "\\item 2\n",
       "\\item 2\n",
       "\\item 2\n",
       "\\end{enumerate*}\n"
      ],
      "text/markdown": [
       "1. 2\n",
       "2. 2\n",
       "3. 2\n",
       "\n",
       "\n"
      ],
      "text/plain": [
       "[1] 2 2 2"
      ]
     },
     "metadata": {},
     "output_type": "display_data"
    }
   ],
   "source": [
    "dim(tes)"
   ]
  },
  {
   "cell_type": "code",
   "execution_count": 422,
   "id": "1caf06d8",
   "metadata": {},
   "outputs": [
    {
     "data": {
      "text/html": [
       "<table>\n",
       "<thead><tr><th></th><th scope=col>2018</th><th scope=col>2019</th></tr></thead>\n",
       "<tbody>\n",
       "\t<tr><th scope=row>Spain</th><td>200</td><td>230</td></tr>\n",
       "\t<tr><th scope=row>USA</th><td>200</td><td>120</td></tr>\n",
       "</tbody>\n",
       "</table>\n"
      ],
      "text/latex": [
       "\\begin{tabular}{r|ll}\n",
       "  & 2018 & 2019\\\\\n",
       "\\hline\n",
       "\tSpain & 200 & 230\\\\\n",
       "\tUSA & 200 & 120\\\\\n",
       "\\end{tabular}\n"
      ],
      "text/markdown": [
       "\n",
       "| <!--/--> | 2018 | 2019 |\n",
       "|---|---|---|\n",
       "| Spain | 200 | 230 |\n",
       "| USA | 200 | 120 |\n",
       "\n"
      ],
      "text/plain": [
       "      2018 2019\n",
       "Spain 200  230 \n",
       "USA   200  120 "
      ]
     },
     "metadata": {},
     "output_type": "display_data"
    }
   ],
   "source": [
    "(tes[,-c(2), ])"
   ]
  },
  {
   "cell_type": "code",
   "execution_count": 424,
   "id": "1477b2eb",
   "metadata": {},
   "outputs": [
    {
     "data": {
      "text/html": [
       "200"
      ],
      "text/latex": [
       "200"
      ],
      "text/markdown": [
       "200"
      ],
      "text/plain": [
       "[1] 200"
      ]
     },
     "metadata": {},
     "output_type": "display_data"
    }
   ],
   "source": [
    "tes['Spain', 'Pop', '2018']"
   ]
  },
  {
   "cell_type": "markdown",
   "id": "d6492bfe",
   "metadata": {},
   "source": [
    "## 4.2 Combining arrays"
   ]
  },
  {
   "cell_type": "code",
   "execution_count": 404,
   "id": "54d9c270",
   "metadata": {},
   "outputs": [],
   "source": [
    "my_array_1=array(1:4, dim=c(2,2))\n",
    "my_array_2=array(5:8, dim=c(2,2))"
   ]
  },
  {
   "cell_type": "code",
   "execution_count": 407,
   "id": "4bad9880",
   "metadata": {},
   "outputs": [
    {
     "data": {
      "text/html": [
       "<table>\n",
       "<tbody>\n",
       "\t<tr><td>1</td><td>3</td></tr>\n",
       "\t<tr><td>2</td><td>4</td></tr>\n",
       "\t<tr><td>5</td><td>7</td></tr>\n",
       "\t<tr><td>6</td><td>8</td></tr>\n",
       "</tbody>\n",
       "</table>\n"
      ],
      "text/latex": [
       "\\begin{tabular}{ll}\n",
       "\t 1 & 3\\\\\n",
       "\t 2 & 4\\\\\n",
       "\t 5 & 7\\\\\n",
       "\t 6 & 8\\\\\n",
       "\\end{tabular}\n"
      ],
      "text/markdown": [
       "\n",
       "| 1 | 3 |\n",
       "| 2 | 4 |\n",
       "| 5 | 7 |\n",
       "| 6 | 8 |\n",
       "\n"
      ],
      "text/plain": [
       "     [,1] [,2]\n",
       "[1,] 1    3   \n",
       "[2,] 2    4   \n",
       "[3,] 5    7   \n",
       "[4,] 6    8   "
      ]
     },
     "metadata": {},
     "output_type": "display_data"
    }
   ],
   "source": [
    "rbind(my_array_1, my_array_2) #rowbind"
   ]
  },
  {
   "cell_type": "code",
   "execution_count": 409,
   "id": "ba247462",
   "metadata": {},
   "outputs": [
    {
     "data": {
      "text/html": [
       "<ol class=list-inline>\n",
       "\t<li>4</li>\n",
       "\t<li>2</li>\n",
       "</ol>\n"
      ],
      "text/latex": [
       "\\begin{enumerate*}\n",
       "\\item 4\n",
       "\\item 2\n",
       "\\end{enumerate*}\n"
      ],
      "text/markdown": [
       "1. 4\n",
       "2. 2\n",
       "\n",
       "\n"
      ],
      "text/plain": [
       "[1] 4 2"
      ]
     },
     "metadata": {},
     "output_type": "display_data"
    }
   ],
   "source": [
    "dim(rbind(my_array_1, my_array_2) )"
   ]
  },
  {
   "cell_type": "code",
   "execution_count": 410,
   "id": "ffbd9ff9",
   "metadata": {},
   "outputs": [
    {
     "data": {
      "text/html": [
       "<table>\n",
       "<tbody>\n",
       "\t<tr><td>1</td><td>3</td><td>5</td><td>7</td></tr>\n",
       "\t<tr><td>2</td><td>4</td><td>6</td><td>8</td></tr>\n",
       "</tbody>\n",
       "</table>\n"
      ],
      "text/latex": [
       "\\begin{tabular}{llll}\n",
       "\t 1 & 3 & 5 & 7\\\\\n",
       "\t 2 & 4 & 6 & 8\\\\\n",
       "\\end{tabular}\n"
      ],
      "text/markdown": [
       "\n",
       "| 1 | 3 | 5 | 7 |\n",
       "| 2 | 4 | 6 | 8 |\n",
       "\n"
      ],
      "text/plain": [
       "     [,1] [,2] [,3] [,4]\n",
       "[1,] 1    3    5    7   \n",
       "[2,] 2    4    6    8   "
      ]
     },
     "metadata": {},
     "output_type": "display_data"
    }
   ],
   "source": [
    "cbind(my_array_1, my_array_2) # column bind"
   ]
  },
  {
   "cell_type": "markdown",
   "id": "80ae0442",
   "metadata": {},
   "source": [
    "# 5. Matrices"
   ]
  },
  {
   "cell_type": "markdown",
   "id": "bf72f6bf",
   "metadata": {},
   "source": [
    "## 5.1 Creating Matrices"
   ]
  },
  {
   "cell_type": "code",
   "execution_count": 431,
   "id": "c949bbe1",
   "metadata": {},
   "outputs": [
    {
     "data": {
      "text/html": [
       "<table>\n",
       "<tbody>\n",
       "\t<tr><td> 1</td><td>11</td><td>21</td><td>31</td></tr>\n",
       "\t<tr><td> 2</td><td>12</td><td>22</td><td>32</td></tr>\n",
       "\t<tr><td> 3</td><td>13</td><td>23</td><td>33</td></tr>\n",
       "\t<tr><td> 4</td><td>14</td><td>24</td><td>34</td></tr>\n",
       "\t<tr><td> 5</td><td>15</td><td>25</td><td>35</td></tr>\n",
       "\t<tr><td> 6</td><td>16</td><td>26</td><td>36</td></tr>\n",
       "\t<tr><td> 7</td><td>17</td><td>27</td><td>37</td></tr>\n",
       "\t<tr><td> 8</td><td>18</td><td>28</td><td>38</td></tr>\n",
       "\t<tr><td> 9</td><td>19</td><td>29</td><td>39</td></tr>\n",
       "\t<tr><td>10</td><td>20</td><td>30</td><td>40</td></tr>\n",
       "</tbody>\n",
       "</table>\n"
      ],
      "text/latex": [
       "\\begin{tabular}{llll}\n",
       "\t  1 & 11 & 21 & 31\\\\\n",
       "\t  2 & 12 & 22 & 32\\\\\n",
       "\t  3 & 13 & 23 & 33\\\\\n",
       "\t  4 & 14 & 24 & 34\\\\\n",
       "\t  5 & 15 & 25 & 35\\\\\n",
       "\t  6 & 16 & 26 & 36\\\\\n",
       "\t  7 & 17 & 27 & 37\\\\\n",
       "\t  8 & 18 & 28 & 38\\\\\n",
       "\t  9 & 19 & 29 & 39\\\\\n",
       "\t 10 & 20 & 30 & 40\\\\\n",
       "\\end{tabular}\n"
      ],
      "text/markdown": [
       "\n",
       "|  1 | 11 | 21 | 31 |\n",
       "|  2 | 12 | 22 | 32 |\n",
       "|  3 | 13 | 23 | 33 |\n",
       "|  4 | 14 | 24 | 34 |\n",
       "|  5 | 15 | 25 | 35 |\n",
       "|  6 | 16 | 26 | 36 |\n",
       "|  7 | 17 | 27 | 37 |\n",
       "|  8 | 18 | 28 | 38 |\n",
       "|  9 | 19 | 29 | 39 |\n",
       "| 10 | 20 | 30 | 40 |\n",
       "\n"
      ],
      "text/plain": [
       "      [,1] [,2] [,3] [,4]\n",
       " [1,]  1   11   21   31  \n",
       " [2,]  2   12   22   32  \n",
       " [3,]  3   13   23   33  \n",
       " [4,]  4   14   24   34  \n",
       " [5,]  5   15   25   35  \n",
       " [6,]  6   16   26   36  \n",
       " [7,]  7   17   27   37  \n",
       " [8,]  8   18   28   38  \n",
       " [9,]  9   19   29   39  \n",
       "[10,] 10   20   30   40  "
      ]
     },
     "metadata": {},
     "output_type": "display_data"
    }
   ],
   "source": [
    "ex=matrix(data=1:40, nrow=10, ncol=4, byrow=FALSE)\n",
    "ex"
   ]
  },
  {
   "cell_type": "code",
   "execution_count": 430,
   "id": "07635f3e",
   "metadata": {},
   "outputs": [
    {
     "data": {
      "text/html": [
       "<table>\n",
       "<tbody>\n",
       "\t<tr><td> 1</td><td>11</td><td>21</td><td>31</td></tr>\n",
       "\t<tr><td> 2</td><td>12</td><td>22</td><td>32</td></tr>\n",
       "\t<tr><td> 3</td><td>13</td><td>23</td><td>33</td></tr>\n",
       "\t<tr><td> 4</td><td>14</td><td>24</td><td>34</td></tr>\n",
       "\t<tr><td> 5</td><td>15</td><td>25</td><td>35</td></tr>\n",
       "\t<tr><td> 6</td><td>16</td><td>26</td><td>36</td></tr>\n",
       "\t<tr><td> 7</td><td>17</td><td>27</td><td>37</td></tr>\n",
       "\t<tr><td> 8</td><td>18</td><td>28</td><td>38</td></tr>\n",
       "\t<tr><td> 9</td><td>19</td><td>29</td><td>39</td></tr>\n",
       "\t<tr><td>10</td><td>20</td><td>30</td><td>40</td></tr>\n",
       "</tbody>\n",
       "</table>\n"
      ],
      "text/latex": [
       "\\begin{tabular}{llll}\n",
       "\t  1 & 11 & 21 & 31\\\\\n",
       "\t  2 & 12 & 22 & 32\\\\\n",
       "\t  3 & 13 & 23 & 33\\\\\n",
       "\t  4 & 14 & 24 & 34\\\\\n",
       "\t  5 & 15 & 25 & 35\\\\\n",
       "\t  6 & 16 & 26 & 36\\\\\n",
       "\t  7 & 17 & 27 & 37\\\\\n",
       "\t  8 & 18 & 28 & 38\\\\\n",
       "\t  9 & 19 & 29 & 39\\\\\n",
       "\t 10 & 20 & 30 & 40\\\\\n",
       "\\end{tabular}\n"
      ],
      "text/markdown": [
       "\n",
       "|  1 | 11 | 21 | 31 |\n",
       "|  2 | 12 | 22 | 32 |\n",
       "|  3 | 13 | 23 | 33 |\n",
       "|  4 | 14 | 24 | 34 |\n",
       "|  5 | 15 | 25 | 35 |\n",
       "|  6 | 16 | 26 | 36 |\n",
       "|  7 | 17 | 27 | 37 |\n",
       "|  8 | 18 | 28 | 38 |\n",
       "|  9 | 19 | 29 | 39 |\n",
       "| 10 | 20 | 30 | 40 |\n",
       "\n"
      ],
      "text/plain": [
       "      [,1] [,2] [,3] [,4]\n",
       " [1,]  1   11   21   31  \n",
       " [2,]  2   12   22   32  \n",
       " [3,]  3   13   23   33  \n",
       " [4,]  4   14   24   34  \n",
       " [5,]  5   15   25   35  \n",
       " [6,]  6   16   26   36  \n",
       " [7,]  7   17   27   37  \n",
       " [8,]  8   18   28   38  \n",
       " [9,]  9   19   29   39  \n",
       "[10,] 10   20   30   40  "
      ]
     },
     "metadata": {},
     "output_type": "display_data"
    }
   ],
   "source": [
    "ex_2=array(data=1:40, dim=c(10,4))\n",
    "ex_2"
   ]
  },
  {
   "cell_type": "code",
   "execution_count": 432,
   "id": "e53196cc",
   "metadata": {},
   "outputs": [
    {
     "data": {
      "text/html": [
       "<table>\n",
       "<tbody>\n",
       "\t<tr><td>TRUE</td><td>TRUE</td><td>TRUE</td><td>TRUE</td></tr>\n",
       "\t<tr><td>TRUE</td><td>TRUE</td><td>TRUE</td><td>TRUE</td></tr>\n",
       "\t<tr><td>TRUE</td><td>TRUE</td><td>TRUE</td><td>TRUE</td></tr>\n",
       "\t<tr><td>TRUE</td><td>TRUE</td><td>TRUE</td><td>TRUE</td></tr>\n",
       "\t<tr><td>TRUE</td><td>TRUE</td><td>TRUE</td><td>TRUE</td></tr>\n",
       "\t<tr><td>TRUE</td><td>TRUE</td><td>TRUE</td><td>TRUE</td></tr>\n",
       "\t<tr><td>TRUE</td><td>TRUE</td><td>TRUE</td><td>TRUE</td></tr>\n",
       "\t<tr><td>TRUE</td><td>TRUE</td><td>TRUE</td><td>TRUE</td></tr>\n",
       "\t<tr><td>TRUE</td><td>TRUE</td><td>TRUE</td><td>TRUE</td></tr>\n",
       "\t<tr><td>TRUE</td><td>TRUE</td><td>TRUE</td><td>TRUE</td></tr>\n",
       "</tbody>\n",
       "</table>\n"
      ],
      "text/latex": [
       "\\begin{tabular}{llll}\n",
       "\t TRUE & TRUE & TRUE & TRUE\\\\\n",
       "\t TRUE & TRUE & TRUE & TRUE\\\\\n",
       "\t TRUE & TRUE & TRUE & TRUE\\\\\n",
       "\t TRUE & TRUE & TRUE & TRUE\\\\\n",
       "\t TRUE & TRUE & TRUE & TRUE\\\\\n",
       "\t TRUE & TRUE & TRUE & TRUE\\\\\n",
       "\t TRUE & TRUE & TRUE & TRUE\\\\\n",
       "\t TRUE & TRUE & TRUE & TRUE\\\\\n",
       "\t TRUE & TRUE & TRUE & TRUE\\\\\n",
       "\t TRUE & TRUE & TRUE & TRUE\\\\\n",
       "\\end{tabular}\n"
      ],
      "text/markdown": [
       "\n",
       "| TRUE | TRUE | TRUE | TRUE |\n",
       "| TRUE | TRUE | TRUE | TRUE |\n",
       "| TRUE | TRUE | TRUE | TRUE |\n",
       "| TRUE | TRUE | TRUE | TRUE |\n",
       "| TRUE | TRUE | TRUE | TRUE |\n",
       "| TRUE | TRUE | TRUE | TRUE |\n",
       "| TRUE | TRUE | TRUE | TRUE |\n",
       "| TRUE | TRUE | TRUE | TRUE |\n",
       "| TRUE | TRUE | TRUE | TRUE |\n",
       "| TRUE | TRUE | TRUE | TRUE |\n",
       "\n"
      ],
      "text/plain": [
       "      [,1] [,2] [,3] [,4]\n",
       " [1,] TRUE TRUE TRUE TRUE\n",
       " [2,] TRUE TRUE TRUE TRUE\n",
       " [3,] TRUE TRUE TRUE TRUE\n",
       " [4,] TRUE TRUE TRUE TRUE\n",
       " [5,] TRUE TRUE TRUE TRUE\n",
       " [6,] TRUE TRUE TRUE TRUE\n",
       " [7,] TRUE TRUE TRUE TRUE\n",
       " [8,] TRUE TRUE TRUE TRUE\n",
       " [9,] TRUE TRUE TRUE TRUE\n",
       "[10,] TRUE TRUE TRUE TRUE"
      ]
     },
     "metadata": {},
     "output_type": "display_data"
    }
   ],
   "source": [
    "ex==ex_2"
   ]
  },
  {
   "cell_type": "code",
   "execution_count": 433,
   "id": "bd429fe2",
   "metadata": {},
   "outputs": [
    {
     "data": {
      "text/html": [
       "'matrix'"
      ],
      "text/latex": [
       "'matrix'"
      ],
      "text/markdown": [
       "'matrix'"
      ],
      "text/plain": [
       "[1] \"matrix\""
      ]
     },
     "metadata": {},
     "output_type": "display_data"
    }
   ],
   "source": [
    "class(ex)"
   ]
  },
  {
   "cell_type": "code",
   "execution_count": 434,
   "id": "87d9bfd5",
   "metadata": {},
   "outputs": [
    {
     "data": {
      "text/html": [
       "'matrix'"
      ],
      "text/latex": [
       "'matrix'"
      ],
      "text/markdown": [
       "'matrix'"
      ],
      "text/plain": [
       "[1] \"matrix\""
      ]
     },
     "metadata": {},
     "output_type": "display_data"
    }
   ],
   "source": [
    "class(ex_2)"
   ]
  },
  {
   "cell_type": "code",
   "execution_count": 437,
   "id": "8346d312",
   "metadata": {},
   "outputs": [
    {
     "data": {
      "text/html": [
       "<ol class=list-inline>\n",
       "\t<li>10</li>\n",
       "\t<li>4</li>\n",
       "</ol>\n"
      ],
      "text/latex": [
       "\\begin{enumerate*}\n",
       "\\item 10\n",
       "\\item 4\n",
       "\\end{enumerate*}\n"
      ],
      "text/markdown": [
       "1. 10\n",
       "2. 4\n",
       "\n",
       "\n"
      ],
      "text/plain": [
       "[1] 10  4"
      ]
     },
     "metadata": {},
     "output_type": "display_data"
    }
   ],
   "source": [
    "dim(ex)"
   ]
  },
  {
   "cell_type": "markdown",
   "id": "f8a6e7cc",
   "metadata": {},
   "source": [
    "## 5.2 Matrix Operation"
   ]
  },
  {
   "cell_type": "code",
   "execution_count": 440,
   "id": "f3cacfc1",
   "metadata": {},
   "outputs": [
    {
     "data": {
      "text/html": [
       "<table>\n",
       "<tbody>\n",
       "\t<tr><td>200</td><td>202</td></tr>\n",
       "\t<tr><td>201</td><td>203</td></tr>\n",
       "</tbody>\n",
       "</table>\n"
      ],
      "text/latex": [
       "\\begin{tabular}{ll}\n",
       "\t 200 & 202\\\\\n",
       "\t 201 & 203\\\\\n",
       "\\end{tabular}\n"
      ],
      "text/markdown": [
       "\n",
       "| 200 | 202 |\n",
       "| 201 | 203 |\n",
       "\n"
      ],
      "text/plain": [
       "     [,1] [,2]\n",
       "[1,] 200  202 \n",
       "[2,] 201  203 "
      ]
     },
     "metadata": {},
     "output_type": "display_data"
    }
   ],
   "source": [
    "mat1=matrix(200:203, nrow=2, ncol=2)\n",
    "mat2=matrix(1:4, nrow=2, ncol=2)\n",
    "mat1"
   ]
  },
  {
   "cell_type": "code",
   "execution_count": 441,
   "id": "559fd56f",
   "metadata": {},
   "outputs": [
    {
     "data": {
      "text/html": [
       "<table>\n",
       "<tbody>\n",
       "\t<tr><td>200</td><td>606</td></tr>\n",
       "\t<tr><td>402</td><td>812</td></tr>\n",
       "</tbody>\n",
       "</table>\n"
      ],
      "text/latex": [
       "\\begin{tabular}{ll}\n",
       "\t 200 & 606\\\\\n",
       "\t 402 & 812\\\\\n",
       "\\end{tabular}\n"
      ],
      "text/markdown": [
       "\n",
       "| 200 | 606 |\n",
       "| 402 | 812 |\n",
       "\n"
      ],
      "text/plain": [
       "     [,1] [,2]\n",
       "[1,] 200  606 \n",
       "[2,] 402  812 "
      ]
     },
     "metadata": {},
     "output_type": "display_data"
    }
   ],
   "source": [
    "mat1*mat2"
   ]
  },
  {
   "cell_type": "code",
   "execution_count": 442,
   "id": "ee6a90dd",
   "metadata": {},
   "outputs": [
    {
     "data": {
      "text/html": [
       "<table>\n",
       "<tbody>\n",
       "\t<tr><td>201</td><td>205</td></tr>\n",
       "\t<tr><td>203</td><td>207</td></tr>\n",
       "</tbody>\n",
       "</table>\n"
      ],
      "text/latex": [
       "\\begin{tabular}{ll}\n",
       "\t 201 & 205\\\\\n",
       "\t 203 & 207\\\\\n",
       "\\end{tabular}\n"
      ],
      "text/markdown": [
       "\n",
       "| 201 | 205 |\n",
       "| 203 | 207 |\n",
       "\n"
      ],
      "text/plain": [
       "     [,1] [,2]\n",
       "[1,] 201  205 \n",
       "[2,] 203  207 "
      ]
     },
     "metadata": {},
     "output_type": "display_data"
    }
   ],
   "source": [
    "mat1+mat2"
   ]
  },
  {
   "cell_type": "markdown",
   "id": "acab8fcf",
   "metadata": {},
   "source": [
    "# ----"
   ]
  },
  {
   "cell_type": "code",
   "execution_count": 445,
   "id": "b61528c8",
   "metadata": {},
   "outputs": [
    {
     "name": "stderr",
     "output_type": "stream",
     "text": [
      "Warning message in matrix(200:203, nrow = 2, ncol = 3):\n",
      "\"data length [4] is not a sub-multiple or multiple of the number of columns [3]\""
     ]
    },
    {
     "ename": "ERROR",
     "evalue": "Error in mat2 * mat1: non-conformable arrays\n",
     "output_type": "error",
     "traceback": [
      "Error in mat2 * mat1: non-conformable arrays\nTraceback:\n"
     ]
    }
   ],
   "source": [
    "mat1=matrix(200:203, nrow=2, ncol=3)\n",
    "mat2=matrix(1:4, nrow=2, ncol=2)\n",
    "mat2*mat1"
   ]
  },
  {
   "cell_type": "markdown",
   "id": "dd9fa2e4",
   "metadata": {},
   "source": [
    "# ---"
   ]
  },
  {
   "cell_type": "code",
   "execution_count": 452,
   "id": "b53ea404",
   "metadata": {},
   "outputs": [
    {
     "data": {
      "text/html": [
       "<table>\n",
       "<tbody>\n",
       "\t<tr><td>1</td><td>2</td><td>3</td></tr>\n",
       "\t<tr><td>4</td><td>5</td><td>6</td></tr>\n",
       "</tbody>\n",
       "</table>\n"
      ],
      "text/latex": [
       "\\begin{tabular}{lll}\n",
       "\t 1 & 2 & 3\\\\\n",
       "\t 4 & 5 & 6\\\\\n",
       "\\end{tabular}\n"
      ],
      "text/markdown": [
       "\n",
       "| 1 | 2 | 3 |\n",
       "| 4 | 5 | 6 |\n",
       "\n"
      ],
      "text/plain": [
       "     [,1] [,2] [,3]\n",
       "[1,] 1    2    3   \n",
       "[2,] 4    5    6   "
      ]
     },
     "metadata": {},
     "output_type": "display_data"
    }
   ],
   "source": [
    "m_1=matrix(1:6, nrow=2, ncol=3, byrow=TRUE)\n",
    "m_2=matrix(7:12, nrow=3, ncol=2, byrow=TRUE)\n",
    "m_1"
   ]
  },
  {
   "cell_type": "code",
   "execution_count": 453,
   "id": "271cb1e5",
   "metadata": {},
   "outputs": [
    {
     "data": {
      "text/html": [
       "<table>\n",
       "<tbody>\n",
       "\t<tr><td> 7</td><td> 8</td></tr>\n",
       "\t<tr><td> 9</td><td>10</td></tr>\n",
       "\t<tr><td>11</td><td>12</td></tr>\n",
       "</tbody>\n",
       "</table>\n"
      ],
      "text/latex": [
       "\\begin{tabular}{ll}\n",
       "\t  7 &  8\\\\\n",
       "\t  9 & 10\\\\\n",
       "\t 11 & 12\\\\\n",
       "\\end{tabular}\n"
      ],
      "text/markdown": [
       "\n",
       "|  7 |  8 |\n",
       "|  9 | 10 |\n",
       "| 11 | 12 |\n",
       "\n"
      ],
      "text/plain": [
       "     [,1] [,2]\n",
       "[1,]  7    8  \n",
       "[2,]  9   10  \n",
       "[3,] 11   12  "
      ]
     },
     "metadata": {},
     "output_type": "display_data"
    }
   ],
   "source": [
    "m_2"
   ]
  },
  {
   "cell_type": "code",
   "execution_count": 454,
   "id": "ef6c910a",
   "metadata": {},
   "outputs": [
    {
     "data": {
      "text/html": [
       "<table>\n",
       "<tbody>\n",
       "\t<tr><td> 58</td><td> 64</td></tr>\n",
       "\t<tr><td>139</td><td>154</td></tr>\n",
       "</tbody>\n",
       "</table>\n"
      ],
      "text/latex": [
       "\\begin{tabular}{ll}\n",
       "\t  58 &  64\\\\\n",
       "\t 139 & 154\\\\\n",
       "\\end{tabular}\n"
      ],
      "text/markdown": [
       "\n",
       "|  58 |  64 |\n",
       "| 139 | 154 |\n",
       "\n"
      ],
      "text/plain": [
       "     [,1] [,2]\n",
       "[1,]  58   64 \n",
       "[2,] 139  154 "
      ]
     },
     "metadata": {},
     "output_type": "display_data"
    }
   ],
   "source": [
    "m_1%*%m_2"
   ]
  },
  {
   "cell_type": "markdown",
   "id": "51c644b6",
   "metadata": {},
   "source": [
    "# 6. Data Frames & List"
   ]
  },
  {
   "cell_type": "markdown",
   "id": "fd8cf371",
   "metadata": {},
   "source": [
    "Matrixes only support one type at a time while Data Frames are more flexible"
   ]
  },
  {
   "cell_type": "markdown",
   "id": "1a27afba",
   "metadata": {},
   "source": [
    "## 6.1 Data Frame"
   ]
  },
  {
   "cell_type": "code",
   "execution_count": 498,
   "id": "a24fad66",
   "metadata": {},
   "outputs": [
    {
     "data": {
      "text/html": [
       "<table>\n",
       "<thead><tr><th></th><th scope=col>country</th><th scope=col>pop</th><th scope=col>EU</th></tr></thead>\n",
       "<tbody>\n",
       "\t<tr><th scope=row>a</th><td>Port</td><td>12  </td><td>Y   </td></tr>\n",
       "\t<tr><th scope=row>b</th><td>Fra </td><td>15  </td><td>Y   </td></tr>\n",
       "\t<tr><th scope=row>c</th><td>UK  </td><td>18  </td><td>N   </td></tr>\n",
       "</tbody>\n",
       "</table>\n"
      ],
      "text/latex": [
       "\\begin{tabular}{r|lll}\n",
       "  & country & pop & EU\\\\\n",
       "\\hline\n",
       "\ta & Port & 12   & Y   \\\\\n",
       "\tb & Fra  & 15   & Y   \\\\\n",
       "\tc & UK   & 18   & N   \\\\\n",
       "\\end{tabular}\n"
      ],
      "text/markdown": [
       "\n",
       "| <!--/--> | country | pop | EU |\n",
       "|---|---|---|---|\n",
       "| a | Port | 12   | Y    |\n",
       "| b | Fra  | 15   | Y    |\n",
       "| c | UK   | 18   | N    |\n",
       "\n"
      ],
      "text/plain": [
       "  country pop EU\n",
       "a Port    12  Y \n",
       "b Fra     15  Y \n",
       "c UK      18  N "
      ]
     },
     "metadata": {},
     "output_type": "display_data"
    }
   ],
   "source": [
    "payes=data.frame(country=c('Port', 'Fra', 'UK'),\n",
    "                   pop=c(12, 15, 18),\n",
    "                   'EU'=c('Y', 'Y', 'N'), row.names=c('a', 'b', 'c'))\n",
    "payes"
   ]
  },
  {
   "cell_type": "code",
   "execution_count": 499,
   "id": "8ba418de",
   "metadata": {},
   "outputs": [
    {
     "data": {
      "text/html": [
       "<table>\n",
       "<thead><tr><th></th><th scope=col>country</th><th scope=col>pop</th><th scope=col>EU</th></tr></thead>\n",
       "<tbody>\n",
       "\t<tr><th scope=row>a</th><td>Port </td><td>12   </td><td> TRUE</td></tr>\n",
       "\t<tr><th scope=row>b</th><td>Fra  </td><td>15   </td><td> TRUE</td></tr>\n",
       "\t<tr><th scope=row>c</th><td>UK   </td><td>18   </td><td>FALSE</td></tr>\n",
       "</tbody>\n",
       "</table>\n"
      ],
      "text/latex": [
       "\\begin{tabular}{r|lll}\n",
       "  & country & pop & EU\\\\\n",
       "\\hline\n",
       "\ta & Port  & 12    &  TRUE\\\\\n",
       "\tb & Fra   & 15    &  TRUE\\\\\n",
       "\tc & UK    & 18    & FALSE\\\\\n",
       "\\end{tabular}\n"
      ],
      "text/markdown": [
       "\n",
       "| <!--/--> | country | pop | EU |\n",
       "|---|---|---|---|\n",
       "| a | Port  | 12    |  TRUE |\n",
       "| b | Fra   | 15    |  TRUE |\n",
       "| c | UK    | 18    | FALSE |\n",
       "\n"
      ],
      "text/plain": [
       "  country pop EU   \n",
       "a Port    12   TRUE\n",
       "b Fra     15   TRUE\n",
       "c UK      18  FALSE"
      ]
     },
     "metadata": {},
     "output_type": "display_data"
    }
   ],
   "source": [
    "payes['EU']=c(TRUE, TRUE, FALSE)\n",
    "payes"
   ]
  },
  {
   "cell_type": "code",
   "execution_count": 500,
   "id": "3ce7823f",
   "metadata": {},
   "outputs": [
    {
     "name": "stdout",
     "output_type": "stream",
     "text": [
      "'data.frame':\t3 obs. of  3 variables:\n",
      " $ country: Factor w/ 3 levels \"Fra\",\"Port\",\"UK\": 2 1 3\n",
      " $ pop    : num  12 15 18\n",
      " $ EU     : logi  TRUE TRUE FALSE\n"
     ]
    }
   ],
   "source": [
    "str(payes)"
   ]
  },
  {
   "cell_type": "code",
   "execution_count": 501,
   "id": "57cf94ba",
   "metadata": {},
   "outputs": [
    {
     "data": {
      "text/html": [
       "'data.frame'"
      ],
      "text/latex": [
       "'data.frame'"
      ],
      "text/markdown": [
       "'data.frame'"
      ],
      "text/plain": [
       "[1] \"data.frame\""
      ]
     },
     "metadata": {},
     "output_type": "display_data"
    }
   ],
   "source": [
    "class(payes)"
   ]
  },
  {
   "cell_type": "code",
   "execution_count": 502,
   "id": "17e921c5",
   "metadata": {},
   "outputs": [
    {
     "data": {
      "text/html": [
       "'list'"
      ],
      "text/latex": [
       "'list'"
      ],
      "text/markdown": [
       "'list'"
      ],
      "text/plain": [
       "[1] \"list\""
      ]
     },
     "metadata": {},
     "output_type": "display_data"
    }
   ],
   "source": [
    "typeof(payes)"
   ]
  },
  {
   "cell_type": "code",
   "execution_count": 503,
   "id": "8497f226",
   "metadata": {},
   "outputs": [
    {
     "data": {
      "text/html": [
       "Port\n",
       "<details>\n",
       "\t<summary style=display:list-item;cursor:pointer>\n",
       "\t\t<strong>Levels</strong>:\n",
       "\t</summary>\n",
       "\t<ol class=list-inline>\n",
       "\t\t<li>'Fra'</li>\n",
       "\t\t<li>'Port'</li>\n",
       "\t\t<li>'UK'</li>\n",
       "\t</ol>\n",
       "</details>"
      ],
      "text/latex": [
       "Port\n",
       "\\emph{Levels}: \\begin{enumerate*}\n",
       "\\item 'Fra'\n",
       "\\item 'Port'\n",
       "\\item 'UK'\n",
       "\\end{enumerate*}\n"
      ],
      "text/markdown": [
       "Port\n",
       "**Levels**: 1. 'Fra'\n",
       "2. 'Port'\n",
       "3. 'UK'\n",
       "\n",
       "\n"
      ],
      "text/plain": [
       "[1] Port\n",
       "Levels: Fra Port UK"
      ]
     },
     "metadata": {},
     "output_type": "display_data"
    }
   ],
   "source": [
    "payes[1,1]"
   ]
  },
  {
   "cell_type": "code",
   "execution_count": 504,
   "id": "a7b941d2",
   "metadata": {},
   "outputs": [
    {
     "data": {
      "text/html": [
       "<table>\n",
       "<thead><tr><th></th><th scope=col>country</th><th scope=col>pop</th><th scope=col>EU</th></tr></thead>\n",
       "<tbody>\n",
       "\t<tr><th scope=row>b</th><td>Fra </td><td>15  </td><td>TRUE</td></tr>\n",
       "\t<tr><th scope=row>NA</th><td>NA  </td><td>NA  </td><td>  NA</td></tr>\n",
       "</tbody>\n",
       "</table>\n"
      ],
      "text/latex": [
       "\\begin{tabular}{r|lll}\n",
       "  & country & pop & EU\\\\\n",
       "\\hline\n",
       "\tb & Fra  & 15   & TRUE\\\\\n",
       "\tNA & NA   & NA   &   NA\\\\\n",
       "\\end{tabular}\n"
      ],
      "text/markdown": [
       "\n",
       "| <!--/--> | country | pop | EU |\n",
       "|---|---|---|---|\n",
       "| b | Fra  | 15   | TRUE |\n",
       "| NA | NA   | NA   |   NA |\n",
       "\n"
      ],
      "text/plain": [
       "   country pop EU  \n",
       "b  Fra     15  TRUE\n",
       "NA NA      NA    NA"
      ]
     },
     "metadata": {},
     "output_type": "display_data"
    }
   ],
   "source": [
    "payes[c('b', 'd'), ]"
   ]
  },
  {
   "cell_type": "code",
   "execution_count": 509,
   "id": "193297d2",
   "metadata": {},
   "outputs": [
    {
     "data": {
      "text/html": [
       "<table>\n",
       "<thead><tr><th></th><th scope=col>country</th><th scope=col>pop</th><th scope=col>EU</th></tr></thead>\n",
       "<tbody>\n",
       "\t<tr><th scope=row>a</th><td>Port</td><td>12  </td><td>TRUE</td></tr>\n",
       "\t<tr><th scope=row>b</th><td>Fra </td><td>15  </td><td>TRUE</td></tr>\n",
       "</tbody>\n",
       "</table>\n"
      ],
      "text/latex": [
       "\\begin{tabular}{r|lll}\n",
       "  & country & pop & EU\\\\\n",
       "\\hline\n",
       "\ta & Port & 12   & TRUE\\\\\n",
       "\tb & Fra  & 15   & TRUE\\\\\n",
       "\\end{tabular}\n"
      ],
      "text/markdown": [
       "\n",
       "| <!--/--> | country | pop | EU |\n",
       "|---|---|---|---|\n",
       "| a | Port | 12   | TRUE |\n",
       "| b | Fra  | 15   | TRUE |\n",
       "\n"
      ],
      "text/plain": [
       "  country pop EU  \n",
       "a Port    12  TRUE\n",
       "b Fra     15  TRUE"
      ]
     },
     "metadata": {},
     "output_type": "display_data"
    }
   ],
   "source": [
    "payes[1:2,]"
   ]
  },
  {
   "cell_type": "code",
   "execution_count": 505,
   "id": "31f253b2",
   "metadata": {},
   "outputs": [
    {
     "data": {
      "text/html": [
       "<table>\n",
       "<thead><tr><th></th><th scope=col>country</th><th scope=col>pop</th><th scope=col>EU</th></tr></thead>\n",
       "<tbody>\n",
       "\t<tr><th scope=row>a</th><td>Port</td><td>12  </td><td>TRUE</td></tr>\n",
       "</tbody>\n",
       "</table>\n"
      ],
      "text/latex": [
       "\\begin{tabular}{r|lll}\n",
       "  & country & pop & EU\\\\\n",
       "\\hline\n",
       "\ta & Port & 12   & TRUE\\\\\n",
       "\\end{tabular}\n"
      ],
      "text/markdown": [
       "\n",
       "| <!--/--> | country | pop | EU |\n",
       "|---|---|---|---|\n",
       "| a | Port | 12   | TRUE |\n",
       "\n"
      ],
      "text/plain": [
       "  country pop EU  \n",
       "a Port    12  TRUE"
      ]
     },
     "metadata": {},
     "output_type": "display_data"
    }
   ],
   "source": [
    "payes['a',]"
   ]
  },
  {
   "cell_type": "code",
   "execution_count": 510,
   "id": "5a14a6d9",
   "metadata": {},
   "outputs": [
    {
     "data": {
      "text/html": [
       "<table>\n",
       "<thead><tr><th></th><th scope=col>country</th><th scope=col>pop</th><th scope=col>EU</th></tr></thead>\n",
       "<tbody>\n",
       "\t<tr><th scope=row>a</th><td>Port</td><td>12  </td><td>TRUE</td></tr>\n",
       "</tbody>\n",
       "</table>\n"
      ],
      "text/latex": [
       "\\begin{tabular}{r|lll}\n",
       "  & country & pop & EU\\\\\n",
       "\\hline\n",
       "\ta & Port & 12   & TRUE\\\\\n",
       "\\end{tabular}\n"
      ],
      "text/markdown": [
       "\n",
       "| <!--/--> | country | pop | EU |\n",
       "|---|---|---|---|\n",
       "| a | Port | 12   | TRUE |\n",
       "\n"
      ],
      "text/plain": [
       "  country pop EU  \n",
       "a Port    12  TRUE"
      ]
     },
     "metadata": {},
     "output_type": "display_data"
    }
   ],
   "source": [
    "payes[1,]"
   ]
  },
  {
   "cell_type": "code",
   "execution_count": 512,
   "id": "91d101bf",
   "metadata": {},
   "outputs": [
    {
     "data": {
      "text/html": [
       "<table>\n",
       "<thead><tr><th></th><th scope=col>pop</th></tr></thead>\n",
       "<tbody>\n",
       "\t<tr><th scope=row>a</th><td>12</td></tr>\n",
       "\t<tr><th scope=row>b</th><td>15</td></tr>\n",
       "\t<tr><th scope=row>c</th><td>18</td></tr>\n",
       "</tbody>\n",
       "</table>\n"
      ],
      "text/latex": [
       "\\begin{tabular}{r|l}\n",
       "  & pop\\\\\n",
       "\\hline\n",
       "\ta & 12\\\\\n",
       "\tb & 15\\\\\n",
       "\tc & 18\\\\\n",
       "\\end{tabular}\n"
      ],
      "text/markdown": [
       "\n",
       "| <!--/--> | pop |\n",
       "|---|---|\n",
       "| a | 12 |\n",
       "| b | 15 |\n",
       "| c | 18 |\n",
       "\n"
      ],
      "text/plain": [
       "  pop\n",
       "a 12 \n",
       "b 15 \n",
       "c 18 "
      ]
     },
     "metadata": {},
     "output_type": "display_data"
    }
   ],
   "source": [
    "payes['pop']"
   ]
  },
  {
   "cell_type": "code",
   "execution_count": 511,
   "id": "0935d27a",
   "metadata": {},
   "outputs": [
    {
     "data": {
      "text/html": [
       "<ol class=list-inline>\n",
       "\t<li>12</li>\n",
       "\t<li>15</li>\n",
       "\t<li>18</li>\n",
       "</ol>\n"
      ],
      "text/latex": [
       "\\begin{enumerate*}\n",
       "\\item 12\n",
       "\\item 15\n",
       "\\item 18\n",
       "\\end{enumerate*}\n"
      ],
      "text/markdown": [
       "1. 12\n",
       "2. 15\n",
       "3. 18\n",
       "\n",
       "\n"
      ],
      "text/plain": [
       "[1] 12 15 18"
      ]
     },
     "metadata": {},
     "output_type": "display_data"
    }
   ],
   "source": [
    "payes[, 'pop']"
   ]
  },
  {
   "cell_type": "markdown",
   "id": "73ae3ec0",
   "metadata": {},
   "source": [
    "- Nrow()\n",
    "- Ncol()\n",
    "- Dim()\n",
    "- Row.names()\n",
    "- Col.names()\n",
    "- Head(df_name, n)\n",
    "- Tail(df_name, n)\n",
    "- Str()\n",
    "- Summary()\n",
    "\n"
   ]
  },
  {
   "cell_type": "code",
   "execution_count": 517,
   "id": "5f01d4f7",
   "metadata": {},
   "outputs": [
    {
     "data": {
      "text/html": [
       "<table>\n",
       "<thead><tr><th scope=col>country</th><th scope=col>pop</th><th scope=col>EU</th></tr></thead>\n",
       "<tbody>\n",
       "\t<tr><td>Spain</td><td>99   </td><td>FALSE</td></tr>\n",
       "</tbody>\n",
       "</table>\n"
      ],
      "text/latex": [
       "\\begin{tabular}{r|lll}\n",
       " country & pop & EU\\\\\n",
       "\\hline\n",
       "\t Spain & 99    & FALSE\\\\\n",
       "\\end{tabular}\n"
      ],
      "text/markdown": [
       "\n",
       "| country | pop | EU |\n",
       "|---|---|---|\n",
       "| Spain | 99    | FALSE |\n",
       "\n"
      ],
      "text/plain": [
       "  country pop EU   \n",
       "1 Spain   99  FALSE"
      ]
     },
     "metadata": {},
     "output_type": "display_data"
    }
   ],
   "source": [
    "spain_data=data.frame(\n",
    "    country='Spain',\n",
    "    pop=99,\n",
    "    EU=c(FALSE),\n",
    "    stringsAsFactors = FALSE\n",
    ")\n",
    "spain_data"
   ]
  },
  {
   "cell_type": "code",
   "execution_count": 520,
   "id": "c9498a9f",
   "metadata": {},
   "outputs": [
    {
     "data": {
      "text/html": [
       "<table>\n",
       "<thead><tr><th></th><th scope=col>country</th><th scope=col>pop</th><th scope=col>EU</th></tr></thead>\n",
       "<tbody>\n",
       "\t<tr><th scope=row>a</th><td>Port </td><td>12   </td><td> TRUE</td></tr>\n",
       "\t<tr><th scope=row>b</th><td>Fra  </td><td>15   </td><td> TRUE</td></tr>\n",
       "\t<tr><th scope=row>c</th><td>UK   </td><td>18   </td><td>FALSE</td></tr>\n",
       "\t<tr><th scope=row>1</th><td>Spain</td><td>99   </td><td>FALSE</td></tr>\n",
       "</tbody>\n",
       "</table>\n"
      ],
      "text/latex": [
       "\\begin{tabular}{r|lll}\n",
       "  & country & pop & EU\\\\\n",
       "\\hline\n",
       "\ta & Port  & 12    &  TRUE\\\\\n",
       "\tb & Fra   & 15    &  TRUE\\\\\n",
       "\tc & UK    & 18    & FALSE\\\\\n",
       "\t1 & Spain & 99    & FALSE\\\\\n",
       "\\end{tabular}\n"
      ],
      "text/markdown": [
       "\n",
       "| <!--/--> | country | pop | EU |\n",
       "|---|---|---|---|\n",
       "| a | Port  | 12    |  TRUE |\n",
       "| b | Fra   | 15    |  TRUE |\n",
       "| c | UK    | 18    | FALSE |\n",
       "| 1 | Spain | 99    | FALSE |\n",
       "\n"
      ],
      "text/plain": [
       "  country pop EU   \n",
       "a Port    12   TRUE\n",
       "b Fra     15   TRUE\n",
       "c UK      18  FALSE\n",
       "1 Spain   99  FALSE"
      ]
     },
     "metadata": {},
     "output_type": "display_data"
    }
   ],
   "source": [
    "payes_new=rbind(payes, spain_data)\n",
    "payes_new"
   ]
  },
  {
   "cell_type": "code",
   "execution_count": 521,
   "id": "e2286170",
   "metadata": {},
   "outputs": [
    {
     "data": {
      "text/html": [
       "<table>\n",
       "<thead><tr><th></th><th scope=col>country</th><th scope=col>pop</th><th scope=col>EU</th><th scope=col>capitals</th></tr></thead>\n",
       "<tbody>\n",
       "\t<tr><th scope=row>a</th><td>Port  </td><td>12    </td><td> TRUE </td><td>Lisbon</td></tr>\n",
       "\t<tr><th scope=row>b</th><td>Fra   </td><td>15    </td><td> TRUE </td><td>Paris </td></tr>\n",
       "\t<tr><th scope=row>c</th><td>UK    </td><td>18    </td><td>FALSE </td><td>London</td></tr>\n",
       "\t<tr><th scope=row>1</th><td>Spain </td><td>99    </td><td>FALSE </td><td>Madrid</td></tr>\n",
       "</tbody>\n",
       "</table>\n"
      ],
      "text/latex": [
       "\\begin{tabular}{r|llll}\n",
       "  & country & pop & EU & capitals\\\\\n",
       "\\hline\n",
       "\ta & Port   & 12     &  TRUE  & Lisbon\\\\\n",
       "\tb & Fra    & 15     &  TRUE  & Paris \\\\\n",
       "\tc & UK     & 18     & FALSE  & London\\\\\n",
       "\t1 & Spain  & 99     & FALSE  & Madrid\\\\\n",
       "\\end{tabular}\n"
      ],
      "text/markdown": [
       "\n",
       "| <!--/--> | country | pop | EU | capitals |\n",
       "|---|---|---|---|---|\n",
       "| a | Port   | 12     |  TRUE  | Lisbon |\n",
       "| b | Fra    | 15     |  TRUE  | Paris  |\n",
       "| c | UK     | 18     | FALSE  | London |\n",
       "| 1 | Spain  | 99     | FALSE  | Madrid |\n",
       "\n"
      ],
      "text/plain": [
       "  country pop EU    capitals\n",
       "a Port    12   TRUE Lisbon  \n",
       "b Fra     15   TRUE Paris   \n",
       "c UK      18  FALSE London  \n",
       "1 Spain   99  FALSE Madrid  "
      ]
     },
     "metadata": {},
     "output_type": "display_data"
    }
   ],
   "source": [
    "capitals = c('Lisbon', 'Paris', 'London', 'Madrid')\n",
    "cbind(payes_new, capitals)"
   ]
  },
  {
   "cell_type": "code",
   "execution_count": 526,
   "id": "c10ec049",
   "metadata": {},
   "outputs": [
    {
     "data": {
      "text/html": [
       "<table>\n",
       "<thead><tr><th></th><th scope=col>country</th><th scope=col>pop</th><th scope=col>EU</th></tr></thead>\n",
       "<tbody>\n",
       "\t<tr><th scope=row>a</th><td>Port </td><td>12   </td><td> TRUE</td></tr>\n",
       "\t<tr><th scope=row>b</th><td>Fra  </td><td>15   </td><td> TRUE</td></tr>\n",
       "\t<tr><th scope=row>c</th><td>UK   </td><td>18   </td><td>FALSE</td></tr>\n",
       "</tbody>\n",
       "</table>\n"
      ],
      "text/latex": [
       "\\begin{tabular}{r|lll}\n",
       "  & country & pop & EU\\\\\n",
       "\\hline\n",
       "\ta & Port  & 12    &  TRUE\\\\\n",
       "\tb & Fra   & 15    &  TRUE\\\\\n",
       "\tc & UK    & 18    & FALSE\\\\\n",
       "\\end{tabular}\n"
      ],
      "text/markdown": [
       "\n",
       "| <!--/--> | country | pop | EU |\n",
       "|---|---|---|---|\n",
       "| a | Port  | 12    |  TRUE |\n",
       "| b | Fra   | 15    |  TRUE |\n",
       "| c | UK    | 18    | FALSE |\n",
       "\n"
      ],
      "text/plain": [
       "  country pop EU   \n",
       "a Port    12   TRUE\n",
       "b Fra     15   TRUE\n",
       "c UK      18  FALSE"
      ]
     },
     "metadata": {},
     "output_type": "display_data"
    }
   ],
   "source": [
    "payes_ori=payes_new[-4,]\n",
    "payes_ori"
   ]
  },
  {
   "cell_type": "code",
   "execution_count": 527,
   "id": "944cb3f5",
   "metadata": {},
   "outputs": [
    {
     "data": {
      "text/html": [
       "<table>\n",
       "<thead><tr><th></th><th scope=col>country</th><th scope=col>pop</th></tr></thead>\n",
       "<tbody>\n",
       "\t<tr><th scope=row>a</th><td>Port </td><td>12   </td></tr>\n",
       "\t<tr><th scope=row>b</th><td>Fra  </td><td>15   </td></tr>\n",
       "\t<tr><th scope=row>c</th><td>UK   </td><td>18   </td></tr>\n",
       "\t<tr><th scope=row>1</th><td>Spain</td><td>99   </td></tr>\n",
       "</tbody>\n",
       "</table>\n"
      ],
      "text/latex": [
       "\\begin{tabular}{r|ll}\n",
       "  & country & pop\\\\\n",
       "\\hline\n",
       "\ta & Port  & 12   \\\\\n",
       "\tb & Fra   & 15   \\\\\n",
       "\tc & UK    & 18   \\\\\n",
       "\t1 & Spain & 99   \\\\\n",
       "\\end{tabular}\n"
      ],
      "text/markdown": [
       "\n",
       "| <!--/--> | country | pop |\n",
       "|---|---|---|\n",
       "| a | Port  | 12    |\n",
       "| b | Fra   | 15    |\n",
       "| c | UK    | 18    |\n",
       "| 1 | Spain | 99    |\n",
       "\n"
      ],
      "text/plain": [
       "  country pop\n",
       "a Port    12 \n",
       "b Fra     15 \n",
       "c UK      18 \n",
       "1 Spain   99 "
      ]
     },
     "metadata": {},
     "output_type": "display_data"
    }
   ],
   "source": [
    "payes_new[,'EU']= NULL\n",
    "payes_new"
   ]
  },
  {
   "cell_type": "markdown",
   "id": "a075ccd2",
   "metadata": {},
   "source": [
    "## 6.2 List"
   ]
  },
  {
   "cell_type": "markdown",
   "id": "95cbb7a8",
   "metadata": {},
   "source": [
    "List => can hol different types of objects"
   ]
  },
  {
   "cell_type": "code",
   "execution_count": 482,
   "id": "a2c5379a",
   "metadata": {},
   "outputs": [
    {
     "data": {
      "text/html": [
       "<ol>\n",
       "\t<li>'A'</li>\n",
       "\t<li>1</li>\n",
       "\t<li>TRUE</li>\n",
       "</ol>\n"
      ],
      "text/latex": [
       "\\begin{enumerate}\n",
       "\\item 'A'\n",
       "\\item 1\n",
       "\\item TRUE\n",
       "\\end{enumerate}\n"
      ],
      "text/markdown": [
       "1. 'A'\n",
       "2. 1\n",
       "3. TRUE\n",
       "\n",
       "\n"
      ],
      "text/plain": [
       "[[1]]\n",
       "[1] \"A\"\n",
       "\n",
       "[[2]]\n",
       "[1] 1\n",
       "\n",
       "[[3]]\n",
       "[1] TRUE\n"
      ]
     },
     "metadata": {},
     "output_type": "display_data"
    }
   ],
   "source": [
    "mt = list('A', 1, TRUE)\n",
    "mt"
   ]
  },
  {
   "cell_type": "code",
   "execution_count": 19,
   "id": "6f46e08d",
   "metadata": {},
   "outputs": [
    {
     "data": {
      "text/html": [
       "<ol>\n",
       "\t<li><ol class=list-inline>\n",
       "\t<li>1</li>\n",
       "\t<li>2</li>\n",
       "\t<li>3</li>\n",
       "</ol>\n",
       "</li>\n",
       "\t<li><table>\n",
       "<tbody>\n",
       "\t<tr><td>1</td><td>3</td></tr>\n",
       "\t<tr><td>2</td><td>4</td></tr>\n",
       "</tbody>\n",
       "</table>\n",
       "</li>\n",
       "\t<li><ol>\n",
       "\t<li>TRUE</li>\n",
       "\t<li>0</li>\n",
       "\t<li>'C'</li>\n",
       "</ol>\n",
       "</li>\n",
       "</ol>\n"
      ],
      "text/latex": [
       "\\begin{enumerate}\n",
       "\\item \\begin{enumerate*}\n",
       "\\item 1\n",
       "\\item 2\n",
       "\\item 3\n",
       "\\end{enumerate*}\n",
       "\n",
       "\\item \\begin{tabular}{ll}\n",
       "\t 1 & 3\\\\\n",
       "\t 2 & 4\\\\\n",
       "\\end{tabular}\n",
       "\n",
       "\\item \\begin{enumerate}\n",
       "\\item TRUE\n",
       "\\item 0\n",
       "\\item 'C'\n",
       "\\end{enumerate}\n",
       "\n",
       "\\end{enumerate}\n"
      ],
      "text/markdown": [
       "1. 1. 1\n",
       "2. 2\n",
       "3. 3\n",
       "\n",
       "\n",
       "\n",
       "2. \n",
       "| 1 | 3 |\n",
       "| 2 | 4 |\n",
       "\n",
       "\n",
       "3. 1. TRUE\n",
       "2. 0\n",
       "3. 'C'\n",
       "\n",
       "\n",
       "\n",
       "\n",
       "\n"
      ],
      "text/plain": [
       "[[1]]\n",
       "[1] 1 2 3\n",
       "\n",
       "[[2]]\n",
       "     [,1] [,2]\n",
       "[1,]    1    3\n",
       "[2,]    2    4\n",
       "\n",
       "[[3]]\n",
       "[[3]][[1]]\n",
       "[1] TRUE\n",
       "\n",
       "[[3]][[2]]\n",
       "[1] 0\n",
       "\n",
       "[[3]][[3]]\n",
       "[1] \"C\"\n",
       "\n"
      ]
     },
     "metadata": {},
     "output_type": "display_data"
    }
   ],
   "source": [
    "multi_object=list(\n",
    "    c(1,2,3),\n",
    "    matrix(c(1,2,3,4), ncol=2, nrow=2),\n",
    "    list(TRUE, 0, 'C')\n",
    ")\n",
    "multi_object"
   ]
  },
  {
   "cell_type": "code",
   "execution_count": 20,
   "id": "16efb8e0",
   "metadata": {},
   "outputs": [
    {
     "data": {
      "text/html": [
       "<dl>\n",
       "\t<dt>$Vect</dt>\n",
       "\t\t<dd><ol class=list-inline>\n",
       "\t<li>1</li>\n",
       "\t<li>2</li>\n",
       "\t<li>3</li>\n",
       "</ol>\n",
       "</dd>\n",
       "\t<dt>$Mat</dt>\n",
       "\t\t<dd><table>\n",
       "<tbody>\n",
       "\t<tr><td>1</td><td>3</td></tr>\n",
       "\t<tr><td>2</td><td>4</td></tr>\n",
       "</tbody>\n",
       "</table>\n",
       "</dd>\n",
       "\t<dt>$List</dt>\n",
       "\t\t<dd><ol>\n",
       "\t<li>TRUE</li>\n",
       "\t<li>0</li>\n",
       "\t<li>'C'</li>\n",
       "</ol>\n",
       "</dd>\n",
       "</dl>\n"
      ],
      "text/latex": [
       "\\begin{description}\n",
       "\\item[\\$Vect] \\begin{enumerate*}\n",
       "\\item 1\n",
       "\\item 2\n",
       "\\item 3\n",
       "\\end{enumerate*}\n",
       "\n",
       "\\item[\\$Mat] \\begin{tabular}{ll}\n",
       "\t 1 & 3\\\\\n",
       "\t 2 & 4\\\\\n",
       "\\end{tabular}\n",
       "\n",
       "\\item[\\$List] \\begin{enumerate}\n",
       "\\item TRUE\n",
       "\\item 0\n",
       "\\item 'C'\n",
       "\\end{enumerate}\n",
       "\n",
       "\\end{description}\n"
      ],
      "text/markdown": [
       "$Vect\n",
       ":   1. 1\n",
       "2. 2\n",
       "3. 3\n",
       "\n",
       "\n",
       "\n",
       "$Mat\n",
       ":   \n",
       "| 1 | 3 |\n",
       "| 2 | 4 |\n",
       "\n",
       "\n",
       "$List\n",
       ":   1. TRUE\n",
       "2. 0\n",
       "3. 'C'\n",
       "\n",
       "\n",
       "\n",
       "\n",
       "\n"
      ],
      "text/plain": [
       "$Vect\n",
       "[1] 1 2 3\n",
       "\n",
       "$Mat\n",
       "     [,1] [,2]\n",
       "[1,]    1    3\n",
       "[2,]    2    4\n",
       "\n",
       "$List\n",
       "$List[[1]]\n",
       "[1] TRUE\n",
       "\n",
       "$List[[2]]\n",
       "[1] 0\n",
       "\n",
       "$List[[3]]\n",
       "[1] \"C\"\n",
       "\n"
      ]
     },
     "metadata": {},
     "output_type": "display_data"
    }
   ],
   "source": [
    "names(multi_object)=c('Vect', 'Mat', 'List')    \n",
    "multi_object"
   ]
  },
  {
   "cell_type": "code",
   "execution_count": 25,
   "id": "d8a8a4b3",
   "metadata": {},
   "outputs": [
    {
     "data": {
      "text/html": [
       "TRUE"
      ],
      "text/latex": [
       "TRUE"
      ],
      "text/markdown": [
       "TRUE"
      ],
      "text/plain": [
       "[1] TRUE"
      ]
     },
     "metadata": {},
     "output_type": "display_data"
    }
   ],
   "source": [
    "multi_object$List[[1]]"
   ]
  },
  {
   "cell_type": "code",
   "execution_count": 487,
   "id": "d6fb1fa5",
   "metadata": {},
   "outputs": [
    {
     "data": {
      "text/html": [
       "<dl>\n",
       "\t<dt>$Vect</dt>\n",
       "\t\t<dd><ol class=list-inline>\n",
       "\t<li>1</li>\n",
       "\t<li>2</li>\n",
       "\t<li>3</li>\n",
       "</ol>\n",
       "</dd>\n",
       "\t<dt>$Mat</dt>\n",
       "\t\t<dd><table>\n",
       "<tbody>\n",
       "\t<tr><td>1</td><td>3</td></tr>\n",
       "\t<tr><td>2</td><td>4</td></tr>\n",
       "</tbody>\n",
       "</table>\n",
       "</dd>\n",
       "\t<dt>$List</dt>\n",
       "\t\t<dd><ol>\n",
       "\t<li>TRUE</li>\n",
       "\t<li>0</li>\n",
       "\t<li>'C'</li>\n",
       "</ol>\n",
       "</dd>\n",
       "</dl>\n"
      ],
      "text/latex": [
       "\\begin{description}\n",
       "\\item[\\$Vect] \\begin{enumerate*}\n",
       "\\item 1\n",
       "\\item 2\n",
       "\\item 3\n",
       "\\end{enumerate*}\n",
       "\n",
       "\\item[\\$Mat] \\begin{tabular}{ll}\n",
       "\t 1 & 3\\\\\n",
       "\t 2 & 4\\\\\n",
       "\\end{tabular}\n",
       "\n",
       "\\item[\\$List] \\begin{enumerate}\n",
       "\\item TRUE\n",
       "\\item 0\n",
       "\\item 'C'\n",
       "\\end{enumerate}\n",
       "\n",
       "\\end{description}\n"
      ],
      "text/markdown": [
       "$Vect\n",
       ":   1. 1\n",
       "2. 2\n",
       "3. 3\n",
       "\n",
       "\n",
       "\n",
       "$Mat\n",
       ":   \n",
       "| 1 | 3 |\n",
       "| 2 | 4 |\n",
       "\n",
       "\n",
       "$List\n",
       ":   1. TRUE\n",
       "2. 0\n",
       "3. 'C'\n",
       "\n",
       "\n",
       "\n",
       "\n",
       "\n"
      ],
      "text/plain": [
       "$Vect\n",
       "[1] 1 2 3\n",
       "\n",
       "$Mat\n",
       "     [,1] [,2]\n",
       "[1,]    1    3\n",
       "[2,]    2    4\n",
       "\n",
       "$List\n",
       "$List[[1]]\n",
       "[1] TRUE\n",
       "\n",
       "$List[[2]]\n",
       "[1] 0\n",
       "\n",
       "$List[[3]]\n",
       "[1] \"C\"\n",
       "\n"
      ]
     },
     "metadata": {},
     "output_type": "display_data"
    }
   ],
   "source": [
    "list_ex= list(\n",
    "    'Vect'= c(1,2,3),\n",
    "    'Mat' = matrix(c(1,2,3,4), ncol=2, nrow=2),\n",
    "    'List' = list(TRUE, 0, 'C')\n",
    ")\n",
    "list_ex"
   ]
  },
  {
   "cell_type": "markdown",
   "id": "f777a1c8",
   "metadata": {},
   "source": [
    "# ---"
   ]
  },
  {
   "cell_type": "code",
   "execution_count": 488,
   "id": "11bebecc",
   "metadata": {},
   "outputs": [
    {
     "data": {
      "text/html": [
       "<ol class=list-inline>\n",
       "\t<li>1</li>\n",
       "\t<li>2</li>\n",
       "\t<li>3</li>\n",
       "</ol>\n"
      ],
      "text/latex": [
       "\\begin{enumerate*}\n",
       "\\item 1\n",
       "\\item 2\n",
       "\\item 3\n",
       "\\end{enumerate*}\n"
      ],
      "text/markdown": [
       "1. 1\n",
       "2. 2\n",
       "3. 3\n",
       "\n",
       "\n"
      ],
      "text/plain": [
       "[1] 1 2 3"
      ]
     },
     "metadata": {},
     "output_type": "display_data"
    }
   ],
   "source": [
    "list_ex[['Vect']]"
   ]
  },
  {
   "cell_type": "code",
   "execution_count": 489,
   "id": "0ae71456",
   "metadata": {},
   "outputs": [
    {
     "data": {
      "text/html": [
       "<ol class=list-inline>\n",
       "\t<li>1</li>\n",
       "\t<li>2</li>\n",
       "\t<li>3</li>\n",
       "</ol>\n"
      ],
      "text/latex": [
       "\\begin{enumerate*}\n",
       "\\item 1\n",
       "\\item 2\n",
       "\\item 3\n",
       "\\end{enumerate*}\n"
      ],
      "text/markdown": [
       "1. 1\n",
       "2. 2\n",
       "3. 3\n",
       "\n",
       "\n"
      ],
      "text/plain": [
       "[1] 1 2 3"
      ]
     },
     "metadata": {},
     "output_type": "display_data"
    }
   ],
   "source": [
    "list_ex[[1]]"
   ]
  },
  {
   "cell_type": "code",
   "execution_count": 490,
   "id": "ca3a745e",
   "metadata": {},
   "outputs": [
    {
     "data": {
      "text/html": [
       "<ol class=list-inline>\n",
       "\t<li>1</li>\n",
       "\t<li>2</li>\n",
       "\t<li>3</li>\n",
       "</ol>\n"
      ],
      "text/latex": [
       "\\begin{enumerate*}\n",
       "\\item 1\n",
       "\\item 2\n",
       "\\item 3\n",
       "\\end{enumerate*}\n"
      ],
      "text/markdown": [
       "1. 1\n",
       "2. 2\n",
       "3. 3\n",
       "\n",
       "\n"
      ],
      "text/plain": [
       "[1] 1 2 3"
      ]
     },
     "metadata": {},
     "output_type": "display_data"
    }
   ],
   "source": [
    "list_ex$Vect"
   ]
  },
  {
   "cell_type": "code",
   "execution_count": 2,
   "id": "c877fb6a",
   "metadata": {},
   "outputs": [
    {
     "data": {
      "text/html": [
       "<ol class=list-inline>\n",
       "\t<li>'1'</li>\n",
       "\t<li>'2'</li>\n",
       "\t<li>'3'</li>\n",
       "\t<li>'4'</li>\n",
       "</ol>\n"
      ],
      "text/latex": [
       "\\begin{enumerate*}\n",
       "\\item '1'\n",
       "\\item '2'\n",
       "\\item '3'\n",
       "\\item '4'\n",
       "\\end{enumerate*}\n"
      ],
      "text/markdown": [
       "1. '1'\n",
       "2. '2'\n",
       "3. '3'\n",
       "4. '4'\n",
       "\n",
       "\n"
      ],
      "text/plain": [
       "[1] \"1\" \"2\" \"3\" \"4\""
      ]
     },
     "metadata": {},
     "output_type": "display_data"
    }
   ],
   "source": [
    "vector=c(1,2,3,'4')\n",
    "vector"
   ]
  },
  {
   "cell_type": "code",
   "execution_count": 3,
   "id": "102978aa",
   "metadata": {},
   "outputs": [
    {
     "data": {
      "text/html": [
       "<ol>\n",
       "\t<li>1</li>\n",
       "\t<li>2</li>\n",
       "\t<li>4</li>\n",
       "\t<li>'5'</li>\n",
       "</ol>\n"
      ],
      "text/latex": [
       "\\begin{enumerate}\n",
       "\\item 1\n",
       "\\item 2\n",
       "\\item 4\n",
       "\\item '5'\n",
       "\\end{enumerate}\n"
      ],
      "text/markdown": [
       "1. 1\n",
       "2. 2\n",
       "3. 4\n",
       "4. '5'\n",
       "\n",
       "\n"
      ],
      "text/plain": [
       "[[1]]\n",
       "[1] 1\n",
       "\n",
       "[[2]]\n",
       "[1] 2\n",
       "\n",
       "[[3]]\n",
       "[1] 4\n",
       "\n",
       "[[4]]\n",
       "[1] \"5\"\n"
      ]
     },
     "metadata": {},
     "output_type": "display_data"
    }
   ],
   "source": [
    "my_list=list(1,2,4,'5')\n",
    "my_list"
   ]
  },
  {
   "cell_type": "code",
   "execution_count": 6,
   "id": "f6360b11",
   "metadata": {},
   "outputs": [
    {
     "data": {
      "text/html": [
       "<ol>\n",
       "\t<li>1</li>\n",
       "</ol>\n"
      ],
      "text/latex": [
       "\\begin{enumerate}\n",
       "\\item 1\n",
       "\\end{enumerate}\n"
      ],
      "text/markdown": [
       "1. 1\n",
       "\n",
       "\n"
      ],
      "text/plain": [
       "[[1]]\n",
       "[1] 1\n"
      ]
     },
     "metadata": {},
     "output_type": "display_data"
    }
   ],
   "source": [
    "my_list[1]"
   ]
  },
  {
   "cell_type": "code",
   "execution_count": 5,
   "id": "fcea349c",
   "metadata": {},
   "outputs": [
    {
     "data": {
      "text/html": [
       "1"
      ],
      "text/latex": [
       "1"
      ],
      "text/markdown": [
       "1"
      ],
      "text/plain": [
       "[1] 1"
      ]
     },
     "metadata": {},
     "output_type": "display_data"
    }
   ],
   "source": [
    "my_list[[1]]"
   ]
  },
  {
   "cell_type": "code",
   "execution_count": 8,
   "id": "d43f0f6a",
   "metadata": {},
   "outputs": [
    {
     "data": {
      "text/html": [
       "'list'"
      ],
      "text/latex": [
       "'list'"
      ],
      "text/markdown": [
       "'list'"
      ],
      "text/plain": [
       "[1] \"list\""
      ]
     },
     "metadata": {},
     "output_type": "display_data"
    }
   ],
   "source": [
    "typeof(my_list)"
   ]
  },
  {
   "cell_type": "code",
   "execution_count": 9,
   "id": "fee4ad36",
   "metadata": {},
   "outputs": [
    {
     "data": {
      "text/html": [
       "4"
      ],
      "text/latex": [
       "4"
      ],
      "text/markdown": [
       "4"
      ],
      "text/plain": [
       "[1] 4"
      ]
     },
     "metadata": {},
     "output_type": "display_data"
    }
   ],
   "source": [
    "length(my_list)"
   ]
  },
  {
   "cell_type": "code",
   "execution_count": 10,
   "id": "090dcbcb",
   "metadata": {},
   "outputs": [
    {
     "name": "stdout",
     "output_type": "stream",
     "text": [
      "List of 4\n",
      " $ : num 1\n",
      " $ : num 2\n",
      " $ : num 4\n",
      " $ : chr \"5\"\n"
     ]
    }
   ],
   "source": [
    "str(my_list)"
   ]
  },
  {
   "cell_type": "markdown",
   "id": "940f69ae",
   "metadata": {},
   "source": [
    "# ---"
   ]
  },
  {
   "cell_type": "code",
   "execution_count": 11,
   "id": "381e6c86",
   "metadata": {},
   "outputs": [
    {
     "data": {
      "text/html": [
       "<ol>\n",
       "\t<li><ol class=list-inline>\n",
       "\t<li>1</li>\n",
       "\t<li>2</li>\n",
       "\t<li>3</li>\n",
       "</ol>\n",
       "</li>\n",
       "\t<li><table>\n",
       "<tbody>\n",
       "\t<tr><td>1</td><td>3</td></tr>\n",
       "\t<tr><td>2</td><td>4</td></tr>\n",
       "</tbody>\n",
       "</table>\n",
       "</li>\n",
       "\t<li><ol>\n",
       "\t<li>TRUE</li>\n",
       "\t<li>0</li>\n",
       "\t<li>'C'</li>\n",
       "</ol>\n",
       "</li>\n",
       "</ol>\n"
      ],
      "text/latex": [
       "\\begin{enumerate}\n",
       "\\item \\begin{enumerate*}\n",
       "\\item 1\n",
       "\\item 2\n",
       "\\item 3\n",
       "\\end{enumerate*}\n",
       "\n",
       "\\item \\begin{tabular}{ll}\n",
       "\t 1 & 3\\\\\n",
       "\t 2 & 4\\\\\n",
       "\\end{tabular}\n",
       "\n",
       "\\item \\begin{enumerate}\n",
       "\\item TRUE\n",
       "\\item 0\n",
       "\\item 'C'\n",
       "\\end{enumerate}\n",
       "\n",
       "\\end{enumerate}\n"
      ],
      "text/markdown": [
       "1. 1. 1\n",
       "2. 2\n",
       "3. 3\n",
       "\n",
       "\n",
       "\n",
       "2. \n",
       "| 1 | 3 |\n",
       "| 2 | 4 |\n",
       "\n",
       "\n",
       "3. 1. TRUE\n",
       "2. 0\n",
       "3. 'C'\n",
       "\n",
       "\n",
       "\n",
       "\n",
       "\n"
      ],
      "text/plain": [
       "[[1]]\n",
       "[1] 1 2 3\n",
       "\n",
       "[[2]]\n",
       "     [,1] [,2]\n",
       "[1,]    1    3\n",
       "[2,]    2    4\n",
       "\n",
       "[[3]]\n",
       "[[3]][[1]]\n",
       "[1] TRUE\n",
       "\n",
       "[[3]][[2]]\n",
       "[1] 0\n",
       "\n",
       "[[3]][[3]]\n",
       "[1] \"C\"\n",
       "\n"
      ]
     },
     "metadata": {},
     "output_type": "display_data"
    }
   ],
   "source": [
    "multi_object=list(\n",
    "    c(1,2,3),\n",
    "    matrix(c(1,2,3,4), ncol=2, nrow=2),\n",
    "    list(TRUE, 0, 'C')\n",
    ")\n",
    "multi_object"
   ]
  },
  {
   "cell_type": "code",
   "execution_count": 21,
   "id": "45de723a",
   "metadata": {},
   "outputs": [
    {
     "data": {
      "text/html": [
       "<ol>\n",
       "\t<li><ol class=list-inline>\n",
       "\t<li>1</li>\n",
       "\t<li>2</li>\n",
       "\t<li>3</li>\n",
       "</ol>\n",
       "</li>\n",
       "</ol>\n"
      ],
      "text/latex": [
       "\\begin{enumerate}\n",
       "\\item \\begin{enumerate*}\n",
       "\\item 1\n",
       "\\item 2\n",
       "\\item 3\n",
       "\\end{enumerate*}\n",
       "\n",
       "\\end{enumerate}\n"
      ],
      "text/markdown": [
       "1. 1. 1\n",
       "2. 2\n",
       "3. 3\n",
       "\n",
       "\n",
       "\n",
       "\n",
       "\n"
      ],
      "text/plain": [
       "[[1]]\n",
       "[1] 1 2 3\n"
      ]
     },
     "metadata": {},
     "output_type": "display_data"
    }
   ],
   "source": [
    "multi_object[1][1]"
   ]
  },
  {
   "cell_type": "code",
   "execution_count": 20,
   "id": "8939d762",
   "metadata": {},
   "outputs": [
    {
     "data": {
      "text/html": [
       "1"
      ],
      "text/latex": [
       "1"
      ],
      "text/markdown": [
       "1"
      ],
      "text/plain": [
       "[1] 1"
      ]
     },
     "metadata": {},
     "output_type": "display_data"
    }
   ],
   "source": [
    "multi_object[[1]][1]"
   ]
  },
  {
   "cell_type": "code",
   "execution_count": 28,
   "id": "ed47f987",
   "metadata": {},
   "outputs": [
    {
     "data": {
      "text/html": [
       "0"
      ],
      "text/latex": [
       "0"
      ],
      "text/markdown": [
       "0"
      ],
      "text/plain": [
       "[1] 0"
      ]
     },
     "metadata": {},
     "output_type": "display_data"
    }
   ],
   "source": [
    "multi_object[[3]][[2]]"
   ]
  },
  {
   "cell_type": "markdown",
   "id": "1c82ad9a",
   "metadata": {},
   "source": [
    "### 6.3 Changing and Adding elements to Lists"
   ]
  },
  {
   "cell_type": "code",
   "execution_count": 4,
   "id": "28430fae",
   "metadata": {},
   "outputs": [
    {
     "data": {
      "text/html": [
       "<ol>\n",
       "\t<li><ol class=list-inline>\n",
       "\t<li>'a'</li>\n",
       "\t<li>'b'</li>\n",
       "\t<li>'c'</li>\n",
       "</ol>\n",
       "</li>\n",
       "\t<li><table>\n",
       "<tbody>\n",
       "\t<tr><td>1 </td><td>3 </td><td>5 </td><td>7 </td><td> 9</td></tr>\n",
       "\t<tr><td>2 </td><td>4 </td><td>6 </td><td>8 </td><td>10</td></tr>\n",
       "</tbody>\n",
       "</table>\n",
       "</li>\n",
       "</ol>\n"
      ],
      "text/latex": [
       "\\begin{enumerate}\n",
       "\\item \\begin{enumerate*}\n",
       "\\item 'a'\n",
       "\\item 'b'\n",
       "\\item 'c'\n",
       "\\end{enumerate*}\n",
       "\n",
       "\\item \\begin{tabular}{lllll}\n",
       "\t 1  & 3  & 5  & 7  &  9\\\\\n",
       "\t 2  & 4  & 6  & 8  & 10\\\\\n",
       "\\end{tabular}\n",
       "\n",
       "\\end{enumerate}\n"
      ],
      "text/markdown": [
       "1. 1. 'a'\n",
       "2. 'b'\n",
       "3. 'c'\n",
       "\n",
       "\n",
       "\n",
       "2. \n",
       "| 1  | 3  | 5  | 7  |  9 |\n",
       "| 2  | 4  | 6  | 8  | 10 |\n",
       "\n",
       "\n",
       "\n",
       "\n"
      ],
      "text/plain": [
       "[[1]]\n",
       "[1] \"a\" \"b\" \"c\"\n",
       "\n",
       "[[2]]\n",
       "     [,1] [,2] [,3] [,4] [,5]\n",
       "[1,]    1    3    5    7    9\n",
       "[2,]    2    4    6    8   10\n"
      ]
     },
     "metadata": {},
     "output_type": "display_data"
    }
   ],
   "source": [
    "example_List <- list(c('a', 'b', 'c'), array(1:10, dim=c(2,5)))\n",
    "example_List"
   ]
  },
  {
   "cell_type": "code",
   "execution_count": 7,
   "id": "87486551",
   "metadata": {},
   "outputs": [
    {
     "data": {
      "text/html": [
       "<ol>\n",
       "\t<li><ol class=list-inline>\n",
       "\t<li>'a'</li>\n",
       "\t<li>'b'</li>\n",
       "\t<li>'c'</li>\n",
       "</ol>\n",
       "</li>\n",
       "\t<li><table>\n",
       "<tbody>\n",
       "\t<tr><td>1 </td><td>3 </td><td>5 </td><td>7 </td><td> 9</td></tr>\n",
       "\t<tr><td>2 </td><td>4 </td><td>6 </td><td>8 </td><td>10</td></tr>\n",
       "</tbody>\n",
       "</table>\n",
       "</li>\n",
       "\t<li><ol class=list-inline>\n",
       "\t<li>1</li>\n",
       "\t<li>2</li>\n",
       "\t<li>3</li>\n",
       "</ol>\n",
       "</li>\n",
       "</ol>\n"
      ],
      "text/latex": [
       "\\begin{enumerate}\n",
       "\\item \\begin{enumerate*}\n",
       "\\item 'a'\n",
       "\\item 'b'\n",
       "\\item 'c'\n",
       "\\end{enumerate*}\n",
       "\n",
       "\\item \\begin{tabular}{lllll}\n",
       "\t 1  & 3  & 5  & 7  &  9\\\\\n",
       "\t 2  & 4  & 6  & 8  & 10\\\\\n",
       "\\end{tabular}\n",
       "\n",
       "\\item \\begin{enumerate*}\n",
       "\\item 1\n",
       "\\item 2\n",
       "\\item 3\n",
       "\\end{enumerate*}\n",
       "\n",
       "\\end{enumerate}\n"
      ],
      "text/markdown": [
       "1. 1. 'a'\n",
       "2. 'b'\n",
       "3. 'c'\n",
       "\n",
       "\n",
       "\n",
       "2. \n",
       "| 1  | 3  | 5  | 7  |  9 |\n",
       "| 2  | 4  | 6  | 8  | 10 |\n",
       "\n",
       "\n",
       "3. 1. 1\n",
       "2. 2\n",
       "3. 3\n",
       "\n",
       "\n",
       "\n",
       "\n",
       "\n"
      ],
      "text/plain": [
       "[[1]]\n",
       "[1] \"a\" \"b\" \"c\"\n",
       "\n",
       "[[2]]\n",
       "     [,1] [,2] [,3] [,4] [,5]\n",
       "[1,]    1    3    5    7    9\n",
       "[2,]    2    4    6    8   10\n",
       "\n",
       "[[3]]\n",
       "[1] 1 2 3\n"
      ]
     },
     "metadata": {},
     "output_type": "display_data"
    }
   ],
   "source": [
    "example_List[[3]] <- c(1,2,3)\n",
    "example_List"
   ]
  },
  {
   "cell_type": "code",
   "execution_count": 9,
   "id": "41471860",
   "metadata": {},
   "outputs": [
    {
     "data": {
      "text/html": [
       "<ol>\n",
       "\t<li><ol class=list-inline>\n",
       "\t<li>'a'</li>\n",
       "\t<li>'b'</li>\n",
       "\t<li>'c'</li>\n",
       "</ol>\n",
       "</li>\n",
       "\t<li><table>\n",
       "<tbody>\n",
       "\t<tr><td>1 </td><td>3 </td><td>5 </td><td>7 </td><td> 9</td></tr>\n",
       "\t<tr><td>2 </td><td>4 </td><td>6 </td><td>8 </td><td>10</td></tr>\n",
       "</tbody>\n",
       "</table>\n",
       "</li>\n",
       "\t<li><ol class=list-inline>\n",
       "\t<li>1</li>\n",
       "\t<li>2</li>\n",
       "\t<li>3</li>\n",
       "</ol>\n",
       "</li>\n",
       "\t<li>NULL</li>\n",
       "\t<li>NULL</li>\n",
       "\t<li>NULL</li>\n",
       "\t<li>NULL</li>\n",
       "\t<li>NULL</li>\n",
       "\t<li>NULL</li>\n",
       "\t<li><ol class=list-inline>\n",
       "\t<li>10</li>\n",
       "\t<li>20</li>\n",
       "\t<li>30</li>\n",
       "</ol>\n",
       "</li>\n",
       "</ol>\n"
      ],
      "text/latex": [
       "\\begin{enumerate}\n",
       "\\item \\begin{enumerate*}\n",
       "\\item 'a'\n",
       "\\item 'b'\n",
       "\\item 'c'\n",
       "\\end{enumerate*}\n",
       "\n",
       "\\item \\begin{tabular}{lllll}\n",
       "\t 1  & 3  & 5  & 7  &  9\\\\\n",
       "\t 2  & 4  & 6  & 8  & 10\\\\\n",
       "\\end{tabular}\n",
       "\n",
       "\\item \\begin{enumerate*}\n",
       "\\item 1\n",
       "\\item 2\n",
       "\\item 3\n",
       "\\end{enumerate*}\n",
       "\n",
       "\\item NULL\n",
       "\\item NULL\n",
       "\\item NULL\n",
       "\\item NULL\n",
       "\\item NULL\n",
       "\\item NULL\n",
       "\\item \\begin{enumerate*}\n",
       "\\item 10\n",
       "\\item 20\n",
       "\\item 30\n",
       "\\end{enumerate*}\n",
       "\n",
       "\\end{enumerate}\n"
      ],
      "text/markdown": [
       "1. 1. 'a'\n",
       "2. 'b'\n",
       "3. 'c'\n",
       "\n",
       "\n",
       "\n",
       "2. \n",
       "| 1  | 3  | 5  | 7  |  9 |\n",
       "| 2  | 4  | 6  | 8  | 10 |\n",
       "\n",
       "\n",
       "3. 1. 1\n",
       "2. 2\n",
       "3. 3\n",
       "\n",
       "\n",
       "\n",
       "4. NULL\n",
       "5. NULL\n",
       "6. NULL\n",
       "7. NULL\n",
       "8. NULL\n",
       "9. NULL\n",
       "10. 1. 10\n",
       "2. 20\n",
       "3. 30\n",
       "\n",
       "\n",
       "\n",
       "\n",
       "\n"
      ],
      "text/plain": [
       "[[1]]\n",
       "[1] \"a\" \"b\" \"c\"\n",
       "\n",
       "[[2]]\n",
       "     [,1] [,2] [,3] [,4] [,5]\n",
       "[1,]    1    3    5    7    9\n",
       "[2,]    2    4    6    8   10\n",
       "\n",
       "[[3]]\n",
       "[1] 1 2 3\n",
       "\n",
       "[[4]]\n",
       "NULL\n",
       "\n",
       "[[5]]\n",
       "NULL\n",
       "\n",
       "[[6]]\n",
       "NULL\n",
       "\n",
       "[[7]]\n",
       "NULL\n",
       "\n",
       "[[8]]\n",
       "NULL\n",
       "\n",
       "[[9]]\n",
       "NULL\n",
       "\n",
       "[[10]]\n",
       "[1] 10 20 30\n"
      ]
     },
     "metadata": {},
     "output_type": "display_data"
    }
   ],
   "source": [
    "example_List[[10]] <- c(10, 20, 30)\n",
    "example_List"
   ]
  },
  {
   "cell_type": "code",
   "execution_count": 12,
   "id": "5b6685ec",
   "metadata": {},
   "outputs": [
    {
     "data": {
      "text/html": [
       "<ol>\n",
       "\t<li><ol class=list-inline>\n",
       "\t<li>'a'</li>\n",
       "\t<li>'b'</li>\n",
       "\t<li>'c'</li>\n",
       "</ol>\n",
       "</li>\n",
       "\t<li><table>\n",
       "<tbody>\n",
       "\t<tr><td>1 </td><td>3 </td><td>5 </td><td>7 </td><td> 9</td></tr>\n",
       "\t<tr><td>2 </td><td>4 </td><td>6 </td><td>8 </td><td>10</td></tr>\n",
       "</tbody>\n",
       "</table>\n",
       "</li>\n",
       "\t<li><ol class=list-inline>\n",
       "\t<li>1</li>\n",
       "\t<li>2</li>\n",
       "\t<li>3</li>\n",
       "</ol>\n",
       "</li>\n",
       "\t<li>NULL</li>\n",
       "\t<li><ol class=list-inline>\n",
       "\t<li>9</li>\n",
       "\t<li>12</li>\n",
       "\t<li>1</li>\n",
       "</ol>\n",
       "</li>\n",
       "\t<li>NULL</li>\n",
       "\t<li>NULL</li>\n",
       "\t<li>NULL</li>\n",
       "\t<li>NULL</li>\n",
       "\t<li><ol class=list-inline>\n",
       "\t<li>10</li>\n",
       "\t<li>20</li>\n",
       "\t<li>30</li>\n",
       "</ol>\n",
       "</li>\n",
       "</ol>\n"
      ],
      "text/latex": [
       "\\begin{enumerate}\n",
       "\\item \\begin{enumerate*}\n",
       "\\item 'a'\n",
       "\\item 'b'\n",
       "\\item 'c'\n",
       "\\end{enumerate*}\n",
       "\n",
       "\\item \\begin{tabular}{lllll}\n",
       "\t 1  & 3  & 5  & 7  &  9\\\\\n",
       "\t 2  & 4  & 6  & 8  & 10\\\\\n",
       "\\end{tabular}\n",
       "\n",
       "\\item \\begin{enumerate*}\n",
       "\\item 1\n",
       "\\item 2\n",
       "\\item 3\n",
       "\\end{enumerate*}\n",
       "\n",
       "\\item NULL\n",
       "\\item \\begin{enumerate*}\n",
       "\\item 9\n",
       "\\item 12\n",
       "\\item 1\n",
       "\\end{enumerate*}\n",
       "\n",
       "\\item NULL\n",
       "\\item NULL\n",
       "\\item NULL\n",
       "\\item NULL\n",
       "\\item \\begin{enumerate*}\n",
       "\\item 10\n",
       "\\item 20\n",
       "\\item 30\n",
       "\\end{enumerate*}\n",
       "\n",
       "\\end{enumerate}\n"
      ],
      "text/markdown": [
       "1. 1. 'a'\n",
       "2. 'b'\n",
       "3. 'c'\n",
       "\n",
       "\n",
       "\n",
       "2. \n",
       "| 1  | 3  | 5  | 7  |  9 |\n",
       "| 2  | 4  | 6  | 8  | 10 |\n",
       "\n",
       "\n",
       "3. 1. 1\n",
       "2. 2\n",
       "3. 3\n",
       "\n",
       "\n",
       "\n",
       "4. NULL\n",
       "5. 1. 9\n",
       "2. 12\n",
       "3. 1\n",
       "\n",
       "\n",
       "\n",
       "6. NULL\n",
       "7. NULL\n",
       "8. NULL\n",
       "9. NULL\n",
       "10. 1. 10\n",
       "2. 20\n",
       "3. 30\n",
       "\n",
       "\n",
       "\n",
       "\n",
       "\n"
      ],
      "text/plain": [
       "[[1]]\n",
       "[1] \"a\" \"b\" \"c\"\n",
       "\n",
       "[[2]]\n",
       "     [,1] [,2] [,3] [,4] [,5]\n",
       "[1,]    1    3    5    7    9\n",
       "[2,]    2    4    6    8   10\n",
       "\n",
       "[[3]]\n",
       "[1] 1 2 3\n",
       "\n",
       "[[4]]\n",
       "NULL\n",
       "\n",
       "[[5]]\n",
       "[1]  9 12  1\n",
       "\n",
       "[[6]]\n",
       "NULL\n",
       "\n",
       "[[7]]\n",
       "NULL\n",
       "\n",
       "[[8]]\n",
       "NULL\n",
       "\n",
       "[[9]]\n",
       "NULL\n",
       "\n",
       "[[10]]\n",
       "[1] 10 20 30\n"
      ]
     },
     "metadata": {},
     "output_type": "display_data"
    }
   ],
   "source": [
    "example_List[[5]] <- c(9,12,TRUE)\n",
    "example_List"
   ]
  },
  {
   "cell_type": "markdown",
   "id": "f881143d",
   "metadata": {},
   "source": [
    "### 6.4 Deleting List & Combining List"
   ]
  },
  {
   "cell_type": "code",
   "execution_count": 13,
   "id": "23beb5aa",
   "metadata": {},
   "outputs": [],
   "source": [
    "example_List[[3]] <- NULL"
   ]
  },
  {
   "cell_type": "code",
   "execution_count": 14,
   "id": "0968d4dd",
   "metadata": {},
   "outputs": [
    {
     "data": {
      "text/html": [
       "<ol>\n",
       "\t<li><ol class=list-inline>\n",
       "\t<li>'a'</li>\n",
       "\t<li>'b'</li>\n",
       "\t<li>'c'</li>\n",
       "</ol>\n",
       "</li>\n",
       "\t<li><table>\n",
       "<tbody>\n",
       "\t<tr><td>1 </td><td>3 </td><td>5 </td><td>7 </td><td> 9</td></tr>\n",
       "\t<tr><td>2 </td><td>4 </td><td>6 </td><td>8 </td><td>10</td></tr>\n",
       "</tbody>\n",
       "</table>\n",
       "</li>\n",
       "\t<li>NULL</li>\n",
       "\t<li><ol class=list-inline>\n",
       "\t<li>9</li>\n",
       "\t<li>12</li>\n",
       "\t<li>1</li>\n",
       "</ol>\n",
       "</li>\n",
       "\t<li>NULL</li>\n",
       "\t<li>NULL</li>\n",
       "\t<li>NULL</li>\n",
       "\t<li>NULL</li>\n",
       "\t<li><ol class=list-inline>\n",
       "\t<li>10</li>\n",
       "\t<li>20</li>\n",
       "\t<li>30</li>\n",
       "</ol>\n",
       "</li>\n",
       "</ol>\n"
      ],
      "text/latex": [
       "\\begin{enumerate}\n",
       "\\item \\begin{enumerate*}\n",
       "\\item 'a'\n",
       "\\item 'b'\n",
       "\\item 'c'\n",
       "\\end{enumerate*}\n",
       "\n",
       "\\item \\begin{tabular}{lllll}\n",
       "\t 1  & 3  & 5  & 7  &  9\\\\\n",
       "\t 2  & 4  & 6  & 8  & 10\\\\\n",
       "\\end{tabular}\n",
       "\n",
       "\\item NULL\n",
       "\\item \\begin{enumerate*}\n",
       "\\item 9\n",
       "\\item 12\n",
       "\\item 1\n",
       "\\end{enumerate*}\n",
       "\n",
       "\\item NULL\n",
       "\\item NULL\n",
       "\\item NULL\n",
       "\\item NULL\n",
       "\\item \\begin{enumerate*}\n",
       "\\item 10\n",
       "\\item 20\n",
       "\\item 30\n",
       "\\end{enumerate*}\n",
       "\n",
       "\\end{enumerate}\n"
      ],
      "text/markdown": [
       "1. 1. 'a'\n",
       "2. 'b'\n",
       "3. 'c'\n",
       "\n",
       "\n",
       "\n",
       "2. \n",
       "| 1  | 3  | 5  | 7  |  9 |\n",
       "| 2  | 4  | 6  | 8  | 10 |\n",
       "\n",
       "\n",
       "3. NULL\n",
       "4. 1. 9\n",
       "2. 12\n",
       "3. 1\n",
       "\n",
       "\n",
       "\n",
       "5. NULL\n",
       "6. NULL\n",
       "7. NULL\n",
       "8. NULL\n",
       "9. 1. 10\n",
       "2. 20\n",
       "3. 30\n",
       "\n",
       "\n",
       "\n",
       "\n",
       "\n"
      ],
      "text/plain": [
       "[[1]]\n",
       "[1] \"a\" \"b\" \"c\"\n",
       "\n",
       "[[2]]\n",
       "     [,1] [,2] [,3] [,4] [,5]\n",
       "[1,]    1    3    5    7    9\n",
       "[2,]    2    4    6    8   10\n",
       "\n",
       "[[3]]\n",
       "NULL\n",
       "\n",
       "[[4]]\n",
       "[1]  9 12  1\n",
       "\n",
       "[[5]]\n",
       "NULL\n",
       "\n",
       "[[6]]\n",
       "NULL\n",
       "\n",
       "[[7]]\n",
       "NULL\n",
       "\n",
       "[[8]]\n",
       "NULL\n",
       "\n",
       "[[9]]\n",
       "[1] 10 20 30\n"
      ]
     },
     "metadata": {},
     "output_type": "display_data"
    }
   ],
   "source": [
    "example_List"
   ]
  },
  {
   "cell_type": "code",
   "execution_count": 15,
   "id": "63508e17",
   "metadata": {},
   "outputs": [],
   "source": [
    "ml_1= list(c(1,2), 'A')\n",
    "ml_2=list(c(10, 11), matrix(1:10, nrow=5, ncol=2))"
   ]
  },
  {
   "cell_type": "code",
   "execution_count": 17,
   "id": "fb7c0cbe",
   "metadata": {},
   "outputs": [
    {
     "data": {
      "text/html": [
       "<ol>\n",
       "\t<li><ol class=list-inline>\n",
       "\t<li>1</li>\n",
       "\t<li>2</li>\n",
       "</ol>\n",
       "</li>\n",
       "\t<li>'A'</li>\n",
       "\t<li><ol class=list-inline>\n",
       "\t<li>10</li>\n",
       "\t<li>11</li>\n",
       "</ol>\n",
       "</li>\n",
       "\t<li><table>\n",
       "<tbody>\n",
       "\t<tr><td>1 </td><td> 6</td></tr>\n",
       "\t<tr><td>2 </td><td> 7</td></tr>\n",
       "\t<tr><td>3 </td><td> 8</td></tr>\n",
       "\t<tr><td>4 </td><td> 9</td></tr>\n",
       "\t<tr><td>5 </td><td>10</td></tr>\n",
       "</tbody>\n",
       "</table>\n",
       "</li>\n",
       "</ol>\n"
      ],
      "text/latex": [
       "\\begin{enumerate}\n",
       "\\item \\begin{enumerate*}\n",
       "\\item 1\n",
       "\\item 2\n",
       "\\end{enumerate*}\n",
       "\n",
       "\\item 'A'\n",
       "\\item \\begin{enumerate*}\n",
       "\\item 10\n",
       "\\item 11\n",
       "\\end{enumerate*}\n",
       "\n",
       "\\item \\begin{tabular}{ll}\n",
       "\t 1  &  6\\\\\n",
       "\t 2  &  7\\\\\n",
       "\t 3  &  8\\\\\n",
       "\t 4  &  9\\\\\n",
       "\t 5  & 10\\\\\n",
       "\\end{tabular}\n",
       "\n",
       "\\end{enumerate}\n"
      ],
      "text/markdown": [
       "1. 1. 1\n",
       "2. 2\n",
       "\n",
       "\n",
       "\n",
       "2. 'A'\n",
       "3. 1. 10\n",
       "2. 11\n",
       "\n",
       "\n",
       "\n",
       "4. \n",
       "| 1  |  6 |\n",
       "| 2  |  7 |\n",
       "| 3  |  8 |\n",
       "| 4  |  9 |\n",
       "| 5  | 10 |\n",
       "\n",
       "\n",
       "\n",
       "\n"
      ],
      "text/plain": [
       "[[1]]\n",
       "[1] 1 2\n",
       "\n",
       "[[2]]\n",
       "[1] \"A\"\n",
       "\n",
       "[[3]]\n",
       "[1] 10 11\n",
       "\n",
       "[[4]]\n",
       "     [,1] [,2]\n",
       "[1,]    1    6\n",
       "[2,]    2    7\n",
       "[3,]    3    8\n",
       "[4,]    4    9\n",
       "[5,]    5   10\n"
      ]
     },
     "metadata": {},
     "output_type": "display_data"
    }
   ],
   "source": [
    "concat_list= c(ml_1, ml_2)\n",
    "concat_list"
   ]
  },
  {
   "cell_type": "markdown",
   "id": "2a595503",
   "metadata": {},
   "source": [
    "# 7. Libraries"
   ]
  },
  {
   "cell_type": "markdown",
   "id": "2b37cd23",
   "metadata": {},
   "source": [
    "*If you close R, you need to load the library again to use it! Libraries are loaded on the environment*"
   ]
  },
  {
   "cell_type": "code",
   "execution_count": 1,
   "id": "f0b3a43d",
   "metadata": {},
   "outputs": [],
   "source": [
    "data()"
   ]
  },
  {
   "cell_type": "code",
   "execution_count": 3,
   "id": "0d1c9da1",
   "metadata": {},
   "outputs": [],
   "source": [
    "data(mtcars)"
   ]
  },
  {
   "cell_type": "code",
   "execution_count": 4,
   "id": "a824f48f",
   "metadata": {},
   "outputs": [
    {
     "data": {
      "text/plain": [
       "      mpg             cyl             disp             hp       \n",
       " Min.   :10.40   Min.   :4.000   Min.   : 71.1   Min.   : 52.0  \n",
       " 1st Qu.:15.43   1st Qu.:4.000   1st Qu.:120.8   1st Qu.: 96.5  \n",
       " Median :19.20   Median :6.000   Median :196.3   Median :123.0  \n",
       " Mean   :20.09   Mean   :6.188   Mean   :230.7   Mean   :146.7  \n",
       " 3rd Qu.:22.80   3rd Qu.:8.000   3rd Qu.:326.0   3rd Qu.:180.0  \n",
       " Max.   :33.90   Max.   :8.000   Max.   :472.0   Max.   :335.0  \n",
       "      drat             wt             qsec             vs        \n",
       " Min.   :2.760   Min.   :1.513   Min.   :14.50   Min.   :0.0000  \n",
       " 1st Qu.:3.080   1st Qu.:2.581   1st Qu.:16.89   1st Qu.:0.0000  \n",
       " Median :3.695   Median :3.325   Median :17.71   Median :0.0000  \n",
       " Mean   :3.597   Mean   :3.217   Mean   :17.85   Mean   :0.4375  \n",
       " 3rd Qu.:3.920   3rd Qu.:3.610   3rd Qu.:18.90   3rd Qu.:1.0000  \n",
       " Max.   :4.930   Max.   :5.424   Max.   :22.90   Max.   :1.0000  \n",
       "       am              gear            carb      \n",
       " Min.   :0.0000   Min.   :3.000   Min.   :1.000  \n",
       " 1st Qu.:0.0000   1st Qu.:3.000   1st Qu.:2.000  \n",
       " Median :0.0000   Median :4.000   Median :2.000  \n",
       " Mean   :0.4062   Mean   :3.688   Mean   :2.812  \n",
       " 3rd Qu.:1.0000   3rd Qu.:4.000   3rd Qu.:4.000  \n",
       " Max.   :1.0000   Max.   :5.000   Max.   :8.000  "
      ]
     },
     "metadata": {},
     "output_type": "display_data"
    }
   ],
   "source": [
    "summary(mtcars)"
   ]
  },
  {
   "cell_type": "code",
   "execution_count": 5,
   "id": "e7677009",
   "metadata": {},
   "outputs": [
    {
     "data": {
      "image/png": "[encoded data removed]",
      "text/plain": [
       "plot without title"
      ]
     },
     "metadata": {
      "image/png": {
       "height": 420,
       "width": 420
      }
     },
     "output_type": "display_data"
    }
   ],
   "source": [
    "plot(mtcars)"
   ]
  },
  {
   "cell_type": "code",
   "execution_count": 6,
   "id": "13406e16",
   "metadata": {},
   "outputs": [
    {
     "data": {
      "text/html": [
       "<table class=\"dataframe\">\n",
       "<caption>A data.frame: 32 × 11</caption>\n",
       "<thead>\n",
       "\t<tr><th></th><th scope=col>mpg</th><th scope=col>cyl</th><th scope=col>disp</th><th scope=col>hp</th><th scope=col>drat</th><th scope=col>wt</th><th scope=col>qsec</th><th scope=col>vs</th><th scope=col>am</th><th scope=col>gear</th><th scope=col>carb</th></tr>\n",
       "\t<tr><th></th><th scope=col>&lt;dbl&gt;</th><th scope=col>&lt;dbl&gt;</th><th scope=col>&lt;dbl&gt;</th><th scope=col>&lt;dbl&gt;</th><th scope=col>&lt;dbl&gt;</th><th scope=col>&lt;dbl&gt;</th><th scope=col>&lt;dbl&gt;</th><th scope=col>&lt;dbl&gt;</th><th scope=col>&lt;dbl&gt;</th><th scope=col>&lt;dbl&gt;</th><th scope=col>&lt;dbl&gt;</th></tr>\n",
       "</thead>\n",
       "<tbody>\n",
       "\t<tr><th scope=row>Mazda RX4</th><td>21.0</td><td>6</td><td>160.0</td><td>110</td><td>3.90</td><td>2.620</td><td>16.46</td><td>0</td><td>1</td><td>4</td><td>4</td></tr>\n",
       "\t<tr><th scope=row>Mazda RX4 Wag</th><td>21.0</td><td>6</td><td>160.0</td><td>110</td><td>3.90</td><td>2.875</td><td>17.02</td><td>0</td><td>1</td><td>4</td><td>4</td></tr>\n",
       "\t<tr><th scope=row>Datsun 710</th><td>22.8</td><td>4</td><td>108.0</td><td> 93</td><td>3.85</td><td>2.320</td><td>18.61</td><td>1</td><td>1</td><td>4</td><td>1</td></tr>\n",
       "\t<tr><th scope=row>Hornet 4 Drive</th><td>21.4</td><td>6</td><td>258.0</td><td>110</td><td>3.08</td><td>3.215</td><td>19.44</td><td>1</td><td>0</td><td>3</td><td>1</td></tr>\n",
       "\t<tr><th scope=row>Hornet Sportabout</th><td>18.7</td><td>8</td><td>360.0</td><td>175</td><td>3.15</td><td>3.440</td><td>17.02</td><td>0</td><td>0</td><td>3</td><td>2</td></tr>\n",
       "\t<tr><th scope=row>Valiant</th><td>18.1</td><td>6</td><td>225.0</td><td>105</td><td>2.76</td><td>3.460</td><td>20.22</td><td>1</td><td>0</td><td>3</td><td>1</td></tr>\n",
       "\t<tr><th scope=row>Duster 360</th><td>14.3</td><td>8</td><td>360.0</td><td>245</td><td>3.21</td><td>3.570</td><td>15.84</td><td>0</td><td>0</td><td>3</td><td>4</td></tr>\n",
       "\t<tr><th scope=row>Merc 240D</th><td>24.4</td><td>4</td><td>146.7</td><td> 62</td><td>3.69</td><td>3.190</td><td>20.00</td><td>1</td><td>0</td><td>4</td><td>2</td></tr>\n",
       "\t<tr><th scope=row>Merc 230</th><td>22.8</td><td>4</td><td>140.8</td><td> 95</td><td>3.92</td><td>3.150</td><td>22.90</td><td>1</td><td>0</td><td>4</td><td>2</td></tr>\n",
       "\t<tr><th scope=row>Merc 280</th><td>19.2</td><td>6</td><td>167.6</td><td>123</td><td>3.92</td><td>3.440</td><td>18.30</td><td>1</td><td>0</td><td>4</td><td>4</td></tr>\n",
       "\t<tr><th scope=row>Merc 280C</th><td>17.8</td><td>6</td><td>167.6</td><td>123</td><td>3.92</td><td>3.440</td><td>18.90</td><td>1</td><td>0</td><td>4</td><td>4</td></tr>\n",
       "\t<tr><th scope=row>Merc 450SE</th><td>16.4</td><td>8</td><td>275.8</td><td>180</td><td>3.07</td><td>4.070</td><td>17.40</td><td>0</td><td>0</td><td>3</td><td>3</td></tr>\n",
       "\t<tr><th scope=row>Merc 450SL</th><td>17.3</td><td>8</td><td>275.8</td><td>180</td><td>3.07</td><td>3.730</td><td>17.60</td><td>0</td><td>0</td><td>3</td><td>3</td></tr>\n",
       "\t<tr><th scope=row>Merc 450SLC</th><td>15.2</td><td>8</td><td>275.8</td><td>180</td><td>3.07</td><td>3.780</td><td>18.00</td><td>0</td><td>0</td><td>3</td><td>3</td></tr>\n",
       "\t<tr><th scope=row>Cadillac Fleetwood</th><td>10.4</td><td>8</td><td>472.0</td><td>205</td><td>2.93</td><td>5.250</td><td>17.98</td><td>0</td><td>0</td><td>3</td><td>4</td></tr>\n",
       "\t<tr><th scope=row>Lincoln Continental</th><td>10.4</td><td>8</td><td>460.0</td><td>215</td><td>3.00</td><td>5.424</td><td>17.82</td><td>0</td><td>0</td><td>3</td><td>4</td></tr>\n",
       "\t<tr><th scope=row>Chrysler Imperial</th><td>14.7</td><td>8</td><td>440.0</td><td>230</td><td>3.23</td><td>5.345</td><td>17.42</td><td>0</td><td>0</td><td>3</td><td>4</td></tr>\n",
       "\t<tr><th scope=row>Fiat 128</th><td>32.4</td><td>4</td><td> 78.7</td><td> 66</td><td>4.08</td><td>2.200</td><td>19.47</td><td>1</td><td>1</td><td>4</td><td>1</td></tr>\n",
       "\t<tr><th scope=row>Honda Civic</th><td>30.4</td><td>4</td><td> 75.7</td><td> 52</td><td>4.93</td><td>1.615</td><td>18.52</td><td>1</td><td>1</td><td>4</td><td>2</td></tr>\n",
       "\t<tr><th scope=row>Toyota Corolla</th><td>33.9</td><td>4</td><td> 71.1</td><td> 65</td><td>4.22</td><td>1.835</td><td>19.90</td><td>1</td><td>1</td><td>4</td><td>1</td></tr>\n",
       "\t<tr><th scope=row>Toyota Corona</th><td>21.5</td><td>4</td><td>120.1</td><td> 97</td><td>3.70</td><td>2.465</td><td>20.01</td><td>1</td><td>0</td><td>3</td><td>1</td></tr>\n",
       "\t<tr><th scope=row>Dodge Challenger</th><td>15.5</td><td>8</td><td>318.0</td><td>150</td><td>2.76</td><td>3.520</td><td>16.87</td><td>0</td><td>0</td><td>3</td><td>2</td></tr>\n",
       "\t<tr><th scope=row>AMC Javelin</th><td>15.2</td><td>8</td><td>304.0</td><td>150</td><td>3.15</td><td>3.435</td><td>17.30</td><td>0</td><td>0</td><td>3</td><td>2</td></tr>\n",
       "\t<tr><th scope=row>Camaro Z28</th><td>13.3</td><td>8</td><td>350.0</td><td>245</td><td>3.73</td><td>3.840</td><td>15.41</td><td>0</td><td>0</td><td>3</td><td>4</td></tr>\n",
       "\t<tr><th scope=row>Pontiac Firebird</th><td>19.2</td><td>8</td><td>400.0</td><td>175</td><td>3.08</td><td>3.845</td><td>17.05</td><td>0</td><td>0</td><td>3</td><td>2</td></tr>\n",
       "\t<tr><th scope=row>Fiat X1-9</th><td>27.3</td><td>4</td><td> 79.0</td><td> 66</td><td>4.08</td><td>1.935</td><td>18.90</td><td>1</td><td>1</td><td>4</td><td>1</td></tr>\n",
       "\t<tr><th scope=row>Porsche 914-2</th><td>26.0</td><td>4</td><td>120.3</td><td> 91</td><td>4.43</td><td>2.140</td><td>16.70</td><td>0</td><td>1</td><td>5</td><td>2</td></tr>\n",
       "\t<tr><th scope=row>Lotus Europa</th><td>30.4</td><td>4</td><td> 95.1</td><td>113</td><td>3.77</td><td>1.513</td><td>16.90</td><td>1</td><td>1</td><td>5</td><td>2</td></tr>\n",
       "\t<tr><th scope=row>Ford Pantera L</th><td>15.8</td><td>8</td><td>351.0</td><td>264</td><td>4.22</td><td>3.170</td><td>14.50</td><td>0</td><td>1</td><td>5</td><td>4</td></tr>\n",
       "\t<tr><th scope=row>Ferrari Dino</th><td>19.7</td><td>6</td><td>145.0</td><td>175</td><td>3.62</td><td>2.770</td><td>15.50</td><td>0</td><td>1</td><td>5</td><td>6</td></tr>\n",
       "\t<tr><th scope=row>Maserati Bora</th><td>15.0</td><td>8</td><td>301.0</td><td>335</td><td>3.54</td><td>3.570</td><td>14.60</td><td>0</td><td>1</td><td>5</td><td>8</td></tr>\n",
       "\t<tr><th scope=row>Volvo 142E</th><td>21.4</td><td>4</td><td>121.0</td><td>109</td><td>4.11</td><td>2.780</td><td>18.60</td><td>1</td><td>1</td><td>4</td><td>2</td></tr>\n",
       "</tbody>\n",
       "</table>\n"
      ],
      "text/latex": [
       "A data.frame: 32 × 11\n",
       "\\begin{tabular}{r|lllllllllll}\n",
       "  & mpg & cyl & disp & hp & drat & wt & qsec & vs & am & gear & carb\\\\\n",
       "  & <dbl> & <dbl> & <dbl> & <dbl> & <dbl> & <dbl> & <dbl> & <dbl> & <dbl> & <dbl> & <dbl>\\\\\n",
       "\\hline\n",
       "\tMazda RX4 & 21.0 & 6 & 160.0 & 110 & 3.90 & 2.620 & 16.46 & 0 & 1 & 4 & 4\\\\\n",
       "\tMazda RX4 Wag & 21.0 & 6 & 160.0 & 110 & 3.90 & 2.875 & 17.02 & 0 & 1 & 4 & 4\\\\\n",
       "\tDatsun 710 & 22.8 & 4 & 108.0 &  93 & 3.85 & 2.320 & 18.61 & 1 & 1 & 4 & 1\\\\\n",
       "\tHornet 4 Drive & 21.4 & 6 & 258.0 & 110 & 3.08 & 3.215 & 19.44 & 1 & 0 & 3 & 1\\\\\n",
       "\tHornet Sportabout & 18.7 & 8 & 360.0 & 175 & 3.15 & 3.440 & 17.02 & 0 & 0 & 3 & 2\\\\\n",
       "\tValiant & 18.1 & 6 & 225.0 & 105 & 2.76 & 3.460 & 20.22 & 1 & 0 & 3 & 1\\\\\n",
       "\tDuster 360 & 14.3 & 8 & 360.0 & 245 & 3.21 & 3.570 & 15.84 & 0 & 0 & 3 & 4\\\\\n",
       "\tMerc 240D & 24.4 & 4 & 146.7 &  62 & 3.69 & 3.190 & 20.00 & 1 & 0 & 4 & 2\\\\\n",
       "\tMerc 230 & 22.8 & 4 & 140.8 &  95 & 3.92 & 3.150 & 22.90 & 1 & 0 & 4 & 2\\\\\n",
       "\tMerc 280 & 19.2 & 6 & 167.6 & 123 & 3.92 & 3.440 & 18.30 & 1 & 0 & 4 & 4\\\\\n",
       "\tMerc 280C & 17.8 & 6 & 167.6 & 123 & 3.92 & 3.440 & 18.90 & 1 & 0 & 4 & 4\\\\\n",
       "\tMerc 450SE & 16.4 & 8 & 275.8 & 180 & 3.07 & 4.070 & 17.40 & 0 & 0 & 3 & 3\\\\\n",
       "\tMerc 450SL & 17.3 & 8 & 275.8 & 180 & 3.07 & 3.730 & 17.60 & 0 & 0 & 3 & 3\\\\\n",
       "\tMerc 450SLC & 15.2 & 8 & 275.8 & 180 & 3.07 & 3.780 & 18.00 & 0 & 0 & 3 & 3\\\\\n",
       "\tCadillac Fleetwood & 10.4 & 8 & 472.0 & 205 & 2.93 & 5.250 & 17.98 & 0 & 0 & 3 & 4\\\\\n",
       "\tLincoln Continental & 10.4 & 8 & 460.0 & 215 & 3.00 & 5.424 & 17.82 & 0 & 0 & 3 & 4\\\\\n",
       "\tChrysler Imperial & 14.7 & 8 & 440.0 & 230 & 3.23 & 5.345 & 17.42 & 0 & 0 & 3 & 4\\\\\n",
       "\tFiat 128 & 32.4 & 4 &  78.7 &  66 & 4.08 & 2.200 & 19.47 & 1 & 1 & 4 & 1\\\\\n",
       "\tHonda Civic & 30.4 & 4 &  75.7 &  52 & 4.93 & 1.615 & 18.52 & 1 & 1 & 4 & 2\\\\\n",
       "\tToyota Corolla & 33.9 & 4 &  71.1 &  65 & 4.22 & 1.835 & 19.90 & 1 & 1 & 4 & 1\\\\\n",
       "\tToyota Corona & 21.5 & 4 & 120.1 &  97 & 3.70 & 2.465 & 20.01 & 1 & 0 & 3 & 1\\\\\n",
       "\tDodge Challenger & 15.5 & 8 & 318.0 & 150 & 2.76 & 3.520 & 16.87 & 0 & 0 & 3 & 2\\\\\n",
       "\tAMC Javelin & 15.2 & 8 & 304.0 & 150 & 3.15 & 3.435 & 17.30 & 0 & 0 & 3 & 2\\\\\n",
       "\tCamaro Z28 & 13.3 & 8 & 350.0 & 245 & 3.73 & 3.840 & 15.41 & 0 & 0 & 3 & 4\\\\\n",
       "\tPontiac Firebird & 19.2 & 8 & 400.0 & 175 & 3.08 & 3.845 & 17.05 & 0 & 0 & 3 & 2\\\\\n",
       "\tFiat X1-9 & 27.3 & 4 &  79.0 &  66 & 4.08 & 1.935 & 18.90 & 1 & 1 & 4 & 1\\\\\n",
       "\tPorsche 914-2 & 26.0 & 4 & 120.3 &  91 & 4.43 & 2.140 & 16.70 & 0 & 1 & 5 & 2\\\\\n",
       "\tLotus Europa & 30.4 & 4 &  95.1 & 113 & 3.77 & 1.513 & 16.90 & 1 & 1 & 5 & 2\\\\\n",
       "\tFord Pantera L & 15.8 & 8 & 351.0 & 264 & 4.22 & 3.170 & 14.50 & 0 & 1 & 5 & 4\\\\\n",
       "\tFerrari Dino & 19.7 & 6 & 145.0 & 175 & 3.62 & 2.770 & 15.50 & 0 & 1 & 5 & 6\\\\\n",
       "\tMaserati Bora & 15.0 & 8 & 301.0 & 335 & 3.54 & 3.570 & 14.60 & 0 & 1 & 5 & 8\\\\\n",
       "\tVolvo 142E & 21.4 & 4 & 121.0 & 109 & 4.11 & 2.780 & 18.60 & 1 & 1 & 4 & 2\\\\\n",
       "\\end{tabular}\n"
      ],
      "text/markdown": [
       "\n",
       "A data.frame: 32 × 11\n",
       "\n",
       "| <!--/--> | mpg &lt;dbl&gt; | cyl &lt;dbl&gt; | disp &lt;dbl&gt; | hp &lt;dbl&gt; | drat &lt;dbl&gt; | wt &lt;dbl&gt; | qsec &lt;dbl&gt; | vs &lt;dbl&gt; | am &lt;dbl&gt; | gear &lt;dbl&gt; | carb &lt;dbl&gt; |\n",
       "|---|---|---|---|---|---|---|---|---|---|---|---|\n",
       "| Mazda RX4 | 21.0 | 6 | 160.0 | 110 | 3.90 | 2.620 | 16.46 | 0 | 1 | 4 | 4 |\n",
       "| Mazda RX4 Wag | 21.0 | 6 | 160.0 | 110 | 3.90 | 2.875 | 17.02 | 0 | 1 | 4 | 4 |\n",
       "| Datsun 710 | 22.8 | 4 | 108.0 |  93 | 3.85 | 2.320 | 18.61 | 1 | 1 | 4 | 1 |\n",
       "| Hornet 4 Drive | 21.4 | 6 | 258.0 | 110 | 3.08 | 3.215 | 19.44 | 1 | 0 | 3 | 1 |\n",
       "| Hornet Sportabout | 18.7 | 8 | 360.0 | 175 | 3.15 | 3.440 | 17.02 | 0 | 0 | 3 | 2 |\n",
       "| Valiant | 18.1 | 6 | 225.0 | 105 | 2.76 | 3.460 | 20.22 | 1 | 0 | 3 | 1 |\n",
       "| Duster 360 | 14.3 | 8 | 360.0 | 245 | 3.21 | 3.570 | 15.84 | 0 | 0 | 3 | 4 |\n",
       "| Merc 240D | 24.4 | 4 | 146.7 |  62 | 3.69 | 3.190 | 20.00 | 1 | 0 | 4 | 2 |\n",
       "| Merc 230 | 22.8 | 4 | 140.8 |  95 | 3.92 | 3.150 | 22.90 | 1 | 0 | 4 | 2 |\n",
       "| Merc 280 | 19.2 | 6 | 167.6 | 123 | 3.92 | 3.440 | 18.30 | 1 | 0 | 4 | 4 |\n",
       "| Merc 280C | 17.8 | 6 | 167.6 | 123 | 3.92 | 3.440 | 18.90 | 1 | 0 | 4 | 4 |\n",
       "| Merc 450SE | 16.4 | 8 | 275.8 | 180 | 3.07 | 4.070 | 17.40 | 0 | 0 | 3 | 3 |\n",
       "| Merc 450SL | 17.3 | 8 | 275.8 | 180 | 3.07 | 3.730 | 17.60 | 0 | 0 | 3 | 3 |\n",
       "| Merc 450SLC | 15.2 | 8 | 275.8 | 180 | 3.07 | 3.780 | 18.00 | 0 | 0 | 3 | 3 |\n",
       "| Cadillac Fleetwood | 10.4 | 8 | 472.0 | 205 | 2.93 | 5.250 | 17.98 | 0 | 0 | 3 | 4 |\n",
       "| Lincoln Continental | 10.4 | 8 | 460.0 | 215 | 3.00 | 5.424 | 17.82 | 0 | 0 | 3 | 4 |\n",
       "| Chrysler Imperial | 14.7 | 8 | 440.0 | 230 | 3.23 | 5.345 | 17.42 | 0 | 0 | 3 | 4 |\n",
       "| Fiat 128 | 32.4 | 4 |  78.7 |  66 | 4.08 | 2.200 | 19.47 | 1 | 1 | 4 | 1 |\n",
       "| Honda Civic | 30.4 | 4 |  75.7 |  52 | 4.93 | 1.615 | 18.52 | 1 | 1 | 4 | 2 |\n",
       "| Toyota Corolla | 33.9 | 4 |  71.1 |  65 | 4.22 | 1.835 | 19.90 | 1 | 1 | 4 | 1 |\n",
       "| Toyota Corona | 21.5 | 4 | 120.1 |  97 | 3.70 | 2.465 | 20.01 | 1 | 0 | 3 | 1 |\n",
       "| Dodge Challenger | 15.5 | 8 | 318.0 | 150 | 2.76 | 3.520 | 16.87 | 0 | 0 | 3 | 2 |\n",
       "| AMC Javelin | 15.2 | 8 | 304.0 | 150 | 3.15 | 3.435 | 17.30 | 0 | 0 | 3 | 2 |\n",
       "| Camaro Z28 | 13.3 | 8 | 350.0 | 245 | 3.73 | 3.840 | 15.41 | 0 | 0 | 3 | 4 |\n",
       "| Pontiac Firebird | 19.2 | 8 | 400.0 | 175 | 3.08 | 3.845 | 17.05 | 0 | 0 | 3 | 2 |\n",
       "| Fiat X1-9 | 27.3 | 4 |  79.0 |  66 | 4.08 | 1.935 | 18.90 | 1 | 1 | 4 | 1 |\n",
       "| Porsche 914-2 | 26.0 | 4 | 120.3 |  91 | 4.43 | 2.140 | 16.70 | 0 | 1 | 5 | 2 |\n",
       "| Lotus Europa | 30.4 | 4 |  95.1 | 113 | 3.77 | 1.513 | 16.90 | 1 | 1 | 5 | 2 |\n",
       "| Ford Pantera L | 15.8 | 8 | 351.0 | 264 | 4.22 | 3.170 | 14.50 | 0 | 1 | 5 | 4 |\n",
       "| Ferrari Dino | 19.7 | 6 | 145.0 | 175 | 3.62 | 2.770 | 15.50 | 0 | 1 | 5 | 6 |\n",
       "| Maserati Bora | 15.0 | 8 | 301.0 | 335 | 3.54 | 3.570 | 14.60 | 0 | 1 | 5 | 8 |\n",
       "| Volvo 142E | 21.4 | 4 | 121.0 | 109 | 4.11 | 2.780 | 18.60 | 1 | 1 | 4 | 2 |\n",
       "\n"
      ],
      "text/plain": [
       "                    mpg  cyl disp  hp  drat wt    qsec  vs am gear carb\n",
       "Mazda RX4           21.0 6   160.0 110 3.90 2.620 16.46 0  1  4    4   \n",
       "Mazda RX4 Wag       21.0 6   160.0 110 3.90 2.875 17.02 0  1  4    4   \n",
       "Datsun 710          22.8 4   108.0  93 3.85 2.320 18.61 1  1  4    1   \n",
       "Hornet 4 Drive      21.4 6   258.0 110 3.08 3.215 19.44 1  0  3    1   \n",
       "Hornet Sportabout   18.7 8   360.0 175 3.15 3.440 17.02 0  0  3    2   \n",
       "Valiant             18.1 6   225.0 105 2.76 3.460 20.22 1  0  3    1   \n",
       "Duster 360          14.3 8   360.0 245 3.21 3.570 15.84 0  0  3    4   \n",
       "Merc 240D           24.4 4   146.7  62 3.69 3.190 20.00 1  0  4    2   \n",
       "Merc 230            22.8 4   140.8  95 3.92 3.150 22.90 1  0  4    2   \n",
       "Merc 280            19.2 6   167.6 123 3.92 3.440 18.30 1  0  4    4   \n",
       "Merc 280C           17.8 6   167.6 123 3.92 3.440 18.90 1  0  4    4   \n",
       "Merc 450SE          16.4 8   275.8 180 3.07 4.070 17.40 0  0  3    3   \n",
       "Merc 450SL          17.3 8   275.8 180 3.07 3.730 17.60 0  0  3    3   \n",
       "Merc 450SLC         15.2 8   275.8 180 3.07 3.780 18.00 0  0  3    3   \n",
       "Cadillac Fleetwood  10.4 8   472.0 205 2.93 5.250 17.98 0  0  3    4   \n",
       "Lincoln Continental 10.4 8   460.0 215 3.00 5.424 17.82 0  0  3    4   \n",
       "Chrysler Imperial   14.7 8   440.0 230 3.23 5.345 17.42 0  0  3    4   \n",
       "Fiat 128            32.4 4    78.7  66 4.08 2.200 19.47 1  1  4    1   \n",
       "Honda Civic         30.4 4    75.7  52 4.93 1.615 18.52 1  1  4    2   \n",
       "Toyota Corolla      33.9 4    71.1  65 4.22 1.835 19.90 1  1  4    1   \n",
       "Toyota Corona       21.5 4   120.1  97 3.70 2.465 20.01 1  0  3    1   \n",
       "Dodge Challenger    15.5 8   318.0 150 2.76 3.520 16.87 0  0  3    2   \n",
       "AMC Javelin         15.2 8   304.0 150 3.15 3.435 17.30 0  0  3    2   \n",
       "Camaro Z28          13.3 8   350.0 245 3.73 3.840 15.41 0  0  3    4   \n",
       "Pontiac Firebird    19.2 8   400.0 175 3.08 3.845 17.05 0  0  3    2   \n",
       "Fiat X1-9           27.3 4    79.0  66 4.08 1.935 18.90 1  1  4    1   \n",
       "Porsche 914-2       26.0 4   120.3  91 4.43 2.140 16.70 0  1  5    2   \n",
       "Lotus Europa        30.4 4    95.1 113 3.77 1.513 16.90 1  1  5    2   \n",
       "Ford Pantera L      15.8 8   351.0 264 4.22 3.170 14.50 0  1  5    4   \n",
       "Ferrari Dino        19.7 6   145.0 175 3.62 2.770 15.50 0  1  5    6   \n",
       "Maserati Bora       15.0 8   301.0 335 3.54 3.570 14.60 0  1  5    8   \n",
       "Volvo 142E          21.4 4   121.0 109 4.11 2.780 18.60 1  1  4    2   "
      ]
     },
     "metadata": {},
     "output_type": "display_data"
    }
   ],
   "source": [
    "mtcars"
   ]
  },
  {
   "cell_type": "code",
   "execution_count": 7,
   "id": "8b0db278",
   "metadata": {},
   "outputs": [],
   "source": [
    "?mtcars"
   ]
  },
  {
   "cell_type": "code",
   "execution_count": 8,
   "id": "ae01d8d6",
   "metadata": {},
   "outputs": [
    {
     "data": {
      "text/html": [
       "<style>\n",
       ".list-inline {list-style: none; margin:0; padding: 0}\n",
       ".list-inline>li {display: inline-block}\n",
       ".list-inline>li:not(:last-child)::after {content: \"\\00b7\"; padding: 0 .5ex}\n",
       "</style>\n",
       "<ol class=list-inline><li>32</li><li>11</li></ol>\n"
      ],
      "text/latex": [
       "\\begin{enumerate*}\n",
       "\\item 32\n",
       "\\item 11\n",
       "\\end{enumerate*}\n"
      ],
      "text/markdown": [
       "1. 32\n",
       "2. 11\n",
       "\n",
       "\n"
      ],
      "text/plain": [
       "[1] 32 11"
      ]
     },
     "metadata": {},
     "output_type": "display_data"
    }
   ],
   "source": [
    "dim(mtcars)"
   ]
  },
  {
   "cell_type": "code",
   "execution_count": 9,
   "id": "88e946fd",
   "metadata": {},
   "outputs": [
    {
     "data": {
      "text/html": [
       "11"
      ],
      "text/latex": [
       "11"
      ],
      "text/markdown": [
       "11"
      ],
      "text/plain": [
       "[1] 11"
      ]
     },
     "metadata": {},
     "output_type": "display_data"
    }
   ],
   "source": [
    "ncol(mtcars)"
   ]
  },
  {
   "cell_type": "code",
   "execution_count": 10,
   "id": "2d3440b7",
   "metadata": {},
   "outputs": [
    {
     "data": {
      "text/html": [
       "32"
      ],
      "text/latex": [
       "32"
      ],
      "text/markdown": [
       "32"
      ],
      "text/plain": [
       "[1] 32"
      ]
     },
     "metadata": {},
     "output_type": "display_data"
    }
   ],
   "source": [
    "nrow(mtcars)"
   ]
  },
  {
   "cell_type": "code",
   "execution_count": 12,
   "id": "edb07481",
   "metadata": {},
   "outputs": [
    {
     "data": {
      "text/html": [
       "<table class=\"dataframe\">\n",
       "<caption>A data.frame: 7 × 11</caption>\n",
       "<thead>\n",
       "\t<tr><th></th><th scope=col>mpg</th><th scope=col>cyl</th><th scope=col>disp</th><th scope=col>hp</th><th scope=col>drat</th><th scope=col>wt</th><th scope=col>qsec</th><th scope=col>vs</th><th scope=col>am</th><th scope=col>gear</th><th scope=col>carb</th></tr>\n",
       "\t<tr><th></th><th scope=col>&lt;dbl&gt;</th><th scope=col>&lt;dbl&gt;</th><th scope=col>&lt;dbl&gt;</th><th scope=col>&lt;dbl&gt;</th><th scope=col>&lt;dbl&gt;</th><th scope=col>&lt;dbl&gt;</th><th scope=col>&lt;dbl&gt;</th><th scope=col>&lt;dbl&gt;</th><th scope=col>&lt;dbl&gt;</th><th scope=col>&lt;dbl&gt;</th><th scope=col>&lt;dbl&gt;</th></tr>\n",
       "</thead>\n",
       "<tbody>\n",
       "\t<tr><th scope=row>Mazda RX4</th><td>21.0</td><td>6</td><td>160</td><td>110</td><td>3.90</td><td>2.620</td><td>16.46</td><td>0</td><td>1</td><td>4</td><td>4</td></tr>\n",
       "\t<tr><th scope=row>Mazda RX4 Wag</th><td>21.0</td><td>6</td><td>160</td><td>110</td><td>3.90</td><td>2.875</td><td>17.02</td><td>0</td><td>1</td><td>4</td><td>4</td></tr>\n",
       "\t<tr><th scope=row>Datsun 710</th><td>22.8</td><td>4</td><td>108</td><td> 93</td><td>3.85</td><td>2.320</td><td>18.61</td><td>1</td><td>1</td><td>4</td><td>1</td></tr>\n",
       "\t<tr><th scope=row>Hornet 4 Drive</th><td>21.4</td><td>6</td><td>258</td><td>110</td><td>3.08</td><td>3.215</td><td>19.44</td><td>1</td><td>0</td><td>3</td><td>1</td></tr>\n",
       "\t<tr><th scope=row>Hornet Sportabout</th><td>18.7</td><td>8</td><td>360</td><td>175</td><td>3.15</td><td>3.440</td><td>17.02</td><td>0</td><td>0</td><td>3</td><td>2</td></tr>\n",
       "\t<tr><th scope=row>Valiant</th><td>18.1</td><td>6</td><td>225</td><td>105</td><td>2.76</td><td>3.460</td><td>20.22</td><td>1</td><td>0</td><td>3</td><td>1</td></tr>\n",
       "\t<tr><th scope=row>Duster 360</th><td>14.3</td><td>8</td><td>360</td><td>245</td><td>3.21</td><td>3.570</td><td>15.84</td><td>0</td><td>0</td><td>3</td><td>4</td></tr>\n",
       "</tbody>\n",
       "</table>\n"
      ],
      "text/latex": [
       "A data.frame: 7 × 11\n",
       "\\begin{tabular}{r|lllllllllll}\n",
       "  & mpg & cyl & disp & hp & drat & wt & qsec & vs & am & gear & carb\\\\\n",
       "  & <dbl> & <dbl> & <dbl> & <dbl> & <dbl> & <dbl> & <dbl> & <dbl> & <dbl> & <dbl> & <dbl>\\\\\n",
       "\\hline\n",
       "\tMazda RX4 & 21.0 & 6 & 160 & 110 & 3.90 & 2.620 & 16.46 & 0 & 1 & 4 & 4\\\\\n",
       "\tMazda RX4 Wag & 21.0 & 6 & 160 & 110 & 3.90 & 2.875 & 17.02 & 0 & 1 & 4 & 4\\\\\n",
       "\tDatsun 710 & 22.8 & 4 & 108 &  93 & 3.85 & 2.320 & 18.61 & 1 & 1 & 4 & 1\\\\\n",
       "\tHornet 4 Drive & 21.4 & 6 & 258 & 110 & 3.08 & 3.215 & 19.44 & 1 & 0 & 3 & 1\\\\\n",
       "\tHornet Sportabout & 18.7 & 8 & 360 & 175 & 3.15 & 3.440 & 17.02 & 0 & 0 & 3 & 2\\\\\n",
       "\tValiant & 18.1 & 6 & 225 & 105 & 2.76 & 3.460 & 20.22 & 1 & 0 & 3 & 1\\\\\n",
       "\tDuster 360 & 14.3 & 8 & 360 & 245 & 3.21 & 3.570 & 15.84 & 0 & 0 & 3 & 4\\\\\n",
       "\\end{tabular}\n"
      ],
      "text/markdown": [
       "\n",
       "A data.frame: 7 × 11\n",
       "\n",
       "| <!--/--> | mpg &lt;dbl&gt; | cyl &lt;dbl&gt; | disp &lt;dbl&gt; | hp &lt;dbl&gt; | drat &lt;dbl&gt; | wt &lt;dbl&gt; | qsec &lt;dbl&gt; | vs &lt;dbl&gt; | am &lt;dbl&gt; | gear &lt;dbl&gt; | carb &lt;dbl&gt; |\n",
       "|---|---|---|---|---|---|---|---|---|---|---|---|\n",
       "| Mazda RX4 | 21.0 | 6 | 160 | 110 | 3.90 | 2.620 | 16.46 | 0 | 1 | 4 | 4 |\n",
       "| Mazda RX4 Wag | 21.0 | 6 | 160 | 110 | 3.90 | 2.875 | 17.02 | 0 | 1 | 4 | 4 |\n",
       "| Datsun 710 | 22.8 | 4 | 108 |  93 | 3.85 | 2.320 | 18.61 | 1 | 1 | 4 | 1 |\n",
       "| Hornet 4 Drive | 21.4 | 6 | 258 | 110 | 3.08 | 3.215 | 19.44 | 1 | 0 | 3 | 1 |\n",
       "| Hornet Sportabout | 18.7 | 8 | 360 | 175 | 3.15 | 3.440 | 17.02 | 0 | 0 | 3 | 2 |\n",
       "| Valiant | 18.1 | 6 | 225 | 105 | 2.76 | 3.460 | 20.22 | 1 | 0 | 3 | 1 |\n",
       "| Duster 360 | 14.3 | 8 | 360 | 245 | 3.21 | 3.570 | 15.84 | 0 | 0 | 3 | 4 |\n",
       "\n"
      ],
      "text/plain": [
       "                  mpg  cyl disp hp  drat wt    qsec  vs am gear carb\n",
       "Mazda RX4         21.0 6   160  110 3.90 2.620 16.46 0  1  4    4   \n",
       "Mazda RX4 Wag     21.0 6   160  110 3.90 2.875 17.02 0  1  4    4   \n",
       "Datsun 710        22.8 4   108   93 3.85 2.320 18.61 1  1  4    1   \n",
       "Hornet 4 Drive    21.4 6   258  110 3.08 3.215 19.44 1  0  3    1   \n",
       "Hornet Sportabout 18.7 8   360  175 3.15 3.440 17.02 0  0  3    2   \n",
       "Valiant           18.1 6   225  105 2.76 3.460 20.22 1  0  3    1   \n",
       "Duster 360        14.3 8   360  245 3.21 3.570 15.84 0  0  3    4   "
      ]
     },
     "metadata": {},
     "output_type": "display_data"
    }
   ],
   "source": [
    "head(mtcars, 7)"
   ]
  },
  {
   "cell_type": "code",
   "execution_count": 13,
   "id": "f24677a0",
   "metadata": {},
   "outputs": [
    {
     "data": {
      "text/html": [
       "<table class=\"dataframe\">\n",
       "<caption>A data.frame: 3 × 11</caption>\n",
       "<thead>\n",
       "\t<tr><th></th><th scope=col>mpg</th><th scope=col>cyl</th><th scope=col>disp</th><th scope=col>hp</th><th scope=col>drat</th><th scope=col>wt</th><th scope=col>qsec</th><th scope=col>vs</th><th scope=col>am</th><th scope=col>gear</th><th scope=col>carb</th></tr>\n",
       "\t<tr><th></th><th scope=col>&lt;dbl&gt;</th><th scope=col>&lt;dbl&gt;</th><th scope=col>&lt;dbl&gt;</th><th scope=col>&lt;dbl&gt;</th><th scope=col>&lt;dbl&gt;</th><th scope=col>&lt;dbl&gt;</th><th scope=col>&lt;dbl&gt;</th><th scope=col>&lt;dbl&gt;</th><th scope=col>&lt;dbl&gt;</th><th scope=col>&lt;dbl&gt;</th><th scope=col>&lt;dbl&gt;</th></tr>\n",
       "</thead>\n",
       "<tbody>\n",
       "\t<tr><th scope=row>Ferrari Dino</th><td>19.7</td><td>6</td><td>145</td><td>175</td><td>3.62</td><td>2.77</td><td>15.5</td><td>0</td><td>1</td><td>5</td><td>6</td></tr>\n",
       "\t<tr><th scope=row>Maserati Bora</th><td>15.0</td><td>8</td><td>301</td><td>335</td><td>3.54</td><td>3.57</td><td>14.6</td><td>0</td><td>1</td><td>5</td><td>8</td></tr>\n",
       "\t<tr><th scope=row>Volvo 142E</th><td>21.4</td><td>4</td><td>121</td><td>109</td><td>4.11</td><td>2.78</td><td>18.6</td><td>1</td><td>1</td><td>4</td><td>2</td></tr>\n",
       "</tbody>\n",
       "</table>\n"
      ],
      "text/latex": [
       "A data.frame: 3 × 11\n",
       "\\begin{tabular}{r|lllllllllll}\n",
       "  & mpg & cyl & disp & hp & drat & wt & qsec & vs & am & gear & carb\\\\\n",
       "  & <dbl> & <dbl> & <dbl> & <dbl> & <dbl> & <dbl> & <dbl> & <dbl> & <dbl> & <dbl> & <dbl>\\\\\n",
       "\\hline\n",
       "\tFerrari Dino & 19.7 & 6 & 145 & 175 & 3.62 & 2.77 & 15.5 & 0 & 1 & 5 & 6\\\\\n",
       "\tMaserati Bora & 15.0 & 8 & 301 & 335 & 3.54 & 3.57 & 14.6 & 0 & 1 & 5 & 8\\\\\n",
       "\tVolvo 142E & 21.4 & 4 & 121 & 109 & 4.11 & 2.78 & 18.6 & 1 & 1 & 4 & 2\\\\\n",
       "\\end{tabular}\n"
      ],
      "text/markdown": [
       "\n",
       "A data.frame: 3 × 11\n",
       "\n",
       "| <!--/--> | mpg &lt;dbl&gt; | cyl &lt;dbl&gt; | disp &lt;dbl&gt; | hp &lt;dbl&gt; | drat &lt;dbl&gt; | wt &lt;dbl&gt; | qsec &lt;dbl&gt; | vs &lt;dbl&gt; | am &lt;dbl&gt; | gear &lt;dbl&gt; | carb &lt;dbl&gt; |\n",
       "|---|---|---|---|---|---|---|---|---|---|---|---|\n",
       "| Ferrari Dino | 19.7 | 6 | 145 | 175 | 3.62 | 2.77 | 15.5 | 0 | 1 | 5 | 6 |\n",
       "| Maserati Bora | 15.0 | 8 | 301 | 335 | 3.54 | 3.57 | 14.6 | 0 | 1 | 5 | 8 |\n",
       "| Volvo 142E | 21.4 | 4 | 121 | 109 | 4.11 | 2.78 | 18.6 | 1 | 1 | 4 | 2 |\n",
       "\n"
      ],
      "text/plain": [
       "              mpg  cyl disp hp  drat wt   qsec vs am gear carb\n",
       "Ferrari Dino  19.7 6   145  175 3.62 2.77 15.5 0  1  5    6   \n",
       "Maserati Bora 15.0 8   301  335 3.54 3.57 14.6 0  1  5    8   \n",
       "Volvo 142E    21.4 4   121  109 4.11 2.78 18.6 1  1  4    2   "
      ]
     },
     "metadata": {},
     "output_type": "display_data"
    }
   ],
   "source": [
    "tail(mtcars, 3)"
   ]
  },
  {
   "cell_type": "code",
   "execution_count": 14,
   "id": "ec0201e7",
   "metadata": {},
   "outputs": [
    {
     "name": "stdout",
     "output_type": "stream",
     "text": [
      "'data.frame':\t32 obs. of  11 variables:\n",
      " $ mpg : num  21 21 22.8 21.4 18.7 18.1 14.3 24.4 22.8 19.2 ...\n",
      " $ cyl : num  6 6 4 6 8 6 8 4 4 6 ...\n",
      " $ disp: num  160 160 108 258 360 ...\n",
      " $ hp  : num  110 110 93 110 175 105 245 62 95 123 ...\n",
      " $ drat: num  3.9 3.9 3.85 3.08 3.15 2.76 3.21 3.69 3.92 3.92 ...\n",
      " $ wt  : num  2.62 2.88 2.32 3.21 3.44 ...\n",
      " $ qsec: num  16.5 17 18.6 19.4 17 ...\n",
      " $ vs  : num  0 0 1 1 0 1 0 1 1 1 ...\n",
      " $ am  : num  1 1 1 0 0 0 0 0 0 0 ...\n",
      " $ gear: num  4 4 4 3 3 3 3 4 4 4 ...\n",
      " $ carb: num  4 4 1 1 2 1 4 2 2 4 ...\n"
     ]
    }
   ],
   "source": [
    "str(mtcars)"
   ]
  },
  {
   "cell_type": "code",
   "execution_count": 15,
   "id": "11656a6d",
   "metadata": {},
   "outputs": [
    {
     "data": {
      "text/html": [
       "<style>\n",
       ".list-inline {list-style: none; margin:0; padding: 0}\n",
       ".list-inline>li {display: inline-block}\n",
       ".list-inline>li:not(:last-child)::after {content: \"\\00b7\"; padding: 0 .5ex}\n",
       "</style>\n",
       "<ol class=list-inline><li>'Mazda RX4'</li><li>'Mazda RX4 Wag'</li><li>'Datsun 710'</li><li>'Hornet 4 Drive'</li><li>'Hornet Sportabout'</li><li>'Valiant'</li><li>'Duster 360'</li><li>'Merc 240D'</li><li>'Merc 230'</li><li>'Merc 280'</li><li>'Merc 280C'</li><li>'Merc 450SE'</li><li>'Merc 450SL'</li><li>'Merc 450SLC'</li><li>'Cadillac Fleetwood'</li><li>'Lincoln Continental'</li><li>'Chrysler Imperial'</li><li>'Fiat 128'</li><li>'Honda Civic'</li><li>'Toyota Corolla'</li><li>'Toyota Corona'</li><li>'Dodge Challenger'</li><li>'AMC Javelin'</li><li>'Camaro Z28'</li><li>'Pontiac Firebird'</li><li>'Fiat X1-9'</li><li>'Porsche 914-2'</li><li>'Lotus Europa'</li><li>'Ford Pantera L'</li><li>'Ferrari Dino'</li><li>'Maserati Bora'</li><li>'Volvo 142E'</li></ol>\n"
      ],
      "text/latex": [
       "\\begin{enumerate*}\n",
       "\\item 'Mazda RX4'\n",
       "\\item 'Mazda RX4 Wag'\n",
       "\\item 'Datsun 710'\n",
       "\\item 'Hornet 4 Drive'\n",
       "\\item 'Hornet Sportabout'\n",
       "\\item 'Valiant'\n",
       "\\item 'Duster 360'\n",
       "\\item 'Merc 240D'\n",
       "\\item 'Merc 230'\n",
       "\\item 'Merc 280'\n",
       "\\item 'Merc 280C'\n",
       "\\item 'Merc 450SE'\n",
       "\\item 'Merc 450SL'\n",
       "\\item 'Merc 450SLC'\n",
       "\\item 'Cadillac Fleetwood'\n",
       "\\item 'Lincoln Continental'\n",
       "\\item 'Chrysler Imperial'\n",
       "\\item 'Fiat 128'\n",
       "\\item 'Honda Civic'\n",
       "\\item 'Toyota Corolla'\n",
       "\\item 'Toyota Corona'\n",
       "\\item 'Dodge Challenger'\n",
       "\\item 'AMC Javelin'\n",
       "\\item 'Camaro Z28'\n",
       "\\item 'Pontiac Firebird'\n",
       "\\item 'Fiat X1-9'\n",
       "\\item 'Porsche 914-2'\n",
       "\\item 'Lotus Europa'\n",
       "\\item 'Ford Pantera L'\n",
       "\\item 'Ferrari Dino'\n",
       "\\item 'Maserati Bora'\n",
       "\\item 'Volvo 142E'\n",
       "\\end{enumerate*}\n"
      ],
      "text/markdown": [
       "1. 'Mazda RX4'\n",
       "2. 'Mazda RX4 Wag'\n",
       "3. 'Datsun 710'\n",
       "4. 'Hornet 4 Drive'\n",
       "5. 'Hornet Sportabout'\n",
       "6. 'Valiant'\n",
       "7. 'Duster 360'\n",
       "8. 'Merc 240D'\n",
       "9. 'Merc 230'\n",
       "10. 'Merc 280'\n",
       "11. 'Merc 280C'\n",
       "12. 'Merc 450SE'\n",
       "13. 'Merc 450SL'\n",
       "14. 'Merc 450SLC'\n",
       "15. 'Cadillac Fleetwood'\n",
       "16. 'Lincoln Continental'\n",
       "17. 'Chrysler Imperial'\n",
       "18. 'Fiat 128'\n",
       "19. 'Honda Civic'\n",
       "20. 'Toyota Corolla'\n",
       "21. 'Toyota Corona'\n",
       "22. 'Dodge Challenger'\n",
       "23. 'AMC Javelin'\n",
       "24. 'Camaro Z28'\n",
       "25. 'Pontiac Firebird'\n",
       "26. 'Fiat X1-9'\n",
       "27. 'Porsche 914-2'\n",
       "28. 'Lotus Europa'\n",
       "29. 'Ford Pantera L'\n",
       "30. 'Ferrari Dino'\n",
       "31. 'Maserati Bora'\n",
       "32. 'Volvo 142E'\n",
       "\n",
       "\n"
      ],
      "text/plain": [
       " [1] \"Mazda RX4\"           \"Mazda RX4 Wag\"       \"Datsun 710\"         \n",
       " [4] \"Hornet 4 Drive\"      \"Hornet Sportabout\"   \"Valiant\"            \n",
       " [7] \"Duster 360\"          \"Merc 240D\"           \"Merc 230\"           \n",
       "[10] \"Merc 280\"            \"Merc 280C\"           \"Merc 450SE\"         \n",
       "[13] \"Merc 450SL\"          \"Merc 450SLC\"         \"Cadillac Fleetwood\" \n",
       "[16] \"Lincoln Continental\" \"Chrysler Imperial\"   \"Fiat 128\"           \n",
       "[19] \"Honda Civic\"         \"Toyota Corolla\"      \"Toyota Corona\"      \n",
       "[22] \"Dodge Challenger\"    \"AMC Javelin\"         \"Camaro Z28\"         \n",
       "[25] \"Pontiac Firebird\"    \"Fiat X1-9\"           \"Porsche 914-2\"      \n",
       "[28] \"Lotus Europa\"        \"Ford Pantera L\"      \"Ferrari Dino\"       \n",
       "[31] \"Maserati Bora\"       \"Volvo 142E\"         "
      ]
     },
     "metadata": {},
     "output_type": "display_data"
    }
   ],
   "source": [
    "row.names(mtcars)"
   ]
  },
  {
   "cell_type": "code",
   "execution_count": 16,
   "id": "daa8cc23",
   "metadata": {},
   "outputs": [
    {
     "data": {
      "text/html": [
       "<style>\n",
       ".list-inline {list-style: none; margin:0; padding: 0}\n",
       ".list-inline>li {display: inline-block}\n",
       ".list-inline>li:not(:last-child)::after {content: \"\\00b7\"; padding: 0 .5ex}\n",
       "</style>\n",
       "<ol class=list-inline><li>'Mazda RX4'</li><li>'Mazda RX4 Wag'</li><li>'Datsun 710'</li><li>'Hornet 4 Drive'</li><li>'Hornet Sportabout'</li><li>'Valiant'</li><li>'Duster 360'</li><li>'Merc 240D'</li><li>'Merc 230'</li><li>'Merc 280'</li><li>'Merc 280C'</li><li>'Merc 450SE'</li><li>'Merc 450SL'</li><li>'Merc 450SLC'</li><li>'Cadillac Fleetwood'</li><li>'Lincoln Continental'</li><li>'Chrysler Imperial'</li><li>'Fiat 128'</li><li>'Honda Civic'</li><li>'Toyota Corolla'</li><li>'Toyota Corona'</li><li>'Dodge Challenger'</li><li>'AMC Javelin'</li><li>'Camaro Z28'</li><li>'Pontiac Firebird'</li><li>'Fiat X1-9'</li><li>'Porsche 914-2'</li><li>'Lotus Europa'</li><li>'Ford Pantera L'</li><li>'Ferrari Dino'</li><li>'Maserati Bora'</li><li>'Volvo 142E'</li></ol>\n"
      ],
      "text/latex": [
       "\\begin{enumerate*}\n",
       "\\item 'Mazda RX4'\n",
       "\\item 'Mazda RX4 Wag'\n",
       "\\item 'Datsun 710'\n",
       "\\item 'Hornet 4 Drive'\n",
       "\\item 'Hornet Sportabout'\n",
       "\\item 'Valiant'\n",
       "\\item 'Duster 360'\n",
       "\\item 'Merc 240D'\n",
       "\\item 'Merc 230'\n",
       "\\item 'Merc 280'\n",
       "\\item 'Merc 280C'\n",
       "\\item 'Merc 450SE'\n",
       "\\item 'Merc 450SL'\n",
       "\\item 'Merc 450SLC'\n",
       "\\item 'Cadillac Fleetwood'\n",
       "\\item 'Lincoln Continental'\n",
       "\\item 'Chrysler Imperial'\n",
       "\\item 'Fiat 128'\n",
       "\\item 'Honda Civic'\n",
       "\\item 'Toyota Corolla'\n",
       "\\item 'Toyota Corona'\n",
       "\\item 'Dodge Challenger'\n",
       "\\item 'AMC Javelin'\n",
       "\\item 'Camaro Z28'\n",
       "\\item 'Pontiac Firebird'\n",
       "\\item 'Fiat X1-9'\n",
       "\\item 'Porsche 914-2'\n",
       "\\item 'Lotus Europa'\n",
       "\\item 'Ford Pantera L'\n",
       "\\item 'Ferrari Dino'\n",
       "\\item 'Maserati Bora'\n",
       "\\item 'Volvo 142E'\n",
       "\\end{enumerate*}\n"
      ],
      "text/markdown": [
       "1. 'Mazda RX4'\n",
       "2. 'Mazda RX4 Wag'\n",
       "3. 'Datsun 710'\n",
       "4. 'Hornet 4 Drive'\n",
       "5. 'Hornet Sportabout'\n",
       "6. 'Valiant'\n",
       "7. 'Duster 360'\n",
       "8. 'Merc 240D'\n",
       "9. 'Merc 230'\n",
       "10. 'Merc 280'\n",
       "11. 'Merc 280C'\n",
       "12. 'Merc 450SE'\n",
       "13. 'Merc 450SL'\n",
       "14. 'Merc 450SLC'\n",
       "15. 'Cadillac Fleetwood'\n",
       "16. 'Lincoln Continental'\n",
       "17. 'Chrysler Imperial'\n",
       "18. 'Fiat 128'\n",
       "19. 'Honda Civic'\n",
       "20. 'Toyota Corolla'\n",
       "21. 'Toyota Corona'\n",
       "22. 'Dodge Challenger'\n",
       "23. 'AMC Javelin'\n",
       "24. 'Camaro Z28'\n",
       "25. 'Pontiac Firebird'\n",
       "26. 'Fiat X1-9'\n",
       "27. 'Porsche 914-2'\n",
       "28. 'Lotus Europa'\n",
       "29. 'Ford Pantera L'\n",
       "30. 'Ferrari Dino'\n",
       "31. 'Maserati Bora'\n",
       "32. 'Volvo 142E'\n",
       "\n",
       "\n"
      ],
      "text/plain": [
       " [1] \"Mazda RX4\"           \"Mazda RX4 Wag\"       \"Datsun 710\"         \n",
       " [4] \"Hornet 4 Drive\"      \"Hornet Sportabout\"   \"Valiant\"            \n",
       " [7] \"Duster 360\"          \"Merc 240D\"           \"Merc 230\"           \n",
       "[10] \"Merc 280\"            \"Merc 280C\"           \"Merc 450SE\"         \n",
       "[13] \"Merc 450SL\"          \"Merc 450SLC\"         \"Cadillac Fleetwood\" \n",
       "[16] \"Lincoln Continental\" \"Chrysler Imperial\"   \"Fiat 128\"           \n",
       "[19] \"Honda Civic\"         \"Toyota Corolla\"      \"Toyota Corona\"      \n",
       "[22] \"Dodge Challenger\"    \"AMC Javelin\"         \"Camaro Z28\"         \n",
       "[25] \"Pontiac Firebird\"    \"Fiat X1-9\"           \"Porsche 914-2\"      \n",
       "[28] \"Lotus Europa\"        \"Ford Pantera L\"      \"Ferrari Dino\"       \n",
       "[31] \"Maserati Bora\"       \"Volvo 142E\"         "
      ]
     },
     "metadata": {},
     "output_type": "display_data"
    }
   ],
   "source": [
    "rownames(mtcars)"
   ]
  },
  {
   "cell_type": "code",
   "execution_count": 17,
   "id": "e9510ae3",
   "metadata": {},
   "outputs": [
    {
     "data": {
      "text/html": [
       "<style>\n",
       ".list-inline {list-style: none; margin:0; padding: 0}\n",
       ".list-inline>li {display: inline-block}\n",
       ".list-inline>li:not(:last-child)::after {content: \"\\00b7\"; padding: 0 .5ex}\n",
       "</style>\n",
       "<ol class=list-inline><li>'mpg'</li><li>'cyl'</li><li>'disp'</li><li>'hp'</li><li>'drat'</li><li>'wt'</li><li>'qsec'</li><li>'vs'</li><li>'am'</li><li>'gear'</li><li>'carb'</li></ol>\n"
      ],
      "text/latex": [
       "\\begin{enumerate*}\n",
       "\\item 'mpg'\n",
       "\\item 'cyl'\n",
       "\\item 'disp'\n",
       "\\item 'hp'\n",
       "\\item 'drat'\n",
       "\\item 'wt'\n",
       "\\item 'qsec'\n",
       "\\item 'vs'\n",
       "\\item 'am'\n",
       "\\item 'gear'\n",
       "\\item 'carb'\n",
       "\\end{enumerate*}\n"
      ],
      "text/markdown": [
       "1. 'mpg'\n",
       "2. 'cyl'\n",
       "3. 'disp'\n",
       "4. 'hp'\n",
       "5. 'drat'\n",
       "6. 'wt'\n",
       "7. 'qsec'\n",
       "8. 'vs'\n",
       "9. 'am'\n",
       "10. 'gear'\n",
       "11. 'carb'\n",
       "\n",
       "\n"
      ],
      "text/plain": [
       " [1] \"mpg\"  \"cyl\"  \"disp\" \"hp\"   \"drat\" \"wt\"   \"qsec\" \"vs\"   \"am\"   \"gear\"\n",
       "[11] \"carb\""
      ]
     },
     "metadata": {},
     "output_type": "display_data"
    }
   ],
   "source": [
    "colnames(mtcars)"
   ]
  },
  {
   "cell_type": "code",
   "execution_count": 19,
   "id": "5130fd5c",
   "metadata": {},
   "outputs": [
    {
     "data": {
      "text/html": [
       "<style>\n",
       ".list-inline {list-style: none; margin:0; padding: 0}\n",
       ".list-inline>li {display: inline-block}\n",
       ".list-inline>li:not(:last-child)::after {content: \"\\00b7\"; padding: 0 .5ex}\n",
       "</style>\n",
       "<ol class=list-inline><li>'mpg'</li><li>'cyl'</li><li>'disp'</li><li>'hp'</li><li>'drat'</li><li>'wt'</li><li>'qsec'</li><li>'vs'</li><li>'am'</li><li>'gear'</li><li>'carb'</li></ol>\n"
      ],
      "text/latex": [
       "\\begin{enumerate*}\n",
       "\\item 'mpg'\n",
       "\\item 'cyl'\n",
       "\\item 'disp'\n",
       "\\item 'hp'\n",
       "\\item 'drat'\n",
       "\\item 'wt'\n",
       "\\item 'qsec'\n",
       "\\item 'vs'\n",
       "\\item 'am'\n",
       "\\item 'gear'\n",
       "\\item 'carb'\n",
       "\\end{enumerate*}\n"
      ],
      "text/markdown": [
       "1. 'mpg'\n",
       "2. 'cyl'\n",
       "3. 'disp'\n",
       "4. 'hp'\n",
       "5. 'drat'\n",
       "6. 'wt'\n",
       "7. 'qsec'\n",
       "8. 'vs'\n",
       "9. 'am'\n",
       "10. 'gear'\n",
       "11. 'carb'\n",
       "\n",
       "\n"
      ],
      "text/plain": [
       " [1] \"mpg\"  \"cyl\"  \"disp\" \"hp\"   \"drat\" \"wt\"   \"qsec\" \"vs\"   \"am\"   \"gear\"\n",
       "[11] \"carb\""
      ]
     },
     "metadata": {},
     "output_type": "display_data"
    }
   ],
   "source": [
    "names(mtcars)"
   ]
  },
  {
   "cell_type": "markdown",
   "id": "e56dc1bb",
   "metadata": {},
   "source": [
    "## 7.1 Filtering"
   ]
  },
  {
   "cell_type": "code",
   "execution_count": 21,
   "id": "65421afb",
   "metadata": {},
   "outputs": [],
   "source": [
    "data(mtcars)"
   ]
  },
  {
   "cell_type": "code",
   "execution_count": 23,
   "id": "844b862d",
   "metadata": {},
   "outputs": [
    {
     "data": {
      "text/html": [
       "'data.frame'"
      ],
      "text/latex": [
       "'data.frame'"
      ],
      "text/markdown": [
       "'data.frame'"
      ],
      "text/plain": [
       "[1] \"data.frame\""
      ]
     },
     "metadata": {},
     "output_type": "display_data"
    }
   ],
   "source": [
    "class(mtcars)"
   ]
  },
  {
   "cell_type": "code",
   "execution_count": 24,
   "id": "963a2c67",
   "metadata": {},
   "outputs": [
    {
     "data": {
      "text/html": [
       "'numeric'"
      ],
      "text/latex": [
       "'numeric'"
      ],
      "text/markdown": [
       "'numeric'"
      ],
      "text/plain": [
       "[1] \"numeric\""
      ]
     },
     "metadata": {},
     "output_type": "display_data"
    }
   ],
   "source": [
    "class(mtcars[,'cyl'])"
   ]
  },
  {
   "cell_type": "code",
   "execution_count": 29,
   "id": "b81715a2",
   "metadata": {},
   "outputs": [
    {
     "data": {
      "text/html": [
       "<table class=\"dataframe\">\n",
       "<caption>A data.frame: 14 × 11</caption>\n",
       "<thead>\n",
       "\t<tr><th></th><th scope=col>mpg</th><th scope=col>cyl</th><th scope=col>disp</th><th scope=col>hp</th><th scope=col>drat</th><th scope=col>wt</th><th scope=col>qsec</th><th scope=col>vs</th><th scope=col>am</th><th scope=col>gear</th><th scope=col>carb</th></tr>\n",
       "\t<tr><th></th><th scope=col>&lt;dbl&gt;</th><th scope=col>&lt;dbl&gt;</th><th scope=col>&lt;dbl&gt;</th><th scope=col>&lt;dbl&gt;</th><th scope=col>&lt;dbl&gt;</th><th scope=col>&lt;dbl&gt;</th><th scope=col>&lt;dbl&gt;</th><th scope=col>&lt;dbl&gt;</th><th scope=col>&lt;dbl&gt;</th><th scope=col>&lt;dbl&gt;</th><th scope=col>&lt;dbl&gt;</th></tr>\n",
       "</thead>\n",
       "<tbody>\n",
       "\t<tr><th scope=row>Hornet Sportabout</th><td>18.7</td><td>8</td><td>360.0</td><td>175</td><td>3.15</td><td>3.440</td><td>17.02</td><td>0</td><td>0</td><td>3</td><td>2</td></tr>\n",
       "\t<tr><th scope=row>Duster 360</th><td>14.3</td><td>8</td><td>360.0</td><td>245</td><td>3.21</td><td>3.570</td><td>15.84</td><td>0</td><td>0</td><td>3</td><td>4</td></tr>\n",
       "\t<tr><th scope=row>Merc 450SE</th><td>16.4</td><td>8</td><td>275.8</td><td>180</td><td>3.07</td><td>4.070</td><td>17.40</td><td>0</td><td>0</td><td>3</td><td>3</td></tr>\n",
       "\t<tr><th scope=row>Merc 450SL</th><td>17.3</td><td>8</td><td>275.8</td><td>180</td><td>3.07</td><td>3.730</td><td>17.60</td><td>0</td><td>0</td><td>3</td><td>3</td></tr>\n",
       "\t<tr><th scope=row>Merc 450SLC</th><td>15.2</td><td>8</td><td>275.8</td><td>180</td><td>3.07</td><td>3.780</td><td>18.00</td><td>0</td><td>0</td><td>3</td><td>3</td></tr>\n",
       "\t<tr><th scope=row>Cadillac Fleetwood</th><td>10.4</td><td>8</td><td>472.0</td><td>205</td><td>2.93</td><td>5.250</td><td>17.98</td><td>0</td><td>0</td><td>3</td><td>4</td></tr>\n",
       "\t<tr><th scope=row>Lincoln Continental</th><td>10.4</td><td>8</td><td>460.0</td><td>215</td><td>3.00</td><td>5.424</td><td>17.82</td><td>0</td><td>0</td><td>3</td><td>4</td></tr>\n",
       "\t<tr><th scope=row>Chrysler Imperial</th><td>14.7</td><td>8</td><td>440.0</td><td>230</td><td>3.23</td><td>5.345</td><td>17.42</td><td>0</td><td>0</td><td>3</td><td>4</td></tr>\n",
       "\t<tr><th scope=row>Dodge Challenger</th><td>15.5</td><td>8</td><td>318.0</td><td>150</td><td>2.76</td><td>3.520</td><td>16.87</td><td>0</td><td>0</td><td>3</td><td>2</td></tr>\n",
       "\t<tr><th scope=row>AMC Javelin</th><td>15.2</td><td>8</td><td>304.0</td><td>150</td><td>3.15</td><td>3.435</td><td>17.30</td><td>0</td><td>0</td><td>3</td><td>2</td></tr>\n",
       "\t<tr><th scope=row>Camaro Z28</th><td>13.3</td><td>8</td><td>350.0</td><td>245</td><td>3.73</td><td>3.840</td><td>15.41</td><td>0</td><td>0</td><td>3</td><td>4</td></tr>\n",
       "\t<tr><th scope=row>Pontiac Firebird</th><td>19.2</td><td>8</td><td>400.0</td><td>175</td><td>3.08</td><td>3.845</td><td>17.05</td><td>0</td><td>0</td><td>3</td><td>2</td></tr>\n",
       "\t<tr><th scope=row>Ford Pantera L</th><td>15.8</td><td>8</td><td>351.0</td><td>264</td><td>4.22</td><td>3.170</td><td>14.50</td><td>0</td><td>1</td><td>5</td><td>4</td></tr>\n",
       "\t<tr><th scope=row>Maserati Bora</th><td>15.0</td><td>8</td><td>301.0</td><td>335</td><td>3.54</td><td>3.570</td><td>14.60</td><td>0</td><td>1</td><td>5</td><td>8</td></tr>\n",
       "</tbody>\n",
       "</table>\n"
      ],
      "text/latex": [
       "A data.frame: 14 × 11\n",
       "\\begin{tabular}{r|lllllllllll}\n",
       "  & mpg & cyl & disp & hp & drat & wt & qsec & vs & am & gear & carb\\\\\n",
       "  & <dbl> & <dbl> & <dbl> & <dbl> & <dbl> & <dbl> & <dbl> & <dbl> & <dbl> & <dbl> & <dbl>\\\\\n",
       "\\hline\n",
       "\tHornet Sportabout & 18.7 & 8 & 360.0 & 175 & 3.15 & 3.440 & 17.02 & 0 & 0 & 3 & 2\\\\\n",
       "\tDuster 360 & 14.3 & 8 & 360.0 & 245 & 3.21 & 3.570 & 15.84 & 0 & 0 & 3 & 4\\\\\n",
       "\tMerc 450SE & 16.4 & 8 & 275.8 & 180 & 3.07 & 4.070 & 17.40 & 0 & 0 & 3 & 3\\\\\n",
       "\tMerc 450SL & 17.3 & 8 & 275.8 & 180 & 3.07 & 3.730 & 17.60 & 0 & 0 & 3 & 3\\\\\n",
       "\tMerc 450SLC & 15.2 & 8 & 275.8 & 180 & 3.07 & 3.780 & 18.00 & 0 & 0 & 3 & 3\\\\\n",
       "\tCadillac Fleetwood & 10.4 & 8 & 472.0 & 205 & 2.93 & 5.250 & 17.98 & 0 & 0 & 3 & 4\\\\\n",
       "\tLincoln Continental & 10.4 & 8 & 460.0 & 215 & 3.00 & 5.424 & 17.82 & 0 & 0 & 3 & 4\\\\\n",
       "\tChrysler Imperial & 14.7 & 8 & 440.0 & 230 & 3.23 & 5.345 & 17.42 & 0 & 0 & 3 & 4\\\\\n",
       "\tDodge Challenger & 15.5 & 8 & 318.0 & 150 & 2.76 & 3.520 & 16.87 & 0 & 0 & 3 & 2\\\\\n",
       "\tAMC Javelin & 15.2 & 8 & 304.0 & 150 & 3.15 & 3.435 & 17.30 & 0 & 0 & 3 & 2\\\\\n",
       "\tCamaro Z28 & 13.3 & 8 & 350.0 & 245 & 3.73 & 3.840 & 15.41 & 0 & 0 & 3 & 4\\\\\n",
       "\tPontiac Firebird & 19.2 & 8 & 400.0 & 175 & 3.08 & 3.845 & 17.05 & 0 & 0 & 3 & 2\\\\\n",
       "\tFord Pantera L & 15.8 & 8 & 351.0 & 264 & 4.22 & 3.170 & 14.50 & 0 & 1 & 5 & 4\\\\\n",
       "\tMaserati Bora & 15.0 & 8 & 301.0 & 335 & 3.54 & 3.570 & 14.60 & 0 & 1 & 5 & 8\\\\\n",
       "\\end{tabular}\n"
      ],
      "text/markdown": [
       "\n",
       "A data.frame: 14 × 11\n",
       "\n",
       "| <!--/--> | mpg &lt;dbl&gt; | cyl &lt;dbl&gt; | disp &lt;dbl&gt; | hp &lt;dbl&gt; | drat &lt;dbl&gt; | wt &lt;dbl&gt; | qsec &lt;dbl&gt; | vs &lt;dbl&gt; | am &lt;dbl&gt; | gear &lt;dbl&gt; | carb &lt;dbl&gt; |\n",
       "|---|---|---|---|---|---|---|---|---|---|---|---|\n",
       "| Hornet Sportabout | 18.7 | 8 | 360.0 | 175 | 3.15 | 3.440 | 17.02 | 0 | 0 | 3 | 2 |\n",
       "| Duster 360 | 14.3 | 8 | 360.0 | 245 | 3.21 | 3.570 | 15.84 | 0 | 0 | 3 | 4 |\n",
       "| Merc 450SE | 16.4 | 8 | 275.8 | 180 | 3.07 | 4.070 | 17.40 | 0 | 0 | 3 | 3 |\n",
       "| Merc 450SL | 17.3 | 8 | 275.8 | 180 | 3.07 | 3.730 | 17.60 | 0 | 0 | 3 | 3 |\n",
       "| Merc 450SLC | 15.2 | 8 | 275.8 | 180 | 3.07 | 3.780 | 18.00 | 0 | 0 | 3 | 3 |\n",
       "| Cadillac Fleetwood | 10.4 | 8 | 472.0 | 205 | 2.93 | 5.250 | 17.98 | 0 | 0 | 3 | 4 |\n",
       "| Lincoln Continental | 10.4 | 8 | 460.0 | 215 | 3.00 | 5.424 | 17.82 | 0 | 0 | 3 | 4 |\n",
       "| Chrysler Imperial | 14.7 | 8 | 440.0 | 230 | 3.23 | 5.345 | 17.42 | 0 | 0 | 3 | 4 |\n",
       "| Dodge Challenger | 15.5 | 8 | 318.0 | 150 | 2.76 | 3.520 | 16.87 | 0 | 0 | 3 | 2 |\n",
       "| AMC Javelin | 15.2 | 8 | 304.0 | 150 | 3.15 | 3.435 | 17.30 | 0 | 0 | 3 | 2 |\n",
       "| Camaro Z28 | 13.3 | 8 | 350.0 | 245 | 3.73 | 3.840 | 15.41 | 0 | 0 | 3 | 4 |\n",
       "| Pontiac Firebird | 19.2 | 8 | 400.0 | 175 | 3.08 | 3.845 | 17.05 | 0 | 0 | 3 | 2 |\n",
       "| Ford Pantera L | 15.8 | 8 | 351.0 | 264 | 4.22 | 3.170 | 14.50 | 0 | 1 | 5 | 4 |\n",
       "| Maserati Bora | 15.0 | 8 | 301.0 | 335 | 3.54 | 3.570 | 14.60 | 0 | 1 | 5 | 8 |\n",
       "\n"
      ],
      "text/plain": [
       "                    mpg  cyl disp  hp  drat wt    qsec  vs am gear carb\n",
       "Hornet Sportabout   18.7 8   360.0 175 3.15 3.440 17.02 0  0  3    2   \n",
       "Duster 360          14.3 8   360.0 245 3.21 3.570 15.84 0  0  3    4   \n",
       "Merc 450SE          16.4 8   275.8 180 3.07 4.070 17.40 0  0  3    3   \n",
       "Merc 450SL          17.3 8   275.8 180 3.07 3.730 17.60 0  0  3    3   \n",
       "Merc 450SLC         15.2 8   275.8 180 3.07 3.780 18.00 0  0  3    3   \n",
       "Cadillac Fleetwood  10.4 8   472.0 205 2.93 5.250 17.98 0  0  3    4   \n",
       "Lincoln Continental 10.4 8   460.0 215 3.00 5.424 17.82 0  0  3    4   \n",
       "Chrysler Imperial   14.7 8   440.0 230 3.23 5.345 17.42 0  0  3    4   \n",
       "Dodge Challenger    15.5 8   318.0 150 2.76 3.520 16.87 0  0  3    2   \n",
       "AMC Javelin         15.2 8   304.0 150 3.15 3.435 17.30 0  0  3    2   \n",
       "Camaro Z28          13.3 8   350.0 245 3.73 3.840 15.41 0  0  3    4   \n",
       "Pontiac Firebird    19.2 8   400.0 175 3.08 3.845 17.05 0  0  3    2   \n",
       "Ford Pantera L      15.8 8   351.0 264 4.22 3.170 14.50 0  1  5    4   \n",
       "Maserati Bora       15.0 8   301.0 335 3.54 3.570 14.60 0  1  5    8   "
      ]
     },
     "metadata": {},
     "output_type": "display_data"
    }
   ],
   "source": [
    "mtcars[mtcars$cyl>6, ]"
   ]
  },
  {
   "cell_type": "code",
   "execution_count": 31,
   "id": "7691b9f7",
   "metadata": {},
   "outputs": [
    {
     "data": {
      "text/html": [
       "<style>\n",
       ".list-inline {list-style: none; margin:0; padding: 0}\n",
       ".list-inline>li {display: inline-block}\n",
       ".list-inline>li:not(:last-child)::after {content: \"\\00b7\"; padding: 0 .5ex}\n",
       "</style>\n",
       "<ol class=list-inline><li>TRUE</li><li>TRUE</li><li>FALSE</li><li>TRUE</li><li>TRUE</li><li>TRUE</li><li>TRUE</li><li>FALSE</li><li>FALSE</li><li>TRUE</li><li>TRUE</li><li>TRUE</li><li>TRUE</li><li>TRUE</li><li>TRUE</li><li>TRUE</li><li>TRUE</li><li>FALSE</li><li>FALSE</li><li>FALSE</li><li>FALSE</li><li>TRUE</li><li>TRUE</li><li>TRUE</li><li>TRUE</li><li>FALSE</li><li>FALSE</li><li>FALSE</li><li>TRUE</li><li>TRUE</li><li>TRUE</li><li>FALSE</li></ol>\n"
      ],
      "text/latex": [
       "\\begin{enumerate*}\n",
       "\\item TRUE\n",
       "\\item TRUE\n",
       "\\item FALSE\n",
       "\\item TRUE\n",
       "\\item TRUE\n",
       "\\item TRUE\n",
       "\\item TRUE\n",
       "\\item FALSE\n",
       "\\item FALSE\n",
       "\\item TRUE\n",
       "\\item TRUE\n",
       "\\item TRUE\n",
       "\\item TRUE\n",
       "\\item TRUE\n",
       "\\item TRUE\n",
       "\\item TRUE\n",
       "\\item TRUE\n",
       "\\item FALSE\n",
       "\\item FALSE\n",
       "\\item FALSE\n",
       "\\item FALSE\n",
       "\\item TRUE\n",
       "\\item TRUE\n",
       "\\item TRUE\n",
       "\\item TRUE\n",
       "\\item FALSE\n",
       "\\item FALSE\n",
       "\\item FALSE\n",
       "\\item TRUE\n",
       "\\item TRUE\n",
       "\\item TRUE\n",
       "\\item FALSE\n",
       "\\end{enumerate*}\n"
      ],
      "text/markdown": [
       "1. TRUE\n",
       "2. TRUE\n",
       "3. FALSE\n",
       "4. TRUE\n",
       "5. TRUE\n",
       "6. TRUE\n",
       "7. TRUE\n",
       "8. FALSE\n",
       "9. FALSE\n",
       "10. TRUE\n",
       "11. TRUE\n",
       "12. TRUE\n",
       "13. TRUE\n",
       "14. TRUE\n",
       "15. TRUE\n",
       "16. TRUE\n",
       "17. TRUE\n",
       "18. FALSE\n",
       "19. FALSE\n",
       "20. FALSE\n",
       "21. FALSE\n",
       "22. TRUE\n",
       "23. TRUE\n",
       "24. TRUE\n",
       "25. TRUE\n",
       "26. FALSE\n",
       "27. FALSE\n",
       "28. FALSE\n",
       "29. TRUE\n",
       "30. TRUE\n",
       "31. TRUE\n",
       "32. FALSE\n",
       "\n",
       "\n"
      ],
      "text/plain": [
       " [1]  TRUE  TRUE FALSE  TRUE  TRUE  TRUE  TRUE FALSE FALSE  TRUE  TRUE  TRUE\n",
       "[13]  TRUE  TRUE  TRUE  TRUE  TRUE FALSE FALSE FALSE FALSE  TRUE  TRUE  TRUE\n",
       "[25]  TRUE FALSE FALSE FALSE  TRUE  TRUE  TRUE FALSE"
      ]
     },
     "metadata": {},
     "output_type": "display_data"
    }
   ],
   "source": [
    "mtcars$cyl>4"
   ]
  },
  {
   "cell_type": "code",
   "execution_count": 32,
   "id": "f604c42c",
   "metadata": {},
   "outputs": [
    {
     "data": {
      "text/html": [
       "<table class=\"dataframe\">\n",
       "<caption>A data.frame: 18 × 11</caption>\n",
       "<thead>\n",
       "\t<tr><th></th><th scope=col>mpg</th><th scope=col>cyl</th><th scope=col>disp</th><th scope=col>hp</th><th scope=col>drat</th><th scope=col>wt</th><th scope=col>qsec</th><th scope=col>vs</th><th scope=col>am</th><th scope=col>gear</th><th scope=col>carb</th></tr>\n",
       "\t<tr><th></th><th scope=col>&lt;dbl&gt;</th><th scope=col>&lt;dbl&gt;</th><th scope=col>&lt;dbl&gt;</th><th scope=col>&lt;dbl&gt;</th><th scope=col>&lt;dbl&gt;</th><th scope=col>&lt;dbl&gt;</th><th scope=col>&lt;dbl&gt;</th><th scope=col>&lt;dbl&gt;</th><th scope=col>&lt;dbl&gt;</th><th scope=col>&lt;dbl&gt;</th><th scope=col>&lt;dbl&gt;</th></tr>\n",
       "</thead>\n",
       "<tbody>\n",
       "\t<tr><th scope=row>Mazda RX4</th><td>21.0</td><td>6</td><td>160.0</td><td>110</td><td>3.90</td><td>2.620</td><td>16.46</td><td>0</td><td>1</td><td>4</td><td>4</td></tr>\n",
       "\t<tr><th scope=row>Mazda RX4 Wag</th><td>21.0</td><td>6</td><td>160.0</td><td>110</td><td>3.90</td><td>2.875</td><td>17.02</td><td>0</td><td>1</td><td>4</td><td>4</td></tr>\n",
       "\t<tr><th scope=row>Datsun 710</th><td>22.8</td><td>4</td><td>108.0</td><td> 93</td><td>3.85</td><td>2.320</td><td>18.61</td><td>1</td><td>1</td><td>4</td><td>1</td></tr>\n",
       "\t<tr><th scope=row>Hornet 4 Drive</th><td>21.4</td><td>6</td><td>258.0</td><td>110</td><td>3.08</td><td>3.215</td><td>19.44</td><td>1</td><td>0</td><td>3</td><td>1</td></tr>\n",
       "\t<tr><th scope=row>Valiant</th><td>18.1</td><td>6</td><td>225.0</td><td>105</td><td>2.76</td><td>3.460</td><td>20.22</td><td>1</td><td>0</td><td>3</td><td>1</td></tr>\n",
       "\t<tr><th scope=row>Merc 240D</th><td>24.4</td><td>4</td><td>146.7</td><td> 62</td><td>3.69</td><td>3.190</td><td>20.00</td><td>1</td><td>0</td><td>4</td><td>2</td></tr>\n",
       "\t<tr><th scope=row>Merc 230</th><td>22.8</td><td>4</td><td>140.8</td><td> 95</td><td>3.92</td><td>3.150</td><td>22.90</td><td>1</td><td>0</td><td>4</td><td>2</td></tr>\n",
       "\t<tr><th scope=row>Merc 280</th><td>19.2</td><td>6</td><td>167.6</td><td>123</td><td>3.92</td><td>3.440</td><td>18.30</td><td>1</td><td>0</td><td>4</td><td>4</td></tr>\n",
       "\t<tr><th scope=row>Merc 280C</th><td>17.8</td><td>6</td><td>167.6</td><td>123</td><td>3.92</td><td>3.440</td><td>18.90</td><td>1</td><td>0</td><td>4</td><td>4</td></tr>\n",
       "\t<tr><th scope=row>Fiat 128</th><td>32.4</td><td>4</td><td> 78.7</td><td> 66</td><td>4.08</td><td>2.200</td><td>19.47</td><td>1</td><td>1</td><td>4</td><td>1</td></tr>\n",
       "\t<tr><th scope=row>Honda Civic</th><td>30.4</td><td>4</td><td> 75.7</td><td> 52</td><td>4.93</td><td>1.615</td><td>18.52</td><td>1</td><td>1</td><td>4</td><td>2</td></tr>\n",
       "\t<tr><th scope=row>Toyota Corolla</th><td>33.9</td><td>4</td><td> 71.1</td><td> 65</td><td>4.22</td><td>1.835</td><td>19.90</td><td>1</td><td>1</td><td>4</td><td>1</td></tr>\n",
       "\t<tr><th scope=row>Toyota Corona</th><td>21.5</td><td>4</td><td>120.1</td><td> 97</td><td>3.70</td><td>2.465</td><td>20.01</td><td>1</td><td>0</td><td>3</td><td>1</td></tr>\n",
       "\t<tr><th scope=row>Fiat X1-9</th><td>27.3</td><td>4</td><td> 79.0</td><td> 66</td><td>4.08</td><td>1.935</td><td>18.90</td><td>1</td><td>1</td><td>4</td><td>1</td></tr>\n",
       "\t<tr><th scope=row>Porsche 914-2</th><td>26.0</td><td>4</td><td>120.3</td><td> 91</td><td>4.43</td><td>2.140</td><td>16.70</td><td>0</td><td>1</td><td>5</td><td>2</td></tr>\n",
       "\t<tr><th scope=row>Lotus Europa</th><td>30.4</td><td>4</td><td> 95.1</td><td>113</td><td>3.77</td><td>1.513</td><td>16.90</td><td>1</td><td>1</td><td>5</td><td>2</td></tr>\n",
       "\t<tr><th scope=row>Ferrari Dino</th><td>19.7</td><td>6</td><td>145.0</td><td>175</td><td>3.62</td><td>2.770</td><td>15.50</td><td>0</td><td>1</td><td>5</td><td>6</td></tr>\n",
       "\t<tr><th scope=row>Volvo 142E</th><td>21.4</td><td>4</td><td>121.0</td><td>109</td><td>4.11</td><td>2.780</td><td>18.60</td><td>1</td><td>1</td><td>4</td><td>2</td></tr>\n",
       "</tbody>\n",
       "</table>\n"
      ],
      "text/latex": [
       "A data.frame: 18 × 11\n",
       "\\begin{tabular}{r|lllllllllll}\n",
       "  & mpg & cyl & disp & hp & drat & wt & qsec & vs & am & gear & carb\\\\\n",
       "  & <dbl> & <dbl> & <dbl> & <dbl> & <dbl> & <dbl> & <dbl> & <dbl> & <dbl> & <dbl> & <dbl>\\\\\n",
       "\\hline\n",
       "\tMazda RX4 & 21.0 & 6 & 160.0 & 110 & 3.90 & 2.620 & 16.46 & 0 & 1 & 4 & 4\\\\\n",
       "\tMazda RX4 Wag & 21.0 & 6 & 160.0 & 110 & 3.90 & 2.875 & 17.02 & 0 & 1 & 4 & 4\\\\\n",
       "\tDatsun 710 & 22.8 & 4 & 108.0 &  93 & 3.85 & 2.320 & 18.61 & 1 & 1 & 4 & 1\\\\\n",
       "\tHornet 4 Drive & 21.4 & 6 & 258.0 & 110 & 3.08 & 3.215 & 19.44 & 1 & 0 & 3 & 1\\\\\n",
       "\tValiant & 18.1 & 6 & 225.0 & 105 & 2.76 & 3.460 & 20.22 & 1 & 0 & 3 & 1\\\\\n",
       "\tMerc 240D & 24.4 & 4 & 146.7 &  62 & 3.69 & 3.190 & 20.00 & 1 & 0 & 4 & 2\\\\\n",
       "\tMerc 230 & 22.8 & 4 & 140.8 &  95 & 3.92 & 3.150 & 22.90 & 1 & 0 & 4 & 2\\\\\n",
       "\tMerc 280 & 19.2 & 6 & 167.6 & 123 & 3.92 & 3.440 & 18.30 & 1 & 0 & 4 & 4\\\\\n",
       "\tMerc 280C & 17.8 & 6 & 167.6 & 123 & 3.92 & 3.440 & 18.90 & 1 & 0 & 4 & 4\\\\\n",
       "\tFiat 128 & 32.4 & 4 &  78.7 &  66 & 4.08 & 2.200 & 19.47 & 1 & 1 & 4 & 1\\\\\n",
       "\tHonda Civic & 30.4 & 4 &  75.7 &  52 & 4.93 & 1.615 & 18.52 & 1 & 1 & 4 & 2\\\\\n",
       "\tToyota Corolla & 33.9 & 4 &  71.1 &  65 & 4.22 & 1.835 & 19.90 & 1 & 1 & 4 & 1\\\\\n",
       "\tToyota Corona & 21.5 & 4 & 120.1 &  97 & 3.70 & 2.465 & 20.01 & 1 & 0 & 3 & 1\\\\\n",
       "\tFiat X1-9 & 27.3 & 4 &  79.0 &  66 & 4.08 & 1.935 & 18.90 & 1 & 1 & 4 & 1\\\\\n",
       "\tPorsche 914-2 & 26.0 & 4 & 120.3 &  91 & 4.43 & 2.140 & 16.70 & 0 & 1 & 5 & 2\\\\\n",
       "\tLotus Europa & 30.4 & 4 &  95.1 & 113 & 3.77 & 1.513 & 16.90 & 1 & 1 & 5 & 2\\\\\n",
       "\tFerrari Dino & 19.7 & 6 & 145.0 & 175 & 3.62 & 2.770 & 15.50 & 0 & 1 & 5 & 6\\\\\n",
       "\tVolvo 142E & 21.4 & 4 & 121.0 & 109 & 4.11 & 2.780 & 18.60 & 1 & 1 & 4 & 2\\\\\n",
       "\\end{tabular}\n"
      ],
      "text/markdown": [
       "\n",
       "A data.frame: 18 × 11\n",
       "\n",
       "| <!--/--> | mpg &lt;dbl&gt; | cyl &lt;dbl&gt; | disp &lt;dbl&gt; | hp &lt;dbl&gt; | drat &lt;dbl&gt; | wt &lt;dbl&gt; | qsec &lt;dbl&gt; | vs &lt;dbl&gt; | am &lt;dbl&gt; | gear &lt;dbl&gt; | carb &lt;dbl&gt; |\n",
       "|---|---|---|---|---|---|---|---|---|---|---|---|\n",
       "| Mazda RX4 | 21.0 | 6 | 160.0 | 110 | 3.90 | 2.620 | 16.46 | 0 | 1 | 4 | 4 |\n",
       "| Mazda RX4 Wag | 21.0 | 6 | 160.0 | 110 | 3.90 | 2.875 | 17.02 | 0 | 1 | 4 | 4 |\n",
       "| Datsun 710 | 22.8 | 4 | 108.0 |  93 | 3.85 | 2.320 | 18.61 | 1 | 1 | 4 | 1 |\n",
       "| Hornet 4 Drive | 21.4 | 6 | 258.0 | 110 | 3.08 | 3.215 | 19.44 | 1 | 0 | 3 | 1 |\n",
       "| Valiant | 18.1 | 6 | 225.0 | 105 | 2.76 | 3.460 | 20.22 | 1 | 0 | 3 | 1 |\n",
       "| Merc 240D | 24.4 | 4 | 146.7 |  62 | 3.69 | 3.190 | 20.00 | 1 | 0 | 4 | 2 |\n",
       "| Merc 230 | 22.8 | 4 | 140.8 |  95 | 3.92 | 3.150 | 22.90 | 1 | 0 | 4 | 2 |\n",
       "| Merc 280 | 19.2 | 6 | 167.6 | 123 | 3.92 | 3.440 | 18.30 | 1 | 0 | 4 | 4 |\n",
       "| Merc 280C | 17.8 | 6 | 167.6 | 123 | 3.92 | 3.440 | 18.90 | 1 | 0 | 4 | 4 |\n",
       "| Fiat 128 | 32.4 | 4 |  78.7 |  66 | 4.08 | 2.200 | 19.47 | 1 | 1 | 4 | 1 |\n",
       "| Honda Civic | 30.4 | 4 |  75.7 |  52 | 4.93 | 1.615 | 18.52 | 1 | 1 | 4 | 2 |\n",
       "| Toyota Corolla | 33.9 | 4 |  71.1 |  65 | 4.22 | 1.835 | 19.90 | 1 | 1 | 4 | 1 |\n",
       "| Toyota Corona | 21.5 | 4 | 120.1 |  97 | 3.70 | 2.465 | 20.01 | 1 | 0 | 3 | 1 |\n",
       "| Fiat X1-9 | 27.3 | 4 |  79.0 |  66 | 4.08 | 1.935 | 18.90 | 1 | 1 | 4 | 1 |\n",
       "| Porsche 914-2 | 26.0 | 4 | 120.3 |  91 | 4.43 | 2.140 | 16.70 | 0 | 1 | 5 | 2 |\n",
       "| Lotus Europa | 30.4 | 4 |  95.1 | 113 | 3.77 | 1.513 | 16.90 | 1 | 1 | 5 | 2 |\n",
       "| Ferrari Dino | 19.7 | 6 | 145.0 | 175 | 3.62 | 2.770 | 15.50 | 0 | 1 | 5 | 6 |\n",
       "| Volvo 142E | 21.4 | 4 | 121.0 | 109 | 4.11 | 2.780 | 18.60 | 1 | 1 | 4 | 2 |\n",
       "\n"
      ],
      "text/plain": [
       "               mpg  cyl disp  hp  drat wt    qsec  vs am gear carb\n",
       "Mazda RX4      21.0 6   160.0 110 3.90 2.620 16.46 0  1  4    4   \n",
       "Mazda RX4 Wag  21.0 6   160.0 110 3.90 2.875 17.02 0  1  4    4   \n",
       "Datsun 710     22.8 4   108.0  93 3.85 2.320 18.61 1  1  4    1   \n",
       "Hornet 4 Drive 21.4 6   258.0 110 3.08 3.215 19.44 1  0  3    1   \n",
       "Valiant        18.1 6   225.0 105 2.76 3.460 20.22 1  0  3    1   \n",
       "Merc 240D      24.4 4   146.7  62 3.69 3.190 20.00 1  0  4    2   \n",
       "Merc 230       22.8 4   140.8  95 3.92 3.150 22.90 1  0  4    2   \n",
       "Merc 280       19.2 6   167.6 123 3.92 3.440 18.30 1  0  4    4   \n",
       "Merc 280C      17.8 6   167.6 123 3.92 3.440 18.90 1  0  4    4   \n",
       "Fiat 128       32.4 4    78.7  66 4.08 2.200 19.47 1  1  4    1   \n",
       "Honda Civic    30.4 4    75.7  52 4.93 1.615 18.52 1  1  4    2   \n",
       "Toyota Corolla 33.9 4    71.1  65 4.22 1.835 19.90 1  1  4    1   \n",
       "Toyota Corona  21.5 4   120.1  97 3.70 2.465 20.01 1  0  3    1   \n",
       "Fiat X1-9      27.3 4    79.0  66 4.08 1.935 18.90 1  1  4    1   \n",
       "Porsche 914-2  26.0 4   120.3  91 4.43 2.140 16.70 0  1  5    2   \n",
       "Lotus Europa   30.4 4    95.1 113 3.77 1.513 16.90 1  1  5    2   \n",
       "Ferrari Dino   19.7 6   145.0 175 3.62 2.770 15.50 0  1  5    6   \n",
       "Volvo 142E     21.4 4   121.0 109 4.11 2.780 18.60 1  1  4    2   "
      ]
     },
     "metadata": {},
     "output_type": "display_data"
    }
   ],
   "source": [
    "mtcars[(mtcars$cyl == 4)|(mtcars$cyl ==6),]"
   ]
  },
  {
   "cell_type": "code",
   "execution_count": 34,
   "id": "e75529c5",
   "metadata": {},
   "outputs": [
    {
     "data": {
      "text/html": [
       "<table class=\"dataframe\">\n",
       "<caption>A data.frame: 1 × 11</caption>\n",
       "<thead>\n",
       "\t<tr><th></th><th scope=col>mpg</th><th scope=col>cyl</th><th scope=col>disp</th><th scope=col>hp</th><th scope=col>drat</th><th scope=col>wt</th><th scope=col>qsec</th><th scope=col>vs</th><th scope=col>am</th><th scope=col>gear</th><th scope=col>carb</th></tr>\n",
       "\t<tr><th></th><th scope=col>&lt;dbl&gt;</th><th scope=col>&lt;dbl&gt;</th><th scope=col>&lt;dbl&gt;</th><th scope=col>&lt;dbl&gt;</th><th scope=col>&lt;dbl&gt;</th><th scope=col>&lt;dbl&gt;</th><th scope=col>&lt;dbl&gt;</th><th scope=col>&lt;dbl&gt;</th><th scope=col>&lt;dbl&gt;</th><th scope=col>&lt;dbl&gt;</th><th scope=col>&lt;dbl&gt;</th></tr>\n",
       "</thead>\n",
       "<tbody>\n",
       "\t<tr><th scope=row>Toyota Corona</th><td>21.5</td><td>4</td><td>120.1</td><td>97</td><td>3.7</td><td>2.465</td><td>20.01</td><td>1</td><td>0</td><td>3</td><td>1</td></tr>\n",
       "</tbody>\n",
       "</table>\n"
      ],
      "text/latex": [
       "A data.frame: 1 × 11\n",
       "\\begin{tabular}{r|lllllllllll}\n",
       "  & mpg & cyl & disp & hp & drat & wt & qsec & vs & am & gear & carb\\\\\n",
       "  & <dbl> & <dbl> & <dbl> & <dbl> & <dbl> & <dbl> & <dbl> & <dbl> & <dbl> & <dbl> & <dbl>\\\\\n",
       "\\hline\n",
       "\tToyota Corona & 21.5 & 4 & 120.1 & 97 & 3.7 & 2.465 & 20.01 & 1 & 0 & 3 & 1\\\\\n",
       "\\end{tabular}\n"
      ],
      "text/markdown": [
       "\n",
       "A data.frame: 1 × 11\n",
       "\n",
       "| <!--/--> | mpg &lt;dbl&gt; | cyl &lt;dbl&gt; | disp &lt;dbl&gt; | hp &lt;dbl&gt; | drat &lt;dbl&gt; | wt &lt;dbl&gt; | qsec &lt;dbl&gt; | vs &lt;dbl&gt; | am &lt;dbl&gt; | gear &lt;dbl&gt; | carb &lt;dbl&gt; |\n",
       "|---|---|---|---|---|---|---|---|---|---|---|---|\n",
       "| Toyota Corona | 21.5 | 4 | 120.1 | 97 | 3.7 | 2.465 | 20.01 | 1 | 0 | 3 | 1 |\n",
       "\n"
      ],
      "text/plain": [
       "              mpg  cyl disp  hp drat wt    qsec  vs am gear carb\n",
       "Toyota Corona 21.5 4   120.1 97 3.7  2.465 20.01 1  0  3    1   "
      ]
     },
     "metadata": {},
     "output_type": "display_data"
    }
   ],
   "source": [
    "mtcars[(mtcars$cyl == 4) & (mtcars$gear ==3),]"
   ]
  },
  {
   "cell_type": "code",
   "execution_count": 39,
   "id": "b2037065",
   "metadata": {},
   "outputs": [
    {
     "data": {
      "text/html": [
       "<table class=\"dataframe\">\n",
       "<caption>A data.frame: 10 × 11</caption>\n",
       "<thead>\n",
       "\t<tr><th></th><th scope=col>mpg</th><th scope=col>cyl</th><th scope=col>disp</th><th scope=col>hp</th><th scope=col>drat</th><th scope=col>wt</th><th scope=col>qsec</th><th scope=col>vs</th><th scope=col>am</th><th scope=col>gear</th><th scope=col>carb</th></tr>\n",
       "\t<tr><th></th><th scope=col>&lt;dbl&gt;</th><th scope=col>&lt;dbl&gt;</th><th scope=col>&lt;dbl&gt;</th><th scope=col>&lt;dbl&gt;</th><th scope=col>&lt;dbl&gt;</th><th scope=col>&lt;dbl&gt;</th><th scope=col>&lt;dbl&gt;</th><th scope=col>&lt;dbl&gt;</th><th scope=col>&lt;dbl&gt;</th><th scope=col>&lt;dbl&gt;</th><th scope=col>&lt;dbl&gt;</th></tr>\n",
       "</thead>\n",
       "<tbody>\n",
       "\t<tr><th scope=row>Datsun 710</th><td>22.8</td><td>4</td><td>108.0</td><td> 93</td><td>3.85</td><td>2.320</td><td>18.61</td><td>1</td><td>1</td><td>4</td><td>1</td></tr>\n",
       "\t<tr><th scope=row>Merc 240D</th><td>24.4</td><td>4</td><td>146.7</td><td> 62</td><td>3.69</td><td>3.190</td><td>20.00</td><td>1</td><td>0</td><td>4</td><td>2</td></tr>\n",
       "\t<tr><th scope=row>Merc 230</th><td>22.8</td><td>4</td><td>140.8</td><td> 95</td><td>3.92</td><td>3.150</td><td>22.90</td><td>1</td><td>0</td><td>4</td><td>2</td></tr>\n",
       "\t<tr><th scope=row>Fiat 128</th><td>32.4</td><td>4</td><td> 78.7</td><td> 66</td><td>4.08</td><td>2.200</td><td>19.47</td><td>1</td><td>1</td><td>4</td><td>1</td></tr>\n",
       "\t<tr><th scope=row>Toyota Corolla</th><td>33.9</td><td>4</td><td> 71.1</td><td> 65</td><td>4.22</td><td>1.835</td><td>19.90</td><td>1</td><td>1</td><td>4</td><td>1</td></tr>\n",
       "\t<tr><th scope=row>Toyota Corona</th><td>21.5</td><td>4</td><td>120.1</td><td> 97</td><td>3.70</td><td>2.465</td><td>20.01</td><td>1</td><td>0</td><td>3</td><td>1</td></tr>\n",
       "\t<tr><th scope=row>Fiat X1-9</th><td>27.3</td><td>4</td><td> 79.0</td><td> 66</td><td>4.08</td><td>1.935</td><td>18.90</td><td>1</td><td>1</td><td>4</td><td>1</td></tr>\n",
       "\t<tr><th scope=row>Porsche 914-2</th><td>26.0</td><td>4</td><td>120.3</td><td> 91</td><td>4.43</td><td>2.140</td><td>16.70</td><td>0</td><td>1</td><td>5</td><td>2</td></tr>\n",
       "\t<tr><th scope=row>Lotus Europa</th><td>30.4</td><td>4</td><td> 95.1</td><td>113</td><td>3.77</td><td>1.513</td><td>16.90</td><td>1</td><td>1</td><td>5</td><td>2</td></tr>\n",
       "\t<tr><th scope=row>Volvo 142E</th><td>21.4</td><td>4</td><td>121.0</td><td>109</td><td>4.11</td><td>2.780</td><td>18.60</td><td>1</td><td>1</td><td>4</td><td>2</td></tr>\n",
       "</tbody>\n",
       "</table>\n"
      ],
      "text/latex": [
       "A data.frame: 10 × 11\n",
       "\\begin{tabular}{r|lllllllllll}\n",
       "  & mpg & cyl & disp & hp & drat & wt & qsec & vs & am & gear & carb\\\\\n",
       "  & <dbl> & <dbl> & <dbl> & <dbl> & <dbl> & <dbl> & <dbl> & <dbl> & <dbl> & <dbl> & <dbl>\\\\\n",
       "\\hline\n",
       "\tDatsun 710 & 22.8 & 4 & 108.0 &  93 & 3.85 & 2.320 & 18.61 & 1 & 1 & 4 & 1\\\\\n",
       "\tMerc 240D & 24.4 & 4 & 146.7 &  62 & 3.69 & 3.190 & 20.00 & 1 & 0 & 4 & 2\\\\\n",
       "\tMerc 230 & 22.8 & 4 & 140.8 &  95 & 3.92 & 3.150 & 22.90 & 1 & 0 & 4 & 2\\\\\n",
       "\tFiat 128 & 32.4 & 4 &  78.7 &  66 & 4.08 & 2.200 & 19.47 & 1 & 1 & 4 & 1\\\\\n",
       "\tToyota Corolla & 33.9 & 4 &  71.1 &  65 & 4.22 & 1.835 & 19.90 & 1 & 1 & 4 & 1\\\\\n",
       "\tToyota Corona & 21.5 & 4 & 120.1 &  97 & 3.70 & 2.465 & 20.01 & 1 & 0 & 3 & 1\\\\\n",
       "\tFiat X1-9 & 27.3 & 4 &  79.0 &  66 & 4.08 & 1.935 & 18.90 & 1 & 1 & 4 & 1\\\\\n",
       "\tPorsche 914-2 & 26.0 & 4 & 120.3 &  91 & 4.43 & 2.140 & 16.70 & 0 & 1 & 5 & 2\\\\\n",
       "\tLotus Europa & 30.4 & 4 &  95.1 & 113 & 3.77 & 1.513 & 16.90 & 1 & 1 & 5 & 2\\\\\n",
       "\tVolvo 142E & 21.4 & 4 & 121.0 & 109 & 4.11 & 2.780 & 18.60 & 1 & 1 & 4 & 2\\\\\n",
       "\\end{tabular}\n"
      ],
      "text/markdown": [
       "\n",
       "A data.frame: 10 × 11\n",
       "\n",
       "| <!--/--> | mpg &lt;dbl&gt; | cyl &lt;dbl&gt; | disp &lt;dbl&gt; | hp &lt;dbl&gt; | drat &lt;dbl&gt; | wt &lt;dbl&gt; | qsec &lt;dbl&gt; | vs &lt;dbl&gt; | am &lt;dbl&gt; | gear &lt;dbl&gt; | carb &lt;dbl&gt; |\n",
       "|---|---|---|---|---|---|---|---|---|---|---|---|\n",
       "| Datsun 710 | 22.8 | 4 | 108.0 |  93 | 3.85 | 2.320 | 18.61 | 1 | 1 | 4 | 1 |\n",
       "| Merc 240D | 24.4 | 4 | 146.7 |  62 | 3.69 | 3.190 | 20.00 | 1 | 0 | 4 | 2 |\n",
       "| Merc 230 | 22.8 | 4 | 140.8 |  95 | 3.92 | 3.150 | 22.90 | 1 | 0 | 4 | 2 |\n",
       "| Fiat 128 | 32.4 | 4 |  78.7 |  66 | 4.08 | 2.200 | 19.47 | 1 | 1 | 4 | 1 |\n",
       "| Toyota Corolla | 33.9 | 4 |  71.1 |  65 | 4.22 | 1.835 | 19.90 | 1 | 1 | 4 | 1 |\n",
       "| Toyota Corona | 21.5 | 4 | 120.1 |  97 | 3.70 | 2.465 | 20.01 | 1 | 0 | 3 | 1 |\n",
       "| Fiat X1-9 | 27.3 | 4 |  79.0 |  66 | 4.08 | 1.935 | 18.90 | 1 | 1 | 4 | 1 |\n",
       "| Porsche 914-2 | 26.0 | 4 | 120.3 |  91 | 4.43 | 2.140 | 16.70 | 0 | 1 | 5 | 2 |\n",
       "| Lotus Europa | 30.4 | 4 |  95.1 | 113 | 3.77 | 1.513 | 16.90 | 1 | 1 | 5 | 2 |\n",
       "| Volvo 142E | 21.4 | 4 | 121.0 | 109 | 4.11 | 2.780 | 18.60 | 1 | 1 | 4 | 2 |\n",
       "\n"
      ],
      "text/plain": [
       "               mpg  cyl disp  hp  drat wt    qsec  vs am gear carb\n",
       "Datsun 710     22.8 4   108.0  93 3.85 2.320 18.61 1  1  4    1   \n",
       "Merc 240D      24.4 4   146.7  62 3.69 3.190 20.00 1  0  4    2   \n",
       "Merc 230       22.8 4   140.8  95 3.92 3.150 22.90 1  0  4    2   \n",
       "Fiat 128       32.4 4    78.7  66 4.08 2.200 19.47 1  1  4    1   \n",
       "Toyota Corolla 33.9 4    71.1  65 4.22 1.835 19.90 1  1  4    1   \n",
       "Toyota Corona  21.5 4   120.1  97 3.70 2.465 20.01 1  0  3    1   \n",
       "Fiat X1-9      27.3 4    79.0  66 4.08 1.935 18.90 1  1  4    1   \n",
       "Porsche 914-2  26.0 4   120.3  91 4.43 2.140 16.70 0  1  5    2   \n",
       "Lotus Europa   30.4 4    95.1 113 3.77 1.513 16.90 1  1  5    2   \n",
       "Volvo 142E     21.4 4   121.0 109 4.11 2.780 18.60 1  1  4    2   "
      ]
     },
     "metadata": {},
     "output_type": "display_data"
    }
   ],
   "source": [
    "mtcars[mtcars[2] == 4 & mtcars['hp']>60,]"
   ]
  },
  {
   "cell_type": "code",
   "execution_count": 41,
   "id": "68a28f11",
   "metadata": {},
   "outputs": [
    {
     "data": {
      "text/html": [
       "<table class=\"dataframe\">\n",
       "<caption>A data.frame: 18 × 11</caption>\n",
       "<thead>\n",
       "\t<tr><th></th><th scope=col>mpg</th><th scope=col>cyl</th><th scope=col>disp</th><th scope=col>hp</th><th scope=col>drat</th><th scope=col>wt</th><th scope=col>qsec</th><th scope=col>vs</th><th scope=col>am</th><th scope=col>gear</th><th scope=col>carb</th></tr>\n",
       "\t<tr><th></th><th scope=col>&lt;dbl&gt;</th><th scope=col>&lt;dbl&gt;</th><th scope=col>&lt;dbl&gt;</th><th scope=col>&lt;dbl&gt;</th><th scope=col>&lt;dbl&gt;</th><th scope=col>&lt;dbl&gt;</th><th scope=col>&lt;dbl&gt;</th><th scope=col>&lt;dbl&gt;</th><th scope=col>&lt;dbl&gt;</th><th scope=col>&lt;dbl&gt;</th><th scope=col>&lt;dbl&gt;</th></tr>\n",
       "</thead>\n",
       "<tbody>\n",
       "\t<tr><th scope=row>Mazda RX4</th><td>21.0</td><td>6</td><td>160.0</td><td>110</td><td>3.90</td><td>2.620</td><td>16.46</td><td>0</td><td>1</td><td>4</td><td>4</td></tr>\n",
       "\t<tr><th scope=row>Mazda RX4 Wag</th><td>21.0</td><td>6</td><td>160.0</td><td>110</td><td>3.90</td><td>2.875</td><td>17.02</td><td>0</td><td>1</td><td>4</td><td>4</td></tr>\n",
       "\t<tr><th scope=row>Datsun 710</th><td>22.8</td><td>4</td><td>108.0</td><td> 93</td><td>3.85</td><td>2.320</td><td>18.61</td><td>1</td><td>1</td><td>4</td><td>1</td></tr>\n",
       "\t<tr><th scope=row>Hornet 4 Drive</th><td>21.4</td><td>6</td><td>258.0</td><td>110</td><td>3.08</td><td>3.215</td><td>19.44</td><td>1</td><td>0</td><td>3</td><td>1</td></tr>\n",
       "\t<tr><th scope=row>Valiant</th><td>18.1</td><td>6</td><td>225.0</td><td>105</td><td>2.76</td><td>3.460</td><td>20.22</td><td>1</td><td>0</td><td>3</td><td>1</td></tr>\n",
       "\t<tr><th scope=row>Merc 240D</th><td>24.4</td><td>4</td><td>146.7</td><td> 62</td><td>3.69</td><td>3.190</td><td>20.00</td><td>1</td><td>0</td><td>4</td><td>2</td></tr>\n",
       "\t<tr><th scope=row>Merc 230</th><td>22.8</td><td>4</td><td>140.8</td><td> 95</td><td>3.92</td><td>3.150</td><td>22.90</td><td>1</td><td>0</td><td>4</td><td>2</td></tr>\n",
       "\t<tr><th scope=row>Merc 280</th><td>19.2</td><td>6</td><td>167.6</td><td>123</td><td>3.92</td><td>3.440</td><td>18.30</td><td>1</td><td>0</td><td>4</td><td>4</td></tr>\n",
       "\t<tr><th scope=row>Merc 280C</th><td>17.8</td><td>6</td><td>167.6</td><td>123</td><td>3.92</td><td>3.440</td><td>18.90</td><td>1</td><td>0</td><td>4</td><td>4</td></tr>\n",
       "\t<tr><th scope=row>Fiat 128</th><td>32.4</td><td>4</td><td> 78.7</td><td> 66</td><td>4.08</td><td>2.200</td><td>19.47</td><td>1</td><td>1</td><td>4</td><td>1</td></tr>\n",
       "\t<tr><th scope=row>Honda Civic</th><td>30.4</td><td>4</td><td> 75.7</td><td> 52</td><td>4.93</td><td>1.615</td><td>18.52</td><td>1</td><td>1</td><td>4</td><td>2</td></tr>\n",
       "\t<tr><th scope=row>Toyota Corolla</th><td>33.9</td><td>4</td><td> 71.1</td><td> 65</td><td>4.22</td><td>1.835</td><td>19.90</td><td>1</td><td>1</td><td>4</td><td>1</td></tr>\n",
       "\t<tr><th scope=row>Toyota Corona</th><td>21.5</td><td>4</td><td>120.1</td><td> 97</td><td>3.70</td><td>2.465</td><td>20.01</td><td>1</td><td>0</td><td>3</td><td>1</td></tr>\n",
       "\t<tr><th scope=row>Fiat X1-9</th><td>27.3</td><td>4</td><td> 79.0</td><td> 66</td><td>4.08</td><td>1.935</td><td>18.90</td><td>1</td><td>1</td><td>4</td><td>1</td></tr>\n",
       "\t<tr><th scope=row>Porsche 914-2</th><td>26.0</td><td>4</td><td>120.3</td><td> 91</td><td>4.43</td><td>2.140</td><td>16.70</td><td>0</td><td>1</td><td>5</td><td>2</td></tr>\n",
       "\t<tr><th scope=row>Lotus Europa</th><td>30.4</td><td>4</td><td> 95.1</td><td>113</td><td>3.77</td><td>1.513</td><td>16.90</td><td>1</td><td>1</td><td>5</td><td>2</td></tr>\n",
       "\t<tr><th scope=row>Ferrari Dino</th><td>19.7</td><td>6</td><td>145.0</td><td>175</td><td>3.62</td><td>2.770</td><td>15.50</td><td>0</td><td>1</td><td>5</td><td>6</td></tr>\n",
       "\t<tr><th scope=row>Volvo 142E</th><td>21.4</td><td>4</td><td>121.0</td><td>109</td><td>4.11</td><td>2.780</td><td>18.60</td><td>1</td><td>1</td><td>4</td><td>2</td></tr>\n",
       "</tbody>\n",
       "</table>\n"
      ],
      "text/latex": [
       "A data.frame: 18 × 11\n",
       "\\begin{tabular}{r|lllllllllll}\n",
       "  & mpg & cyl & disp & hp & drat & wt & qsec & vs & am & gear & carb\\\\\n",
       "  & <dbl> & <dbl> & <dbl> & <dbl> & <dbl> & <dbl> & <dbl> & <dbl> & <dbl> & <dbl> & <dbl>\\\\\n",
       "\\hline\n",
       "\tMazda RX4 & 21.0 & 6 & 160.0 & 110 & 3.90 & 2.620 & 16.46 & 0 & 1 & 4 & 4\\\\\n",
       "\tMazda RX4 Wag & 21.0 & 6 & 160.0 & 110 & 3.90 & 2.875 & 17.02 & 0 & 1 & 4 & 4\\\\\n",
       "\tDatsun 710 & 22.8 & 4 & 108.0 &  93 & 3.85 & 2.320 & 18.61 & 1 & 1 & 4 & 1\\\\\n",
       "\tHornet 4 Drive & 21.4 & 6 & 258.0 & 110 & 3.08 & 3.215 & 19.44 & 1 & 0 & 3 & 1\\\\\n",
       "\tValiant & 18.1 & 6 & 225.0 & 105 & 2.76 & 3.460 & 20.22 & 1 & 0 & 3 & 1\\\\\n",
       "\tMerc 240D & 24.4 & 4 & 146.7 &  62 & 3.69 & 3.190 & 20.00 & 1 & 0 & 4 & 2\\\\\n",
       "\tMerc 230 & 22.8 & 4 & 140.8 &  95 & 3.92 & 3.150 & 22.90 & 1 & 0 & 4 & 2\\\\\n",
       "\tMerc 280 & 19.2 & 6 & 167.6 & 123 & 3.92 & 3.440 & 18.30 & 1 & 0 & 4 & 4\\\\\n",
       "\tMerc 280C & 17.8 & 6 & 167.6 & 123 & 3.92 & 3.440 & 18.90 & 1 & 0 & 4 & 4\\\\\n",
       "\tFiat 128 & 32.4 & 4 &  78.7 &  66 & 4.08 & 2.200 & 19.47 & 1 & 1 & 4 & 1\\\\\n",
       "\tHonda Civic & 30.4 & 4 &  75.7 &  52 & 4.93 & 1.615 & 18.52 & 1 & 1 & 4 & 2\\\\\n",
       "\tToyota Corolla & 33.9 & 4 &  71.1 &  65 & 4.22 & 1.835 & 19.90 & 1 & 1 & 4 & 1\\\\\n",
       "\tToyota Corona & 21.5 & 4 & 120.1 &  97 & 3.70 & 2.465 & 20.01 & 1 & 0 & 3 & 1\\\\\n",
       "\tFiat X1-9 & 27.3 & 4 &  79.0 &  66 & 4.08 & 1.935 & 18.90 & 1 & 1 & 4 & 1\\\\\n",
       "\tPorsche 914-2 & 26.0 & 4 & 120.3 &  91 & 4.43 & 2.140 & 16.70 & 0 & 1 & 5 & 2\\\\\n",
       "\tLotus Europa & 30.4 & 4 &  95.1 & 113 & 3.77 & 1.513 & 16.90 & 1 & 1 & 5 & 2\\\\\n",
       "\tFerrari Dino & 19.7 & 6 & 145.0 & 175 & 3.62 & 2.770 & 15.50 & 0 & 1 & 5 & 6\\\\\n",
       "\tVolvo 142E & 21.4 & 4 & 121.0 & 109 & 4.11 & 2.780 & 18.60 & 1 & 1 & 4 & 2\\\\\n",
       "\\end{tabular}\n"
      ],
      "text/markdown": [
       "\n",
       "A data.frame: 18 × 11\n",
       "\n",
       "| <!--/--> | mpg &lt;dbl&gt; | cyl &lt;dbl&gt; | disp &lt;dbl&gt; | hp &lt;dbl&gt; | drat &lt;dbl&gt; | wt &lt;dbl&gt; | qsec &lt;dbl&gt; | vs &lt;dbl&gt; | am &lt;dbl&gt; | gear &lt;dbl&gt; | carb &lt;dbl&gt; |\n",
       "|---|---|---|---|---|---|---|---|---|---|---|---|\n",
       "| Mazda RX4 | 21.0 | 6 | 160.0 | 110 | 3.90 | 2.620 | 16.46 | 0 | 1 | 4 | 4 |\n",
       "| Mazda RX4 Wag | 21.0 | 6 | 160.0 | 110 | 3.90 | 2.875 | 17.02 | 0 | 1 | 4 | 4 |\n",
       "| Datsun 710 | 22.8 | 4 | 108.0 |  93 | 3.85 | 2.320 | 18.61 | 1 | 1 | 4 | 1 |\n",
       "| Hornet 4 Drive | 21.4 | 6 | 258.0 | 110 | 3.08 | 3.215 | 19.44 | 1 | 0 | 3 | 1 |\n",
       "| Valiant | 18.1 | 6 | 225.0 | 105 | 2.76 | 3.460 | 20.22 | 1 | 0 | 3 | 1 |\n",
       "| Merc 240D | 24.4 | 4 | 146.7 |  62 | 3.69 | 3.190 | 20.00 | 1 | 0 | 4 | 2 |\n",
       "| Merc 230 | 22.8 | 4 | 140.8 |  95 | 3.92 | 3.150 | 22.90 | 1 | 0 | 4 | 2 |\n",
       "| Merc 280 | 19.2 | 6 | 167.6 | 123 | 3.92 | 3.440 | 18.30 | 1 | 0 | 4 | 4 |\n",
       "| Merc 280C | 17.8 | 6 | 167.6 | 123 | 3.92 | 3.440 | 18.90 | 1 | 0 | 4 | 4 |\n",
       "| Fiat 128 | 32.4 | 4 |  78.7 |  66 | 4.08 | 2.200 | 19.47 | 1 | 1 | 4 | 1 |\n",
       "| Honda Civic | 30.4 | 4 |  75.7 |  52 | 4.93 | 1.615 | 18.52 | 1 | 1 | 4 | 2 |\n",
       "| Toyota Corolla | 33.9 | 4 |  71.1 |  65 | 4.22 | 1.835 | 19.90 | 1 | 1 | 4 | 1 |\n",
       "| Toyota Corona | 21.5 | 4 | 120.1 |  97 | 3.70 | 2.465 | 20.01 | 1 | 0 | 3 | 1 |\n",
       "| Fiat X1-9 | 27.3 | 4 |  79.0 |  66 | 4.08 | 1.935 | 18.90 | 1 | 1 | 4 | 1 |\n",
       "| Porsche 914-2 | 26.0 | 4 | 120.3 |  91 | 4.43 | 2.140 | 16.70 | 0 | 1 | 5 | 2 |\n",
       "| Lotus Europa | 30.4 | 4 |  95.1 | 113 | 3.77 | 1.513 | 16.90 | 1 | 1 | 5 | 2 |\n",
       "| Ferrari Dino | 19.7 | 6 | 145.0 | 175 | 3.62 | 2.770 | 15.50 | 0 | 1 | 5 | 6 |\n",
       "| Volvo 142E | 21.4 | 4 | 121.0 | 109 | 4.11 | 2.780 | 18.60 | 1 | 1 | 4 | 2 |\n",
       "\n"
      ],
      "text/plain": [
       "               mpg  cyl disp  hp  drat wt    qsec  vs am gear carb\n",
       "Mazda RX4      21.0 6   160.0 110 3.90 2.620 16.46 0  1  4    4   \n",
       "Mazda RX4 Wag  21.0 6   160.0 110 3.90 2.875 17.02 0  1  4    4   \n",
       "Datsun 710     22.8 4   108.0  93 3.85 2.320 18.61 1  1  4    1   \n",
       "Hornet 4 Drive 21.4 6   258.0 110 3.08 3.215 19.44 1  0  3    1   \n",
       "Valiant        18.1 6   225.0 105 2.76 3.460 20.22 1  0  3    1   \n",
       "Merc 240D      24.4 4   146.7  62 3.69 3.190 20.00 1  0  4    2   \n",
       "Merc 230       22.8 4   140.8  95 3.92 3.150 22.90 1  0  4    2   \n",
       "Merc 280       19.2 6   167.6 123 3.92 3.440 18.30 1  0  4    4   \n",
       "Merc 280C      17.8 6   167.6 123 3.92 3.440 18.90 1  0  4    4   \n",
       "Fiat 128       32.4 4    78.7  66 4.08 2.200 19.47 1  1  4    1   \n",
       "Honda Civic    30.4 4    75.7  52 4.93 1.615 18.52 1  1  4    2   \n",
       "Toyota Corolla 33.9 4    71.1  65 4.22 1.835 19.90 1  1  4    1   \n",
       "Toyota Corona  21.5 4   120.1  97 3.70 2.465 20.01 1  0  3    1   \n",
       "Fiat X1-9      27.3 4    79.0  66 4.08 1.935 18.90 1  1  4    1   \n",
       "Porsche 914-2  26.0 4   120.3  91 4.43 2.140 16.70 0  1  5    2   \n",
       "Lotus Europa   30.4 4    95.1 113 3.77 1.513 16.90 1  1  5    2   \n",
       "Ferrari Dino   19.7 6   145.0 175 3.62 2.770 15.50 0  1  5    6   \n",
       "Volvo 142E     21.4 4   121.0 109 4.11 2.780 18.60 1  1  4    2   "
      ]
     },
     "metadata": {},
     "output_type": "display_data"
    }
   ],
   "source": [
    "mtcars[mtcars$cyl %in% c(6,4), ]"
   ]
  },
  {
   "cell_type": "markdown",
   "id": "99012a11",
   "metadata": {},
   "source": [
    "## 7.2 New Columns"
   ]
  },
  {
   "cell_type": "code",
   "execution_count": 42,
   "id": "48e93110",
   "metadata": {},
   "outputs": [
    {
     "data": {
      "text/html": [
       "<style>\n",
       ".list-inline {list-style: none; margin:0; padding: 0}\n",
       ".list-inline>li {display: inline-block}\n",
       ".list-inline>li:not(:last-child)::after {content: \"\\00b7\"; padding: 0 .5ex}\n",
       "</style>\n",
       "<ol class=list-inline><li>110</li><li>110</li><li>93</li><li>110</li><li>175</li><li>105</li><li>245</li><li>62</li><li>95</li><li>123</li><li>123</li><li>180</li><li>180</li><li>180</li><li>205</li><li>215</li><li>230</li><li>66</li><li>52</li><li>65</li><li>97</li><li>150</li><li>150</li><li>245</li><li>175</li><li>66</li><li>91</li><li>113</li><li>264</li><li>175</li><li>335</li><li>109</li></ol>\n"
      ],
      "text/latex": [
       "\\begin{enumerate*}\n",
       "\\item 110\n",
       "\\item 110\n",
       "\\item 93\n",
       "\\item 110\n",
       "\\item 175\n",
       "\\item 105\n",
       "\\item 245\n",
       "\\item 62\n",
       "\\item 95\n",
       "\\item 123\n",
       "\\item 123\n",
       "\\item 180\n",
       "\\item 180\n",
       "\\item 180\n",
       "\\item 205\n",
       "\\item 215\n",
       "\\item 230\n",
       "\\item 66\n",
       "\\item 52\n",
       "\\item 65\n",
       "\\item 97\n",
       "\\item 150\n",
       "\\item 150\n",
       "\\item 245\n",
       "\\item 175\n",
       "\\item 66\n",
       "\\item 91\n",
       "\\item 113\n",
       "\\item 264\n",
       "\\item 175\n",
       "\\item 335\n",
       "\\item 109\n",
       "\\end{enumerate*}\n"
      ],
      "text/markdown": [
       "1. 110\n",
       "2. 110\n",
       "3. 93\n",
       "4. 110\n",
       "5. 175\n",
       "6. 105\n",
       "7. 245\n",
       "8. 62\n",
       "9. 95\n",
       "10. 123\n",
       "11. 123\n",
       "12. 180\n",
       "13. 180\n",
       "14. 180\n",
       "15. 205\n",
       "16. 215\n",
       "17. 230\n",
       "18. 66\n",
       "19. 52\n",
       "20. 65\n",
       "21. 97\n",
       "22. 150\n",
       "23. 150\n",
       "24. 245\n",
       "25. 175\n",
       "26. 66\n",
       "27. 91\n",
       "28. 113\n",
       "29. 264\n",
       "30. 175\n",
       "31. 335\n",
       "32. 109\n",
       "\n",
       "\n"
      ],
      "text/plain": [
       " [1] 110 110  93 110 175 105 245  62  95 123 123 180 180 180 205 215 230  66  52\n",
       "[20]  65  97 150 150 245 175  66  91 113 264 175 335 109"
      ]
     },
     "metadata": {},
     "output_type": "display_data"
    }
   ],
   "source": [
    "mtcars$hp"
   ]
  },
  {
   "cell_type": "code",
   "execution_count": 44,
   "id": "eee75433",
   "metadata": {},
   "outputs": [
    {
     "data": {
      "text/html": [
       "<style>\n",
       ".list-inline {list-style: none; margin:0; padding: 0}\n",
       ".list-inline>li {display: inline-block}\n",
       ".list-inline>li:not(:last-child)::after {content: \"\\00b7\"; padding: 0 .5ex}\n",
       "</style>\n",
       "<ol class=list-inline><li>41.9847328244275</li><li>38.2608695652174</li><li>40.0862068965517</li><li>34.2146189735614</li><li>50.8720930232558</li><li>30.3468208092486</li><li>68.6274509803922</li><li>19.435736677116</li><li>30.1587301587302</li><li>35.7558139534884</li><li>35.7558139534884</li><li>44.2260442260442</li><li>48.2573726541555</li><li>47.6190476190476</li><li>39.0476190476191</li><li>39.6386430678466</li><li>43.0308699719364</li><li>30</li><li>32.1981424148607</li><li>35.4223433242507</li><li>39.3509127789047</li><li>42.6136363636364</li><li>43.6681222707424</li><li>63.8020833333333</li><li>45.5136540962289</li><li>34.1085271317829</li><li>42.5233644859813</li><li>74.6860541969597</li><li>83.2807570977918</li><li>63.1768953068592</li><li>93.8375350140056</li><li>39.2086330935252</li></ol>\n"
      ],
      "text/latex": [
       "\\begin{enumerate*}\n",
       "\\item 41.9847328244275\n",
       "\\item 38.2608695652174\n",
       "\\item 40.0862068965517\n",
       "\\item 34.2146189735614\n",
       "\\item 50.8720930232558\n",
       "\\item 30.3468208092486\n",
       "\\item 68.6274509803922\n",
       "\\item 19.435736677116\n",
       "\\item 30.1587301587302\n",
       "\\item 35.7558139534884\n",
       "\\item 35.7558139534884\n",
       "\\item 44.2260442260442\n",
       "\\item 48.2573726541555\n",
       "\\item 47.6190476190476\n",
       "\\item 39.0476190476191\n",
       "\\item 39.6386430678466\n",
       "\\item 43.0308699719364\n",
       "\\item 30\n",
       "\\item 32.1981424148607\n",
       "\\item 35.4223433242507\n",
       "\\item 39.3509127789047\n",
       "\\item 42.6136363636364\n",
       "\\item 43.6681222707424\n",
       "\\item 63.8020833333333\n",
       "\\item 45.5136540962289\n",
       "\\item 34.1085271317829\n",
       "\\item 42.5233644859813\n",
       "\\item 74.6860541969597\n",
       "\\item 83.2807570977918\n",
       "\\item 63.1768953068592\n",
       "\\item 93.8375350140056\n",
       "\\item 39.2086330935252\n",
       "\\end{enumerate*}\n"
      ],
      "text/markdown": [
       "1. 41.9847328244275\n",
       "2. 38.2608695652174\n",
       "3. 40.0862068965517\n",
       "4. 34.2146189735614\n",
       "5. 50.8720930232558\n",
       "6. 30.3468208092486\n",
       "7. 68.6274509803922\n",
       "8. 19.435736677116\n",
       "9. 30.1587301587302\n",
       "10. 35.7558139534884\n",
       "11. 35.7558139534884\n",
       "12. 44.2260442260442\n",
       "13. 48.2573726541555\n",
       "14. 47.6190476190476\n",
       "15. 39.0476190476191\n",
       "16. 39.6386430678466\n",
       "17. 43.0308699719364\n",
       "18. 30\n",
       "19. 32.1981424148607\n",
       "20. 35.4223433242507\n",
       "21. 39.3509127789047\n",
       "22. 42.6136363636364\n",
       "23. 43.6681222707424\n",
       "24. 63.8020833333333\n",
       "25. 45.5136540962289\n",
       "26. 34.1085271317829\n",
       "27. 42.5233644859813\n",
       "28. 74.6860541969597\n",
       "29. 83.2807570977918\n",
       "30. 63.1768953068592\n",
       "31. 93.8375350140056\n",
       "32. 39.2086330935252\n",
       "\n",
       "\n"
      ],
      "text/plain": [
       " [1] 41.98473 38.26087 40.08621 34.21462 50.87209 30.34682 68.62745 19.43574\n",
       " [9] 30.15873 35.75581 35.75581 44.22604 48.25737 47.61905 39.04762 39.63864\n",
       "[17] 43.03087 30.00000 32.19814 35.42234 39.35091 42.61364 43.66812 63.80208\n",
       "[25] 45.51365 34.10853 42.52336 74.68605 83.28076 63.17690 93.83754 39.20863"
      ]
     },
     "metadata": {},
     "output_type": "display_data"
    }
   ],
   "source": [
    "mtcars$hp/mtcars$wt"
   ]
  },
  {
   "cell_type": "code",
   "execution_count": 45,
   "id": "1a87ad51",
   "metadata": {},
   "outputs": [
    {
     "data": {
      "text/html": [
       "<table class=\"dataframe\">\n",
       "<caption>A data.frame: 6 × 12</caption>\n",
       "<thead>\n",
       "\t<tr><th></th><th scope=col>mpg</th><th scope=col>cyl</th><th scope=col>disp</th><th scope=col>hp</th><th scope=col>drat</th><th scope=col>wt</th><th scope=col>qsec</th><th scope=col>vs</th><th scope=col>am</th><th scope=col>gear</th><th scope=col>carb</th><th scope=col>hp_wt</th></tr>\n",
       "\t<tr><th></th><th scope=col>&lt;dbl&gt;</th><th scope=col>&lt;dbl&gt;</th><th scope=col>&lt;dbl&gt;</th><th scope=col>&lt;dbl&gt;</th><th scope=col>&lt;dbl&gt;</th><th scope=col>&lt;dbl&gt;</th><th scope=col>&lt;dbl&gt;</th><th scope=col>&lt;dbl&gt;</th><th scope=col>&lt;dbl&gt;</th><th scope=col>&lt;dbl&gt;</th><th scope=col>&lt;dbl&gt;</th><th scope=col>&lt;dbl&gt;</th></tr>\n",
       "</thead>\n",
       "<tbody>\n",
       "\t<tr><th scope=row>Mazda RX4</th><td>21.0</td><td>6</td><td>160</td><td>110</td><td>3.90</td><td>2.620</td><td>16.46</td><td>0</td><td>1</td><td>4</td><td>4</td><td>41.98473</td></tr>\n",
       "\t<tr><th scope=row>Mazda RX4 Wag</th><td>21.0</td><td>6</td><td>160</td><td>110</td><td>3.90</td><td>2.875</td><td>17.02</td><td>0</td><td>1</td><td>4</td><td>4</td><td>38.26087</td></tr>\n",
       "\t<tr><th scope=row>Datsun 710</th><td>22.8</td><td>4</td><td>108</td><td> 93</td><td>3.85</td><td>2.320</td><td>18.61</td><td>1</td><td>1</td><td>4</td><td>1</td><td>40.08621</td></tr>\n",
       "\t<tr><th scope=row>Hornet 4 Drive</th><td>21.4</td><td>6</td><td>258</td><td>110</td><td>3.08</td><td>3.215</td><td>19.44</td><td>1</td><td>0</td><td>3</td><td>1</td><td>34.21462</td></tr>\n",
       "\t<tr><th scope=row>Hornet Sportabout</th><td>18.7</td><td>8</td><td>360</td><td>175</td><td>3.15</td><td>3.440</td><td>17.02</td><td>0</td><td>0</td><td>3</td><td>2</td><td>50.87209</td></tr>\n",
       "\t<tr><th scope=row>Valiant</th><td>18.1</td><td>6</td><td>225</td><td>105</td><td>2.76</td><td>3.460</td><td>20.22</td><td>1</td><td>0</td><td>3</td><td>1</td><td>30.34682</td></tr>\n",
       "</tbody>\n",
       "</table>\n"
      ],
      "text/latex": [
       "A data.frame: 6 × 12\n",
       "\\begin{tabular}{r|llllllllllll}\n",
       "  & mpg & cyl & disp & hp & drat & wt & qsec & vs & am & gear & carb & hp\\_wt\\\\\n",
       "  & <dbl> & <dbl> & <dbl> & <dbl> & <dbl> & <dbl> & <dbl> & <dbl> & <dbl> & <dbl> & <dbl> & <dbl>\\\\\n",
       "\\hline\n",
       "\tMazda RX4 & 21.0 & 6 & 160 & 110 & 3.90 & 2.620 & 16.46 & 0 & 1 & 4 & 4 & 41.98473\\\\\n",
       "\tMazda RX4 Wag & 21.0 & 6 & 160 & 110 & 3.90 & 2.875 & 17.02 & 0 & 1 & 4 & 4 & 38.26087\\\\\n",
       "\tDatsun 710 & 22.8 & 4 & 108 &  93 & 3.85 & 2.320 & 18.61 & 1 & 1 & 4 & 1 & 40.08621\\\\\n",
       "\tHornet 4 Drive & 21.4 & 6 & 258 & 110 & 3.08 & 3.215 & 19.44 & 1 & 0 & 3 & 1 & 34.21462\\\\\n",
       "\tHornet Sportabout & 18.7 & 8 & 360 & 175 & 3.15 & 3.440 & 17.02 & 0 & 0 & 3 & 2 & 50.87209\\\\\n",
       "\tValiant & 18.1 & 6 & 225 & 105 & 2.76 & 3.460 & 20.22 & 1 & 0 & 3 & 1 & 30.34682\\\\\n",
       "\\end{tabular}\n"
      ],
      "text/markdown": [
       "\n",
       "A data.frame: 6 × 12\n",
       "\n",
       "| <!--/--> | mpg &lt;dbl&gt; | cyl &lt;dbl&gt; | disp &lt;dbl&gt; | hp &lt;dbl&gt; | drat &lt;dbl&gt; | wt &lt;dbl&gt; | qsec &lt;dbl&gt; | vs &lt;dbl&gt; | am &lt;dbl&gt; | gear &lt;dbl&gt; | carb &lt;dbl&gt; | hp_wt &lt;dbl&gt; |\n",
       "|---|---|---|---|---|---|---|---|---|---|---|---|---|\n",
       "| Mazda RX4 | 21.0 | 6 | 160 | 110 | 3.90 | 2.620 | 16.46 | 0 | 1 | 4 | 4 | 41.98473 |\n",
       "| Mazda RX4 Wag | 21.0 | 6 | 160 | 110 | 3.90 | 2.875 | 17.02 | 0 | 1 | 4 | 4 | 38.26087 |\n",
       "| Datsun 710 | 22.8 | 4 | 108 |  93 | 3.85 | 2.320 | 18.61 | 1 | 1 | 4 | 1 | 40.08621 |\n",
       "| Hornet 4 Drive | 21.4 | 6 | 258 | 110 | 3.08 | 3.215 | 19.44 | 1 | 0 | 3 | 1 | 34.21462 |\n",
       "| Hornet Sportabout | 18.7 | 8 | 360 | 175 | 3.15 | 3.440 | 17.02 | 0 | 0 | 3 | 2 | 50.87209 |\n",
       "| Valiant | 18.1 | 6 | 225 | 105 | 2.76 | 3.460 | 20.22 | 1 | 0 | 3 | 1 | 30.34682 |\n",
       "\n"
      ],
      "text/plain": [
       "                  mpg  cyl disp hp  drat wt    qsec  vs am gear carb hp_wt   \n",
       "Mazda RX4         21.0 6   160  110 3.90 2.620 16.46 0  1  4    4    41.98473\n",
       "Mazda RX4 Wag     21.0 6   160  110 3.90 2.875 17.02 0  1  4    4    38.26087\n",
       "Datsun 710        22.8 4   108   93 3.85 2.320 18.61 1  1  4    1    40.08621\n",
       "Hornet 4 Drive    21.4 6   258  110 3.08 3.215 19.44 1  0  3    1    34.21462\n",
       "Hornet Sportabout 18.7 8   360  175 3.15 3.440 17.02 0  0  3    2    50.87209\n",
       "Valiant           18.1 6   225  105 2.76 3.460 20.22 1  0  3    1    30.34682"
      ]
     },
     "metadata": {},
     "output_type": "display_data"
    }
   ],
   "source": [
    "mtcars$hp_wt <- mtcars$hp/mtcars$wt\n",
    "head(mtcars)"
   ]
  },
  {
   "cell_type": "code",
   "execution_count": 48,
   "id": "29c0cdc7",
   "metadata": {},
   "outputs": [
    {
     "data": {
      "text/html": [
       "<table class=\"dataframe\">\n",
       "<caption>A data.frame: 6 × 12</caption>\n",
       "<thead>\n",
       "\t<tr><th></th><th scope=col>mpg</th><th scope=col>cyl</th><th scope=col>disp</th><th scope=col>hp</th><th scope=col>drat</th><th scope=col>wt</th><th scope=col>qsec</th><th scope=col>vs</th><th scope=col>am</th><th scope=col>gear</th><th scope=col>carb</th><th scope=col>hp_wt</th></tr>\n",
       "\t<tr><th></th><th scope=col>&lt;dbl&gt;</th><th scope=col>&lt;dbl&gt;</th><th scope=col>&lt;dbl&gt;</th><th scope=col>&lt;dbl&gt;</th><th scope=col>&lt;dbl&gt;</th><th scope=col>&lt;dbl&gt;</th><th scope=col>&lt;dbl&gt;</th><th scope=col>&lt;dbl&gt;</th><th scope=col>&lt;dbl&gt;</th><th scope=col>&lt;dbl&gt;</th><th scope=col>&lt;dbl&gt;</th><th scope=col>&lt;dbl&gt;</th></tr>\n",
       "</thead>\n",
       "<tbody>\n",
       "\t<tr><th scope=row>Mazda RX4</th><td>21.0</td><td>6</td><td>160</td><td>110</td><td>3.90</td><td>2.620</td><td>16.46</td><td>0</td><td>1</td><td>4</td><td>4</td><td>41.98473</td></tr>\n",
       "\t<tr><th scope=row>Mazda RX4 Wag</th><td>21.0</td><td>6</td><td>160</td><td>110</td><td>3.90</td><td>2.875</td><td>17.02</td><td>0</td><td>1</td><td>4</td><td>4</td><td>38.26087</td></tr>\n",
       "\t<tr><th scope=row>Datsun 710</th><td>22.8</td><td>4</td><td>108</td><td> 93</td><td>3.85</td><td>2.320</td><td>18.61</td><td>1</td><td>1</td><td>4</td><td>1</td><td>40.08621</td></tr>\n",
       "\t<tr><th scope=row>Hornet 4 Drive</th><td>21.4</td><td>6</td><td>258</td><td>110</td><td>3.08</td><td>3.215</td><td>19.44</td><td>1</td><td>0</td><td>3</td><td>1</td><td>34.21462</td></tr>\n",
       "\t<tr><th scope=row>Hornet Sportabout</th><td>18.7</td><td>8</td><td>360</td><td>175</td><td>3.15</td><td>3.440</td><td>17.02</td><td>0</td><td>0</td><td>3</td><td>2</td><td>50.87209</td></tr>\n",
       "\t<tr><th scope=row>Valiant</th><td>18.1</td><td>6</td><td>225</td><td>105</td><td>2.76</td><td>3.460</td><td>20.22</td><td>1</td><td>0</td><td>3</td><td>1</td><td>30.34682</td></tr>\n",
       "</tbody>\n",
       "</table>\n"
      ],
      "text/latex": [
       "A data.frame: 6 × 12\n",
       "\\begin{tabular}{r|llllllllllll}\n",
       "  & mpg & cyl & disp & hp & drat & wt & qsec & vs & am & gear & carb & hp\\_wt\\\\\n",
       "  & <dbl> & <dbl> & <dbl> & <dbl> & <dbl> & <dbl> & <dbl> & <dbl> & <dbl> & <dbl> & <dbl> & <dbl>\\\\\n",
       "\\hline\n",
       "\tMazda RX4 & 21.0 & 6 & 160 & 110 & 3.90 & 2.620 & 16.46 & 0 & 1 & 4 & 4 & 41.98473\\\\\n",
       "\tMazda RX4 Wag & 21.0 & 6 & 160 & 110 & 3.90 & 2.875 & 17.02 & 0 & 1 & 4 & 4 & 38.26087\\\\\n",
       "\tDatsun 710 & 22.8 & 4 & 108 &  93 & 3.85 & 2.320 & 18.61 & 1 & 1 & 4 & 1 & 40.08621\\\\\n",
       "\tHornet 4 Drive & 21.4 & 6 & 258 & 110 & 3.08 & 3.215 & 19.44 & 1 & 0 & 3 & 1 & 34.21462\\\\\n",
       "\tHornet Sportabout & 18.7 & 8 & 360 & 175 & 3.15 & 3.440 & 17.02 & 0 & 0 & 3 & 2 & 50.87209\\\\\n",
       "\tValiant & 18.1 & 6 & 225 & 105 & 2.76 & 3.460 & 20.22 & 1 & 0 & 3 & 1 & 30.34682\\\\\n",
       "\\end{tabular}\n"
      ],
      "text/markdown": [
       "\n",
       "A data.frame: 6 × 12\n",
       "\n",
       "| <!--/--> | mpg &lt;dbl&gt; | cyl &lt;dbl&gt; | disp &lt;dbl&gt; | hp &lt;dbl&gt; | drat &lt;dbl&gt; | wt &lt;dbl&gt; | qsec &lt;dbl&gt; | vs &lt;dbl&gt; | am &lt;dbl&gt; | gear &lt;dbl&gt; | carb &lt;dbl&gt; | hp_wt &lt;dbl&gt; |\n",
       "|---|---|---|---|---|---|---|---|---|---|---|---|---|\n",
       "| Mazda RX4 | 21.0 | 6 | 160 | 110 | 3.90 | 2.620 | 16.46 | 0 | 1 | 4 | 4 | 41.98473 |\n",
       "| Mazda RX4 Wag | 21.0 | 6 | 160 | 110 | 3.90 | 2.875 | 17.02 | 0 | 1 | 4 | 4 | 38.26087 |\n",
       "| Datsun 710 | 22.8 | 4 | 108 |  93 | 3.85 | 2.320 | 18.61 | 1 | 1 | 4 | 1 | 40.08621 |\n",
       "| Hornet 4 Drive | 21.4 | 6 | 258 | 110 | 3.08 | 3.215 | 19.44 | 1 | 0 | 3 | 1 | 34.21462 |\n",
       "| Hornet Sportabout | 18.7 | 8 | 360 | 175 | 3.15 | 3.440 | 17.02 | 0 | 0 | 3 | 2 | 50.87209 |\n",
       "| Valiant | 18.1 | 6 | 225 | 105 | 2.76 | 3.460 | 20.22 | 1 | 0 | 3 | 1 | 30.34682 |\n",
       "\n"
      ],
      "text/plain": [
       "                  mpg  cyl disp hp  drat wt    qsec  vs am gear carb hp_wt   \n",
       "Mazda RX4         21.0 6   160  110 3.90 2.620 16.46 0  1  4    4    41.98473\n",
       "Mazda RX4 Wag     21.0 6   160  110 3.90 2.875 17.02 0  1  4    4    38.26087\n",
       "Datsun 710        22.8 4   108   93 3.85 2.320 18.61 1  1  4    1    40.08621\n",
       "Hornet 4 Drive    21.4 6   258  110 3.08 3.215 19.44 1  0  3    1    34.21462\n",
       "Hornet Sportabout 18.7 8   360  175 3.15 3.440 17.02 0  0  3    2    50.87209\n",
       "Valiant           18.1 6   225  105 2.76 3.460 20.22 1  0  3    1    30.34682"
      ]
     },
     "metadata": {},
     "output_type": "display_data"
    }
   ],
   "source": [
    "mtcars[, 'hp_wt'] <- mtcars$hp/mtcars$wt\n",
    "head(mtcars)"
   ]
  },
  {
   "cell_type": "code",
   "execution_count": 55,
   "id": "3a213666",
   "metadata": {},
   "outputs": [
    {
     "data": {
      "text/html": [
       "<style>\n",
       ".list-inline {list-style: none; margin:0; padding: 0}\n",
       ".list-inline>li {display: inline-block}\n",
       ".list-inline>li:not(:last-child)::after {content: \"\\00b7\"; padding: 0 .5ex}\n",
       "</style>\n",
       "<ol class=list-inline><li>'Mazda RX4'</li><li>'Mazda RX4 Wag'</li><li>'Datsun 710'</li><li>'Hornet 4 Drive'</li><li>'Hornet Sportabout'</li><li>'Valiant'</li><li>'Duster 360'</li><li>'Merc 240D'</li><li>'Merc 230'</li><li>'Merc 280'</li><li>'Merc 280C'</li><li>'Merc 450SE'</li><li>'Merc 450SL'</li><li>'Merc 450SLC'</li><li>'Cadillac Fleetwood'</li><li>'Lincoln Continental'</li><li>'Chrysler Imperial'</li><li>'Fiat 128'</li><li>'Honda Civic'</li><li>'Toyota Corolla'</li><li>'Toyota Corona'</li><li>'Dodge Challenger'</li><li>'AMC Javelin'</li><li>'Camaro Z28'</li><li>'Pontiac Firebird'</li><li>'Fiat X1-9'</li><li>'Porsche 914-2'</li><li>'Lotus Europa'</li><li>'Ford Pantera L'</li><li>'Ferrari Dino'</li><li>'Maserati Bora'</li><li>'Volvo 142E'</li></ol>\n"
      ],
      "text/latex": [
       "\\begin{enumerate*}\n",
       "\\item 'Mazda RX4'\n",
       "\\item 'Mazda RX4 Wag'\n",
       "\\item 'Datsun 710'\n",
       "\\item 'Hornet 4 Drive'\n",
       "\\item 'Hornet Sportabout'\n",
       "\\item 'Valiant'\n",
       "\\item 'Duster 360'\n",
       "\\item 'Merc 240D'\n",
       "\\item 'Merc 230'\n",
       "\\item 'Merc 280'\n",
       "\\item 'Merc 280C'\n",
       "\\item 'Merc 450SE'\n",
       "\\item 'Merc 450SL'\n",
       "\\item 'Merc 450SLC'\n",
       "\\item 'Cadillac Fleetwood'\n",
       "\\item 'Lincoln Continental'\n",
       "\\item 'Chrysler Imperial'\n",
       "\\item 'Fiat 128'\n",
       "\\item 'Honda Civic'\n",
       "\\item 'Toyota Corolla'\n",
       "\\item 'Toyota Corona'\n",
       "\\item 'Dodge Challenger'\n",
       "\\item 'AMC Javelin'\n",
       "\\item 'Camaro Z28'\n",
       "\\item 'Pontiac Firebird'\n",
       "\\item 'Fiat X1-9'\n",
       "\\item 'Porsche 914-2'\n",
       "\\item 'Lotus Europa'\n",
       "\\item 'Ford Pantera L'\n",
       "\\item 'Ferrari Dino'\n",
       "\\item 'Maserati Bora'\n",
       "\\item 'Volvo 142E'\n",
       "\\end{enumerate*}\n"
      ],
      "text/markdown": [
       "1. 'Mazda RX4'\n",
       "2. 'Mazda RX4 Wag'\n",
       "3. 'Datsun 710'\n",
       "4. 'Hornet 4 Drive'\n",
       "5. 'Hornet Sportabout'\n",
       "6. 'Valiant'\n",
       "7. 'Duster 360'\n",
       "8. 'Merc 240D'\n",
       "9. 'Merc 230'\n",
       "10. 'Merc 280'\n",
       "11. 'Merc 280C'\n",
       "12. 'Merc 450SE'\n",
       "13. 'Merc 450SL'\n",
       "14. 'Merc 450SLC'\n",
       "15. 'Cadillac Fleetwood'\n",
       "16. 'Lincoln Continental'\n",
       "17. 'Chrysler Imperial'\n",
       "18. 'Fiat 128'\n",
       "19. 'Honda Civic'\n",
       "20. 'Toyota Corolla'\n",
       "21. 'Toyota Corona'\n",
       "22. 'Dodge Challenger'\n",
       "23. 'AMC Javelin'\n",
       "24. 'Camaro Z28'\n",
       "25. 'Pontiac Firebird'\n",
       "26. 'Fiat X1-9'\n",
       "27. 'Porsche 914-2'\n",
       "28. 'Lotus Europa'\n",
       "29. 'Ford Pantera L'\n",
       "30. 'Ferrari Dino'\n",
       "31. 'Maserati Bora'\n",
       "32. 'Volvo 142E'\n",
       "\n",
       "\n"
      ],
      "text/plain": [
       " [1] \"Mazda RX4\"           \"Mazda RX4 Wag\"       \"Datsun 710\"         \n",
       " [4] \"Hornet 4 Drive\"      \"Hornet Sportabout\"   \"Valiant\"            \n",
       " [7] \"Duster 360\"          \"Merc 240D\"           \"Merc 230\"           \n",
       "[10] \"Merc 280\"            \"Merc 280C\"           \"Merc 450SE\"         \n",
       "[13] \"Merc 450SL\"          \"Merc 450SLC\"         \"Cadillac Fleetwood\" \n",
       "[16] \"Lincoln Continental\" \"Chrysler Imperial\"   \"Fiat 128\"           \n",
       "[19] \"Honda Civic\"         \"Toyota Corolla\"      \"Toyota Corona\"      \n",
       "[22] \"Dodge Challenger\"    \"AMC Javelin\"         \"Camaro Z28\"         \n",
       "[25] \"Pontiac Firebird\"    \"Fiat X1-9\"           \"Porsche 914-2\"      \n",
       "[28] \"Lotus Europa\"        \"Ford Pantera L\"      \"Ferrari Dino\"       \n",
       "[31] \"Maserati Bora\"       \"Volvo 142E\"         "
      ]
     },
     "metadata": {},
     "output_type": "display_data"
    }
   ],
   "source": [
    "rownames(mtcars)"
   ]
  },
  {
   "cell_type": "markdown",
   "id": "a5b04d60",
   "metadata": {},
   "source": [
    "## 7.3 Apply Family"
   ]
  },
  {
   "cell_type": "code",
   "execution_count": 57,
   "id": "aec1a794",
   "metadata": {},
   "outputs": [
    {
     "data": {
      "text/html": [
       "<table class=\"dataframe\">\n",
       "<caption>A data.frame: 6 × 5</caption>\n",
       "<thead>\n",
       "\t<tr><th></th><th scope=col>Sepal.Length</th><th scope=col>Sepal.Width</th><th scope=col>Petal.Length</th><th scope=col>Petal.Width</th><th scope=col>Species</th></tr>\n",
       "\t<tr><th></th><th scope=col>&lt;dbl&gt;</th><th scope=col>&lt;dbl&gt;</th><th scope=col>&lt;dbl&gt;</th><th scope=col>&lt;dbl&gt;</th><th scope=col>&lt;fct&gt;</th></tr>\n",
       "</thead>\n",
       "<tbody>\n",
       "\t<tr><th scope=row>1</th><td>5.1</td><td>3.5</td><td>1.4</td><td>0.2</td><td>setosa</td></tr>\n",
       "\t<tr><th scope=row>2</th><td>4.9</td><td>3.0</td><td>1.4</td><td>0.2</td><td>setosa</td></tr>\n",
       "\t<tr><th scope=row>3</th><td>4.7</td><td>3.2</td><td>1.3</td><td>0.2</td><td>setosa</td></tr>\n",
       "\t<tr><th scope=row>4</th><td>4.6</td><td>3.1</td><td>1.5</td><td>0.2</td><td>setosa</td></tr>\n",
       "\t<tr><th scope=row>5</th><td>5.0</td><td>3.6</td><td>1.4</td><td>0.2</td><td>setosa</td></tr>\n",
       "\t<tr><th scope=row>6</th><td>5.4</td><td>3.9</td><td>1.7</td><td>0.4</td><td>setosa</td></tr>\n",
       "</tbody>\n",
       "</table>\n"
      ],
      "text/latex": [
       "A data.frame: 6 × 5\n",
       "\\begin{tabular}{r|lllll}\n",
       "  & Sepal.Length & Sepal.Width & Petal.Length & Petal.Width & Species\\\\\n",
       "  & <dbl> & <dbl> & <dbl> & <dbl> & <fct>\\\\\n",
       "\\hline\n",
       "\t1 & 5.1 & 3.5 & 1.4 & 0.2 & setosa\\\\\n",
       "\t2 & 4.9 & 3.0 & 1.4 & 0.2 & setosa\\\\\n",
       "\t3 & 4.7 & 3.2 & 1.3 & 0.2 & setosa\\\\\n",
       "\t4 & 4.6 & 3.1 & 1.5 & 0.2 & setosa\\\\\n",
       "\t5 & 5.0 & 3.6 & 1.4 & 0.2 & setosa\\\\\n",
       "\t6 & 5.4 & 3.9 & 1.7 & 0.4 & setosa\\\\\n",
       "\\end{tabular}\n"
      ],
      "text/markdown": [
       "\n",
       "A data.frame: 6 × 5\n",
       "\n",
       "| <!--/--> | Sepal.Length &lt;dbl&gt; | Sepal.Width &lt;dbl&gt; | Petal.Length &lt;dbl&gt; | Petal.Width &lt;dbl&gt; | Species &lt;fct&gt; |\n",
       "|---|---|---|---|---|---|\n",
       "| 1 | 5.1 | 3.5 | 1.4 | 0.2 | setosa |\n",
       "| 2 | 4.9 | 3.0 | 1.4 | 0.2 | setosa |\n",
       "| 3 | 4.7 | 3.2 | 1.3 | 0.2 | setosa |\n",
       "| 4 | 4.6 | 3.1 | 1.5 | 0.2 | setosa |\n",
       "| 5 | 5.0 | 3.6 | 1.4 | 0.2 | setosa |\n",
       "| 6 | 5.4 | 3.9 | 1.7 | 0.4 | setosa |\n",
       "\n"
      ],
      "text/plain": [
       "  Sepal.Length Sepal.Width Petal.Length Petal.Width Species\n",
       "1 5.1          3.5         1.4          0.2         setosa \n",
       "2 4.9          3.0         1.4          0.2         setosa \n",
       "3 4.7          3.2         1.3          0.2         setosa \n",
       "4 4.6          3.1         1.5          0.2         setosa \n",
       "5 5.0          3.6         1.4          0.2         setosa \n",
       "6 5.4          3.9         1.7          0.4         setosa "
      ]
     },
     "metadata": {},
     "output_type": "display_data"
    }
   ],
   "source": [
    "head(iris)"
   ]
  },
  {
   "cell_type": "code",
   "execution_count": 61,
   "id": "086d4b38",
   "metadata": {},
   "outputs": [
    {
     "data": {
      "text/html": [
       "<style>\n",
       ".dl-inline {width: auto; margin:0; padding: 0}\n",
       ".dl-inline>dt, .dl-inline>dd {float: none; width: auto; display: inline-block}\n",
       ".dl-inline>dt::after {content: \":\\0020\"; padding-right: .5ex}\n",
       ".dl-inline>dt:not(:first-of-type) {padding-left: .5ex}\n",
       "</style><dl class=dl-inline><dt>Sepal.Length</dt><dd>'7.9'</dd><dt>Sepal.Width</dt><dd>'4.4'</dd><dt>Petal.Length</dt><dd>'6.9'</dd><dt>Petal.Width</dt><dd>'2.5'</dd><dt>Species</dt><dd>'virginica'</dd></dl>\n"
      ],
      "text/latex": [
       "\\begin{description*}\n",
       "\\item[Sepal.Length] '7.9'\n",
       "\\item[Sepal.Width] '4.4'\n",
       "\\item[Petal.Length] '6.9'\n",
       "\\item[Petal.Width] '2.5'\n",
       "\\item[Species] 'virginica'\n",
       "\\end{description*}\n"
      ],
      "text/markdown": [
       "Sepal.Length\n",
       ":   '7.9'Sepal.Width\n",
       ":   '4.4'Petal.Length\n",
       ":   '6.9'Petal.Width\n",
       ":   '2.5'Species\n",
       ":   'virginica'\n",
       "\n"
      ],
      "text/plain": [
       "Sepal.Length  Sepal.Width Petal.Length  Petal.Width      Species \n",
       "       \"7.9\"        \"4.4\"        \"6.9\"        \"2.5\"  \"virginica\" "
      ]
     },
     "metadata": {},
     "output_type": "display_data"
    }
   ],
   "source": [
    "apply(X = iris, MARGIN=2, FUN=max) #VECTOR"
   ]
  },
  {
   "cell_type": "markdown",
   "id": "fd1a9b8d",
   "metadata": {},
   "source": [
    "MARGIN\t\n",
    "a vector giving the subscripts which the function will be applied over. E.g., for a matrix 1 indicates rows, 2 indicates columns, c(1, 2) indicates rows and columns. Where X has named dimnames, it can be a character vector selecting dimension names."
   ]
  },
  {
   "cell_type": "code",
   "execution_count": 67,
   "id": "54097b5f",
   "metadata": {},
   "outputs": [
    {
     "data": {
      "text/html": [
       "<style>\n",
       ".dl-inline {width: auto; margin:0; padding: 0}\n",
       ".dl-inline>dt, .dl-inline>dd {float: none; width: auto; display: inline-block}\n",
       ".dl-inline>dt::after {content: \":\\0020\"; padding-right: .5ex}\n",
       ".dl-inline>dt:not(:first-of-type) {padding-left: .5ex}\n",
       "</style><dl class=dl-inline><dt>Sepal.Length</dt><dd>5.84333333333333</dd><dt>Sepal.Width</dt><dd>3.05733333333333</dd><dt>Petal.Length</dt><dd>3.758</dd><dt>Petal.Width</dt><dd>1.19933333333333</dd></dl>\n"
      ],
      "text/latex": [
       "\\begin{description*}\n",
       "\\item[Sepal.Length] 5.84333333333333\n",
       "\\item[Sepal.Width] 3.05733333333333\n",
       "\\item[Petal.Length] 3.758\n",
       "\\item[Petal.Width] 1.19933333333333\n",
       "\\end{description*}\n"
      ],
      "text/markdown": [
       "Sepal.Length\n",
       ":   5.84333333333333Sepal.Width\n",
       ":   3.05733333333333Petal.Length\n",
       ":   3.758Petal.Width\n",
       ":   1.19933333333333\n",
       "\n"
      ],
      "text/plain": [
       "Sepal.Length  Sepal.Width Petal.Length  Petal.Width \n",
       "    5.843333     3.057333     3.758000     1.199333 "
      ]
     },
     "metadata": {},
     "output_type": "display_data"
    }
   ],
   "source": [
    "apply(iris[, 1:4], 2, mean)"
   ]
  },
  {
   "cell_type": "code",
   "execution_count": 65,
   "id": "252cc43d",
   "metadata": {},
   "outputs": [
    {
     "data": {
      "text/html": [
       "<style>\n",
       ".dl-inline {width: auto; margin:0; padding: 0}\n",
       ".dl-inline>dt, .dl-inline>dd {float: none; width: auto; display: inline-block}\n",
       ".dl-inline>dt::after {content: \":\\0020\"; padding-right: .5ex}\n",
       ".dl-inline>dt:not(:first-of-type) {padding-left: .5ex}\n",
       "</style><dl class=dl-inline><dt>Sepal.Length</dt><dd>5.84333333333333</dd><dt>Sepal.Width</dt><dd>3.05733333333333</dd><dt>Petal.Length</dt><dd>3.758</dd><dt>Petal.Width</dt><dd>1.19933333333333</dd></dl>\n"
      ],
      "text/latex": [
       "\\begin{description*}\n",
       "\\item[Sepal.Length] 5.84333333333333\n",
       "\\item[Sepal.Width] 3.05733333333333\n",
       "\\item[Petal.Length] 3.758\n",
       "\\item[Petal.Width] 1.19933333333333\n",
       "\\end{description*}\n"
      ],
      "text/markdown": [
       "Sepal.Length\n",
       ":   5.84333333333333Sepal.Width\n",
       ":   3.05733333333333Petal.Length\n",
       ":   3.758Petal.Width\n",
       ":   1.19933333333333\n",
       "\n"
      ],
      "text/plain": [
       "Sepal.Length  Sepal.Width Petal.Length  Petal.Width \n",
       "    5.843333     3.057333     3.758000     1.199333 "
      ]
     },
     "metadata": {},
     "output_type": "display_data"
    }
   ],
   "source": [
    "apply(apply(iris[, 1:4], 2, FUN=as.numeric),2, mean)"
   ]
  },
  {
   "cell_type": "code",
   "execution_count": 68,
   "id": "1571af4d",
   "metadata": {},
   "outputs": [
    {
     "name": "stderr",
     "output_type": "stream",
     "text": [
      "Warning message in mean.default(X[[i]], ...):\n",
      "\"argument is not numeric or logical: returning NA\"\n"
     ]
    },
    {
     "data": {
      "text/html": [
       "<dl>\n",
       "\t<dt>$Sepal.Length</dt>\n",
       "\t\t<dd>5.84333333333333</dd>\n",
       "\t<dt>$Sepal.Width</dt>\n",
       "\t\t<dd>3.05733333333333</dd>\n",
       "\t<dt>$Petal.Length</dt>\n",
       "\t\t<dd>3.758</dd>\n",
       "\t<dt>$Petal.Width</dt>\n",
       "\t\t<dd>1.19933333333333</dd>\n",
       "\t<dt>$Species</dt>\n",
       "\t\t<dd>&lt;NA&gt;</dd>\n",
       "</dl>\n"
      ],
      "text/latex": [
       "\\begin{description}\n",
       "\\item[\\$Sepal.Length] 5.84333333333333\n",
       "\\item[\\$Sepal.Width] 3.05733333333333\n",
       "\\item[\\$Petal.Length] 3.758\n",
       "\\item[\\$Petal.Width] 1.19933333333333\n",
       "\\item[\\$Species] <NA>\n",
       "\\end{description}\n"
      ],
      "text/markdown": [
       "$Sepal.Length\n",
       ":   5.84333333333333\n",
       "$Sepal.Width\n",
       ":   3.05733333333333\n",
       "$Petal.Length\n",
       ":   3.758\n",
       "$Petal.Width\n",
       ":   1.19933333333333\n",
       "$Species\n",
       ":   &lt;NA&gt;\n",
       "\n",
       "\n"
      ],
      "text/plain": [
       "$Sepal.Length\n",
       "[1] 5.843333\n",
       "\n",
       "$Sepal.Width\n",
       "[1] 3.057333\n",
       "\n",
       "$Petal.Length\n",
       "[1] 3.758\n",
       "\n",
       "$Petal.Width\n",
       "[1] 1.199333\n",
       "\n",
       "$Species\n",
       "[1] NA\n"
      ]
     },
     "metadata": {},
     "output_type": "display_data"
    }
   ],
   "source": [
    "lapply(iris, mean) #LIST"
   ]
  },
  {
   "cell_type": "code",
   "execution_count": 71,
   "id": "89452112",
   "metadata": {},
   "outputs": [
    {
     "data": {
      "text/html": [
       "<style>\n",
       ".dl-inline {width: auto; margin:0; padding: 0}\n",
       ".dl-inline>dt, .dl-inline>dd {float: none; width: auto; display: inline-block}\n",
       ".dl-inline>dt::after {content: \":\\0020\"; padding-right: .5ex}\n",
       ".dl-inline>dt:not(:first-of-type) {padding-left: .5ex}\n",
       "</style><dl class=dl-inline><dt>Sepal.Length</dt><dd>876.5</dd><dt>Sepal.Width</dt><dd>458.6</dd><dt>Petal.Length</dt><dd>563.7</dd><dt>Petal.Width</dt><dd>179.9</dd></dl>\n"
      ],
      "text/latex": [
       "\\begin{description*}\n",
       "\\item[Sepal.Length] 876.5\n",
       "\\item[Sepal.Width] 458.6\n",
       "\\item[Petal.Length] 563.7\n",
       "\\item[Petal.Width] 179.9\n",
       "\\end{description*}\n"
      ],
      "text/markdown": [
       "Sepal.Length\n",
       ":   876.5Sepal.Width\n",
       ":   458.6Petal.Length\n",
       ":   563.7Petal.Width\n",
       ":   179.9\n",
       "\n"
      ],
      "text/plain": [
       "Sepal.Length  Sepal.Width Petal.Length  Petal.Width \n",
       "       876.5        458.6        563.7        179.9 "
      ]
     },
     "metadata": {},
     "output_type": "display_data"
    }
   ],
   "source": [
    "apply(iris[,1:4], 2, sum)"
   ]
  },
  {
   "cell_type": "code",
   "execution_count": 79,
   "id": "3ccc06ca",
   "metadata": {},
   "outputs": [
    {
     "name": "stdout",
     "output_type": "stream",
     "text": [
      "[1] \"Sepal.Length\"\n",
      "[1] 876.5\n",
      "[1] \"Sepal.Width\"\n",
      "[1] 458.6\n",
      "[1] \"Petal.Length\"\n",
      "[1] 563.7\n",
      "[1] \"Petal.Width\"\n",
      "[1] 179.9\n"
     ]
    }
   ],
   "source": [
    "for (i in 1:4){\n",
    "    print(colnames(iris)[i])\n",
    "    print(sum(iris[,i]))\n",
    "}"
   ]
  },
  {
   "cell_type": "code",
   "execution_count": 81,
   "id": "f469cbd7",
   "metadata": {},
   "outputs": [],
   "source": [
    "mtcars$model <- rownames(mtcars)"
   ]
  },
  {
   "cell_type": "code",
   "execution_count": 84,
   "id": "ca6fe507",
   "metadata": {},
   "outputs": [
    {
     "data": {
      "text/html": [
       "<table class=\"dataframe\">\n",
       "<caption>A data.frame: 2 × 13</caption>\n",
       "<thead>\n",
       "\t<tr><th></th><th scope=col>mpg</th><th scope=col>cyl</th><th scope=col>disp</th><th scope=col>hp</th><th scope=col>drat</th><th scope=col>wt</th><th scope=col>qsec</th><th scope=col>vs</th><th scope=col>am</th><th scope=col>gear</th><th scope=col>carb</th><th scope=col>hp_wt</th><th scope=col>model</th></tr>\n",
       "\t<tr><th></th><th scope=col>&lt;dbl&gt;</th><th scope=col>&lt;dbl&gt;</th><th scope=col>&lt;dbl&gt;</th><th scope=col>&lt;dbl&gt;</th><th scope=col>&lt;dbl&gt;</th><th scope=col>&lt;dbl&gt;</th><th scope=col>&lt;dbl&gt;</th><th scope=col>&lt;dbl&gt;</th><th scope=col>&lt;dbl&gt;</th><th scope=col>&lt;dbl&gt;</th><th scope=col>&lt;dbl&gt;</th><th scope=col>&lt;dbl&gt;</th><th scope=col>&lt;chr&gt;</th></tr>\n",
       "</thead>\n",
       "<tbody>\n",
       "\t<tr><th scope=row>Mazda RX4</th><td>21</td><td>6</td><td>160</td><td>110</td><td>3.9</td><td>2.620</td><td>16.46</td><td>0</td><td>1</td><td>4</td><td>4</td><td>41.98473</td><td>Mazda RX4    </td></tr>\n",
       "\t<tr><th scope=row>Mazda RX4 Wag</th><td>21</td><td>6</td><td>160</td><td>110</td><td>3.9</td><td>2.875</td><td>17.02</td><td>0</td><td>1</td><td>4</td><td>4</td><td>38.26087</td><td>Mazda RX4 Wag</td></tr>\n",
       "</tbody>\n",
       "</table>\n"
      ],
      "text/latex": [
       "A data.frame: 2 × 13\n",
       "\\begin{tabular}{r|lllllllllllll}\n",
       "  & mpg & cyl & disp & hp & drat & wt & qsec & vs & am & gear & carb & hp\\_wt & model\\\\\n",
       "  & <dbl> & <dbl> & <dbl> & <dbl> & <dbl> & <dbl> & <dbl> & <dbl> & <dbl> & <dbl> & <dbl> & <dbl> & <chr>\\\\\n",
       "\\hline\n",
       "\tMazda RX4 & 21 & 6 & 160 & 110 & 3.9 & 2.620 & 16.46 & 0 & 1 & 4 & 4 & 41.98473 & Mazda RX4    \\\\\n",
       "\tMazda RX4 Wag & 21 & 6 & 160 & 110 & 3.9 & 2.875 & 17.02 & 0 & 1 & 4 & 4 & 38.26087 & Mazda RX4 Wag\\\\\n",
       "\\end{tabular}\n"
      ],
      "text/markdown": [
       "\n",
       "A data.frame: 2 × 13\n",
       "\n",
       "| <!--/--> | mpg &lt;dbl&gt; | cyl &lt;dbl&gt; | disp &lt;dbl&gt; | hp &lt;dbl&gt; | drat &lt;dbl&gt; | wt &lt;dbl&gt; | qsec &lt;dbl&gt; | vs &lt;dbl&gt; | am &lt;dbl&gt; | gear &lt;dbl&gt; | carb &lt;dbl&gt; | hp_wt &lt;dbl&gt; | model &lt;chr&gt; |\n",
       "|---|---|---|---|---|---|---|---|---|---|---|---|---|---|\n",
       "| Mazda RX4 | 21 | 6 | 160 | 110 | 3.9 | 2.620 | 16.46 | 0 | 1 | 4 | 4 | 41.98473 | Mazda RX4     |\n",
       "| Mazda RX4 Wag | 21 | 6 | 160 | 110 | 3.9 | 2.875 | 17.02 | 0 | 1 | 4 | 4 | 38.26087 | Mazda RX4 Wag |\n",
       "\n"
      ],
      "text/plain": [
       "              mpg cyl disp hp  drat wt    qsec  vs am gear carb hp_wt   \n",
       "Mazda RX4     21  6   160  110 3.9  2.620 16.46 0  1  4    4    41.98473\n",
       "Mazda RX4 Wag 21  6   160  110 3.9  2.875 17.02 0  1  4    4    38.26087\n",
       "              model        \n",
       "Mazda RX4     Mazda RX4    \n",
       "Mazda RX4 Wag Mazda RX4 Wag"
      ]
     },
     "metadata": {},
     "output_type": "display_data"
    }
   ],
   "source": [
    "head(mtcars,2)"
   ]
  },
  {
   "cell_type": "code",
   "execution_count": 85,
   "id": "ad476b5c",
   "metadata": {},
   "outputs": [
    {
     "data": {
      "text/html": [
       "<ol>\n",
       "\t<li><style>\n",
       ".list-inline {list-style: none; margin:0; padding: 0}\n",
       ".list-inline>li {display: inline-block}\n",
       ".list-inline>li:not(:last-child)::after {content: \"\\00b7\"; padding: 0 .5ex}\n",
       "</style>\n",
       "<ol class=list-inline><li>'Mazda'</li><li>'RX4'</li></ol>\n",
       "</li>\n",
       "\t<li><style>\n",
       ".list-inline {list-style: none; margin:0; padding: 0}\n",
       ".list-inline>li {display: inline-block}\n",
       ".list-inline>li:not(:last-child)::after {content: \"\\00b7\"; padding: 0 .5ex}\n",
       "</style>\n",
       "<ol class=list-inline><li>'Mazda'</li><li>'RX4'</li><li>'Wag'</li></ol>\n",
       "</li>\n",
       "</ol>\n"
      ],
      "text/latex": [
       "\\begin{enumerate}\n",
       "\\item \\begin{enumerate*}\n",
       "\\item 'Mazda'\n",
       "\\item 'RX4'\n",
       "\\end{enumerate*}\n",
       "\n",
       "\\item \\begin{enumerate*}\n",
       "\\item 'Mazda'\n",
       "\\item 'RX4'\n",
       "\\item 'Wag'\n",
       "\\end{enumerate*}\n",
       "\n",
       "\\end{enumerate}\n"
      ],
      "text/markdown": [
       "1. 1. 'Mazda'\n",
       "2. 'RX4'\n",
       "\n",
       "\n",
       "\n",
       "2. 1. 'Mazda'\n",
       "2. 'RX4'\n",
       "3. 'Wag'\n",
       "\n",
       "\n",
       "\n",
       "\n",
       "\n"
      ],
      "text/plain": [
       "[[1]]\n",
       "[1] \"Mazda\" \"RX4\"  \n",
       "\n",
       "[[2]]\n",
       "[1] \"Mazda\" \"RX4\"   \"Wag\"  \n"
      ]
     },
     "metadata": {},
     "output_type": "display_data"
    }
   ],
   "source": [
    "head(strsplit(mtcars$model, split=' '),2)"
   ]
  },
  {
   "cell_type": "code",
   "execution_count": 89,
   "id": "da7dcf84",
   "metadata": {},
   "outputs": [
    {
     "data": {
      "text/html": [
       "'Mazda'"
      ],
      "text/latex": [
       "'Mazda'"
      ],
      "text/markdown": [
       "'Mazda'"
      ],
      "text/plain": [
       "[1] \"Mazda\""
      ]
     },
     "metadata": {},
     "output_type": "display_data"
    }
   ],
   "source": [
    "strsplit(mtcars$model, split=' ')[[1]][1]"
   ]
  },
  {
   "cell_type": "code",
   "execution_count": 96,
   "id": "2318f3a3",
   "metadata": {},
   "outputs": [
    {
     "data": {
      "text/html": [
       "<style>\n",
       ".list-inline {list-style: none; margin:0; padding: 0}\n",
       ".list-inline>li {display: inline-block}\n",
       ".list-inline>li:not(:last-child)::after {content: \"\\00b7\"; padding: 0 .5ex}\n",
       "</style>\n",
       "<ol class=list-inline><li>'Mazda'</li><li>'Mazda'</li><li>'Datsun'</li><li>'Hornet'</li><li>'Hornet'</li><li>'Valiant'</li><li>'Duster'</li><li>'Merc'</li><li>'Merc'</li><li>'Merc'</li><li>'Merc'</li><li>'Merc'</li><li>'Merc'</li><li>'Merc'</li><li>'Cadillac'</li><li>'Lincoln'</li><li>'Chrysler'</li><li>'Fiat'</li><li>'Honda'</li><li>'Toyota'</li><li>'Toyota'</li><li>'Dodge'</li><li>'AMC'</li><li>'Camaro'</li><li>'Pontiac'</li><li>'Fiat'</li><li>'Porsche'</li><li>'Lotus'</li><li>'Ford'</li><li>'Ferrari'</li><li>'Maserati'</li><li>'Volvo'</li></ol>\n"
      ],
      "text/latex": [
       "\\begin{enumerate*}\n",
       "\\item 'Mazda'\n",
       "\\item 'Mazda'\n",
       "\\item 'Datsun'\n",
       "\\item 'Hornet'\n",
       "\\item 'Hornet'\n",
       "\\item 'Valiant'\n",
       "\\item 'Duster'\n",
       "\\item 'Merc'\n",
       "\\item 'Merc'\n",
       "\\item 'Merc'\n",
       "\\item 'Merc'\n",
       "\\item 'Merc'\n",
       "\\item 'Merc'\n",
       "\\item 'Merc'\n",
       "\\item 'Cadillac'\n",
       "\\item 'Lincoln'\n",
       "\\item 'Chrysler'\n",
       "\\item 'Fiat'\n",
       "\\item 'Honda'\n",
       "\\item 'Toyota'\n",
       "\\item 'Toyota'\n",
       "\\item 'Dodge'\n",
       "\\item 'AMC'\n",
       "\\item 'Camaro'\n",
       "\\item 'Pontiac'\n",
       "\\item 'Fiat'\n",
       "\\item 'Porsche'\n",
       "\\item 'Lotus'\n",
       "\\item 'Ford'\n",
       "\\item 'Ferrari'\n",
       "\\item 'Maserati'\n",
       "\\item 'Volvo'\n",
       "\\end{enumerate*}\n"
      ],
      "text/markdown": [
       "1. 'Mazda'\n",
       "2. 'Mazda'\n",
       "3. 'Datsun'\n",
       "4. 'Hornet'\n",
       "5. 'Hornet'\n",
       "6. 'Valiant'\n",
       "7. 'Duster'\n",
       "8. 'Merc'\n",
       "9. 'Merc'\n",
       "10. 'Merc'\n",
       "11. 'Merc'\n",
       "12. 'Merc'\n",
       "13. 'Merc'\n",
       "14. 'Merc'\n",
       "15. 'Cadillac'\n",
       "16. 'Lincoln'\n",
       "17. 'Chrysler'\n",
       "18. 'Fiat'\n",
       "19. 'Honda'\n",
       "20. 'Toyota'\n",
       "21. 'Toyota'\n",
       "22. 'Dodge'\n",
       "23. 'AMC'\n",
       "24. 'Camaro'\n",
       "25. 'Pontiac'\n",
       "26. 'Fiat'\n",
       "27. 'Porsche'\n",
       "28. 'Lotus'\n",
       "29. 'Ford'\n",
       "30. 'Ferrari'\n",
       "31. 'Maserati'\n",
       "32. 'Volvo'\n",
       "\n",
       "\n"
      ],
      "text/plain": [
       " [1] \"Mazda\"    \"Mazda\"    \"Datsun\"   \"Hornet\"   \"Hornet\"   \"Valiant\" \n",
       " [7] \"Duster\"   \"Merc\"     \"Merc\"     \"Merc\"     \"Merc\"     \"Merc\"    \n",
       "[13] \"Merc\"     \"Merc\"     \"Cadillac\" \"Lincoln\"  \"Chrysler\" \"Fiat\"    \n",
       "[19] \"Honda\"    \"Toyota\"   \"Toyota\"   \"Dodge\"    \"AMC\"      \"Camaro\"  \n",
       "[25] \"Pontiac\"  \"Fiat\"     \"Porsche\"  \"Lotus\"    \"Ford\"     \"Ferrari\" \n",
       "[31] \"Maserati\" \"Volvo\"   "
      ]
     },
     "metadata": {},
     "output_type": "display_data"
    }
   ],
   "source": [
    "sapply(X=strsplit(mtcars$model, split=' '), FUN='[', n=1)"
   ]
  },
  {
   "cell_type": "code",
   "execution_count": 97,
   "id": "5631c7bc",
   "metadata": {},
   "outputs": [],
   "source": [
    "mtcars$brand <- sapply(X=strsplit(mtcars$model, split=' '), FUN='[', n=1)"
   ]
  },
  {
   "cell_type": "code",
   "execution_count": 98,
   "id": "5af95015",
   "metadata": {},
   "outputs": [
    {
     "data": {
      "text/html": [
       "<table class=\"dataframe\">\n",
       "<caption>A data.frame: 2 × 14</caption>\n",
       "<thead>\n",
       "\t<tr><th></th><th scope=col>mpg</th><th scope=col>cyl</th><th scope=col>disp</th><th scope=col>hp</th><th scope=col>drat</th><th scope=col>wt</th><th scope=col>qsec</th><th scope=col>vs</th><th scope=col>am</th><th scope=col>gear</th><th scope=col>carb</th><th scope=col>hp_wt</th><th scope=col>model</th><th scope=col>brand</th></tr>\n",
       "\t<tr><th></th><th scope=col>&lt;dbl&gt;</th><th scope=col>&lt;dbl&gt;</th><th scope=col>&lt;dbl&gt;</th><th scope=col>&lt;dbl&gt;</th><th scope=col>&lt;dbl&gt;</th><th scope=col>&lt;dbl&gt;</th><th scope=col>&lt;dbl&gt;</th><th scope=col>&lt;dbl&gt;</th><th scope=col>&lt;dbl&gt;</th><th scope=col>&lt;dbl&gt;</th><th scope=col>&lt;dbl&gt;</th><th scope=col>&lt;dbl&gt;</th><th scope=col>&lt;chr&gt;</th><th scope=col>&lt;chr&gt;</th></tr>\n",
       "</thead>\n",
       "<tbody>\n",
       "\t<tr><th scope=row>Mazda RX4</th><td>21</td><td>6</td><td>160</td><td>110</td><td>3.9</td><td>2.620</td><td>16.46</td><td>0</td><td>1</td><td>4</td><td>4</td><td>41.98473</td><td>Mazda RX4    </td><td>Mazda</td></tr>\n",
       "\t<tr><th scope=row>Mazda RX4 Wag</th><td>21</td><td>6</td><td>160</td><td>110</td><td>3.9</td><td>2.875</td><td>17.02</td><td>0</td><td>1</td><td>4</td><td>4</td><td>38.26087</td><td>Mazda RX4 Wag</td><td>Mazda</td></tr>\n",
       "</tbody>\n",
       "</table>\n"
      ],
      "text/latex": [
       "A data.frame: 2 × 14\n",
       "\\begin{tabular}{r|llllllllllllll}\n",
       "  & mpg & cyl & disp & hp & drat & wt & qsec & vs & am & gear & carb & hp\\_wt & model & brand\\\\\n",
       "  & <dbl> & <dbl> & <dbl> & <dbl> & <dbl> & <dbl> & <dbl> & <dbl> & <dbl> & <dbl> & <dbl> & <dbl> & <chr> & <chr>\\\\\n",
       "\\hline\n",
       "\tMazda RX4 & 21 & 6 & 160 & 110 & 3.9 & 2.620 & 16.46 & 0 & 1 & 4 & 4 & 41.98473 & Mazda RX4     & Mazda\\\\\n",
       "\tMazda RX4 Wag & 21 & 6 & 160 & 110 & 3.9 & 2.875 & 17.02 & 0 & 1 & 4 & 4 & 38.26087 & Mazda RX4 Wag & Mazda\\\\\n",
       "\\end{tabular}\n"
      ],
      "text/markdown": [
       "\n",
       "A data.frame: 2 × 14\n",
       "\n",
       "| <!--/--> | mpg &lt;dbl&gt; | cyl &lt;dbl&gt; | disp &lt;dbl&gt; | hp &lt;dbl&gt; | drat &lt;dbl&gt; | wt &lt;dbl&gt; | qsec &lt;dbl&gt; | vs &lt;dbl&gt; | am &lt;dbl&gt; | gear &lt;dbl&gt; | carb &lt;dbl&gt; | hp_wt &lt;dbl&gt; | model &lt;chr&gt; | brand &lt;chr&gt; |\n",
       "|---|---|---|---|---|---|---|---|---|---|---|---|---|---|---|\n",
       "| Mazda RX4 | 21 | 6 | 160 | 110 | 3.9 | 2.620 | 16.46 | 0 | 1 | 4 | 4 | 41.98473 | Mazda RX4     | Mazda |\n",
       "| Mazda RX4 Wag | 21 | 6 | 160 | 110 | 3.9 | 2.875 | 17.02 | 0 | 1 | 4 | 4 | 38.26087 | Mazda RX4 Wag | Mazda |\n",
       "\n"
      ],
      "text/plain": [
       "              mpg cyl disp hp  drat wt    qsec  vs am gear carb hp_wt   \n",
       "Mazda RX4     21  6   160  110 3.9  2.620 16.46 0  1  4    4    41.98473\n",
       "Mazda RX4 Wag 21  6   160  110 3.9  2.875 17.02 0  1  4    4    38.26087\n",
       "              model         brand\n",
       "Mazda RX4     Mazda RX4     Mazda\n",
       "Mazda RX4 Wag Mazda RX4 Wag Mazda"
      ]
     },
     "metadata": {},
     "output_type": "display_data"
    }
   ],
   "source": [
    "head(mtcars, 2)"
   ]
  },
  {
   "cell_type": "markdown",
   "id": "d9ea464c",
   "metadata": {},
   "source": [
    "## 7.4 Aggregating & Sorting"
   ]
  },
  {
   "cell_type": "code",
   "execution_count": 105,
   "id": "4ce6b37f",
   "metadata": {},
   "outputs": [
    {
     "data": {
      "text/html": [
       "<ol>\n",
       "\t<li><style>\n",
       ".list-inline {list-style: none; margin:0; padding: 0}\n",
       ".list-inline>li {display: inline-block}\n",
       ".list-inline>li:not(:last-child)::after {content: \"\\00b7\"; padding: 0 .5ex}\n",
       "</style>\n",
       "<ol class=list-inline><li>'Mazda'</li><li>'RX4'</li></ol>\n",
       "</li>\n",
       "\t<li><style>\n",
       ".list-inline {list-style: none; margin:0; padding: 0}\n",
       ".list-inline>li {display: inline-block}\n",
       ".list-inline>li:not(:last-child)::after {content: \"\\00b7\"; padding: 0 .5ex}\n",
       "</style>\n",
       "<ol class=list-inline><li>'Mazda'</li><li>'RX4'</li><li>'Wag'</li></ol>\n",
       "</li>\n",
       "\t<li><style>\n",
       ".list-inline {list-style: none; margin:0; padding: 0}\n",
       ".list-inline>li {display: inline-block}\n",
       ".list-inline>li:not(:last-child)::after {content: \"\\00b7\"; padding: 0 .5ex}\n",
       "</style>\n",
       "<ol class=list-inline><li>'Datsun'</li><li>'710'</li></ol>\n",
       "</li>\n",
       "\t<li><style>\n",
       ".list-inline {list-style: none; margin:0; padding: 0}\n",
       ".list-inline>li {display: inline-block}\n",
       ".list-inline>li:not(:last-child)::after {content: \"\\00b7\"; padding: 0 .5ex}\n",
       "</style>\n",
       "<ol class=list-inline><li>'Hornet'</li><li>'4'</li><li>'Drive'</li></ol>\n",
       "</li>\n",
       "\t<li><style>\n",
       ".list-inline {list-style: none; margin:0; padding: 0}\n",
       ".list-inline>li {display: inline-block}\n",
       ".list-inline>li:not(:last-child)::after {content: \"\\00b7\"; padding: 0 .5ex}\n",
       "</style>\n",
       "<ol class=list-inline><li>'Hornet'</li><li>'Sportabout'</li></ol>\n",
       "</li>\n",
       "\t<li>'Valiant'</li>\n",
       "</ol>\n"
      ],
      "text/latex": [
       "\\begin{enumerate}\n",
       "\\item \\begin{enumerate*}\n",
       "\\item 'Mazda'\n",
       "\\item 'RX4'\n",
       "\\end{enumerate*}\n",
       "\n",
       "\\item \\begin{enumerate*}\n",
       "\\item 'Mazda'\n",
       "\\item 'RX4'\n",
       "\\item 'Wag'\n",
       "\\end{enumerate*}\n",
       "\n",
       "\\item \\begin{enumerate*}\n",
       "\\item 'Datsun'\n",
       "\\item '710'\n",
       "\\end{enumerate*}\n",
       "\n",
       "\\item \\begin{enumerate*}\n",
       "\\item 'Hornet'\n",
       "\\item '4'\n",
       "\\item 'Drive'\n",
       "\\end{enumerate*}\n",
       "\n",
       "\\item \\begin{enumerate*}\n",
       "\\item 'Hornet'\n",
       "\\item 'Sportabout'\n",
       "\\end{enumerate*}\n",
       "\n",
       "\\item 'Valiant'\n",
       "\\end{enumerate}\n"
      ],
      "text/markdown": [
       "1. 1. 'Mazda'\n",
       "2. 'RX4'\n",
       "\n",
       "\n",
       "\n",
       "2. 1. 'Mazda'\n",
       "2. 'RX4'\n",
       "3. 'Wag'\n",
       "\n",
       "\n",
       "\n",
       "3. 1. 'Datsun'\n",
       "2. '710'\n",
       "\n",
       "\n",
       "\n",
       "4. 1. 'Hornet'\n",
       "2. '4'\n",
       "3. 'Drive'\n",
       "\n",
       "\n",
       "\n",
       "5. 1. 'Hornet'\n",
       "2. 'Sportabout'\n",
       "\n",
       "\n",
       "\n",
       "6. 'Valiant'\n",
       "\n",
       "\n"
      ],
      "text/plain": [
       "[[1]]\n",
       "[1] \"Mazda\" \"RX4\"  \n",
       "\n",
       "[[2]]\n",
       "[1] \"Mazda\" \"RX4\"   \"Wag\"  \n",
       "\n",
       "[[3]]\n",
       "[1] \"Datsun\" \"710\"   \n",
       "\n",
       "[[4]]\n",
       "[1] \"Hornet\" \"4\"      \"Drive\" \n",
       "\n",
       "[[5]]\n",
       "[1] \"Hornet\"     \"Sportabout\"\n",
       "\n",
       "[[6]]\n",
       "[1] \"Valiant\"\n"
      ]
     },
     "metadata": {},
     "output_type": "display_data"
    }
   ],
   "source": [
    "models=strsplit(mtcars$model, split=' ')\n",
    "head(models)"
   ]
  },
  {
   "cell_type": "code",
   "execution_count": 109,
   "id": "ebf0674f",
   "metadata": {},
   "outputs": [
    {
     "data": {
      "text/html": [
       "'character'"
      ],
      "text/latex": [
       "'character'"
      ],
      "text/markdown": [
       "'character'"
      ],
      "text/plain": [
       "[1] \"character\""
      ]
     },
     "metadata": {},
     "output_type": "display_data"
    }
   ],
   "source": [
    "mtcars$brand <- sapply(X=models, FUN='[', n=1)\n",
    "class(mtcars$brand)"
   ]
  },
  {
   "cell_type": "code",
   "execution_count": 108,
   "id": "06348712",
   "metadata": {},
   "outputs": [
    {
     "data": {
      "text/html": [
       "'list'"
      ],
      "text/latex": [
       "'list'"
      ],
      "text/markdown": [
       "'list'"
      ],
      "text/plain": [
       "[1] \"list\""
      ]
     },
     "metadata": {},
     "output_type": "display_data"
    }
   ],
   "source": [
    "mtcars$brand <- lapply(X=models, FUN='[', n=1)\n",
    "class(mtcars$brand)"
   ]
  },
  {
   "cell_type": "code",
   "execution_count": 111,
   "id": "0bcd28b7",
   "metadata": {},
   "outputs": [
    {
     "data": {
      "text/html": [
       "<table class=\"dataframe\">\n",
       "<caption>A data.frame: 6 × 14</caption>\n",
       "<thead>\n",
       "\t<tr><th></th><th scope=col>mpg</th><th scope=col>cyl</th><th scope=col>disp</th><th scope=col>hp</th><th scope=col>drat</th><th scope=col>wt</th><th scope=col>qsec</th><th scope=col>vs</th><th scope=col>am</th><th scope=col>gear</th><th scope=col>carb</th><th scope=col>hp_wt</th><th scope=col>model</th><th scope=col>brand</th></tr>\n",
       "\t<tr><th></th><th scope=col>&lt;dbl&gt;</th><th scope=col>&lt;dbl&gt;</th><th scope=col>&lt;dbl&gt;</th><th scope=col>&lt;dbl&gt;</th><th scope=col>&lt;dbl&gt;</th><th scope=col>&lt;dbl&gt;</th><th scope=col>&lt;dbl&gt;</th><th scope=col>&lt;dbl&gt;</th><th scope=col>&lt;dbl&gt;</th><th scope=col>&lt;dbl&gt;</th><th scope=col>&lt;dbl&gt;</th><th scope=col>&lt;dbl&gt;</th><th scope=col>&lt;chr&gt;</th><th scope=col>&lt;chr&gt;</th></tr>\n",
       "</thead>\n",
       "<tbody>\n",
       "\t<tr><th scope=row>Mazda RX4</th><td>21.0</td><td>6</td><td>160</td><td>110</td><td>3.90</td><td>2.620</td><td>16.46</td><td>0</td><td>1</td><td>4</td><td>4</td><td>41.98473</td><td>Mazda RX4        </td><td>Mazda  </td></tr>\n",
       "\t<tr><th scope=row>Mazda RX4 Wag</th><td>21.0</td><td>6</td><td>160</td><td>110</td><td>3.90</td><td>2.875</td><td>17.02</td><td>0</td><td>1</td><td>4</td><td>4</td><td>38.26087</td><td>Mazda RX4 Wag    </td><td>Mazda  </td></tr>\n",
       "\t<tr><th scope=row>Datsun 710</th><td>22.8</td><td>4</td><td>108</td><td> 93</td><td>3.85</td><td>2.320</td><td>18.61</td><td>1</td><td>1</td><td>4</td><td>1</td><td>40.08621</td><td>Datsun 710       </td><td>Datsun </td></tr>\n",
       "\t<tr><th scope=row>Hornet 4 Drive</th><td>21.4</td><td>6</td><td>258</td><td>110</td><td>3.08</td><td>3.215</td><td>19.44</td><td>1</td><td>0</td><td>3</td><td>1</td><td>34.21462</td><td>Hornet 4 Drive   </td><td>Hornet </td></tr>\n",
       "\t<tr><th scope=row>Hornet Sportabout</th><td>18.7</td><td>8</td><td>360</td><td>175</td><td>3.15</td><td>3.440</td><td>17.02</td><td>0</td><td>0</td><td>3</td><td>2</td><td>50.87209</td><td>Hornet Sportabout</td><td>Hornet </td></tr>\n",
       "\t<tr><th scope=row>Valiant</th><td>18.1</td><td>6</td><td>225</td><td>105</td><td>2.76</td><td>3.460</td><td>20.22</td><td>1</td><td>0</td><td>3</td><td>1</td><td>30.34682</td><td>Valiant          </td><td>Valiant</td></tr>\n",
       "</tbody>\n",
       "</table>\n"
      ],
      "text/latex": [
       "A data.frame: 6 × 14\n",
       "\\begin{tabular}{r|llllllllllllll}\n",
       "  & mpg & cyl & disp & hp & drat & wt & qsec & vs & am & gear & carb & hp\\_wt & model & brand\\\\\n",
       "  & <dbl> & <dbl> & <dbl> & <dbl> & <dbl> & <dbl> & <dbl> & <dbl> & <dbl> & <dbl> & <dbl> & <dbl> & <chr> & <chr>\\\\\n",
       "\\hline\n",
       "\tMazda RX4 & 21.0 & 6 & 160 & 110 & 3.90 & 2.620 & 16.46 & 0 & 1 & 4 & 4 & 41.98473 & Mazda RX4         & Mazda  \\\\\n",
       "\tMazda RX4 Wag & 21.0 & 6 & 160 & 110 & 3.90 & 2.875 & 17.02 & 0 & 1 & 4 & 4 & 38.26087 & Mazda RX4 Wag     & Mazda  \\\\\n",
       "\tDatsun 710 & 22.8 & 4 & 108 &  93 & 3.85 & 2.320 & 18.61 & 1 & 1 & 4 & 1 & 40.08621 & Datsun 710        & Datsun \\\\\n",
       "\tHornet 4 Drive & 21.4 & 6 & 258 & 110 & 3.08 & 3.215 & 19.44 & 1 & 0 & 3 & 1 & 34.21462 & Hornet 4 Drive    & Hornet \\\\\n",
       "\tHornet Sportabout & 18.7 & 8 & 360 & 175 & 3.15 & 3.440 & 17.02 & 0 & 0 & 3 & 2 & 50.87209 & Hornet Sportabout & Hornet \\\\\n",
       "\tValiant & 18.1 & 6 & 225 & 105 & 2.76 & 3.460 & 20.22 & 1 & 0 & 3 & 1 & 30.34682 & Valiant           & Valiant\\\\\n",
       "\\end{tabular}\n"
      ],
      "text/markdown": [
       "\n",
       "A data.frame: 6 × 14\n",
       "\n",
       "| <!--/--> | mpg &lt;dbl&gt; | cyl &lt;dbl&gt; | disp &lt;dbl&gt; | hp &lt;dbl&gt; | drat &lt;dbl&gt; | wt &lt;dbl&gt; | qsec &lt;dbl&gt; | vs &lt;dbl&gt; | am &lt;dbl&gt; | gear &lt;dbl&gt; | carb &lt;dbl&gt; | hp_wt &lt;dbl&gt; | model &lt;chr&gt; | brand &lt;chr&gt; |\n",
       "|---|---|---|---|---|---|---|---|---|---|---|---|---|---|---|\n",
       "| Mazda RX4 | 21.0 | 6 | 160 | 110 | 3.90 | 2.620 | 16.46 | 0 | 1 | 4 | 4 | 41.98473 | Mazda RX4         | Mazda   |\n",
       "| Mazda RX4 Wag | 21.0 | 6 | 160 | 110 | 3.90 | 2.875 | 17.02 | 0 | 1 | 4 | 4 | 38.26087 | Mazda RX4 Wag     | Mazda   |\n",
       "| Datsun 710 | 22.8 | 4 | 108 |  93 | 3.85 | 2.320 | 18.61 | 1 | 1 | 4 | 1 | 40.08621 | Datsun 710        | Datsun  |\n",
       "| Hornet 4 Drive | 21.4 | 6 | 258 | 110 | 3.08 | 3.215 | 19.44 | 1 | 0 | 3 | 1 | 34.21462 | Hornet 4 Drive    | Hornet  |\n",
       "| Hornet Sportabout | 18.7 | 8 | 360 | 175 | 3.15 | 3.440 | 17.02 | 0 | 0 | 3 | 2 | 50.87209 | Hornet Sportabout | Hornet  |\n",
       "| Valiant | 18.1 | 6 | 225 | 105 | 2.76 | 3.460 | 20.22 | 1 | 0 | 3 | 1 | 30.34682 | Valiant           | Valiant |\n",
       "\n"
      ],
      "text/plain": [
       "                  mpg  cyl disp hp  drat wt    qsec  vs am gear carb hp_wt   \n",
       "Mazda RX4         21.0 6   160  110 3.90 2.620 16.46 0  1  4    4    41.98473\n",
       "Mazda RX4 Wag     21.0 6   160  110 3.90 2.875 17.02 0  1  4    4    38.26087\n",
       "Datsun 710        22.8 4   108   93 3.85 2.320 18.61 1  1  4    1    40.08621\n",
       "Hornet 4 Drive    21.4 6   258  110 3.08 3.215 19.44 1  0  3    1    34.21462\n",
       "Hornet Sportabout 18.7 8   360  175 3.15 3.440 17.02 0  0  3    2    50.87209\n",
       "Valiant           18.1 6   225  105 2.76 3.460 20.22 1  0  3    1    30.34682\n",
       "                  model             brand  \n",
       "Mazda RX4         Mazda RX4         Mazda  \n",
       "Mazda RX4 Wag     Mazda RX4 Wag     Mazda  \n",
       "Datsun 710        Datsun 710        Datsun \n",
       "Hornet 4 Drive    Hornet 4 Drive    Hornet \n",
       "Hornet Sportabout Hornet Sportabout Hornet \n",
       "Valiant           Valiant           Valiant"
      ]
     },
     "metadata": {},
     "output_type": "display_data"
    }
   ],
   "source": [
    "head(mtcars)"
   ]
  },
  {
   "cell_type": "code",
   "execution_count": 112,
   "id": "18ef61fa",
   "metadata": {},
   "outputs": [],
   "source": [
    "hp_brands <- aggregate(\n",
    "    x=mtcars$hp,\n",
    "    by=list(mtcars$brand),\n",
    "    FUN=mean\n",
    ")"
   ]
  },
  {
   "cell_type": "code",
   "execution_count": 115,
   "id": "ef6f1bb5",
   "metadata": {},
   "outputs": [
    {
     "data": {
      "text/html": [
       "<table class=\"dataframe\">\n",
       "<caption>A data.frame: 6 × 2</caption>\n",
       "<thead>\n",
       "\t<tr><th></th><th scope=col>brand</th><th scope=col>mean_hp</th></tr>\n",
       "\t<tr><th></th><th scope=col>&lt;chr&gt;</th><th scope=col>&lt;dbl&gt;</th></tr>\n",
       "</thead>\n",
       "<tbody>\n",
       "\t<tr><th scope=row>1</th><td>AMC     </td><td>150</td></tr>\n",
       "\t<tr><th scope=row>2</th><td>Cadillac</td><td>205</td></tr>\n",
       "\t<tr><th scope=row>3</th><td>Camaro  </td><td>245</td></tr>\n",
       "\t<tr><th scope=row>4</th><td>Chrysler</td><td>230</td></tr>\n",
       "\t<tr><th scope=row>5</th><td>Datsun  </td><td> 93</td></tr>\n",
       "\t<tr><th scope=row>6</th><td>Dodge   </td><td>150</td></tr>\n",
       "</tbody>\n",
       "</table>\n"
      ],
      "text/latex": [
       "A data.frame: 6 × 2\n",
       "\\begin{tabular}{r|ll}\n",
       "  & brand & mean\\_hp\\\\\n",
       "  & <chr> & <dbl>\\\\\n",
       "\\hline\n",
       "\t1 & AMC      & 150\\\\\n",
       "\t2 & Cadillac & 205\\\\\n",
       "\t3 & Camaro   & 245\\\\\n",
       "\t4 & Chrysler & 230\\\\\n",
       "\t5 & Datsun   &  93\\\\\n",
       "\t6 & Dodge    & 150\\\\\n",
       "\\end{tabular}\n"
      ],
      "text/markdown": [
       "\n",
       "A data.frame: 6 × 2\n",
       "\n",
       "| <!--/--> | brand &lt;chr&gt; | mean_hp &lt;dbl&gt; |\n",
       "|---|---|---|\n",
       "| 1 | AMC      | 150 |\n",
       "| 2 | Cadillac | 205 |\n",
       "| 3 | Camaro   | 245 |\n",
       "| 4 | Chrysler | 230 |\n",
       "| 5 | Datsun   |  93 |\n",
       "| 6 | Dodge    | 150 |\n",
       "\n"
      ],
      "text/plain": [
       "  brand    mean_hp\n",
       "1 AMC      150    \n",
       "2 Cadillac 205    \n",
       "3 Camaro   245    \n",
       "4 Chrysler 230    \n",
       "5 Datsun    93    \n",
       "6 Dodge    150    "
      ]
     },
     "metadata": {},
     "output_type": "display_data"
    }
   ],
   "source": [
    "colnames(hp_brands) <- c('brand', 'mean_hp')\n",
    "head(hp_brands)"
   ]
  },
  {
   "cell_type": "code",
   "execution_count": 118,
   "id": "4ceefc4f",
   "metadata": {},
   "outputs": [
    {
     "data": {
      "text/html": [
       "<table class=\"dataframe\">\n",
       "<caption>A data.frame: 22 × 2</caption>\n",
       "<thead>\n",
       "\t<tr><th></th><th scope=col>brand</th><th scope=col>mean_hp</th></tr>\n",
       "\t<tr><th></th><th scope=col>&lt;chr&gt;</th><th scope=col>&lt;dbl&gt;</th></tr>\n",
       "</thead>\n",
       "<tbody>\n",
       "\t<tr><th scope=row>11</th><td>Honda   </td><td> 52.0000</td></tr>\n",
       "\t<tr><th scope=row>9</th><td>Fiat    </td><td> 66.0000</td></tr>\n",
       "\t<tr><th scope=row>20</th><td>Toyota  </td><td> 81.0000</td></tr>\n",
       "\t<tr><th scope=row>19</th><td>Porsche </td><td> 91.0000</td></tr>\n",
       "\t<tr><th scope=row>5</th><td>Datsun  </td><td> 93.0000</td></tr>\n",
       "\t<tr><th scope=row>21</th><td>Valiant </td><td>105.0000</td></tr>\n",
       "\t<tr><th scope=row>22</th><td>Volvo   </td><td>109.0000</td></tr>\n",
       "\t<tr><th scope=row>16</th><td>Mazda   </td><td>110.0000</td></tr>\n",
       "\t<tr><th scope=row>14</th><td>Lotus   </td><td>113.0000</td></tr>\n",
       "\t<tr><th scope=row>17</th><td>Merc    </td><td>134.7143</td></tr>\n",
       "\t<tr><th scope=row>12</th><td>Hornet  </td><td>142.5000</td></tr>\n",
       "\t<tr><th scope=row>1</th><td>AMC     </td><td>150.0000</td></tr>\n",
       "\t<tr><th scope=row>6</th><td>Dodge   </td><td>150.0000</td></tr>\n",
       "\t<tr><th scope=row>8</th><td>Ferrari </td><td>175.0000</td></tr>\n",
       "\t<tr><th scope=row>18</th><td>Pontiac </td><td>175.0000</td></tr>\n",
       "\t<tr><th scope=row>2</th><td>Cadillac</td><td>205.0000</td></tr>\n",
       "\t<tr><th scope=row>13</th><td>Lincoln </td><td>215.0000</td></tr>\n",
       "\t<tr><th scope=row>4</th><td>Chrysler</td><td>230.0000</td></tr>\n",
       "\t<tr><th scope=row>3</th><td>Camaro  </td><td>245.0000</td></tr>\n",
       "\t<tr><th scope=row>7</th><td>Duster  </td><td>245.0000</td></tr>\n",
       "\t<tr><th scope=row>10</th><td>Ford    </td><td>264.0000</td></tr>\n",
       "\t<tr><th scope=row>15</th><td>Maserati</td><td>335.0000</td></tr>\n",
       "</tbody>\n",
       "</table>\n"
      ],
      "text/latex": [
       "A data.frame: 22 × 2\n",
       "\\begin{tabular}{r|ll}\n",
       "  & brand & mean\\_hp\\\\\n",
       "  & <chr> & <dbl>\\\\\n",
       "\\hline\n",
       "\t11 & Honda    &  52.0000\\\\\n",
       "\t9 & Fiat     &  66.0000\\\\\n",
       "\t20 & Toyota   &  81.0000\\\\\n",
       "\t19 & Porsche  &  91.0000\\\\\n",
       "\t5 & Datsun   &  93.0000\\\\\n",
       "\t21 & Valiant  & 105.0000\\\\\n",
       "\t22 & Volvo    & 109.0000\\\\\n",
       "\t16 & Mazda    & 110.0000\\\\\n",
       "\t14 & Lotus    & 113.0000\\\\\n",
       "\t17 & Merc     & 134.7143\\\\\n",
       "\t12 & Hornet   & 142.5000\\\\\n",
       "\t1 & AMC      & 150.0000\\\\\n",
       "\t6 & Dodge    & 150.0000\\\\\n",
       "\t8 & Ferrari  & 175.0000\\\\\n",
       "\t18 & Pontiac  & 175.0000\\\\\n",
       "\t2 & Cadillac & 205.0000\\\\\n",
       "\t13 & Lincoln  & 215.0000\\\\\n",
       "\t4 & Chrysler & 230.0000\\\\\n",
       "\t3 & Camaro   & 245.0000\\\\\n",
       "\t7 & Duster   & 245.0000\\\\\n",
       "\t10 & Ford     & 264.0000\\\\\n",
       "\t15 & Maserati & 335.0000\\\\\n",
       "\\end{tabular}\n"
      ],
      "text/markdown": [
       "\n",
       "A data.frame: 22 × 2\n",
       "\n",
       "| <!--/--> | brand &lt;chr&gt; | mean_hp &lt;dbl&gt; |\n",
       "|---|---|---|\n",
       "| 11 | Honda    |  52.0000 |\n",
       "| 9 | Fiat     |  66.0000 |\n",
       "| 20 | Toyota   |  81.0000 |\n",
       "| 19 | Porsche  |  91.0000 |\n",
       "| 5 | Datsun   |  93.0000 |\n",
       "| 21 | Valiant  | 105.0000 |\n",
       "| 22 | Volvo    | 109.0000 |\n",
       "| 16 | Mazda    | 110.0000 |\n",
       "| 14 | Lotus    | 113.0000 |\n",
       "| 17 | Merc     | 134.7143 |\n",
       "| 12 | Hornet   | 142.5000 |\n",
       "| 1 | AMC      | 150.0000 |\n",
       "| 6 | Dodge    | 150.0000 |\n",
       "| 8 | Ferrari  | 175.0000 |\n",
       "| 18 | Pontiac  | 175.0000 |\n",
       "| 2 | Cadillac | 205.0000 |\n",
       "| 13 | Lincoln  | 215.0000 |\n",
       "| 4 | Chrysler | 230.0000 |\n",
       "| 3 | Camaro   | 245.0000 |\n",
       "| 7 | Duster   | 245.0000 |\n",
       "| 10 | Ford     | 264.0000 |\n",
       "| 15 | Maserati | 335.0000 |\n",
       "\n"
      ],
      "text/plain": [
       "   brand    mean_hp \n",
       "11 Honda     52.0000\n",
       "9  Fiat      66.0000\n",
       "20 Toyota    81.0000\n",
       "19 Porsche   91.0000\n",
       "5  Datsun    93.0000\n",
       "21 Valiant  105.0000\n",
       "22 Volvo    109.0000\n",
       "16 Mazda    110.0000\n",
       "14 Lotus    113.0000\n",
       "17 Merc     134.7143\n",
       "12 Hornet   142.5000\n",
       "1  AMC      150.0000\n",
       "6  Dodge    150.0000\n",
       "8  Ferrari  175.0000\n",
       "18 Pontiac  175.0000\n",
       "2  Cadillac 205.0000\n",
       "13 Lincoln  215.0000\n",
       "4  Chrysler 230.0000\n",
       "3  Camaro   245.0000\n",
       "7  Duster   245.0000\n",
       "10 Ford     264.0000\n",
       "15 Maserati 335.0000"
      ]
     },
     "metadata": {},
     "output_type": "display_data"
    }
   ],
   "source": [
    "hp_brands[order(hp_brands$mean_hp),]"
   ]
  },
  {
   "cell_type": "code",
   "execution_count": 119,
   "id": "8a573fb4",
   "metadata": {},
   "outputs": [
    {
     "data": {
      "text/html": [
       "<table class=\"dataframe\">\n",
       "<caption>A data.frame: 22 × 2</caption>\n",
       "<thead>\n",
       "\t<tr><th></th><th scope=col>brand</th><th scope=col>mean_hp</th></tr>\n",
       "\t<tr><th></th><th scope=col>&lt;chr&gt;</th><th scope=col>&lt;dbl&gt;</th></tr>\n",
       "</thead>\n",
       "<tbody>\n",
       "\t<tr><th scope=row>15</th><td>Maserati</td><td>335.0000</td></tr>\n",
       "\t<tr><th scope=row>10</th><td>Ford    </td><td>264.0000</td></tr>\n",
       "\t<tr><th scope=row>3</th><td>Camaro  </td><td>245.0000</td></tr>\n",
       "\t<tr><th scope=row>7</th><td>Duster  </td><td>245.0000</td></tr>\n",
       "\t<tr><th scope=row>4</th><td>Chrysler</td><td>230.0000</td></tr>\n",
       "\t<tr><th scope=row>13</th><td>Lincoln </td><td>215.0000</td></tr>\n",
       "\t<tr><th scope=row>2</th><td>Cadillac</td><td>205.0000</td></tr>\n",
       "\t<tr><th scope=row>8</th><td>Ferrari </td><td>175.0000</td></tr>\n",
       "\t<tr><th scope=row>18</th><td>Pontiac </td><td>175.0000</td></tr>\n",
       "\t<tr><th scope=row>1</th><td>AMC     </td><td>150.0000</td></tr>\n",
       "\t<tr><th scope=row>6</th><td>Dodge   </td><td>150.0000</td></tr>\n",
       "\t<tr><th scope=row>12</th><td>Hornet  </td><td>142.5000</td></tr>\n",
       "\t<tr><th scope=row>17</th><td>Merc    </td><td>134.7143</td></tr>\n",
       "\t<tr><th scope=row>14</th><td>Lotus   </td><td>113.0000</td></tr>\n",
       "\t<tr><th scope=row>16</th><td>Mazda   </td><td>110.0000</td></tr>\n",
       "\t<tr><th scope=row>22</th><td>Volvo   </td><td>109.0000</td></tr>\n",
       "\t<tr><th scope=row>21</th><td>Valiant </td><td>105.0000</td></tr>\n",
       "\t<tr><th scope=row>5</th><td>Datsun  </td><td> 93.0000</td></tr>\n",
       "\t<tr><th scope=row>19</th><td>Porsche </td><td> 91.0000</td></tr>\n",
       "\t<tr><th scope=row>20</th><td>Toyota  </td><td> 81.0000</td></tr>\n",
       "\t<tr><th scope=row>9</th><td>Fiat    </td><td> 66.0000</td></tr>\n",
       "\t<tr><th scope=row>11</th><td>Honda   </td><td> 52.0000</td></tr>\n",
       "</tbody>\n",
       "</table>\n"
      ],
      "text/latex": [
       "A data.frame: 22 × 2\n",
       "\\begin{tabular}{r|ll}\n",
       "  & brand & mean\\_hp\\\\\n",
       "  & <chr> & <dbl>\\\\\n",
       "\\hline\n",
       "\t15 & Maserati & 335.0000\\\\\n",
       "\t10 & Ford     & 264.0000\\\\\n",
       "\t3 & Camaro   & 245.0000\\\\\n",
       "\t7 & Duster   & 245.0000\\\\\n",
       "\t4 & Chrysler & 230.0000\\\\\n",
       "\t13 & Lincoln  & 215.0000\\\\\n",
       "\t2 & Cadillac & 205.0000\\\\\n",
       "\t8 & Ferrari  & 175.0000\\\\\n",
       "\t18 & Pontiac  & 175.0000\\\\\n",
       "\t1 & AMC      & 150.0000\\\\\n",
       "\t6 & Dodge    & 150.0000\\\\\n",
       "\t12 & Hornet   & 142.5000\\\\\n",
       "\t17 & Merc     & 134.7143\\\\\n",
       "\t14 & Lotus    & 113.0000\\\\\n",
       "\t16 & Mazda    & 110.0000\\\\\n",
       "\t22 & Volvo    & 109.0000\\\\\n",
       "\t21 & Valiant  & 105.0000\\\\\n",
       "\t5 & Datsun   &  93.0000\\\\\n",
       "\t19 & Porsche  &  91.0000\\\\\n",
       "\t20 & Toyota   &  81.0000\\\\\n",
       "\t9 & Fiat     &  66.0000\\\\\n",
       "\t11 & Honda    &  52.0000\\\\\n",
       "\\end{tabular}\n"
      ],
      "text/markdown": [
       "\n",
       "A data.frame: 22 × 2\n",
       "\n",
       "| <!--/--> | brand &lt;chr&gt; | mean_hp &lt;dbl&gt; |\n",
       "|---|---|---|\n",
       "| 15 | Maserati | 335.0000 |\n",
       "| 10 | Ford     | 264.0000 |\n",
       "| 3 | Camaro   | 245.0000 |\n",
       "| 7 | Duster   | 245.0000 |\n",
       "| 4 | Chrysler | 230.0000 |\n",
       "| 13 | Lincoln  | 215.0000 |\n",
       "| 2 | Cadillac | 205.0000 |\n",
       "| 8 | Ferrari  | 175.0000 |\n",
       "| 18 | Pontiac  | 175.0000 |\n",
       "| 1 | AMC      | 150.0000 |\n",
       "| 6 | Dodge    | 150.0000 |\n",
       "| 12 | Hornet   | 142.5000 |\n",
       "| 17 | Merc     | 134.7143 |\n",
       "| 14 | Lotus    | 113.0000 |\n",
       "| 16 | Mazda    | 110.0000 |\n",
       "| 22 | Volvo    | 109.0000 |\n",
       "| 21 | Valiant  | 105.0000 |\n",
       "| 5 | Datsun   |  93.0000 |\n",
       "| 19 | Porsche  |  91.0000 |\n",
       "| 20 | Toyota   |  81.0000 |\n",
       "| 9 | Fiat     |  66.0000 |\n",
       "| 11 | Honda    |  52.0000 |\n",
       "\n"
      ],
      "text/plain": [
       "   brand    mean_hp \n",
       "15 Maserati 335.0000\n",
       "10 Ford     264.0000\n",
       "3  Camaro   245.0000\n",
       "7  Duster   245.0000\n",
       "4  Chrysler 230.0000\n",
       "13 Lincoln  215.0000\n",
       "2  Cadillac 205.0000\n",
       "8  Ferrari  175.0000\n",
       "18 Pontiac  175.0000\n",
       "1  AMC      150.0000\n",
       "6  Dodge    150.0000\n",
       "12 Hornet   142.5000\n",
       "17 Merc     134.7143\n",
       "14 Lotus    113.0000\n",
       "16 Mazda    110.0000\n",
       "22 Volvo    109.0000\n",
       "21 Valiant  105.0000\n",
       "5  Datsun    93.0000\n",
       "19 Porsche   91.0000\n",
       "20 Toyota    81.0000\n",
       "9  Fiat      66.0000\n",
       "11 Honda     52.0000"
      ]
     },
     "metadata": {},
     "output_type": "display_data"
    }
   ],
   "source": [
    "hp_brands[order(-hp_brands$mean_hp),]"
   ]
  },
  {
   "cell_type": "code",
   "execution_count": 123,
   "id": "faaeaa13",
   "metadata": {},
   "outputs": [
    {
     "data": {
      "text/html": [
       "<table class=\"dataframe\">\n",
       "<caption>A data.frame: 22 × 13</caption>\n",
       "<thead>\n",
       "\t<tr><th scope=col>Group.1</th><th scope=col>mpg</th><th scope=col>cyl</th><th scope=col>disp</th><th scope=col>hp</th><th scope=col>drat</th><th scope=col>wt</th><th scope=col>qsec</th><th scope=col>vs</th><th scope=col>am</th><th scope=col>gear</th><th scope=col>carb</th><th scope=col>hp_wt</th></tr>\n",
       "\t<tr><th scope=col>&lt;chr&gt;</th><th scope=col>&lt;dbl&gt;</th><th scope=col>&lt;dbl&gt;</th><th scope=col>&lt;dbl&gt;</th><th scope=col>&lt;dbl&gt;</th><th scope=col>&lt;dbl&gt;</th><th scope=col>&lt;dbl&gt;</th><th scope=col>&lt;dbl&gt;</th><th scope=col>&lt;dbl&gt;</th><th scope=col>&lt;dbl&gt;</th><th scope=col>&lt;dbl&gt;</th><th scope=col>&lt;dbl&gt;</th><th scope=col>&lt;dbl&gt;</th></tr>\n",
       "</thead>\n",
       "<tbody>\n",
       "\t<tr><td>AMC     </td><td>15.20000</td><td>8.000000</td><td>304.0000</td><td>150.0000</td><td>3.150000</td><td>3.435000</td><td>17.30000</td><td>0.0000000</td><td>0.0</td><td>3.000000</td><td>2.0</td><td>43.66812</td></tr>\n",
       "\t<tr><td>Cadillac</td><td>10.40000</td><td>8.000000</td><td>472.0000</td><td>205.0000</td><td>2.930000</td><td>5.250000</td><td>17.98000</td><td>0.0000000</td><td>0.0</td><td>3.000000</td><td>4.0</td><td>39.04762</td></tr>\n",
       "\t<tr><td>Camaro  </td><td>13.30000</td><td>8.000000</td><td>350.0000</td><td>245.0000</td><td>3.730000</td><td>3.840000</td><td>15.41000</td><td>0.0000000</td><td>0.0</td><td>3.000000</td><td>4.0</td><td>63.80208</td></tr>\n",
       "\t<tr><td>Chrysler</td><td>14.70000</td><td>8.000000</td><td>440.0000</td><td>230.0000</td><td>3.230000</td><td>5.345000</td><td>17.42000</td><td>0.0000000</td><td>0.0</td><td>3.000000</td><td>4.0</td><td>43.03087</td></tr>\n",
       "\t<tr><td>Datsun  </td><td>22.80000</td><td>4.000000</td><td>108.0000</td><td> 93.0000</td><td>3.850000</td><td>2.320000</td><td>18.61000</td><td>1.0000000</td><td>1.0</td><td>4.000000</td><td>1.0</td><td>40.08621</td></tr>\n",
       "\t<tr><td>Dodge   </td><td>15.50000</td><td>8.000000</td><td>318.0000</td><td>150.0000</td><td>2.760000</td><td>3.520000</td><td>16.87000</td><td>0.0000000</td><td>0.0</td><td>3.000000</td><td>2.0</td><td>42.61364</td></tr>\n",
       "\t<tr><td>Duster  </td><td>14.30000</td><td>8.000000</td><td>360.0000</td><td>245.0000</td><td>3.210000</td><td>3.570000</td><td>15.84000</td><td>0.0000000</td><td>0.0</td><td>3.000000</td><td>4.0</td><td>68.62745</td></tr>\n",
       "\t<tr><td>Ferrari </td><td>19.70000</td><td>6.000000</td><td>145.0000</td><td>175.0000</td><td>3.620000</td><td>2.770000</td><td>15.50000</td><td>0.0000000</td><td>1.0</td><td>5.000000</td><td>6.0</td><td>63.17690</td></tr>\n",
       "\t<tr><td>Fiat    </td><td>29.85000</td><td>4.000000</td><td> 78.8500</td><td> 66.0000</td><td>4.080000</td><td>2.067500</td><td>19.18500</td><td>1.0000000</td><td>1.0</td><td>4.000000</td><td>1.0</td><td>32.05426</td></tr>\n",
       "\t<tr><td>Ford    </td><td>15.80000</td><td>8.000000</td><td>351.0000</td><td>264.0000</td><td>4.220000</td><td>3.170000</td><td>14.50000</td><td>0.0000000</td><td>1.0</td><td>5.000000</td><td>4.0</td><td>83.28076</td></tr>\n",
       "\t<tr><td>Honda   </td><td>30.40000</td><td>4.000000</td><td> 75.7000</td><td> 52.0000</td><td>4.930000</td><td>1.615000</td><td>18.52000</td><td>1.0000000</td><td>1.0</td><td>4.000000</td><td>2.0</td><td>32.19814</td></tr>\n",
       "\t<tr><td>Hornet  </td><td>20.05000</td><td>7.000000</td><td>309.0000</td><td>142.5000</td><td>3.115000</td><td>3.327500</td><td>18.23000</td><td>0.5000000</td><td>0.0</td><td>3.000000</td><td>1.5</td><td>42.54336</td></tr>\n",
       "\t<tr><td>Lincoln </td><td>10.40000</td><td>8.000000</td><td>460.0000</td><td>215.0000</td><td>3.000000</td><td>5.424000</td><td>17.82000</td><td>0.0000000</td><td>0.0</td><td>3.000000</td><td>4.0</td><td>39.63864</td></tr>\n",
       "\t<tr><td>Lotus   </td><td>30.40000</td><td>4.000000</td><td> 95.1000</td><td>113.0000</td><td>3.770000</td><td>1.513000</td><td>16.90000</td><td>1.0000000</td><td>1.0</td><td>5.000000</td><td>2.0</td><td>74.68605</td></tr>\n",
       "\t<tr><td>Maserati</td><td>15.00000</td><td>8.000000</td><td>301.0000</td><td>335.0000</td><td>3.540000</td><td>3.570000</td><td>14.60000</td><td>0.0000000</td><td>1.0</td><td>5.000000</td><td>8.0</td><td>93.83754</td></tr>\n",
       "\t<tr><td>Mazda   </td><td>21.00000</td><td>6.000000</td><td>160.0000</td><td>110.0000</td><td>3.900000</td><td>2.747500</td><td>16.74000</td><td>0.0000000</td><td>1.0</td><td>4.000000</td><td>4.0</td><td>40.12280</td></tr>\n",
       "\t<tr><td>Merc    </td><td>19.01429</td><td>6.285714</td><td>207.1571</td><td>134.7143</td><td>3.522857</td><td>3.542857</td><td>19.01429</td><td>0.5714286</td><td>0.0</td><td>3.571429</td><td>3.0</td><td>37.31551</td></tr>\n",
       "\t<tr><td>Pontiac </td><td>19.20000</td><td>8.000000</td><td>400.0000</td><td>175.0000</td><td>3.080000</td><td>3.845000</td><td>17.05000</td><td>0.0000000</td><td>0.0</td><td>3.000000</td><td>2.0</td><td>45.51365</td></tr>\n",
       "\t<tr><td>Porsche </td><td>26.00000</td><td>4.000000</td><td>120.3000</td><td> 91.0000</td><td>4.430000</td><td>2.140000</td><td>16.70000</td><td>0.0000000</td><td>1.0</td><td>5.000000</td><td>2.0</td><td>42.52336</td></tr>\n",
       "\t<tr><td>Toyota  </td><td>27.70000</td><td>4.000000</td><td> 95.6000</td><td> 81.0000</td><td>3.960000</td><td>2.150000</td><td>19.95500</td><td>1.0000000</td><td>0.5</td><td>3.500000</td><td>1.0</td><td>37.38663</td></tr>\n",
       "\t<tr><td>Valiant </td><td>18.10000</td><td>6.000000</td><td>225.0000</td><td>105.0000</td><td>2.760000</td><td>3.460000</td><td>20.22000</td><td>1.0000000</td><td>0.0</td><td>3.000000</td><td>1.0</td><td>30.34682</td></tr>\n",
       "\t<tr><td>Volvo   </td><td>21.40000</td><td>4.000000</td><td>121.0000</td><td>109.0000</td><td>4.110000</td><td>2.780000</td><td>18.60000</td><td>1.0000000</td><td>1.0</td><td>4.000000</td><td>2.0</td><td>39.20863</td></tr>\n",
       "</tbody>\n",
       "</table>\n"
      ],
      "text/latex": [
       "A data.frame: 22 × 13\n",
       "\\begin{tabular}{lllllllllllll}\n",
       " Group.1 & mpg & cyl & disp & hp & drat & wt & qsec & vs & am & gear & carb & hp\\_wt\\\\\n",
       " <chr> & <dbl> & <dbl> & <dbl> & <dbl> & <dbl> & <dbl> & <dbl> & <dbl> & <dbl> & <dbl> & <dbl> & <dbl>\\\\\n",
       "\\hline\n",
       "\t AMC      & 15.20000 & 8.000000 & 304.0000 & 150.0000 & 3.150000 & 3.435000 & 17.30000 & 0.0000000 & 0.0 & 3.000000 & 2.0 & 43.66812\\\\\n",
       "\t Cadillac & 10.40000 & 8.000000 & 472.0000 & 205.0000 & 2.930000 & 5.250000 & 17.98000 & 0.0000000 & 0.0 & 3.000000 & 4.0 & 39.04762\\\\\n",
       "\t Camaro   & 13.30000 & 8.000000 & 350.0000 & 245.0000 & 3.730000 & 3.840000 & 15.41000 & 0.0000000 & 0.0 & 3.000000 & 4.0 & 63.80208\\\\\n",
       "\t Chrysler & 14.70000 & 8.000000 & 440.0000 & 230.0000 & 3.230000 & 5.345000 & 17.42000 & 0.0000000 & 0.0 & 3.000000 & 4.0 & 43.03087\\\\\n",
       "\t Datsun   & 22.80000 & 4.000000 & 108.0000 &  93.0000 & 3.850000 & 2.320000 & 18.61000 & 1.0000000 & 1.0 & 4.000000 & 1.0 & 40.08621\\\\\n",
       "\t Dodge    & 15.50000 & 8.000000 & 318.0000 & 150.0000 & 2.760000 & 3.520000 & 16.87000 & 0.0000000 & 0.0 & 3.000000 & 2.0 & 42.61364\\\\\n",
       "\t Duster   & 14.30000 & 8.000000 & 360.0000 & 245.0000 & 3.210000 & 3.570000 & 15.84000 & 0.0000000 & 0.0 & 3.000000 & 4.0 & 68.62745\\\\\n",
       "\t Ferrari  & 19.70000 & 6.000000 & 145.0000 & 175.0000 & 3.620000 & 2.770000 & 15.50000 & 0.0000000 & 1.0 & 5.000000 & 6.0 & 63.17690\\\\\n",
       "\t Fiat     & 29.85000 & 4.000000 &  78.8500 &  66.0000 & 4.080000 & 2.067500 & 19.18500 & 1.0000000 & 1.0 & 4.000000 & 1.0 & 32.05426\\\\\n",
       "\t Ford     & 15.80000 & 8.000000 & 351.0000 & 264.0000 & 4.220000 & 3.170000 & 14.50000 & 0.0000000 & 1.0 & 5.000000 & 4.0 & 83.28076\\\\\n",
       "\t Honda    & 30.40000 & 4.000000 &  75.7000 &  52.0000 & 4.930000 & 1.615000 & 18.52000 & 1.0000000 & 1.0 & 4.000000 & 2.0 & 32.19814\\\\\n",
       "\t Hornet   & 20.05000 & 7.000000 & 309.0000 & 142.5000 & 3.115000 & 3.327500 & 18.23000 & 0.5000000 & 0.0 & 3.000000 & 1.5 & 42.54336\\\\\n",
       "\t Lincoln  & 10.40000 & 8.000000 & 460.0000 & 215.0000 & 3.000000 & 5.424000 & 17.82000 & 0.0000000 & 0.0 & 3.000000 & 4.0 & 39.63864\\\\\n",
       "\t Lotus    & 30.40000 & 4.000000 &  95.1000 & 113.0000 & 3.770000 & 1.513000 & 16.90000 & 1.0000000 & 1.0 & 5.000000 & 2.0 & 74.68605\\\\\n",
       "\t Maserati & 15.00000 & 8.000000 & 301.0000 & 335.0000 & 3.540000 & 3.570000 & 14.60000 & 0.0000000 & 1.0 & 5.000000 & 8.0 & 93.83754\\\\\n",
       "\t Mazda    & 21.00000 & 6.000000 & 160.0000 & 110.0000 & 3.900000 & 2.747500 & 16.74000 & 0.0000000 & 1.0 & 4.000000 & 4.0 & 40.12280\\\\\n",
       "\t Merc     & 19.01429 & 6.285714 & 207.1571 & 134.7143 & 3.522857 & 3.542857 & 19.01429 & 0.5714286 & 0.0 & 3.571429 & 3.0 & 37.31551\\\\\n",
       "\t Pontiac  & 19.20000 & 8.000000 & 400.0000 & 175.0000 & 3.080000 & 3.845000 & 17.05000 & 0.0000000 & 0.0 & 3.000000 & 2.0 & 45.51365\\\\\n",
       "\t Porsche  & 26.00000 & 4.000000 & 120.3000 &  91.0000 & 4.430000 & 2.140000 & 16.70000 & 0.0000000 & 1.0 & 5.000000 & 2.0 & 42.52336\\\\\n",
       "\t Toyota   & 27.70000 & 4.000000 &  95.6000 &  81.0000 & 3.960000 & 2.150000 & 19.95500 & 1.0000000 & 0.5 & 3.500000 & 1.0 & 37.38663\\\\\n",
       "\t Valiant  & 18.10000 & 6.000000 & 225.0000 & 105.0000 & 2.760000 & 3.460000 & 20.22000 & 1.0000000 & 0.0 & 3.000000 & 1.0 & 30.34682\\\\\n",
       "\t Volvo    & 21.40000 & 4.000000 & 121.0000 & 109.0000 & 4.110000 & 2.780000 & 18.60000 & 1.0000000 & 1.0 & 4.000000 & 2.0 & 39.20863\\\\\n",
       "\\end{tabular}\n"
      ],
      "text/markdown": [
       "\n",
       "A data.frame: 22 × 13\n",
       "\n",
       "| Group.1 &lt;chr&gt; | mpg &lt;dbl&gt; | cyl &lt;dbl&gt; | disp &lt;dbl&gt; | hp &lt;dbl&gt; | drat &lt;dbl&gt; | wt &lt;dbl&gt; | qsec &lt;dbl&gt; | vs &lt;dbl&gt; | am &lt;dbl&gt; | gear &lt;dbl&gt; | carb &lt;dbl&gt; | hp_wt &lt;dbl&gt; |\n",
       "|---|---|---|---|---|---|---|---|---|---|---|---|---|\n",
       "| AMC      | 15.20000 | 8.000000 | 304.0000 | 150.0000 | 3.150000 | 3.435000 | 17.30000 | 0.0000000 | 0.0 | 3.000000 | 2.0 | 43.66812 |\n",
       "| Cadillac | 10.40000 | 8.000000 | 472.0000 | 205.0000 | 2.930000 | 5.250000 | 17.98000 | 0.0000000 | 0.0 | 3.000000 | 4.0 | 39.04762 |\n",
       "| Camaro   | 13.30000 | 8.000000 | 350.0000 | 245.0000 | 3.730000 | 3.840000 | 15.41000 | 0.0000000 | 0.0 | 3.000000 | 4.0 | 63.80208 |\n",
       "| Chrysler | 14.70000 | 8.000000 | 440.0000 | 230.0000 | 3.230000 | 5.345000 | 17.42000 | 0.0000000 | 0.0 | 3.000000 | 4.0 | 43.03087 |\n",
       "| Datsun   | 22.80000 | 4.000000 | 108.0000 |  93.0000 | 3.850000 | 2.320000 | 18.61000 | 1.0000000 | 1.0 | 4.000000 | 1.0 | 40.08621 |\n",
       "| Dodge    | 15.50000 | 8.000000 | 318.0000 | 150.0000 | 2.760000 | 3.520000 | 16.87000 | 0.0000000 | 0.0 | 3.000000 | 2.0 | 42.61364 |\n",
       "| Duster   | 14.30000 | 8.000000 | 360.0000 | 245.0000 | 3.210000 | 3.570000 | 15.84000 | 0.0000000 | 0.0 | 3.000000 | 4.0 | 68.62745 |\n",
       "| Ferrari  | 19.70000 | 6.000000 | 145.0000 | 175.0000 | 3.620000 | 2.770000 | 15.50000 | 0.0000000 | 1.0 | 5.000000 | 6.0 | 63.17690 |\n",
       "| Fiat     | 29.85000 | 4.000000 |  78.8500 |  66.0000 | 4.080000 | 2.067500 | 19.18500 | 1.0000000 | 1.0 | 4.000000 | 1.0 | 32.05426 |\n",
       "| Ford     | 15.80000 | 8.000000 | 351.0000 | 264.0000 | 4.220000 | 3.170000 | 14.50000 | 0.0000000 | 1.0 | 5.000000 | 4.0 | 83.28076 |\n",
       "| Honda    | 30.40000 | 4.000000 |  75.7000 |  52.0000 | 4.930000 | 1.615000 | 18.52000 | 1.0000000 | 1.0 | 4.000000 | 2.0 | 32.19814 |\n",
       "| Hornet   | 20.05000 | 7.000000 | 309.0000 | 142.5000 | 3.115000 | 3.327500 | 18.23000 | 0.5000000 | 0.0 | 3.000000 | 1.5 | 42.54336 |\n",
       "| Lincoln  | 10.40000 | 8.000000 | 460.0000 | 215.0000 | 3.000000 | 5.424000 | 17.82000 | 0.0000000 | 0.0 | 3.000000 | 4.0 | 39.63864 |\n",
       "| Lotus    | 30.40000 | 4.000000 |  95.1000 | 113.0000 | 3.770000 | 1.513000 | 16.90000 | 1.0000000 | 1.0 | 5.000000 | 2.0 | 74.68605 |\n",
       "| Maserati | 15.00000 | 8.000000 | 301.0000 | 335.0000 | 3.540000 | 3.570000 | 14.60000 | 0.0000000 | 1.0 | 5.000000 | 8.0 | 93.83754 |\n",
       "| Mazda    | 21.00000 | 6.000000 | 160.0000 | 110.0000 | 3.900000 | 2.747500 | 16.74000 | 0.0000000 | 1.0 | 4.000000 | 4.0 | 40.12280 |\n",
       "| Merc     | 19.01429 | 6.285714 | 207.1571 | 134.7143 | 3.522857 | 3.542857 | 19.01429 | 0.5714286 | 0.0 | 3.571429 | 3.0 | 37.31551 |\n",
       "| Pontiac  | 19.20000 | 8.000000 | 400.0000 | 175.0000 | 3.080000 | 3.845000 | 17.05000 | 0.0000000 | 0.0 | 3.000000 | 2.0 | 45.51365 |\n",
       "| Porsche  | 26.00000 | 4.000000 | 120.3000 |  91.0000 | 4.430000 | 2.140000 | 16.70000 | 0.0000000 | 1.0 | 5.000000 | 2.0 | 42.52336 |\n",
       "| Toyota   | 27.70000 | 4.000000 |  95.6000 |  81.0000 | 3.960000 | 2.150000 | 19.95500 | 1.0000000 | 0.5 | 3.500000 | 1.0 | 37.38663 |\n",
       "| Valiant  | 18.10000 | 6.000000 | 225.0000 | 105.0000 | 2.760000 | 3.460000 | 20.22000 | 1.0000000 | 0.0 | 3.000000 | 1.0 | 30.34682 |\n",
       "| Volvo    | 21.40000 | 4.000000 | 121.0000 | 109.0000 | 4.110000 | 2.780000 | 18.60000 | 1.0000000 | 1.0 | 4.000000 | 2.0 | 39.20863 |\n",
       "\n"
      ],
      "text/plain": [
       "   Group.1  mpg      cyl      disp     hp       drat     wt       qsec    \n",
       "1  AMC      15.20000 8.000000 304.0000 150.0000 3.150000 3.435000 17.30000\n",
       "2  Cadillac 10.40000 8.000000 472.0000 205.0000 2.930000 5.250000 17.98000\n",
       "3  Camaro   13.30000 8.000000 350.0000 245.0000 3.730000 3.840000 15.41000\n",
       "4  Chrysler 14.70000 8.000000 440.0000 230.0000 3.230000 5.345000 17.42000\n",
       "5  Datsun   22.80000 4.000000 108.0000  93.0000 3.850000 2.320000 18.61000\n",
       "6  Dodge    15.50000 8.000000 318.0000 150.0000 2.760000 3.520000 16.87000\n",
       "7  Duster   14.30000 8.000000 360.0000 245.0000 3.210000 3.570000 15.84000\n",
       "8  Ferrari  19.70000 6.000000 145.0000 175.0000 3.620000 2.770000 15.50000\n",
       "9  Fiat     29.85000 4.000000  78.8500  66.0000 4.080000 2.067500 19.18500\n",
       "10 Ford     15.80000 8.000000 351.0000 264.0000 4.220000 3.170000 14.50000\n",
       "11 Honda    30.40000 4.000000  75.7000  52.0000 4.930000 1.615000 18.52000\n",
       "12 Hornet   20.05000 7.000000 309.0000 142.5000 3.115000 3.327500 18.23000\n",
       "13 Lincoln  10.40000 8.000000 460.0000 215.0000 3.000000 5.424000 17.82000\n",
       "14 Lotus    30.40000 4.000000  95.1000 113.0000 3.770000 1.513000 16.90000\n",
       "15 Maserati 15.00000 8.000000 301.0000 335.0000 3.540000 3.570000 14.60000\n",
       "16 Mazda    21.00000 6.000000 160.0000 110.0000 3.900000 2.747500 16.74000\n",
       "17 Merc     19.01429 6.285714 207.1571 134.7143 3.522857 3.542857 19.01429\n",
       "18 Pontiac  19.20000 8.000000 400.0000 175.0000 3.080000 3.845000 17.05000\n",
       "19 Porsche  26.00000 4.000000 120.3000  91.0000 4.430000 2.140000 16.70000\n",
       "20 Toyota   27.70000 4.000000  95.6000  81.0000 3.960000 2.150000 19.95500\n",
       "21 Valiant  18.10000 6.000000 225.0000 105.0000 2.760000 3.460000 20.22000\n",
       "22 Volvo    21.40000 4.000000 121.0000 109.0000 4.110000 2.780000 18.60000\n",
       "   vs        am  gear     carb hp_wt   \n",
       "1  0.0000000 0.0 3.000000 2.0  43.66812\n",
       "2  0.0000000 0.0 3.000000 4.0  39.04762\n",
       "3  0.0000000 0.0 3.000000 4.0  63.80208\n",
       "4  0.0000000 0.0 3.000000 4.0  43.03087\n",
       "5  1.0000000 1.0 4.000000 1.0  40.08621\n",
       "6  0.0000000 0.0 3.000000 2.0  42.61364\n",
       "7  0.0000000 0.0 3.000000 4.0  68.62745\n",
       "8  0.0000000 1.0 5.000000 6.0  63.17690\n",
       "9  1.0000000 1.0 4.000000 1.0  32.05426\n",
       "10 0.0000000 1.0 5.000000 4.0  83.28076\n",
       "11 1.0000000 1.0 4.000000 2.0  32.19814\n",
       "12 0.5000000 0.0 3.000000 1.5  42.54336\n",
       "13 0.0000000 0.0 3.000000 4.0  39.63864\n",
       "14 1.0000000 1.0 5.000000 2.0  74.68605\n",
       "15 0.0000000 1.0 5.000000 8.0  93.83754\n",
       "16 0.0000000 1.0 4.000000 4.0  40.12280\n",
       "17 0.5714286 0.0 3.571429 3.0  37.31551\n",
       "18 0.0000000 0.0 3.000000 2.0  45.51365\n",
       "19 0.0000000 1.0 5.000000 2.0  42.52336\n",
       "20 1.0000000 0.5 3.500000 1.0  37.38663\n",
       "21 1.0000000 0.0 3.000000 1.0  30.34682\n",
       "22 1.0000000 1.0 4.000000 2.0  39.20863"
      ]
     },
     "metadata": {},
     "output_type": "display_data"
    }
   ],
   "source": [
    "mean_data <- aggregate(\n",
    "    x=mtcars[1:12],\n",
    "    by=list(mtcars$brand),\n",
    "    FUN=mean\n",
    ")\n",
    "mean_data"
   ]
  },
  {
   "cell_type": "markdown",
   "id": "262aab45",
   "metadata": {},
   "source": [
    "## 7.5 Merging"
   ]
  },
  {
   "cell_type": "code",
   "execution_count": 129,
   "id": "18323831",
   "metadata": {},
   "outputs": [
    {
     "data": {
      "text/html": [
       "<table class=\"dataframe\">\n",
       "<caption>A data.frame: 5 × 2</caption>\n",
       "<thead>\n",
       "\t<tr><th scope=col>brand</th><th scope=col>country</th></tr>\n",
       "\t<tr><th scope=col>&lt;chr&gt;</th><th scope=col>&lt;chr&gt;</th></tr>\n",
       "</thead>\n",
       "<tbody>\n",
       "\t<tr><td>Mazda </td><td>Japan  </td></tr>\n",
       "\t<tr><td>Toyota</td><td>Japan  </td></tr>\n",
       "\t<tr><td>Fiat  </td><td>Italy  </td></tr>\n",
       "\t<tr><td>Volvo </td><td>Sweden </td></tr>\n",
       "\t<tr><td>Skoda </td><td>Czechia</td></tr>\n",
       "</tbody>\n",
       "</table>\n"
      ],
      "text/latex": [
       "A data.frame: 5 × 2\n",
       "\\begin{tabular}{ll}\n",
       " brand & country\\\\\n",
       " <chr> & <chr>\\\\\n",
       "\\hline\n",
       "\t Mazda  & Japan  \\\\\n",
       "\t Toyota & Japan  \\\\\n",
       "\t Fiat   & Italy  \\\\\n",
       "\t Volvo  & Sweden \\\\\n",
       "\t Skoda  & Czechia\\\\\n",
       "\\end{tabular}\n"
      ],
      "text/markdown": [
       "\n",
       "A data.frame: 5 × 2\n",
       "\n",
       "| brand &lt;chr&gt; | country &lt;chr&gt; |\n",
       "|---|---|\n",
       "| Mazda  | Japan   |\n",
       "| Toyota | Japan   |\n",
       "| Fiat   | Italy   |\n",
       "| Volvo  | Sweden  |\n",
       "| Skoda  | Czechia |\n",
       "\n"
      ],
      "text/plain": [
       "  brand  country\n",
       "1 Mazda  Japan  \n",
       "2 Toyota Japan  \n",
       "3 Fiat   Italy  \n",
       "4 Volvo  Sweden \n",
       "5 Skoda  Czechia"
      ]
     },
     "metadata": {},
     "output_type": "display_data"
    }
   ],
   "source": [
    "brands_origin <- data.frame(\n",
    "    brand = c('Mazda', 'Toyota', 'Fiat', 'Volvo', 'Skoda'),\n",
    "    country = c('Japan', 'Japan', 'Italy', 'Sweden', 'Czechia')\n",
    ")\n",
    "brands_origin"
   ]
  },
  {
   "cell_type": "code",
   "execution_count": 135,
   "id": "8aa9af23",
   "metadata": {},
   "outputs": [
    {
     "data": {
      "text/html": [
       "<table class=\"dataframe\">\n",
       "<caption>A data.frame: 7 × 16</caption>\n",
       "<thead>\n",
       "\t<tr><th scope=col>brand</th><th scope=col>mpg</th><th scope=col>cyl</th><th scope=col>disp</th><th scope=col>hp</th><th scope=col>drat</th><th scope=col>wt</th><th scope=col>qsec</th><th scope=col>vs</th><th scope=col>am</th><th scope=col>gear</th><th scope=col>carb</th><th scope=col>hp_wt</th><th scope=col>model</th><th scope=col>car_model</th><th scope=col>country</th></tr>\n",
       "\t<tr><th scope=col>&lt;chr&gt;</th><th scope=col>&lt;dbl&gt;</th><th scope=col>&lt;dbl&gt;</th><th scope=col>&lt;dbl&gt;</th><th scope=col>&lt;dbl&gt;</th><th scope=col>&lt;dbl&gt;</th><th scope=col>&lt;dbl&gt;</th><th scope=col>&lt;dbl&gt;</th><th scope=col>&lt;dbl&gt;</th><th scope=col>&lt;dbl&gt;</th><th scope=col>&lt;dbl&gt;</th><th scope=col>&lt;dbl&gt;</th><th scope=col>&lt;dbl&gt;</th><th scope=col>&lt;chr&gt;</th><th scope=col>&lt;chr&gt;</th><th scope=col>&lt;chr&gt;</th></tr>\n",
       "</thead>\n",
       "<tbody>\n",
       "\t<tr><td>Fiat  </td><td>32.4</td><td>4</td><td> 78.7</td><td> 66</td><td>4.08</td><td>2.200</td><td>19.47</td><td>1</td><td>1</td><td>4</td><td>1</td><td>30.00000</td><td>Fiat 128      </td><td>Fiat 128      </td><td>Italy </td></tr>\n",
       "\t<tr><td>Fiat  </td><td>27.3</td><td>4</td><td> 79.0</td><td> 66</td><td>4.08</td><td>1.935</td><td>18.90</td><td>1</td><td>1</td><td>4</td><td>1</td><td>34.10853</td><td>Fiat X1-9     </td><td>Fiat X1-9     </td><td>Italy </td></tr>\n",
       "\t<tr><td>Mazda </td><td>21.0</td><td>6</td><td>160.0</td><td>110</td><td>3.90</td><td>2.875</td><td>17.02</td><td>0</td><td>1</td><td>4</td><td>4</td><td>38.26087</td><td>Mazda RX4 Wag </td><td>Mazda RX4 Wag </td><td>Japan </td></tr>\n",
       "\t<tr><td>Mazda </td><td>21.0</td><td>6</td><td>160.0</td><td>110</td><td>3.90</td><td>2.620</td><td>16.46</td><td>0</td><td>1</td><td>4</td><td>4</td><td>41.98473</td><td>Mazda RX4     </td><td>Mazda RX4     </td><td>Japan </td></tr>\n",
       "\t<tr><td>Toyota</td><td>33.9</td><td>4</td><td> 71.1</td><td> 65</td><td>4.22</td><td>1.835</td><td>19.90</td><td>1</td><td>1</td><td>4</td><td>1</td><td>35.42234</td><td>Toyota Corolla</td><td>Toyota Corolla</td><td>Japan </td></tr>\n",
       "\t<tr><td>Toyota</td><td>21.5</td><td>4</td><td>120.1</td><td> 97</td><td>3.70</td><td>2.465</td><td>20.01</td><td>1</td><td>0</td><td>3</td><td>1</td><td>39.35091</td><td>Toyota Corona </td><td>Toyota Corona </td><td>Japan </td></tr>\n",
       "\t<tr><td>Volvo </td><td>21.4</td><td>4</td><td>121.0</td><td>109</td><td>4.11</td><td>2.780</td><td>18.60</td><td>1</td><td>1</td><td>4</td><td>2</td><td>39.20863</td><td>Volvo 142E    </td><td>Volvo 142E    </td><td>Sweden</td></tr>\n",
       "</tbody>\n",
       "</table>\n"
      ],
      "text/latex": [
       "A data.frame: 7 × 16\n",
       "\\begin{tabular}{llllllllllllllll}\n",
       " brand & mpg & cyl & disp & hp & drat & wt & qsec & vs & am & gear & carb & hp\\_wt & model & car\\_model & country\\\\\n",
       " <chr> & <dbl> & <dbl> & <dbl> & <dbl> & <dbl> & <dbl> & <dbl> & <dbl> & <dbl> & <dbl> & <dbl> & <dbl> & <chr> & <chr> & <chr>\\\\\n",
       "\\hline\n",
       "\t Fiat   & 32.4 & 4 &  78.7 &  66 & 4.08 & 2.200 & 19.47 & 1 & 1 & 4 & 1 & 30.00000 & Fiat 128       & Fiat 128       & Italy \\\\\n",
       "\t Fiat   & 27.3 & 4 &  79.0 &  66 & 4.08 & 1.935 & 18.90 & 1 & 1 & 4 & 1 & 34.10853 & Fiat X1-9      & Fiat X1-9      & Italy \\\\\n",
       "\t Mazda  & 21.0 & 6 & 160.0 & 110 & 3.90 & 2.875 & 17.02 & 0 & 1 & 4 & 4 & 38.26087 & Mazda RX4 Wag  & Mazda RX4 Wag  & Japan \\\\\n",
       "\t Mazda  & 21.0 & 6 & 160.0 & 110 & 3.90 & 2.620 & 16.46 & 0 & 1 & 4 & 4 & 41.98473 & Mazda RX4      & Mazda RX4      & Japan \\\\\n",
       "\t Toyota & 33.9 & 4 &  71.1 &  65 & 4.22 & 1.835 & 19.90 & 1 & 1 & 4 & 1 & 35.42234 & Toyota Corolla & Toyota Corolla & Japan \\\\\n",
       "\t Toyota & 21.5 & 4 & 120.1 &  97 & 3.70 & 2.465 & 20.01 & 1 & 0 & 3 & 1 & 39.35091 & Toyota Corona  & Toyota Corona  & Japan \\\\\n",
       "\t Volvo  & 21.4 & 4 & 121.0 & 109 & 4.11 & 2.780 & 18.60 & 1 & 1 & 4 & 2 & 39.20863 & Volvo 142E     & Volvo 142E     & Sweden\\\\\n",
       "\\end{tabular}\n"
      ],
      "text/markdown": [
       "\n",
       "A data.frame: 7 × 16\n",
       "\n",
       "| brand &lt;chr&gt; | mpg &lt;dbl&gt; | cyl &lt;dbl&gt; | disp &lt;dbl&gt; | hp &lt;dbl&gt; | drat &lt;dbl&gt; | wt &lt;dbl&gt; | qsec &lt;dbl&gt; | vs &lt;dbl&gt; | am &lt;dbl&gt; | gear &lt;dbl&gt; | carb &lt;dbl&gt; | hp_wt &lt;dbl&gt; | model &lt;chr&gt; | car_model &lt;chr&gt; | country &lt;chr&gt; |\n",
       "|---|---|---|---|---|---|---|---|---|---|---|---|---|---|---|---|\n",
       "| Fiat   | 32.4 | 4 |  78.7 |  66 | 4.08 | 2.200 | 19.47 | 1 | 1 | 4 | 1 | 30.00000 | Fiat 128       | Fiat 128       | Italy  |\n",
       "| Fiat   | 27.3 | 4 |  79.0 |  66 | 4.08 | 1.935 | 18.90 | 1 | 1 | 4 | 1 | 34.10853 | Fiat X1-9      | Fiat X1-9      | Italy  |\n",
       "| Mazda  | 21.0 | 6 | 160.0 | 110 | 3.90 | 2.875 | 17.02 | 0 | 1 | 4 | 4 | 38.26087 | Mazda RX4 Wag  | Mazda RX4 Wag  | Japan  |\n",
       "| Mazda  | 21.0 | 6 | 160.0 | 110 | 3.90 | 2.620 | 16.46 | 0 | 1 | 4 | 4 | 41.98473 | Mazda RX4      | Mazda RX4      | Japan  |\n",
       "| Toyota | 33.9 | 4 |  71.1 |  65 | 4.22 | 1.835 | 19.90 | 1 | 1 | 4 | 1 | 35.42234 | Toyota Corolla | Toyota Corolla | Japan  |\n",
       "| Toyota | 21.5 | 4 | 120.1 |  97 | 3.70 | 2.465 | 20.01 | 1 | 0 | 3 | 1 | 39.35091 | Toyota Corona  | Toyota Corona  | Japan  |\n",
       "| Volvo  | 21.4 | 4 | 121.0 | 109 | 4.11 | 2.780 | 18.60 | 1 | 1 | 4 | 2 | 39.20863 | Volvo 142E     | Volvo 142E     | Sweden |\n",
       "\n"
      ],
      "text/plain": [
       "  brand  mpg  cyl disp  hp  drat wt    qsec  vs am gear carb hp_wt   \n",
       "1 Fiat   32.4 4    78.7  66 4.08 2.200 19.47 1  1  4    1    30.00000\n",
       "2 Fiat   27.3 4    79.0  66 4.08 1.935 18.90 1  1  4    1    34.10853\n",
       "3 Mazda  21.0 6   160.0 110 3.90 2.875 17.02 0  1  4    4    38.26087\n",
       "4 Mazda  21.0 6   160.0 110 3.90 2.620 16.46 0  1  4    4    41.98473\n",
       "5 Toyota 33.9 4    71.1  65 4.22 1.835 19.90 1  1  4    1    35.42234\n",
       "6 Toyota 21.5 4   120.1  97 3.70 2.465 20.01 1  0  3    1    39.35091\n",
       "7 Volvo  21.4 4   121.0 109 4.11 2.780 18.60 1  1  4    2    39.20863\n",
       "  model          car_model      country\n",
       "1 Fiat 128       Fiat 128       Italy  \n",
       "2 Fiat X1-9      Fiat X1-9      Italy  \n",
       "3 Mazda RX4 Wag  Mazda RX4 Wag  Japan  \n",
       "4 Mazda RX4      Mazda RX4      Japan  \n",
       "5 Toyota Corolla Toyota Corolla Japan  \n",
       "6 Toyota Corona  Toyota Corona  Japan  \n",
       "7 Volvo 142E     Volvo 142E     Sweden "
      ]
     },
     "metadata": {},
     "output_type": "display_data"
    }
   ],
   "source": [
    "m_ori=merge(x=mtcars, y=brands_origin, by=\"brand\")\n",
    "m_ori"
   ]
  },
  {
   "cell_type": "code",
   "execution_count": 134,
   "id": "015536ad",
   "metadata": {},
   "outputs": [],
   "source": [
    "mtcars$car_model <- rownames(mtcars)"
   ]
  },
  {
   "cell_type": "code",
   "execution_count": 136,
   "id": "8e521768",
   "metadata": {},
   "outputs": [
    {
     "data": {
      "text/html": [
       "<table class=\"dataframe\">\n",
       "<caption>A data.frame: 32 × 16</caption>\n",
       "<thead>\n",
       "\t<tr><th scope=col>brand</th><th scope=col>mpg</th><th scope=col>cyl</th><th scope=col>disp</th><th scope=col>hp</th><th scope=col>drat</th><th scope=col>wt</th><th scope=col>qsec</th><th scope=col>vs</th><th scope=col>am</th><th scope=col>gear</th><th scope=col>carb</th><th scope=col>hp_wt</th><th scope=col>model</th><th scope=col>car_model</th><th scope=col>country</th></tr>\n",
       "\t<tr><th scope=col>&lt;chr&gt;</th><th scope=col>&lt;dbl&gt;</th><th scope=col>&lt;dbl&gt;</th><th scope=col>&lt;dbl&gt;</th><th scope=col>&lt;dbl&gt;</th><th scope=col>&lt;dbl&gt;</th><th scope=col>&lt;dbl&gt;</th><th scope=col>&lt;dbl&gt;</th><th scope=col>&lt;dbl&gt;</th><th scope=col>&lt;dbl&gt;</th><th scope=col>&lt;dbl&gt;</th><th scope=col>&lt;dbl&gt;</th><th scope=col>&lt;dbl&gt;</th><th scope=col>&lt;chr&gt;</th><th scope=col>&lt;chr&gt;</th><th scope=col>&lt;chr&gt;</th></tr>\n",
       "</thead>\n",
       "<tbody>\n",
       "\t<tr><td>AMC     </td><td>15.2</td><td>8</td><td>304.0</td><td>150</td><td>3.15</td><td>3.435</td><td>17.30</td><td>0</td><td>0</td><td>3</td><td>2</td><td>43.66812</td><td>AMC Javelin        </td><td>AMC Javelin        </td><td>NA    </td></tr>\n",
       "\t<tr><td>Cadillac</td><td>10.4</td><td>8</td><td>472.0</td><td>205</td><td>2.93</td><td>5.250</td><td>17.98</td><td>0</td><td>0</td><td>3</td><td>4</td><td>39.04762</td><td>Cadillac Fleetwood </td><td>Cadillac Fleetwood </td><td>NA    </td></tr>\n",
       "\t<tr><td>Camaro  </td><td>13.3</td><td>8</td><td>350.0</td><td>245</td><td>3.73</td><td>3.840</td><td>15.41</td><td>0</td><td>0</td><td>3</td><td>4</td><td>63.80208</td><td>Camaro Z28         </td><td>Camaro Z28         </td><td>NA    </td></tr>\n",
       "\t<tr><td>Chrysler</td><td>14.7</td><td>8</td><td>440.0</td><td>230</td><td>3.23</td><td>5.345</td><td>17.42</td><td>0</td><td>0</td><td>3</td><td>4</td><td>43.03087</td><td>Chrysler Imperial  </td><td>Chrysler Imperial  </td><td>NA    </td></tr>\n",
       "\t<tr><td>Datsun  </td><td>22.8</td><td>4</td><td>108.0</td><td> 93</td><td>3.85</td><td>2.320</td><td>18.61</td><td>1</td><td>1</td><td>4</td><td>1</td><td>40.08621</td><td>Datsun 710         </td><td>Datsun 710         </td><td>NA    </td></tr>\n",
       "\t<tr><td>Dodge   </td><td>15.5</td><td>8</td><td>318.0</td><td>150</td><td>2.76</td><td>3.520</td><td>16.87</td><td>0</td><td>0</td><td>3</td><td>2</td><td>42.61364</td><td>Dodge Challenger   </td><td>Dodge Challenger   </td><td>NA    </td></tr>\n",
       "\t<tr><td>Duster  </td><td>14.3</td><td>8</td><td>360.0</td><td>245</td><td>3.21</td><td>3.570</td><td>15.84</td><td>0</td><td>0</td><td>3</td><td>4</td><td>68.62745</td><td>Duster 360         </td><td>Duster 360         </td><td>NA    </td></tr>\n",
       "\t<tr><td>Ferrari </td><td>19.7</td><td>6</td><td>145.0</td><td>175</td><td>3.62</td><td>2.770</td><td>15.50</td><td>0</td><td>1</td><td>5</td><td>6</td><td>63.17690</td><td>Ferrari Dino       </td><td>Ferrari Dino       </td><td>NA    </td></tr>\n",
       "\t<tr><td>Fiat    </td><td>32.4</td><td>4</td><td> 78.7</td><td> 66</td><td>4.08</td><td>2.200</td><td>19.47</td><td>1</td><td>1</td><td>4</td><td>1</td><td>30.00000</td><td>Fiat 128           </td><td>Fiat 128           </td><td>Italy </td></tr>\n",
       "\t<tr><td>Fiat    </td><td>27.3</td><td>4</td><td> 79.0</td><td> 66</td><td>4.08</td><td>1.935</td><td>18.90</td><td>1</td><td>1</td><td>4</td><td>1</td><td>34.10853</td><td>Fiat X1-9          </td><td>Fiat X1-9          </td><td>Italy </td></tr>\n",
       "\t<tr><td>Ford    </td><td>15.8</td><td>8</td><td>351.0</td><td>264</td><td>4.22</td><td>3.170</td><td>14.50</td><td>0</td><td>1</td><td>5</td><td>4</td><td>83.28076</td><td>Ford Pantera L     </td><td>Ford Pantera L     </td><td>NA    </td></tr>\n",
       "\t<tr><td>Honda   </td><td>30.4</td><td>4</td><td> 75.7</td><td> 52</td><td>4.93</td><td>1.615</td><td>18.52</td><td>1</td><td>1</td><td>4</td><td>2</td><td>32.19814</td><td>Honda Civic        </td><td>Honda Civic        </td><td>NA    </td></tr>\n",
       "\t<tr><td>Hornet  </td><td>18.7</td><td>8</td><td>360.0</td><td>175</td><td>3.15</td><td>3.440</td><td>17.02</td><td>0</td><td>0</td><td>3</td><td>2</td><td>50.87209</td><td>Hornet Sportabout  </td><td>Hornet Sportabout  </td><td>NA    </td></tr>\n",
       "\t<tr><td>Hornet  </td><td>21.4</td><td>6</td><td>258.0</td><td>110</td><td>3.08</td><td>3.215</td><td>19.44</td><td>1</td><td>0</td><td>3</td><td>1</td><td>34.21462</td><td>Hornet 4 Drive     </td><td>Hornet 4 Drive     </td><td>NA    </td></tr>\n",
       "\t<tr><td>Lincoln </td><td>10.4</td><td>8</td><td>460.0</td><td>215</td><td>3.00</td><td>5.424</td><td>17.82</td><td>0</td><td>0</td><td>3</td><td>4</td><td>39.63864</td><td>Lincoln Continental</td><td>Lincoln Continental</td><td>NA    </td></tr>\n",
       "\t<tr><td>Lotus   </td><td>30.4</td><td>4</td><td> 95.1</td><td>113</td><td>3.77</td><td>1.513</td><td>16.90</td><td>1</td><td>1</td><td>5</td><td>2</td><td>74.68605</td><td>Lotus Europa       </td><td>Lotus Europa       </td><td>NA    </td></tr>\n",
       "\t<tr><td>Maserati</td><td>15.0</td><td>8</td><td>301.0</td><td>335</td><td>3.54</td><td>3.570</td><td>14.60</td><td>0</td><td>1</td><td>5</td><td>8</td><td>93.83754</td><td>Maserati Bora      </td><td>Maserati Bora      </td><td>NA    </td></tr>\n",
       "\t<tr><td>Mazda   </td><td>21.0</td><td>6</td><td>160.0</td><td>110</td><td>3.90</td><td>2.875</td><td>17.02</td><td>0</td><td>1</td><td>4</td><td>4</td><td>38.26087</td><td>Mazda RX4 Wag      </td><td>Mazda RX4 Wag      </td><td>Japan </td></tr>\n",
       "\t<tr><td>Mazda   </td><td>21.0</td><td>6</td><td>160.0</td><td>110</td><td>3.90</td><td>2.620</td><td>16.46</td><td>0</td><td>1</td><td>4</td><td>4</td><td>41.98473</td><td>Mazda RX4          </td><td>Mazda RX4          </td><td>Japan </td></tr>\n",
       "\t<tr><td>Merc    </td><td>22.8</td><td>4</td><td>140.8</td><td> 95</td><td>3.92</td><td>3.150</td><td>22.90</td><td>1</td><td>0</td><td>4</td><td>2</td><td>30.15873</td><td>Merc 230           </td><td>Merc 230           </td><td>NA    </td></tr>\n",
       "\t<tr><td>Merc    </td><td>19.2</td><td>6</td><td>167.6</td><td>123</td><td>3.92</td><td>3.440</td><td>18.30</td><td>1</td><td>0</td><td>4</td><td>4</td><td>35.75581</td><td>Merc 280           </td><td>Merc 280           </td><td>NA    </td></tr>\n",
       "\t<tr><td>Merc    </td><td>24.4</td><td>4</td><td>146.7</td><td> 62</td><td>3.69</td><td>3.190</td><td>20.00</td><td>1</td><td>0</td><td>4</td><td>2</td><td>19.43574</td><td>Merc 240D          </td><td>Merc 240D          </td><td>NA    </td></tr>\n",
       "\t<tr><td>Merc    </td><td>17.3</td><td>8</td><td>275.8</td><td>180</td><td>3.07</td><td>3.730</td><td>17.60</td><td>0</td><td>0</td><td>3</td><td>3</td><td>48.25737</td><td>Merc 450SL         </td><td>Merc 450SL         </td><td>NA    </td></tr>\n",
       "\t<tr><td>Merc    </td><td>15.2</td><td>8</td><td>275.8</td><td>180</td><td>3.07</td><td>3.780</td><td>18.00</td><td>0</td><td>0</td><td>3</td><td>3</td><td>47.61905</td><td>Merc 450SLC        </td><td>Merc 450SLC        </td><td>NA    </td></tr>\n",
       "\t<tr><td>Merc    </td><td>17.8</td><td>6</td><td>167.6</td><td>123</td><td>3.92</td><td>3.440</td><td>18.90</td><td>1</td><td>0</td><td>4</td><td>4</td><td>35.75581</td><td>Merc 280C          </td><td>Merc 280C          </td><td>NA    </td></tr>\n",
       "\t<tr><td>Merc    </td><td>16.4</td><td>8</td><td>275.8</td><td>180</td><td>3.07</td><td>4.070</td><td>17.40</td><td>0</td><td>0</td><td>3</td><td>3</td><td>44.22604</td><td>Merc 450SE         </td><td>Merc 450SE         </td><td>NA    </td></tr>\n",
       "\t<tr><td>Pontiac </td><td>19.2</td><td>8</td><td>400.0</td><td>175</td><td>3.08</td><td>3.845</td><td>17.05</td><td>0</td><td>0</td><td>3</td><td>2</td><td>45.51365</td><td>Pontiac Firebird   </td><td>Pontiac Firebird   </td><td>NA    </td></tr>\n",
       "\t<tr><td>Porsche </td><td>26.0</td><td>4</td><td>120.3</td><td> 91</td><td>4.43</td><td>2.140</td><td>16.70</td><td>0</td><td>1</td><td>5</td><td>2</td><td>42.52336</td><td>Porsche 914-2      </td><td>Porsche 914-2      </td><td>NA    </td></tr>\n",
       "\t<tr><td>Toyota  </td><td>33.9</td><td>4</td><td> 71.1</td><td> 65</td><td>4.22</td><td>1.835</td><td>19.90</td><td>1</td><td>1</td><td>4</td><td>1</td><td>35.42234</td><td>Toyota Corolla     </td><td>Toyota Corolla     </td><td>Japan </td></tr>\n",
       "\t<tr><td>Toyota  </td><td>21.5</td><td>4</td><td>120.1</td><td> 97</td><td>3.70</td><td>2.465</td><td>20.01</td><td>1</td><td>0</td><td>3</td><td>1</td><td>39.35091</td><td>Toyota Corona      </td><td>Toyota Corona      </td><td>Japan </td></tr>\n",
       "\t<tr><td>Valiant </td><td>18.1</td><td>6</td><td>225.0</td><td>105</td><td>2.76</td><td>3.460</td><td>20.22</td><td>1</td><td>0</td><td>3</td><td>1</td><td>30.34682</td><td>Valiant            </td><td>Valiant            </td><td>NA    </td></tr>\n",
       "\t<tr><td>Volvo   </td><td>21.4</td><td>4</td><td>121.0</td><td>109</td><td>4.11</td><td>2.780</td><td>18.60</td><td>1</td><td>1</td><td>4</td><td>2</td><td>39.20863</td><td>Volvo 142E         </td><td>Volvo 142E         </td><td>Sweden</td></tr>\n",
       "</tbody>\n",
       "</table>\n"
      ],
      "text/latex": [
       "A data.frame: 32 × 16\n",
       "\\begin{tabular}{llllllllllllllll}\n",
       " brand & mpg & cyl & disp & hp & drat & wt & qsec & vs & am & gear & carb & hp\\_wt & model & car\\_model & country\\\\\n",
       " <chr> & <dbl> & <dbl> & <dbl> & <dbl> & <dbl> & <dbl> & <dbl> & <dbl> & <dbl> & <dbl> & <dbl> & <dbl> & <chr> & <chr> & <chr>\\\\\n",
       "\\hline\n",
       "\t AMC      & 15.2 & 8 & 304.0 & 150 & 3.15 & 3.435 & 17.30 & 0 & 0 & 3 & 2 & 43.66812 & AMC Javelin         & AMC Javelin         & NA    \\\\\n",
       "\t Cadillac & 10.4 & 8 & 472.0 & 205 & 2.93 & 5.250 & 17.98 & 0 & 0 & 3 & 4 & 39.04762 & Cadillac Fleetwood  & Cadillac Fleetwood  & NA    \\\\\n",
       "\t Camaro   & 13.3 & 8 & 350.0 & 245 & 3.73 & 3.840 & 15.41 & 0 & 0 & 3 & 4 & 63.80208 & Camaro Z28          & Camaro Z28          & NA    \\\\\n",
       "\t Chrysler & 14.7 & 8 & 440.0 & 230 & 3.23 & 5.345 & 17.42 & 0 & 0 & 3 & 4 & 43.03087 & Chrysler Imperial   & Chrysler Imperial   & NA    \\\\\n",
       "\t Datsun   & 22.8 & 4 & 108.0 &  93 & 3.85 & 2.320 & 18.61 & 1 & 1 & 4 & 1 & 40.08621 & Datsun 710          & Datsun 710          & NA    \\\\\n",
       "\t Dodge    & 15.5 & 8 & 318.0 & 150 & 2.76 & 3.520 & 16.87 & 0 & 0 & 3 & 2 & 42.61364 & Dodge Challenger    & Dodge Challenger    & NA    \\\\\n",
       "\t Duster   & 14.3 & 8 & 360.0 & 245 & 3.21 & 3.570 & 15.84 & 0 & 0 & 3 & 4 & 68.62745 & Duster 360          & Duster 360          & NA    \\\\\n",
       "\t Ferrari  & 19.7 & 6 & 145.0 & 175 & 3.62 & 2.770 & 15.50 & 0 & 1 & 5 & 6 & 63.17690 & Ferrari Dino        & Ferrari Dino        & NA    \\\\\n",
       "\t Fiat     & 32.4 & 4 &  78.7 &  66 & 4.08 & 2.200 & 19.47 & 1 & 1 & 4 & 1 & 30.00000 & Fiat 128            & Fiat 128            & Italy \\\\\n",
       "\t Fiat     & 27.3 & 4 &  79.0 &  66 & 4.08 & 1.935 & 18.90 & 1 & 1 & 4 & 1 & 34.10853 & Fiat X1-9           & Fiat X1-9           & Italy \\\\\n",
       "\t Ford     & 15.8 & 8 & 351.0 & 264 & 4.22 & 3.170 & 14.50 & 0 & 1 & 5 & 4 & 83.28076 & Ford Pantera L      & Ford Pantera L      & NA    \\\\\n",
       "\t Honda    & 30.4 & 4 &  75.7 &  52 & 4.93 & 1.615 & 18.52 & 1 & 1 & 4 & 2 & 32.19814 & Honda Civic         & Honda Civic         & NA    \\\\\n",
       "\t Hornet   & 18.7 & 8 & 360.0 & 175 & 3.15 & 3.440 & 17.02 & 0 & 0 & 3 & 2 & 50.87209 & Hornet Sportabout   & Hornet Sportabout   & NA    \\\\\n",
       "\t Hornet   & 21.4 & 6 & 258.0 & 110 & 3.08 & 3.215 & 19.44 & 1 & 0 & 3 & 1 & 34.21462 & Hornet 4 Drive      & Hornet 4 Drive      & NA    \\\\\n",
       "\t Lincoln  & 10.4 & 8 & 460.0 & 215 & 3.00 & 5.424 & 17.82 & 0 & 0 & 3 & 4 & 39.63864 & Lincoln Continental & Lincoln Continental & NA    \\\\\n",
       "\t Lotus    & 30.4 & 4 &  95.1 & 113 & 3.77 & 1.513 & 16.90 & 1 & 1 & 5 & 2 & 74.68605 & Lotus Europa        & Lotus Europa        & NA    \\\\\n",
       "\t Maserati & 15.0 & 8 & 301.0 & 335 & 3.54 & 3.570 & 14.60 & 0 & 1 & 5 & 8 & 93.83754 & Maserati Bora       & Maserati Bora       & NA    \\\\\n",
       "\t Mazda    & 21.0 & 6 & 160.0 & 110 & 3.90 & 2.875 & 17.02 & 0 & 1 & 4 & 4 & 38.26087 & Mazda RX4 Wag       & Mazda RX4 Wag       & Japan \\\\\n",
       "\t Mazda    & 21.0 & 6 & 160.0 & 110 & 3.90 & 2.620 & 16.46 & 0 & 1 & 4 & 4 & 41.98473 & Mazda RX4           & Mazda RX4           & Japan \\\\\n",
       "\t Merc     & 22.8 & 4 & 140.8 &  95 & 3.92 & 3.150 & 22.90 & 1 & 0 & 4 & 2 & 30.15873 & Merc 230            & Merc 230            & NA    \\\\\n",
       "\t Merc     & 19.2 & 6 & 167.6 & 123 & 3.92 & 3.440 & 18.30 & 1 & 0 & 4 & 4 & 35.75581 & Merc 280            & Merc 280            & NA    \\\\\n",
       "\t Merc     & 24.4 & 4 & 146.7 &  62 & 3.69 & 3.190 & 20.00 & 1 & 0 & 4 & 2 & 19.43574 & Merc 240D           & Merc 240D           & NA    \\\\\n",
       "\t Merc     & 17.3 & 8 & 275.8 & 180 & 3.07 & 3.730 & 17.60 & 0 & 0 & 3 & 3 & 48.25737 & Merc 450SL          & Merc 450SL          & NA    \\\\\n",
       "\t Merc     & 15.2 & 8 & 275.8 & 180 & 3.07 & 3.780 & 18.00 & 0 & 0 & 3 & 3 & 47.61905 & Merc 450SLC         & Merc 450SLC         & NA    \\\\\n",
       "\t Merc     & 17.8 & 6 & 167.6 & 123 & 3.92 & 3.440 & 18.90 & 1 & 0 & 4 & 4 & 35.75581 & Merc 280C           & Merc 280C           & NA    \\\\\n",
       "\t Merc     & 16.4 & 8 & 275.8 & 180 & 3.07 & 4.070 & 17.40 & 0 & 0 & 3 & 3 & 44.22604 & Merc 450SE          & Merc 450SE          & NA    \\\\\n",
       "\t Pontiac  & 19.2 & 8 & 400.0 & 175 & 3.08 & 3.845 & 17.05 & 0 & 0 & 3 & 2 & 45.51365 & Pontiac Firebird    & Pontiac Firebird    & NA    \\\\\n",
       "\t Porsche  & 26.0 & 4 & 120.3 &  91 & 4.43 & 2.140 & 16.70 & 0 & 1 & 5 & 2 & 42.52336 & Porsche 914-2       & Porsche 914-2       & NA    \\\\\n",
       "\t Toyota   & 33.9 & 4 &  71.1 &  65 & 4.22 & 1.835 & 19.90 & 1 & 1 & 4 & 1 & 35.42234 & Toyota Corolla      & Toyota Corolla      & Japan \\\\\n",
       "\t Toyota   & 21.5 & 4 & 120.1 &  97 & 3.70 & 2.465 & 20.01 & 1 & 0 & 3 & 1 & 39.35091 & Toyota Corona       & Toyota Corona       & Japan \\\\\n",
       "\t Valiant  & 18.1 & 6 & 225.0 & 105 & 2.76 & 3.460 & 20.22 & 1 & 0 & 3 & 1 & 30.34682 & Valiant             & Valiant             & NA    \\\\\n",
       "\t Volvo    & 21.4 & 4 & 121.0 & 109 & 4.11 & 2.780 & 18.60 & 1 & 1 & 4 & 2 & 39.20863 & Volvo 142E          & Volvo 142E          & Sweden\\\\\n",
       "\\end{tabular}\n"
      ],
      "text/markdown": [
       "\n",
       "A data.frame: 32 × 16\n",
       "\n",
       "| brand &lt;chr&gt; | mpg &lt;dbl&gt; | cyl &lt;dbl&gt; | disp &lt;dbl&gt; | hp &lt;dbl&gt; | drat &lt;dbl&gt; | wt &lt;dbl&gt; | qsec &lt;dbl&gt; | vs &lt;dbl&gt; | am &lt;dbl&gt; | gear &lt;dbl&gt; | carb &lt;dbl&gt; | hp_wt &lt;dbl&gt; | model &lt;chr&gt; | car_model &lt;chr&gt; | country &lt;chr&gt; |\n",
       "|---|---|---|---|---|---|---|---|---|---|---|---|---|---|---|---|\n",
       "| AMC      | 15.2 | 8 | 304.0 | 150 | 3.15 | 3.435 | 17.30 | 0 | 0 | 3 | 2 | 43.66812 | AMC Javelin         | AMC Javelin         | NA     |\n",
       "| Cadillac | 10.4 | 8 | 472.0 | 205 | 2.93 | 5.250 | 17.98 | 0 | 0 | 3 | 4 | 39.04762 | Cadillac Fleetwood  | Cadillac Fleetwood  | NA     |\n",
       "| Camaro   | 13.3 | 8 | 350.0 | 245 | 3.73 | 3.840 | 15.41 | 0 | 0 | 3 | 4 | 63.80208 | Camaro Z28          | Camaro Z28          | NA     |\n",
       "| Chrysler | 14.7 | 8 | 440.0 | 230 | 3.23 | 5.345 | 17.42 | 0 | 0 | 3 | 4 | 43.03087 | Chrysler Imperial   | Chrysler Imperial   | NA     |\n",
       "| Datsun   | 22.8 | 4 | 108.0 |  93 | 3.85 | 2.320 | 18.61 | 1 | 1 | 4 | 1 | 40.08621 | Datsun 710          | Datsun 710          | NA     |\n",
       "| Dodge    | 15.5 | 8 | 318.0 | 150 | 2.76 | 3.520 | 16.87 | 0 | 0 | 3 | 2 | 42.61364 | Dodge Challenger    | Dodge Challenger    | NA     |\n",
       "| Duster   | 14.3 | 8 | 360.0 | 245 | 3.21 | 3.570 | 15.84 | 0 | 0 | 3 | 4 | 68.62745 | Duster 360          | Duster 360          | NA     |\n",
       "| Ferrari  | 19.7 | 6 | 145.0 | 175 | 3.62 | 2.770 | 15.50 | 0 | 1 | 5 | 6 | 63.17690 | Ferrari Dino        | Ferrari Dino        | NA     |\n",
       "| Fiat     | 32.4 | 4 |  78.7 |  66 | 4.08 | 2.200 | 19.47 | 1 | 1 | 4 | 1 | 30.00000 | Fiat 128            | Fiat 128            | Italy  |\n",
       "| Fiat     | 27.3 | 4 |  79.0 |  66 | 4.08 | 1.935 | 18.90 | 1 | 1 | 4 | 1 | 34.10853 | Fiat X1-9           | Fiat X1-9           | Italy  |\n",
       "| Ford     | 15.8 | 8 | 351.0 | 264 | 4.22 | 3.170 | 14.50 | 0 | 1 | 5 | 4 | 83.28076 | Ford Pantera L      | Ford Pantera L      | NA     |\n",
       "| Honda    | 30.4 | 4 |  75.7 |  52 | 4.93 | 1.615 | 18.52 | 1 | 1 | 4 | 2 | 32.19814 | Honda Civic         | Honda Civic         | NA     |\n",
       "| Hornet   | 18.7 | 8 | 360.0 | 175 | 3.15 | 3.440 | 17.02 | 0 | 0 | 3 | 2 | 50.87209 | Hornet Sportabout   | Hornet Sportabout   | NA     |\n",
       "| Hornet   | 21.4 | 6 | 258.0 | 110 | 3.08 | 3.215 | 19.44 | 1 | 0 | 3 | 1 | 34.21462 | Hornet 4 Drive      | Hornet 4 Drive      | NA     |\n",
       "| Lincoln  | 10.4 | 8 | 460.0 | 215 | 3.00 | 5.424 | 17.82 | 0 | 0 | 3 | 4 | 39.63864 | Lincoln Continental | Lincoln Continental | NA     |\n",
       "| Lotus    | 30.4 | 4 |  95.1 | 113 | 3.77 | 1.513 | 16.90 | 1 | 1 | 5 | 2 | 74.68605 | Lotus Europa        | Lotus Europa        | NA     |\n",
       "| Maserati | 15.0 | 8 | 301.0 | 335 | 3.54 | 3.570 | 14.60 | 0 | 1 | 5 | 8 | 93.83754 | Maserati Bora       | Maserati Bora       | NA     |\n",
       "| Mazda    | 21.0 | 6 | 160.0 | 110 | 3.90 | 2.875 | 17.02 | 0 | 1 | 4 | 4 | 38.26087 | Mazda RX4 Wag       | Mazda RX4 Wag       | Japan  |\n",
       "| Mazda    | 21.0 | 6 | 160.0 | 110 | 3.90 | 2.620 | 16.46 | 0 | 1 | 4 | 4 | 41.98473 | Mazda RX4           | Mazda RX4           | Japan  |\n",
       "| Merc     | 22.8 | 4 | 140.8 |  95 | 3.92 | 3.150 | 22.90 | 1 | 0 | 4 | 2 | 30.15873 | Merc 230            | Merc 230            | NA     |\n",
       "| Merc     | 19.2 | 6 | 167.6 | 123 | 3.92 | 3.440 | 18.30 | 1 | 0 | 4 | 4 | 35.75581 | Merc 280            | Merc 280            | NA     |\n",
       "| Merc     | 24.4 | 4 | 146.7 |  62 | 3.69 | 3.190 | 20.00 | 1 | 0 | 4 | 2 | 19.43574 | Merc 240D           | Merc 240D           | NA     |\n",
       "| Merc     | 17.3 | 8 | 275.8 | 180 | 3.07 | 3.730 | 17.60 | 0 | 0 | 3 | 3 | 48.25737 | Merc 450SL          | Merc 450SL          | NA     |\n",
       "| Merc     | 15.2 | 8 | 275.8 | 180 | 3.07 | 3.780 | 18.00 | 0 | 0 | 3 | 3 | 47.61905 | Merc 450SLC         | Merc 450SLC         | NA     |\n",
       "| Merc     | 17.8 | 6 | 167.6 | 123 | 3.92 | 3.440 | 18.90 | 1 | 0 | 4 | 4 | 35.75581 | Merc 280C           | Merc 280C           | NA     |\n",
       "| Merc     | 16.4 | 8 | 275.8 | 180 | 3.07 | 4.070 | 17.40 | 0 | 0 | 3 | 3 | 44.22604 | Merc 450SE          | Merc 450SE          | NA     |\n",
       "| Pontiac  | 19.2 | 8 | 400.0 | 175 | 3.08 | 3.845 | 17.05 | 0 | 0 | 3 | 2 | 45.51365 | Pontiac Firebird    | Pontiac Firebird    | NA     |\n",
       "| Porsche  | 26.0 | 4 | 120.3 |  91 | 4.43 | 2.140 | 16.70 | 0 | 1 | 5 | 2 | 42.52336 | Porsche 914-2       | Porsche 914-2       | NA     |\n",
       "| Toyota   | 33.9 | 4 |  71.1 |  65 | 4.22 | 1.835 | 19.90 | 1 | 1 | 4 | 1 | 35.42234 | Toyota Corolla      | Toyota Corolla      | Japan  |\n",
       "| Toyota   | 21.5 | 4 | 120.1 |  97 | 3.70 | 2.465 | 20.01 | 1 | 0 | 3 | 1 | 39.35091 | Toyota Corona       | Toyota Corona       | Japan  |\n",
       "| Valiant  | 18.1 | 6 | 225.0 | 105 | 2.76 | 3.460 | 20.22 | 1 | 0 | 3 | 1 | 30.34682 | Valiant             | Valiant             | NA     |\n",
       "| Volvo    | 21.4 | 4 | 121.0 | 109 | 4.11 | 2.780 | 18.60 | 1 | 1 | 4 | 2 | 39.20863 | Volvo 142E          | Volvo 142E          | Sweden |\n",
       "\n"
      ],
      "text/plain": [
       "   brand    mpg  cyl disp  hp  drat wt    qsec  vs am gear carb hp_wt   \n",
       "1  AMC      15.2 8   304.0 150 3.15 3.435 17.30 0  0  3    2    43.66812\n",
       "2  Cadillac 10.4 8   472.0 205 2.93 5.250 17.98 0  0  3    4    39.04762\n",
       "3  Camaro   13.3 8   350.0 245 3.73 3.840 15.41 0  0  3    4    63.80208\n",
       "4  Chrysler 14.7 8   440.0 230 3.23 5.345 17.42 0  0  3    4    43.03087\n",
       "5  Datsun   22.8 4   108.0  93 3.85 2.320 18.61 1  1  4    1    40.08621\n",
       "6  Dodge    15.5 8   318.0 150 2.76 3.520 16.87 0  0  3    2    42.61364\n",
       "7  Duster   14.3 8   360.0 245 3.21 3.570 15.84 0  0  3    4    68.62745\n",
       "8  Ferrari  19.7 6   145.0 175 3.62 2.770 15.50 0  1  5    6    63.17690\n",
       "9  Fiat     32.4 4    78.7  66 4.08 2.200 19.47 1  1  4    1    30.00000\n",
       "10 Fiat     27.3 4    79.0  66 4.08 1.935 18.90 1  1  4    1    34.10853\n",
       "11 Ford     15.8 8   351.0 264 4.22 3.170 14.50 0  1  5    4    83.28076\n",
       "12 Honda    30.4 4    75.7  52 4.93 1.615 18.52 1  1  4    2    32.19814\n",
       "13 Hornet   18.7 8   360.0 175 3.15 3.440 17.02 0  0  3    2    50.87209\n",
       "14 Hornet   21.4 6   258.0 110 3.08 3.215 19.44 1  0  3    1    34.21462\n",
       "15 Lincoln  10.4 8   460.0 215 3.00 5.424 17.82 0  0  3    4    39.63864\n",
       "16 Lotus    30.4 4    95.1 113 3.77 1.513 16.90 1  1  5    2    74.68605\n",
       "17 Maserati 15.0 8   301.0 335 3.54 3.570 14.60 0  1  5    8    93.83754\n",
       "18 Mazda    21.0 6   160.0 110 3.90 2.875 17.02 0  1  4    4    38.26087\n",
       "19 Mazda    21.0 6   160.0 110 3.90 2.620 16.46 0  1  4    4    41.98473\n",
       "20 Merc     22.8 4   140.8  95 3.92 3.150 22.90 1  0  4    2    30.15873\n",
       "21 Merc     19.2 6   167.6 123 3.92 3.440 18.30 1  0  4    4    35.75581\n",
       "22 Merc     24.4 4   146.7  62 3.69 3.190 20.00 1  0  4    2    19.43574\n",
       "23 Merc     17.3 8   275.8 180 3.07 3.730 17.60 0  0  3    3    48.25737\n",
       "24 Merc     15.2 8   275.8 180 3.07 3.780 18.00 0  0  3    3    47.61905\n",
       "25 Merc     17.8 6   167.6 123 3.92 3.440 18.90 1  0  4    4    35.75581\n",
       "26 Merc     16.4 8   275.8 180 3.07 4.070 17.40 0  0  3    3    44.22604\n",
       "27 Pontiac  19.2 8   400.0 175 3.08 3.845 17.05 0  0  3    2    45.51365\n",
       "28 Porsche  26.0 4   120.3  91 4.43 2.140 16.70 0  1  5    2    42.52336\n",
       "29 Toyota   33.9 4    71.1  65 4.22 1.835 19.90 1  1  4    1    35.42234\n",
       "30 Toyota   21.5 4   120.1  97 3.70 2.465 20.01 1  0  3    1    39.35091\n",
       "31 Valiant  18.1 6   225.0 105 2.76 3.460 20.22 1  0  3    1    30.34682\n",
       "32 Volvo    21.4 4   121.0 109 4.11 2.780 18.60 1  1  4    2    39.20863\n",
       "   model               car_model           country\n",
       "1  AMC Javelin         AMC Javelin         NA     \n",
       "2  Cadillac Fleetwood  Cadillac Fleetwood  NA     \n",
       "3  Camaro Z28          Camaro Z28          NA     \n",
       "4  Chrysler Imperial   Chrysler Imperial   NA     \n",
       "5  Datsun 710          Datsun 710          NA     \n",
       "6  Dodge Challenger    Dodge Challenger    NA     \n",
       "7  Duster 360          Duster 360          NA     \n",
       "8  Ferrari Dino        Ferrari Dino        NA     \n",
       "9  Fiat 128            Fiat 128            Italy  \n",
       "10 Fiat X1-9           Fiat X1-9           Italy  \n",
       "11 Ford Pantera L      Ford Pantera L      NA     \n",
       "12 Honda Civic         Honda Civic         NA     \n",
       "13 Hornet Sportabout   Hornet Sportabout   NA     \n",
       "14 Hornet 4 Drive      Hornet 4 Drive      NA     \n",
       "15 Lincoln Continental Lincoln Continental NA     \n",
       "16 Lotus Europa        Lotus Europa        NA     \n",
       "17 Maserati Bora       Maserati Bora       NA     \n",
       "18 Mazda RX4 Wag       Mazda RX4 Wag       Japan  \n",
       "19 Mazda RX4           Mazda RX4           Japan  \n",
       "20 Merc 230            Merc 230            NA     \n",
       "21 Merc 280            Merc 280            NA     \n",
       "22 Merc 240D           Merc 240D           NA     \n",
       "23 Merc 450SL          Merc 450SL          NA     \n",
       "24 Merc 450SLC         Merc 450SLC         NA     \n",
       "25 Merc 280C           Merc 280C           NA     \n",
       "26 Merc 450SE          Merc 450SE          NA     \n",
       "27 Pontiac Firebird    Pontiac Firebird    NA     \n",
       "28 Porsche 914-2       Porsche 914-2       NA     \n",
       "29 Toyota Corolla      Toyota Corolla      Japan  \n",
       "30 Toyota Corona       Toyota Corona       Japan  \n",
       "31 Valiant             Valiant             NA     \n",
       "32 Volvo 142E          Volvo 142E          Sweden "
      ]
     },
     "metadata": {},
     "output_type": "display_data"
    }
   ],
   "source": [
    "merge(x=mtcars, y=brands_origin, by=\"brand\", all.x=TRUE)"
   ]
  },
  {
   "cell_type": "code",
   "execution_count": 137,
   "id": "c684d0e3",
   "metadata": {},
   "outputs": [
    {
     "data": {
      "text/html": [
       "<table class=\"dataframe\">\n",
       "<caption>A data.frame: 8 × 16</caption>\n",
       "<thead>\n",
       "\t<tr><th scope=col>brand</th><th scope=col>mpg</th><th scope=col>cyl</th><th scope=col>disp</th><th scope=col>hp</th><th scope=col>drat</th><th scope=col>wt</th><th scope=col>qsec</th><th scope=col>vs</th><th scope=col>am</th><th scope=col>gear</th><th scope=col>carb</th><th scope=col>hp_wt</th><th scope=col>model</th><th scope=col>car_model</th><th scope=col>country</th></tr>\n",
       "\t<tr><th scope=col>&lt;chr&gt;</th><th scope=col>&lt;dbl&gt;</th><th scope=col>&lt;dbl&gt;</th><th scope=col>&lt;dbl&gt;</th><th scope=col>&lt;dbl&gt;</th><th scope=col>&lt;dbl&gt;</th><th scope=col>&lt;dbl&gt;</th><th scope=col>&lt;dbl&gt;</th><th scope=col>&lt;dbl&gt;</th><th scope=col>&lt;dbl&gt;</th><th scope=col>&lt;dbl&gt;</th><th scope=col>&lt;dbl&gt;</th><th scope=col>&lt;dbl&gt;</th><th scope=col>&lt;chr&gt;</th><th scope=col>&lt;chr&gt;</th><th scope=col>&lt;chr&gt;</th></tr>\n",
       "</thead>\n",
       "<tbody>\n",
       "\t<tr><td>Fiat  </td><td>32.4</td><td> 4</td><td> 78.7</td><td> 66</td><td>4.08</td><td>2.200</td><td>19.47</td><td> 1</td><td> 1</td><td> 4</td><td> 1</td><td>30.00000</td><td>Fiat 128      </td><td>Fiat 128      </td><td>Italy  </td></tr>\n",
       "\t<tr><td>Fiat  </td><td>27.3</td><td> 4</td><td> 79.0</td><td> 66</td><td>4.08</td><td>1.935</td><td>18.90</td><td> 1</td><td> 1</td><td> 4</td><td> 1</td><td>34.10853</td><td>Fiat X1-9     </td><td>Fiat X1-9     </td><td>Italy  </td></tr>\n",
       "\t<tr><td>Mazda </td><td>21.0</td><td> 6</td><td>160.0</td><td>110</td><td>3.90</td><td>2.875</td><td>17.02</td><td> 0</td><td> 1</td><td> 4</td><td> 4</td><td>38.26087</td><td>Mazda RX4 Wag </td><td>Mazda RX4 Wag </td><td>Japan  </td></tr>\n",
       "\t<tr><td>Mazda </td><td>21.0</td><td> 6</td><td>160.0</td><td>110</td><td>3.90</td><td>2.620</td><td>16.46</td><td> 0</td><td> 1</td><td> 4</td><td> 4</td><td>41.98473</td><td>Mazda RX4     </td><td>Mazda RX4     </td><td>Japan  </td></tr>\n",
       "\t<tr><td>Skoda </td><td>  NA</td><td>NA</td><td>   NA</td><td> NA</td><td>  NA</td><td>   NA</td><td>   NA</td><td>NA</td><td>NA</td><td>NA</td><td>NA</td><td>      NA</td><td>NA            </td><td>NA            </td><td>Czechia</td></tr>\n",
       "\t<tr><td>Toyota</td><td>33.9</td><td> 4</td><td> 71.1</td><td> 65</td><td>4.22</td><td>1.835</td><td>19.90</td><td> 1</td><td> 1</td><td> 4</td><td> 1</td><td>35.42234</td><td>Toyota Corolla</td><td>Toyota Corolla</td><td>Japan  </td></tr>\n",
       "\t<tr><td>Toyota</td><td>21.5</td><td> 4</td><td>120.1</td><td> 97</td><td>3.70</td><td>2.465</td><td>20.01</td><td> 1</td><td> 0</td><td> 3</td><td> 1</td><td>39.35091</td><td>Toyota Corona </td><td>Toyota Corona </td><td>Japan  </td></tr>\n",
       "\t<tr><td>Volvo </td><td>21.4</td><td> 4</td><td>121.0</td><td>109</td><td>4.11</td><td>2.780</td><td>18.60</td><td> 1</td><td> 1</td><td> 4</td><td> 2</td><td>39.20863</td><td>Volvo 142E    </td><td>Volvo 142E    </td><td>Sweden </td></tr>\n",
       "</tbody>\n",
       "</table>\n"
      ],
      "text/latex": [
       "A data.frame: 8 × 16\n",
       "\\begin{tabular}{llllllllllllllll}\n",
       " brand & mpg & cyl & disp & hp & drat & wt & qsec & vs & am & gear & carb & hp\\_wt & model & car\\_model & country\\\\\n",
       " <chr> & <dbl> & <dbl> & <dbl> & <dbl> & <dbl> & <dbl> & <dbl> & <dbl> & <dbl> & <dbl> & <dbl> & <dbl> & <chr> & <chr> & <chr>\\\\\n",
       "\\hline\n",
       "\t Fiat   & 32.4 &  4 &  78.7 &  66 & 4.08 & 2.200 & 19.47 &  1 &  1 &  4 &  1 & 30.00000 & Fiat 128       & Fiat 128       & Italy  \\\\\n",
       "\t Fiat   & 27.3 &  4 &  79.0 &  66 & 4.08 & 1.935 & 18.90 &  1 &  1 &  4 &  1 & 34.10853 & Fiat X1-9      & Fiat X1-9      & Italy  \\\\\n",
       "\t Mazda  & 21.0 &  6 & 160.0 & 110 & 3.90 & 2.875 & 17.02 &  0 &  1 &  4 &  4 & 38.26087 & Mazda RX4 Wag  & Mazda RX4 Wag  & Japan  \\\\\n",
       "\t Mazda  & 21.0 &  6 & 160.0 & 110 & 3.90 & 2.620 & 16.46 &  0 &  1 &  4 &  4 & 41.98473 & Mazda RX4      & Mazda RX4      & Japan  \\\\\n",
       "\t Skoda  &   NA & NA &    NA &  NA &   NA &    NA &    NA & NA & NA & NA & NA &       NA & NA             & NA             & Czechia\\\\\n",
       "\t Toyota & 33.9 &  4 &  71.1 &  65 & 4.22 & 1.835 & 19.90 &  1 &  1 &  4 &  1 & 35.42234 & Toyota Corolla & Toyota Corolla & Japan  \\\\\n",
       "\t Toyota & 21.5 &  4 & 120.1 &  97 & 3.70 & 2.465 & 20.01 &  1 &  0 &  3 &  1 & 39.35091 & Toyota Corona  & Toyota Corona  & Japan  \\\\\n",
       "\t Volvo  & 21.4 &  4 & 121.0 & 109 & 4.11 & 2.780 & 18.60 &  1 &  1 &  4 &  2 & 39.20863 & Volvo 142E     & Volvo 142E     & Sweden \\\\\n",
       "\\end{tabular}\n"
      ],
      "text/markdown": [
       "\n",
       "A data.frame: 8 × 16\n",
       "\n",
       "| brand &lt;chr&gt; | mpg &lt;dbl&gt; | cyl &lt;dbl&gt; | disp &lt;dbl&gt; | hp &lt;dbl&gt; | drat &lt;dbl&gt; | wt &lt;dbl&gt; | qsec &lt;dbl&gt; | vs &lt;dbl&gt; | am &lt;dbl&gt; | gear &lt;dbl&gt; | carb &lt;dbl&gt; | hp_wt &lt;dbl&gt; | model &lt;chr&gt; | car_model &lt;chr&gt; | country &lt;chr&gt; |\n",
       "|---|---|---|---|---|---|---|---|---|---|---|---|---|---|---|---|\n",
       "| Fiat   | 32.4 |  4 |  78.7 |  66 | 4.08 | 2.200 | 19.47 |  1 |  1 |  4 |  1 | 30.00000 | Fiat 128       | Fiat 128       | Italy   |\n",
       "| Fiat   | 27.3 |  4 |  79.0 |  66 | 4.08 | 1.935 | 18.90 |  1 |  1 |  4 |  1 | 34.10853 | Fiat X1-9      | Fiat X1-9      | Italy   |\n",
       "| Mazda  | 21.0 |  6 | 160.0 | 110 | 3.90 | 2.875 | 17.02 |  0 |  1 |  4 |  4 | 38.26087 | Mazda RX4 Wag  | Mazda RX4 Wag  | Japan   |\n",
       "| Mazda  | 21.0 |  6 | 160.0 | 110 | 3.90 | 2.620 | 16.46 |  0 |  1 |  4 |  4 | 41.98473 | Mazda RX4      | Mazda RX4      | Japan   |\n",
       "| Skoda  |   NA | NA |    NA |  NA |   NA |    NA |    NA | NA | NA | NA | NA |       NA | NA             | NA             | Czechia |\n",
       "| Toyota | 33.9 |  4 |  71.1 |  65 | 4.22 | 1.835 | 19.90 |  1 |  1 |  4 |  1 | 35.42234 | Toyota Corolla | Toyota Corolla | Japan   |\n",
       "| Toyota | 21.5 |  4 | 120.1 |  97 | 3.70 | 2.465 | 20.01 |  1 |  0 |  3 |  1 | 39.35091 | Toyota Corona  | Toyota Corona  | Japan   |\n",
       "| Volvo  | 21.4 |  4 | 121.0 | 109 | 4.11 | 2.780 | 18.60 |  1 |  1 |  4 |  2 | 39.20863 | Volvo 142E     | Volvo 142E     | Sweden  |\n",
       "\n"
      ],
      "text/plain": [
       "  brand  mpg  cyl disp  hp  drat wt    qsec  vs am gear carb hp_wt   \n",
       "1 Fiat   32.4  4   78.7  66 4.08 2.200 19.47  1  1  4    1   30.00000\n",
       "2 Fiat   27.3  4   79.0  66 4.08 1.935 18.90  1  1  4    1   34.10853\n",
       "3 Mazda  21.0  6  160.0 110 3.90 2.875 17.02  0  1  4    4   38.26087\n",
       "4 Mazda  21.0  6  160.0 110 3.90 2.620 16.46  0  1  4    4   41.98473\n",
       "5 Skoda    NA NA     NA  NA   NA    NA    NA NA NA NA   NA         NA\n",
       "6 Toyota 33.9  4   71.1  65 4.22 1.835 19.90  1  1  4    1   35.42234\n",
       "7 Toyota 21.5  4  120.1  97 3.70 2.465 20.01  1  0  3    1   39.35091\n",
       "8 Volvo  21.4  4  121.0 109 4.11 2.780 18.60  1  1  4    2   39.20863\n",
       "  model          car_model      country\n",
       "1 Fiat 128       Fiat 128       Italy  \n",
       "2 Fiat X1-9      Fiat X1-9      Italy  \n",
       "3 Mazda RX4 Wag  Mazda RX4 Wag  Japan  \n",
       "4 Mazda RX4      Mazda RX4      Japan  \n",
       "5 NA             NA             Czechia\n",
       "6 Toyota Corolla Toyota Corolla Japan  \n",
       "7 Toyota Corona  Toyota Corona  Japan  \n",
       "8 Volvo 142E     Volvo 142E     Sweden "
      ]
     },
     "metadata": {},
     "output_type": "display_data"
    }
   ],
   "source": [
    "merge(x=mtcars, y=brands_origin, by=\"brand\", all.y=TRUE)"
   ]
  },
  {
   "cell_type": "code",
   "execution_count": 138,
   "id": "dcad8783",
   "metadata": {},
   "outputs": [
    {
     "data": {
      "text/html": [
       "<table class=\"dataframe\">\n",
       "<caption>A data.frame: 33 × 16</caption>\n",
       "<thead>\n",
       "\t<tr><th scope=col>brand</th><th scope=col>mpg</th><th scope=col>cyl</th><th scope=col>disp</th><th scope=col>hp</th><th scope=col>drat</th><th scope=col>wt</th><th scope=col>qsec</th><th scope=col>vs</th><th scope=col>am</th><th scope=col>gear</th><th scope=col>carb</th><th scope=col>hp_wt</th><th scope=col>model</th><th scope=col>car_model</th><th scope=col>country</th></tr>\n",
       "\t<tr><th scope=col>&lt;chr&gt;</th><th scope=col>&lt;dbl&gt;</th><th scope=col>&lt;dbl&gt;</th><th scope=col>&lt;dbl&gt;</th><th scope=col>&lt;dbl&gt;</th><th scope=col>&lt;dbl&gt;</th><th scope=col>&lt;dbl&gt;</th><th scope=col>&lt;dbl&gt;</th><th scope=col>&lt;dbl&gt;</th><th scope=col>&lt;dbl&gt;</th><th scope=col>&lt;dbl&gt;</th><th scope=col>&lt;dbl&gt;</th><th scope=col>&lt;dbl&gt;</th><th scope=col>&lt;chr&gt;</th><th scope=col>&lt;chr&gt;</th><th scope=col>&lt;chr&gt;</th></tr>\n",
       "</thead>\n",
       "<tbody>\n",
       "\t<tr><td>AMC     </td><td>15.2</td><td> 8</td><td>304.0</td><td>150</td><td>3.15</td><td>3.435</td><td>17.30</td><td> 0</td><td> 0</td><td> 3</td><td> 2</td><td>43.66812</td><td>AMC Javelin        </td><td>AMC Javelin        </td><td>NA     </td></tr>\n",
       "\t<tr><td>Cadillac</td><td>10.4</td><td> 8</td><td>472.0</td><td>205</td><td>2.93</td><td>5.250</td><td>17.98</td><td> 0</td><td> 0</td><td> 3</td><td> 4</td><td>39.04762</td><td>Cadillac Fleetwood </td><td>Cadillac Fleetwood </td><td>NA     </td></tr>\n",
       "\t<tr><td>Camaro  </td><td>13.3</td><td> 8</td><td>350.0</td><td>245</td><td>3.73</td><td>3.840</td><td>15.41</td><td> 0</td><td> 0</td><td> 3</td><td> 4</td><td>63.80208</td><td>Camaro Z28         </td><td>Camaro Z28         </td><td>NA     </td></tr>\n",
       "\t<tr><td>Chrysler</td><td>14.7</td><td> 8</td><td>440.0</td><td>230</td><td>3.23</td><td>5.345</td><td>17.42</td><td> 0</td><td> 0</td><td> 3</td><td> 4</td><td>43.03087</td><td>Chrysler Imperial  </td><td>Chrysler Imperial  </td><td>NA     </td></tr>\n",
       "\t<tr><td>Datsun  </td><td>22.8</td><td> 4</td><td>108.0</td><td> 93</td><td>3.85</td><td>2.320</td><td>18.61</td><td> 1</td><td> 1</td><td> 4</td><td> 1</td><td>40.08621</td><td>Datsun 710         </td><td>Datsun 710         </td><td>NA     </td></tr>\n",
       "\t<tr><td>Dodge   </td><td>15.5</td><td> 8</td><td>318.0</td><td>150</td><td>2.76</td><td>3.520</td><td>16.87</td><td> 0</td><td> 0</td><td> 3</td><td> 2</td><td>42.61364</td><td>Dodge Challenger   </td><td>Dodge Challenger   </td><td>NA     </td></tr>\n",
       "\t<tr><td>Duster  </td><td>14.3</td><td> 8</td><td>360.0</td><td>245</td><td>3.21</td><td>3.570</td><td>15.84</td><td> 0</td><td> 0</td><td> 3</td><td> 4</td><td>68.62745</td><td>Duster 360         </td><td>Duster 360         </td><td>NA     </td></tr>\n",
       "\t<tr><td>Ferrari </td><td>19.7</td><td> 6</td><td>145.0</td><td>175</td><td>3.62</td><td>2.770</td><td>15.50</td><td> 0</td><td> 1</td><td> 5</td><td> 6</td><td>63.17690</td><td>Ferrari Dino       </td><td>Ferrari Dino       </td><td>NA     </td></tr>\n",
       "\t<tr><td>Fiat    </td><td>32.4</td><td> 4</td><td> 78.7</td><td> 66</td><td>4.08</td><td>2.200</td><td>19.47</td><td> 1</td><td> 1</td><td> 4</td><td> 1</td><td>30.00000</td><td>Fiat 128           </td><td>Fiat 128           </td><td>Italy  </td></tr>\n",
       "\t<tr><td>Fiat    </td><td>27.3</td><td> 4</td><td> 79.0</td><td> 66</td><td>4.08</td><td>1.935</td><td>18.90</td><td> 1</td><td> 1</td><td> 4</td><td> 1</td><td>34.10853</td><td>Fiat X1-9          </td><td>Fiat X1-9          </td><td>Italy  </td></tr>\n",
       "\t<tr><td>Ford    </td><td>15.8</td><td> 8</td><td>351.0</td><td>264</td><td>4.22</td><td>3.170</td><td>14.50</td><td> 0</td><td> 1</td><td> 5</td><td> 4</td><td>83.28076</td><td>Ford Pantera L     </td><td>Ford Pantera L     </td><td>NA     </td></tr>\n",
       "\t<tr><td>Honda   </td><td>30.4</td><td> 4</td><td> 75.7</td><td> 52</td><td>4.93</td><td>1.615</td><td>18.52</td><td> 1</td><td> 1</td><td> 4</td><td> 2</td><td>32.19814</td><td>Honda Civic        </td><td>Honda Civic        </td><td>NA     </td></tr>\n",
       "\t<tr><td>Hornet  </td><td>18.7</td><td> 8</td><td>360.0</td><td>175</td><td>3.15</td><td>3.440</td><td>17.02</td><td> 0</td><td> 0</td><td> 3</td><td> 2</td><td>50.87209</td><td>Hornet Sportabout  </td><td>Hornet Sportabout  </td><td>NA     </td></tr>\n",
       "\t<tr><td>Hornet  </td><td>21.4</td><td> 6</td><td>258.0</td><td>110</td><td>3.08</td><td>3.215</td><td>19.44</td><td> 1</td><td> 0</td><td> 3</td><td> 1</td><td>34.21462</td><td>Hornet 4 Drive     </td><td>Hornet 4 Drive     </td><td>NA     </td></tr>\n",
       "\t<tr><td>Lincoln </td><td>10.4</td><td> 8</td><td>460.0</td><td>215</td><td>3.00</td><td>5.424</td><td>17.82</td><td> 0</td><td> 0</td><td> 3</td><td> 4</td><td>39.63864</td><td>Lincoln Continental</td><td>Lincoln Continental</td><td>NA     </td></tr>\n",
       "\t<tr><td>Lotus   </td><td>30.4</td><td> 4</td><td> 95.1</td><td>113</td><td>3.77</td><td>1.513</td><td>16.90</td><td> 1</td><td> 1</td><td> 5</td><td> 2</td><td>74.68605</td><td>Lotus Europa       </td><td>Lotus Europa       </td><td>NA     </td></tr>\n",
       "\t<tr><td>Maserati</td><td>15.0</td><td> 8</td><td>301.0</td><td>335</td><td>3.54</td><td>3.570</td><td>14.60</td><td> 0</td><td> 1</td><td> 5</td><td> 8</td><td>93.83754</td><td>Maserati Bora      </td><td>Maserati Bora      </td><td>NA     </td></tr>\n",
       "\t<tr><td>Mazda   </td><td>21.0</td><td> 6</td><td>160.0</td><td>110</td><td>3.90</td><td>2.875</td><td>17.02</td><td> 0</td><td> 1</td><td> 4</td><td> 4</td><td>38.26087</td><td>Mazda RX4 Wag      </td><td>Mazda RX4 Wag      </td><td>Japan  </td></tr>\n",
       "\t<tr><td>Mazda   </td><td>21.0</td><td> 6</td><td>160.0</td><td>110</td><td>3.90</td><td>2.620</td><td>16.46</td><td> 0</td><td> 1</td><td> 4</td><td> 4</td><td>41.98473</td><td>Mazda RX4          </td><td>Mazda RX4          </td><td>Japan  </td></tr>\n",
       "\t<tr><td>Merc    </td><td>22.8</td><td> 4</td><td>140.8</td><td> 95</td><td>3.92</td><td>3.150</td><td>22.90</td><td> 1</td><td> 0</td><td> 4</td><td> 2</td><td>30.15873</td><td>Merc 230           </td><td>Merc 230           </td><td>NA     </td></tr>\n",
       "\t<tr><td>Merc    </td><td>19.2</td><td> 6</td><td>167.6</td><td>123</td><td>3.92</td><td>3.440</td><td>18.30</td><td> 1</td><td> 0</td><td> 4</td><td> 4</td><td>35.75581</td><td>Merc 280           </td><td>Merc 280           </td><td>NA     </td></tr>\n",
       "\t<tr><td>Merc    </td><td>24.4</td><td> 4</td><td>146.7</td><td> 62</td><td>3.69</td><td>3.190</td><td>20.00</td><td> 1</td><td> 0</td><td> 4</td><td> 2</td><td>19.43574</td><td>Merc 240D          </td><td>Merc 240D          </td><td>NA     </td></tr>\n",
       "\t<tr><td>Merc    </td><td>17.3</td><td> 8</td><td>275.8</td><td>180</td><td>3.07</td><td>3.730</td><td>17.60</td><td> 0</td><td> 0</td><td> 3</td><td> 3</td><td>48.25737</td><td>Merc 450SL         </td><td>Merc 450SL         </td><td>NA     </td></tr>\n",
       "\t<tr><td>Merc    </td><td>15.2</td><td> 8</td><td>275.8</td><td>180</td><td>3.07</td><td>3.780</td><td>18.00</td><td> 0</td><td> 0</td><td> 3</td><td> 3</td><td>47.61905</td><td>Merc 450SLC        </td><td>Merc 450SLC        </td><td>NA     </td></tr>\n",
       "\t<tr><td>Merc    </td><td>17.8</td><td> 6</td><td>167.6</td><td>123</td><td>3.92</td><td>3.440</td><td>18.90</td><td> 1</td><td> 0</td><td> 4</td><td> 4</td><td>35.75581</td><td>Merc 280C          </td><td>Merc 280C          </td><td>NA     </td></tr>\n",
       "\t<tr><td>Merc    </td><td>16.4</td><td> 8</td><td>275.8</td><td>180</td><td>3.07</td><td>4.070</td><td>17.40</td><td> 0</td><td> 0</td><td> 3</td><td> 3</td><td>44.22604</td><td>Merc 450SE         </td><td>Merc 450SE         </td><td>NA     </td></tr>\n",
       "\t<tr><td>Pontiac </td><td>19.2</td><td> 8</td><td>400.0</td><td>175</td><td>3.08</td><td>3.845</td><td>17.05</td><td> 0</td><td> 0</td><td> 3</td><td> 2</td><td>45.51365</td><td>Pontiac Firebird   </td><td>Pontiac Firebird   </td><td>NA     </td></tr>\n",
       "\t<tr><td>Porsche </td><td>26.0</td><td> 4</td><td>120.3</td><td> 91</td><td>4.43</td><td>2.140</td><td>16.70</td><td> 0</td><td> 1</td><td> 5</td><td> 2</td><td>42.52336</td><td>Porsche 914-2      </td><td>Porsche 914-2      </td><td>NA     </td></tr>\n",
       "\t<tr><td>Skoda   </td><td>  NA</td><td>NA</td><td>   NA</td><td> NA</td><td>  NA</td><td>   NA</td><td>   NA</td><td>NA</td><td>NA</td><td>NA</td><td>NA</td><td>      NA</td><td>NA                 </td><td>NA                 </td><td>Czechia</td></tr>\n",
       "\t<tr><td>Toyota  </td><td>33.9</td><td> 4</td><td> 71.1</td><td> 65</td><td>4.22</td><td>1.835</td><td>19.90</td><td> 1</td><td> 1</td><td> 4</td><td> 1</td><td>35.42234</td><td>Toyota Corolla     </td><td>Toyota Corolla     </td><td>Japan  </td></tr>\n",
       "\t<tr><td>Toyota  </td><td>21.5</td><td> 4</td><td>120.1</td><td> 97</td><td>3.70</td><td>2.465</td><td>20.01</td><td> 1</td><td> 0</td><td> 3</td><td> 1</td><td>39.35091</td><td>Toyota Corona      </td><td>Toyota Corona      </td><td>Japan  </td></tr>\n",
       "\t<tr><td>Valiant </td><td>18.1</td><td> 6</td><td>225.0</td><td>105</td><td>2.76</td><td>3.460</td><td>20.22</td><td> 1</td><td> 0</td><td> 3</td><td> 1</td><td>30.34682</td><td>Valiant            </td><td>Valiant            </td><td>NA     </td></tr>\n",
       "\t<tr><td>Volvo   </td><td>21.4</td><td> 4</td><td>121.0</td><td>109</td><td>4.11</td><td>2.780</td><td>18.60</td><td> 1</td><td> 1</td><td> 4</td><td> 2</td><td>39.20863</td><td>Volvo 142E         </td><td>Volvo 142E         </td><td>Sweden </td></tr>\n",
       "</tbody>\n",
       "</table>\n"
      ],
      "text/latex": [
       "A data.frame: 33 × 16\n",
       "\\begin{tabular}{llllllllllllllll}\n",
       " brand & mpg & cyl & disp & hp & drat & wt & qsec & vs & am & gear & carb & hp\\_wt & model & car\\_model & country\\\\\n",
       " <chr> & <dbl> & <dbl> & <dbl> & <dbl> & <dbl> & <dbl> & <dbl> & <dbl> & <dbl> & <dbl> & <dbl> & <dbl> & <chr> & <chr> & <chr>\\\\\n",
       "\\hline\n",
       "\t AMC      & 15.2 &  8 & 304.0 & 150 & 3.15 & 3.435 & 17.30 &  0 &  0 &  3 &  2 & 43.66812 & AMC Javelin         & AMC Javelin         & NA     \\\\\n",
       "\t Cadillac & 10.4 &  8 & 472.0 & 205 & 2.93 & 5.250 & 17.98 &  0 &  0 &  3 &  4 & 39.04762 & Cadillac Fleetwood  & Cadillac Fleetwood  & NA     \\\\\n",
       "\t Camaro   & 13.3 &  8 & 350.0 & 245 & 3.73 & 3.840 & 15.41 &  0 &  0 &  3 &  4 & 63.80208 & Camaro Z28          & Camaro Z28          & NA     \\\\\n",
       "\t Chrysler & 14.7 &  8 & 440.0 & 230 & 3.23 & 5.345 & 17.42 &  0 &  0 &  3 &  4 & 43.03087 & Chrysler Imperial   & Chrysler Imperial   & NA     \\\\\n",
       "\t Datsun   & 22.8 &  4 & 108.0 &  93 & 3.85 & 2.320 & 18.61 &  1 &  1 &  4 &  1 & 40.08621 & Datsun 710          & Datsun 710          & NA     \\\\\n",
       "\t Dodge    & 15.5 &  8 & 318.0 & 150 & 2.76 & 3.520 & 16.87 &  0 &  0 &  3 &  2 & 42.61364 & Dodge Challenger    & Dodge Challenger    & NA     \\\\\n",
       "\t Duster   & 14.3 &  8 & 360.0 & 245 & 3.21 & 3.570 & 15.84 &  0 &  0 &  3 &  4 & 68.62745 & Duster 360          & Duster 360          & NA     \\\\\n",
       "\t Ferrari  & 19.7 &  6 & 145.0 & 175 & 3.62 & 2.770 & 15.50 &  0 &  1 &  5 &  6 & 63.17690 & Ferrari Dino        & Ferrari Dino        & NA     \\\\\n",
       "\t Fiat     & 32.4 &  4 &  78.7 &  66 & 4.08 & 2.200 & 19.47 &  1 &  1 &  4 &  1 & 30.00000 & Fiat 128            & Fiat 128            & Italy  \\\\\n",
       "\t Fiat     & 27.3 &  4 &  79.0 &  66 & 4.08 & 1.935 & 18.90 &  1 &  1 &  4 &  1 & 34.10853 & Fiat X1-9           & Fiat X1-9           & Italy  \\\\\n",
       "\t Ford     & 15.8 &  8 & 351.0 & 264 & 4.22 & 3.170 & 14.50 &  0 &  1 &  5 &  4 & 83.28076 & Ford Pantera L      & Ford Pantera L      & NA     \\\\\n",
       "\t Honda    & 30.4 &  4 &  75.7 &  52 & 4.93 & 1.615 & 18.52 &  1 &  1 &  4 &  2 & 32.19814 & Honda Civic         & Honda Civic         & NA     \\\\\n",
       "\t Hornet   & 18.7 &  8 & 360.0 & 175 & 3.15 & 3.440 & 17.02 &  0 &  0 &  3 &  2 & 50.87209 & Hornet Sportabout   & Hornet Sportabout   & NA     \\\\\n",
       "\t Hornet   & 21.4 &  6 & 258.0 & 110 & 3.08 & 3.215 & 19.44 &  1 &  0 &  3 &  1 & 34.21462 & Hornet 4 Drive      & Hornet 4 Drive      & NA     \\\\\n",
       "\t Lincoln  & 10.4 &  8 & 460.0 & 215 & 3.00 & 5.424 & 17.82 &  0 &  0 &  3 &  4 & 39.63864 & Lincoln Continental & Lincoln Continental & NA     \\\\\n",
       "\t Lotus    & 30.4 &  4 &  95.1 & 113 & 3.77 & 1.513 & 16.90 &  1 &  1 &  5 &  2 & 74.68605 & Lotus Europa        & Lotus Europa        & NA     \\\\\n",
       "\t Maserati & 15.0 &  8 & 301.0 & 335 & 3.54 & 3.570 & 14.60 &  0 &  1 &  5 &  8 & 93.83754 & Maserati Bora       & Maserati Bora       & NA     \\\\\n",
       "\t Mazda    & 21.0 &  6 & 160.0 & 110 & 3.90 & 2.875 & 17.02 &  0 &  1 &  4 &  4 & 38.26087 & Mazda RX4 Wag       & Mazda RX4 Wag       & Japan  \\\\\n",
       "\t Mazda    & 21.0 &  6 & 160.0 & 110 & 3.90 & 2.620 & 16.46 &  0 &  1 &  4 &  4 & 41.98473 & Mazda RX4           & Mazda RX4           & Japan  \\\\\n",
       "\t Merc     & 22.8 &  4 & 140.8 &  95 & 3.92 & 3.150 & 22.90 &  1 &  0 &  4 &  2 & 30.15873 & Merc 230            & Merc 230            & NA     \\\\\n",
       "\t Merc     & 19.2 &  6 & 167.6 & 123 & 3.92 & 3.440 & 18.30 &  1 &  0 &  4 &  4 & 35.75581 & Merc 280            & Merc 280            & NA     \\\\\n",
       "\t Merc     & 24.4 &  4 & 146.7 &  62 & 3.69 & 3.190 & 20.00 &  1 &  0 &  4 &  2 & 19.43574 & Merc 240D           & Merc 240D           & NA     \\\\\n",
       "\t Merc     & 17.3 &  8 & 275.8 & 180 & 3.07 & 3.730 & 17.60 &  0 &  0 &  3 &  3 & 48.25737 & Merc 450SL          & Merc 450SL          & NA     \\\\\n",
       "\t Merc     & 15.2 &  8 & 275.8 & 180 & 3.07 & 3.780 & 18.00 &  0 &  0 &  3 &  3 & 47.61905 & Merc 450SLC         & Merc 450SLC         & NA     \\\\\n",
       "\t Merc     & 17.8 &  6 & 167.6 & 123 & 3.92 & 3.440 & 18.90 &  1 &  0 &  4 &  4 & 35.75581 & Merc 280C           & Merc 280C           & NA     \\\\\n",
       "\t Merc     & 16.4 &  8 & 275.8 & 180 & 3.07 & 4.070 & 17.40 &  0 &  0 &  3 &  3 & 44.22604 & Merc 450SE          & Merc 450SE          & NA     \\\\\n",
       "\t Pontiac  & 19.2 &  8 & 400.0 & 175 & 3.08 & 3.845 & 17.05 &  0 &  0 &  3 &  2 & 45.51365 & Pontiac Firebird    & Pontiac Firebird    & NA     \\\\\n",
       "\t Porsche  & 26.0 &  4 & 120.3 &  91 & 4.43 & 2.140 & 16.70 &  0 &  1 &  5 &  2 & 42.52336 & Porsche 914-2       & Porsche 914-2       & NA     \\\\\n",
       "\t Skoda    &   NA & NA &    NA &  NA &   NA &    NA &    NA & NA & NA & NA & NA &       NA & NA                  & NA                  & Czechia\\\\\n",
       "\t Toyota   & 33.9 &  4 &  71.1 &  65 & 4.22 & 1.835 & 19.90 &  1 &  1 &  4 &  1 & 35.42234 & Toyota Corolla      & Toyota Corolla      & Japan  \\\\\n",
       "\t Toyota   & 21.5 &  4 & 120.1 &  97 & 3.70 & 2.465 & 20.01 &  1 &  0 &  3 &  1 & 39.35091 & Toyota Corona       & Toyota Corona       & Japan  \\\\\n",
       "\t Valiant  & 18.1 &  6 & 225.0 & 105 & 2.76 & 3.460 & 20.22 &  1 &  0 &  3 &  1 & 30.34682 & Valiant             & Valiant             & NA     \\\\\n",
       "\t Volvo    & 21.4 &  4 & 121.0 & 109 & 4.11 & 2.780 & 18.60 &  1 &  1 &  4 &  2 & 39.20863 & Volvo 142E          & Volvo 142E          & Sweden \\\\\n",
       "\\end{tabular}\n"
      ],
      "text/markdown": [
       "\n",
       "A data.frame: 33 × 16\n",
       "\n",
       "| brand &lt;chr&gt; | mpg &lt;dbl&gt; | cyl &lt;dbl&gt; | disp &lt;dbl&gt; | hp &lt;dbl&gt; | drat &lt;dbl&gt; | wt &lt;dbl&gt; | qsec &lt;dbl&gt; | vs &lt;dbl&gt; | am &lt;dbl&gt; | gear &lt;dbl&gt; | carb &lt;dbl&gt; | hp_wt &lt;dbl&gt; | model &lt;chr&gt; | car_model &lt;chr&gt; | country &lt;chr&gt; |\n",
       "|---|---|---|---|---|---|---|---|---|---|---|---|---|---|---|---|\n",
       "| AMC      | 15.2 |  8 | 304.0 | 150 | 3.15 | 3.435 | 17.30 |  0 |  0 |  3 |  2 | 43.66812 | AMC Javelin         | AMC Javelin         | NA      |\n",
       "| Cadillac | 10.4 |  8 | 472.0 | 205 | 2.93 | 5.250 | 17.98 |  0 |  0 |  3 |  4 | 39.04762 | Cadillac Fleetwood  | Cadillac Fleetwood  | NA      |\n",
       "| Camaro   | 13.3 |  8 | 350.0 | 245 | 3.73 | 3.840 | 15.41 |  0 |  0 |  3 |  4 | 63.80208 | Camaro Z28          | Camaro Z28          | NA      |\n",
       "| Chrysler | 14.7 |  8 | 440.0 | 230 | 3.23 | 5.345 | 17.42 |  0 |  0 |  3 |  4 | 43.03087 | Chrysler Imperial   | Chrysler Imperial   | NA      |\n",
       "| Datsun   | 22.8 |  4 | 108.0 |  93 | 3.85 | 2.320 | 18.61 |  1 |  1 |  4 |  1 | 40.08621 | Datsun 710          | Datsun 710          | NA      |\n",
       "| Dodge    | 15.5 |  8 | 318.0 | 150 | 2.76 | 3.520 | 16.87 |  0 |  0 |  3 |  2 | 42.61364 | Dodge Challenger    | Dodge Challenger    | NA      |\n",
       "| Duster   | 14.3 |  8 | 360.0 | 245 | 3.21 | 3.570 | 15.84 |  0 |  0 |  3 |  4 | 68.62745 | Duster 360          | Duster 360          | NA      |\n",
       "| Ferrari  | 19.7 |  6 | 145.0 | 175 | 3.62 | 2.770 | 15.50 |  0 |  1 |  5 |  6 | 63.17690 | Ferrari Dino        | Ferrari Dino        | NA      |\n",
       "| Fiat     | 32.4 |  4 |  78.7 |  66 | 4.08 | 2.200 | 19.47 |  1 |  1 |  4 |  1 | 30.00000 | Fiat 128            | Fiat 128            | Italy   |\n",
       "| Fiat     | 27.3 |  4 |  79.0 |  66 | 4.08 | 1.935 | 18.90 |  1 |  1 |  4 |  1 | 34.10853 | Fiat X1-9           | Fiat X1-9           | Italy   |\n",
       "| Ford     | 15.8 |  8 | 351.0 | 264 | 4.22 | 3.170 | 14.50 |  0 |  1 |  5 |  4 | 83.28076 | Ford Pantera L      | Ford Pantera L      | NA      |\n",
       "| Honda    | 30.4 |  4 |  75.7 |  52 | 4.93 | 1.615 | 18.52 |  1 |  1 |  4 |  2 | 32.19814 | Honda Civic         | Honda Civic         | NA      |\n",
       "| Hornet   | 18.7 |  8 | 360.0 | 175 | 3.15 | 3.440 | 17.02 |  0 |  0 |  3 |  2 | 50.87209 | Hornet Sportabout   | Hornet Sportabout   | NA      |\n",
       "| Hornet   | 21.4 |  6 | 258.0 | 110 | 3.08 | 3.215 | 19.44 |  1 |  0 |  3 |  1 | 34.21462 | Hornet 4 Drive      | Hornet 4 Drive      | NA      |\n",
       "| Lincoln  | 10.4 |  8 | 460.0 | 215 | 3.00 | 5.424 | 17.82 |  0 |  0 |  3 |  4 | 39.63864 | Lincoln Continental | Lincoln Continental | NA      |\n",
       "| Lotus    | 30.4 |  4 |  95.1 | 113 | 3.77 | 1.513 | 16.90 |  1 |  1 |  5 |  2 | 74.68605 | Lotus Europa        | Lotus Europa        | NA      |\n",
       "| Maserati | 15.0 |  8 | 301.0 | 335 | 3.54 | 3.570 | 14.60 |  0 |  1 |  5 |  8 | 93.83754 | Maserati Bora       | Maserati Bora       | NA      |\n",
       "| Mazda    | 21.0 |  6 | 160.0 | 110 | 3.90 | 2.875 | 17.02 |  0 |  1 |  4 |  4 | 38.26087 | Mazda RX4 Wag       | Mazda RX4 Wag       | Japan   |\n",
       "| Mazda    | 21.0 |  6 | 160.0 | 110 | 3.90 | 2.620 | 16.46 |  0 |  1 |  4 |  4 | 41.98473 | Mazda RX4           | Mazda RX4           | Japan   |\n",
       "| Merc     | 22.8 |  4 | 140.8 |  95 | 3.92 | 3.150 | 22.90 |  1 |  0 |  4 |  2 | 30.15873 | Merc 230            | Merc 230            | NA      |\n",
       "| Merc     | 19.2 |  6 | 167.6 | 123 | 3.92 | 3.440 | 18.30 |  1 |  0 |  4 |  4 | 35.75581 | Merc 280            | Merc 280            | NA      |\n",
       "| Merc     | 24.4 |  4 | 146.7 |  62 | 3.69 | 3.190 | 20.00 |  1 |  0 |  4 |  2 | 19.43574 | Merc 240D           | Merc 240D           | NA      |\n",
       "| Merc     | 17.3 |  8 | 275.8 | 180 | 3.07 | 3.730 | 17.60 |  0 |  0 |  3 |  3 | 48.25737 | Merc 450SL          | Merc 450SL          | NA      |\n",
       "| Merc     | 15.2 |  8 | 275.8 | 180 | 3.07 | 3.780 | 18.00 |  0 |  0 |  3 |  3 | 47.61905 | Merc 450SLC         | Merc 450SLC         | NA      |\n",
       "| Merc     | 17.8 |  6 | 167.6 | 123 | 3.92 | 3.440 | 18.90 |  1 |  0 |  4 |  4 | 35.75581 | Merc 280C           | Merc 280C           | NA      |\n",
       "| Merc     | 16.4 |  8 | 275.8 | 180 | 3.07 | 4.070 | 17.40 |  0 |  0 |  3 |  3 | 44.22604 | Merc 450SE          | Merc 450SE          | NA      |\n",
       "| Pontiac  | 19.2 |  8 | 400.0 | 175 | 3.08 | 3.845 | 17.05 |  0 |  0 |  3 |  2 | 45.51365 | Pontiac Firebird    | Pontiac Firebird    | NA      |\n",
       "| Porsche  | 26.0 |  4 | 120.3 |  91 | 4.43 | 2.140 | 16.70 |  0 |  1 |  5 |  2 | 42.52336 | Porsche 914-2       | Porsche 914-2       | NA      |\n",
       "| Skoda    |   NA | NA |    NA |  NA |   NA |    NA |    NA | NA | NA | NA | NA |       NA | NA                  | NA                  | Czechia |\n",
       "| Toyota   | 33.9 |  4 |  71.1 |  65 | 4.22 | 1.835 | 19.90 |  1 |  1 |  4 |  1 | 35.42234 | Toyota Corolla      | Toyota Corolla      | Japan   |\n",
       "| Toyota   | 21.5 |  4 | 120.1 |  97 | 3.70 | 2.465 | 20.01 |  1 |  0 |  3 |  1 | 39.35091 | Toyota Corona       | Toyota Corona       | Japan   |\n",
       "| Valiant  | 18.1 |  6 | 225.0 | 105 | 2.76 | 3.460 | 20.22 |  1 |  0 |  3 |  1 | 30.34682 | Valiant             | Valiant             | NA      |\n",
       "| Volvo    | 21.4 |  4 | 121.0 | 109 | 4.11 | 2.780 | 18.60 |  1 |  1 |  4 |  2 | 39.20863 | Volvo 142E          | Volvo 142E          | Sweden  |\n",
       "\n"
      ],
      "text/plain": [
       "   brand    mpg  cyl disp  hp  drat wt    qsec  vs am gear carb hp_wt   \n",
       "1  AMC      15.2  8  304.0 150 3.15 3.435 17.30  0  0  3    2   43.66812\n",
       "2  Cadillac 10.4  8  472.0 205 2.93 5.250 17.98  0  0  3    4   39.04762\n",
       "3  Camaro   13.3  8  350.0 245 3.73 3.840 15.41  0  0  3    4   63.80208\n",
       "4  Chrysler 14.7  8  440.0 230 3.23 5.345 17.42  0  0  3    4   43.03087\n",
       "5  Datsun   22.8  4  108.0  93 3.85 2.320 18.61  1  1  4    1   40.08621\n",
       "6  Dodge    15.5  8  318.0 150 2.76 3.520 16.87  0  0  3    2   42.61364\n",
       "7  Duster   14.3  8  360.0 245 3.21 3.570 15.84  0  0  3    4   68.62745\n",
       "8  Ferrari  19.7  6  145.0 175 3.62 2.770 15.50  0  1  5    6   63.17690\n",
       "9  Fiat     32.4  4   78.7  66 4.08 2.200 19.47  1  1  4    1   30.00000\n",
       "10 Fiat     27.3  4   79.0  66 4.08 1.935 18.90  1  1  4    1   34.10853\n",
       "11 Ford     15.8  8  351.0 264 4.22 3.170 14.50  0  1  5    4   83.28076\n",
       "12 Honda    30.4  4   75.7  52 4.93 1.615 18.52  1  1  4    2   32.19814\n",
       "13 Hornet   18.7  8  360.0 175 3.15 3.440 17.02  0  0  3    2   50.87209\n",
       "14 Hornet   21.4  6  258.0 110 3.08 3.215 19.44  1  0  3    1   34.21462\n",
       "15 Lincoln  10.4  8  460.0 215 3.00 5.424 17.82  0  0  3    4   39.63864\n",
       "16 Lotus    30.4  4   95.1 113 3.77 1.513 16.90  1  1  5    2   74.68605\n",
       "17 Maserati 15.0  8  301.0 335 3.54 3.570 14.60  0  1  5    8   93.83754\n",
       "18 Mazda    21.0  6  160.0 110 3.90 2.875 17.02  0  1  4    4   38.26087\n",
       "19 Mazda    21.0  6  160.0 110 3.90 2.620 16.46  0  1  4    4   41.98473\n",
       "20 Merc     22.8  4  140.8  95 3.92 3.150 22.90  1  0  4    2   30.15873\n",
       "21 Merc     19.2  6  167.6 123 3.92 3.440 18.30  1  0  4    4   35.75581\n",
       "22 Merc     24.4  4  146.7  62 3.69 3.190 20.00  1  0  4    2   19.43574\n",
       "23 Merc     17.3  8  275.8 180 3.07 3.730 17.60  0  0  3    3   48.25737\n",
       "24 Merc     15.2  8  275.8 180 3.07 3.780 18.00  0  0  3    3   47.61905\n",
       "25 Merc     17.8  6  167.6 123 3.92 3.440 18.90  1  0  4    4   35.75581\n",
       "26 Merc     16.4  8  275.8 180 3.07 4.070 17.40  0  0  3    3   44.22604\n",
       "27 Pontiac  19.2  8  400.0 175 3.08 3.845 17.05  0  0  3    2   45.51365\n",
       "28 Porsche  26.0  4  120.3  91 4.43 2.140 16.70  0  1  5    2   42.52336\n",
       "29 Skoda      NA NA     NA  NA   NA    NA    NA NA NA NA   NA         NA\n",
       "30 Toyota   33.9  4   71.1  65 4.22 1.835 19.90  1  1  4    1   35.42234\n",
       "31 Toyota   21.5  4  120.1  97 3.70 2.465 20.01  1  0  3    1   39.35091\n",
       "32 Valiant  18.1  6  225.0 105 2.76 3.460 20.22  1  0  3    1   30.34682\n",
       "33 Volvo    21.4  4  121.0 109 4.11 2.780 18.60  1  1  4    2   39.20863\n",
       "   model               car_model           country\n",
       "1  AMC Javelin         AMC Javelin         NA     \n",
       "2  Cadillac Fleetwood  Cadillac Fleetwood  NA     \n",
       "3  Camaro Z28          Camaro Z28          NA     \n",
       "4  Chrysler Imperial   Chrysler Imperial   NA     \n",
       "5  Datsun 710          Datsun 710          NA     \n",
       "6  Dodge Challenger    Dodge Challenger    NA     \n",
       "7  Duster 360          Duster 360          NA     \n",
       "8  Ferrari Dino        Ferrari Dino        NA     \n",
       "9  Fiat 128            Fiat 128            Italy  \n",
       "10 Fiat X1-9           Fiat X1-9           Italy  \n",
       "11 Ford Pantera L      Ford Pantera L      NA     \n",
       "12 Honda Civic         Honda Civic         NA     \n",
       "13 Hornet Sportabout   Hornet Sportabout   NA     \n",
       "14 Hornet 4 Drive      Hornet 4 Drive      NA     \n",
       "15 Lincoln Continental Lincoln Continental NA     \n",
       "16 Lotus Europa        Lotus Europa        NA     \n",
       "17 Maserati Bora       Maserati Bora       NA     \n",
       "18 Mazda RX4 Wag       Mazda RX4 Wag       Japan  \n",
       "19 Mazda RX4           Mazda RX4           Japan  \n",
       "20 Merc 230            Merc 230            NA     \n",
       "21 Merc 280            Merc 280            NA     \n",
       "22 Merc 240D           Merc 240D           NA     \n",
       "23 Merc 450SL          Merc 450SL          NA     \n",
       "24 Merc 450SLC         Merc 450SLC         NA     \n",
       "25 Merc 280C           Merc 280C           NA     \n",
       "26 Merc 450SE          Merc 450SE          NA     \n",
       "27 Pontiac Firebird    Pontiac Firebird    NA     \n",
       "28 Porsche 914-2       Porsche 914-2       NA     \n",
       "29 NA                  NA                  Czechia\n",
       "30 Toyota Corolla      Toyota Corolla      Japan  \n",
       "31 Toyota Corona       Toyota Corona       Japan  \n",
       "32 Valiant             Valiant             NA     \n",
       "33 Volvo 142E          Volvo 142E          Sweden "
      ]
     },
     "metadata": {},
     "output_type": "display_data"
    }
   ],
   "source": [
    "merge(x=mtcars, y=brands_origin, by=\"brand\", all=TRUE)"
   ]
  },
  {
   "cell_type": "code",
   "execution_count": 139,
   "id": "1e1b147c",
   "metadata": {},
   "outputs": [
    {
     "ename": "ERROR",
     "evalue": "Error in library(sqldf): there is no package called 'sqldf'\n",
     "output_type": "error",
     "traceback": [
      "Error in library(sqldf): there is no package called 'sqldf'\nTraceback:\n",
      "1. library(sqldf)"
     ]
    }
   ],
   "source": [
    "library(sqldf)"
   ]
  },
  {
   "cell_type": "markdown",
   "id": "184a6529",
   "metadata": {},
   "source": [
    "## 7.6 Plotting"
   ]
  },
  {
   "cell_type": "code",
   "execution_count": 140,
   "id": "24cd5b8d",
   "metadata": {},
   "outputs": [
    {
     "data": {
      "image/png": "[encoded data removed]",
      "text/plain": [
       "plot without title"
      ]
     },
     "metadata": {
      "image/png": {
       "height": 420,
       "width": 420
      }
     },
     "output_type": "display_data"
    }
   ],
   "source": [
    "plot(mtcars)"
   ]
  },
  {
   "cell_type": "code",
   "execution_count": 2,
   "id": "4092a310",
   "metadata": {},
   "outputs": [
    {
     "data": {
      "image/png": "[encoded data removed]",
      "text/plain": [
       "Plot with title \"TITLE\""
      ]
     },
     "metadata": {
      "image/png": {
       "height": 420,
       "width": 420
      }
     },
     "output_type": "display_data"
    }
   ],
   "source": [
    "plot(mtcars$hp,mtcars$wt, main='TITLE')"
   ]
  },
  {
   "cell_type": "code",
   "execution_count": 3,
   "id": "20cf715b",
   "metadata": {},
   "outputs": [
    {
     "data": {
      "text/plain": [
       "\n",
       " 4  6  8 \n",
       "11  7 14 "
      ]
     },
     "metadata": {},
     "output_type": "display_data"
    }
   ],
   "source": [
    "# Bar Plot\n",
    "table(mtcars$cyl)"
   ]
  },
  {
   "cell_type": "code",
   "execution_count": 4,
   "id": "4b9f1ab2",
   "metadata": {},
   "outputs": [
    {
     "data": {
      "image/png": "[encoded data removed]",
      "text/plain": [
       "plot without title"
      ]
     },
     "metadata": {
      "image/png": {
       "height": 420,
       "width": 420
      }
     },
     "output_type": "display_data"
    }
   ],
   "source": [
    "barplot(mtcars$cyl)"
   ]
  },
  {
   "cell_type": "code",
   "execution_count": 7,
   "id": "61d6a3f7",
   "metadata": {},
   "outputs": [
    {
     "data": {
      "image/png": "[encoded data removed]",
      "text/plain": [
       "Plot with title \"title\""
      ]
     },
     "metadata": {
      "image/png": {
       "height": 420,
       "width": 420
      }
     },
     "output_type": "display_data"
    }
   ],
   "source": [
    "barplot(table(mtcars$cyl), \n",
    "       main='title',\n",
    "        xlab='x axis',\n",
    "        ylab=' y axis',\n",
    "        col=c('darkred','green','orange')\n",
    "       )"
   ]
  },
  {
   "cell_type": "code",
   "execution_count": 8,
   "id": "d0ba405b",
   "metadata": {},
   "outputs": [
    {
     "data": {
      "image/png": "[encoded data removed]",
      "text/plain": [
       "plot without title"
      ]
     },
     "metadata": {
      "image/png": {
       "height": 420,
       "width": 420
      }
     },
     "output_type": "display_data"
    }
   ],
   "source": [
    "# Box Plots\n",
    "boxplot(hp~gear, mtcars)"
   ]
  },
  {
   "cell_type": "code",
   "execution_count": 11,
   "id": "00ad46fd",
   "metadata": {},
   "outputs": [
    {
     "data": {
      "image/png": "[encoded data removed]",
      "text/plain": [
       "Plot with title \"Histogram of mtcars$hp\""
      ]
     },
     "metadata": {
      "image/png": {
       "height": 420,
       "width": 420
      }
     },
     "output_type": "display_data"
    }
   ],
   "source": [
    "hist(x=mtcars$hp, col=c('darkgreen'), breaks=20)"
   ]
  },
  {
   "cell_type": "markdown",
   "id": "a260643c",
   "metadata": {},
   "source": [
    "## 7.7 GGPLOT"
   ]
  },
  {
   "cell_type": "code",
   "execution_count": 14,
   "id": "26372a5d",
   "metadata": {},
   "outputs": [],
   "source": [
    "library(ggplot2)"
   ]
  },
  {
   "cell_type": "code",
   "execution_count": 19,
   "id": "e1b32b1d",
   "metadata": {},
   "outputs": [
    {
     "data": {
      "image/png": "[encoded data removed]",
      "text/plain": [
       "plot without title"
      ]
     },
     "metadata": {
      "image/png": {
       "height": 420,
       "width": 420
      }
     },
     "output_type": "display_data"
    }
   ],
   "source": [
    "ggplot(\n",
    "    data=mtcars,\n",
    "    aes(x=hp)\n",
    ") + geom_histogram(fill='salmon', color='black', binwidth=5)"
   ]
  },
  {
   "cell_type": "code",
   "execution_count": 18,
   "id": "47c2b3c8",
   "metadata": {},
   "outputs": [
    {
     "data": {
      "image/png": "[encoded data removed]",
      "text/plain": [
       "plot without title"
      ]
     },
     "metadata": {
      "image/png": {
       "height": 420,
       "width": 420
      }
     },
     "output_type": "display_data"
    }
   ],
   "source": [
    "ggplot(\n",
    "    data=mtcars,\n",
    "    aes(x=hp, y=wt)\n",
    ") + geom_point()"
   ]
  },
  {
   "cell_type": "markdown",
   "id": "63ccdbbd",
   "metadata": {},
   "source": [
    "# 8. Exploring Working Directories"
   ]
  },
  {
   "cell_type": "code",
   "execution_count": 20,
   "id": "38d20560",
   "metadata": {},
   "outputs": [
    {
     "data": {
      "text/html": [
       "'C:/Users/Kevin'"
      ],
      "text/latex": [
       "'C:/Users/Kevin'"
      ],
      "text/markdown": [
       "'C:/Users/Kevin'"
      ],
      "text/plain": [
       "[1] \"C:/Users/Kevin\""
      ]
     },
     "metadata": {},
     "output_type": "display_data"
    }
   ],
   "source": [
    "getwd()"
   ]
  },
  {
   "cell_type": "raw",
   "id": "2fab1cc0",
   "metadata": {},
   "source": [
    "setwd('...')\n",
    "file_path='.../file.csv'\n",
    "read.csv(file=file_path)"
   ]
  },
  {
   "cell_type": "raw",
   "id": "46fd4dde",
   "metadata": {},
   "source": [
    "file_path='.../fbi.xls'\n",
    "library(readxl)\n",
    "fbi_data=read_excel(path=file_path)\n",
    "\n",
    "#Faster, less observation\n",
    "#class: tbl_df"
   ]
  },
  {
   "cell_type": "raw",
   "id": "da8f5523",
   "metadata": {},
   "source": [
    "library(xlsx)\n",
    "fbi_data=read.xlsx(file=file_path, sheetIndex=1)\n",
    "\n",
    "#class: DataFrame"
   ]
  }
 ],
 "metadata": {
  "kernelspec": {
   "display_name": "R",
   "language": "R",
   "name": "ir"
  },
  "language_info": {
   "codemirror_mode": "r",
   "file_extension": ".r",
   "mimetype": "text/x-r-source",
   "name": "R",
   "pygments_lexer": "r",
   "version": "4.2.2"
  }
 },
 "nbformat": 4,
 "nbformat_minor": 5
}
