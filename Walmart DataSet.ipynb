{
 "cells": [
  {
   "cell_type": "code",
   "execution_count": 1,
   "id": "e4b00172",
   "metadata": {},
   "outputs": [
    {
     "data": {
      "text/html": [
       "'C:/Users/Kevin/Downloads'"
      ],
      "text/latex": [
       "'C:/Users/Kevin/Downloads'"
      ],
      "text/markdown": [
       "'C:/Users/Kevin/Downloads'"
      ],
      "text/plain": [
       "[1] \"C:/Users/Kevin/Downloads\""
      ]
     },
     "metadata": {},
     "output_type": "display_data"
    }
   ],
   "source": [
    "getwd()"
   ]
  },
  {
   "cell_type": "code",
   "execution_count": 2,
   "id": "6abc2858",
   "metadata": {},
   "outputs": [],
   "source": [
    "walmart_data=read.csv('walmart_data.csv')\n",
    "walmart_features=read.csv('walmart_features.csv')"
   ]
  },
  {
   "cell_type": "code",
   "execution_count": 3,
   "id": "a3435f70",
   "metadata": {},
   "outputs": [
    {
     "data": {
      "text/html": [
       "<table class=\"dataframe\">\n",
       "<caption>A data.frame: 6 × 5</caption>\n",
       "<thead>\n",
       "\t<tr><th></th><th scope=col>Store</th><th scope=col>Dept</th><th scope=col>Date</th><th scope=col>Weekly_Sales</th><th scope=col>IsHoliday</th></tr>\n",
       "\t<tr><th></th><th scope=col>&lt;int&gt;</th><th scope=col>&lt;int&gt;</th><th scope=col>&lt;chr&gt;</th><th scope=col>&lt;dbl&gt;</th><th scope=col>&lt;lgl&gt;</th></tr>\n",
       "</thead>\n",
       "<tbody>\n",
       "\t<tr><th scope=row>1</th><td>1</td><td>1</td><td>2010-02-05</td><td>24924.50</td><td>FALSE</td></tr>\n",
       "\t<tr><th scope=row>2</th><td>1</td><td>1</td><td>2010-02-12</td><td>46039.49</td><td> TRUE</td></tr>\n",
       "\t<tr><th scope=row>3</th><td>1</td><td>1</td><td>2010-02-19</td><td>41595.55</td><td>FALSE</td></tr>\n",
       "\t<tr><th scope=row>4</th><td>1</td><td>1</td><td>2010-02-26</td><td>19403.54</td><td>FALSE</td></tr>\n",
       "\t<tr><th scope=row>5</th><td>1</td><td>1</td><td>2010-03-05</td><td>21827.90</td><td>FALSE</td></tr>\n",
       "\t<tr><th scope=row>6</th><td>1</td><td>1</td><td>2010-03-12</td><td>21043.39</td><td>FALSE</td></tr>\n",
       "</tbody>\n",
       "</table>\n"
      ],
      "text/latex": [
       "A data.frame: 6 × 5\n",
       "\\begin{tabular}{r|lllll}\n",
       "  & Store & Dept & Date & Weekly\\_Sales & IsHoliday\\\\\n",
       "  & <int> & <int> & <chr> & <dbl> & <lgl>\\\\\n",
       "\\hline\n",
       "\t1 & 1 & 1 & 2010-02-05 & 24924.50 & FALSE\\\\\n",
       "\t2 & 1 & 1 & 2010-02-12 & 46039.49 &  TRUE\\\\\n",
       "\t3 & 1 & 1 & 2010-02-19 & 41595.55 & FALSE\\\\\n",
       "\t4 & 1 & 1 & 2010-02-26 & 19403.54 & FALSE\\\\\n",
       "\t5 & 1 & 1 & 2010-03-05 & 21827.90 & FALSE\\\\\n",
       "\t6 & 1 & 1 & 2010-03-12 & 21043.39 & FALSE\\\\\n",
       "\\end{tabular}\n"
      ],
      "text/markdown": [
       "\n",
       "A data.frame: 6 × 5\n",
       "\n",
       "| <!--/--> | Store &lt;int&gt; | Dept &lt;int&gt; | Date &lt;chr&gt; | Weekly_Sales &lt;dbl&gt; | IsHoliday &lt;lgl&gt; |\n",
       "|---|---|---|---|---|---|\n",
       "| 1 | 1 | 1 | 2010-02-05 | 24924.50 | FALSE |\n",
       "| 2 | 1 | 1 | 2010-02-12 | 46039.49 |  TRUE |\n",
       "| 3 | 1 | 1 | 2010-02-19 | 41595.55 | FALSE |\n",
       "| 4 | 1 | 1 | 2010-02-26 | 19403.54 | FALSE |\n",
       "| 5 | 1 | 1 | 2010-03-05 | 21827.90 | FALSE |\n",
       "| 6 | 1 | 1 | 2010-03-12 | 21043.39 | FALSE |\n",
       "\n"
      ],
      "text/plain": [
       "  Store Dept Date       Weekly_Sales IsHoliday\n",
       "1 1     1    2010-02-05 24924.50     FALSE    \n",
       "2 1     1    2010-02-12 46039.49      TRUE    \n",
       "3 1     1    2010-02-19 41595.55     FALSE    \n",
       "4 1     1    2010-02-26 19403.54     FALSE    \n",
       "5 1     1    2010-03-05 21827.90     FALSE    \n",
       "6 1     1    2010-03-12 21043.39     FALSE    "
      ]
     },
     "metadata": {},
     "output_type": "display_data"
    }
   ],
   "source": [
    "head(walmart_data)"
   ]
  },
  {
   "cell_type": "code",
   "execution_count": 4,
   "id": "2c79c755",
   "metadata": {},
   "outputs": [
    {
     "data": {
      "text/html": [
       "<table class=\"dataframe\">\n",
       "<caption>A data.frame: 6 × 12</caption>\n",
       "<thead>\n",
       "\t<tr><th></th><th scope=col>Store</th><th scope=col>Date</th><th scope=col>Temperature</th><th scope=col>Fuel_Price</th><th scope=col>MarkDown1</th><th scope=col>MarkDown2</th><th scope=col>MarkDown3</th><th scope=col>MarkDown4</th><th scope=col>MarkDown5</th><th scope=col>CPI</th><th scope=col>Unemployment</th><th scope=col>IsHoliday</th></tr>\n",
       "\t<tr><th></th><th scope=col>&lt;int&gt;</th><th scope=col>&lt;chr&gt;</th><th scope=col>&lt;dbl&gt;</th><th scope=col>&lt;dbl&gt;</th><th scope=col>&lt;dbl&gt;</th><th scope=col>&lt;dbl&gt;</th><th scope=col>&lt;dbl&gt;</th><th scope=col>&lt;dbl&gt;</th><th scope=col>&lt;dbl&gt;</th><th scope=col>&lt;dbl&gt;</th><th scope=col>&lt;dbl&gt;</th><th scope=col>&lt;lgl&gt;</th></tr>\n",
       "</thead>\n",
       "<tbody>\n",
       "\t<tr><th scope=row>1</th><td>1</td><td>2010-02-05</td><td>42.31</td><td>2.572</td><td>NA</td><td>NA</td><td>NA</td><td>NA</td><td>NA</td><td>211.0964</td><td>8.106</td><td>FALSE</td></tr>\n",
       "\t<tr><th scope=row>2</th><td>1</td><td>2010-02-12</td><td>38.51</td><td>2.548</td><td>NA</td><td>NA</td><td>NA</td><td>NA</td><td>NA</td><td>211.2422</td><td>8.106</td><td> TRUE</td></tr>\n",
       "\t<tr><th scope=row>3</th><td>1</td><td>2010-02-19</td><td>39.93</td><td>2.514</td><td>NA</td><td>NA</td><td>NA</td><td>NA</td><td>NA</td><td>211.2891</td><td>8.106</td><td>FALSE</td></tr>\n",
       "\t<tr><th scope=row>4</th><td>1</td><td>2010-02-26</td><td>46.63</td><td>2.561</td><td>NA</td><td>NA</td><td>NA</td><td>NA</td><td>NA</td><td>211.3196</td><td>8.106</td><td>FALSE</td></tr>\n",
       "\t<tr><th scope=row>5</th><td>1</td><td>2010-03-05</td><td>46.50</td><td>2.625</td><td>NA</td><td>NA</td><td>NA</td><td>NA</td><td>NA</td><td>211.3501</td><td>8.106</td><td>FALSE</td></tr>\n",
       "\t<tr><th scope=row>6</th><td>1</td><td>2010-03-12</td><td>57.79</td><td>2.667</td><td>NA</td><td>NA</td><td>NA</td><td>NA</td><td>NA</td><td>211.3806</td><td>8.106</td><td>FALSE</td></tr>\n",
       "</tbody>\n",
       "</table>\n"
      ],
      "text/latex": [
       "A data.frame: 6 × 12\n",
       "\\begin{tabular}{r|llllllllllll}\n",
       "  & Store & Date & Temperature & Fuel\\_Price & MarkDown1 & MarkDown2 & MarkDown3 & MarkDown4 & MarkDown5 & CPI & Unemployment & IsHoliday\\\\\n",
       "  & <int> & <chr> & <dbl> & <dbl> & <dbl> & <dbl> & <dbl> & <dbl> & <dbl> & <dbl> & <dbl> & <lgl>\\\\\n",
       "\\hline\n",
       "\t1 & 1 & 2010-02-05 & 42.31 & 2.572 & NA & NA & NA & NA & NA & 211.0964 & 8.106 & FALSE\\\\\n",
       "\t2 & 1 & 2010-02-12 & 38.51 & 2.548 & NA & NA & NA & NA & NA & 211.2422 & 8.106 &  TRUE\\\\\n",
       "\t3 & 1 & 2010-02-19 & 39.93 & 2.514 & NA & NA & NA & NA & NA & 211.2891 & 8.106 & FALSE\\\\\n",
       "\t4 & 1 & 2010-02-26 & 46.63 & 2.561 & NA & NA & NA & NA & NA & 211.3196 & 8.106 & FALSE\\\\\n",
       "\t5 & 1 & 2010-03-05 & 46.50 & 2.625 & NA & NA & NA & NA & NA & 211.3501 & 8.106 & FALSE\\\\\n",
       "\t6 & 1 & 2010-03-12 & 57.79 & 2.667 & NA & NA & NA & NA & NA & 211.3806 & 8.106 & FALSE\\\\\n",
       "\\end{tabular}\n"
      ],
      "text/markdown": [
       "\n",
       "A data.frame: 6 × 12\n",
       "\n",
       "| <!--/--> | Store &lt;int&gt; | Date &lt;chr&gt; | Temperature &lt;dbl&gt; | Fuel_Price &lt;dbl&gt; | MarkDown1 &lt;dbl&gt; | MarkDown2 &lt;dbl&gt; | MarkDown3 &lt;dbl&gt; | MarkDown4 &lt;dbl&gt; | MarkDown5 &lt;dbl&gt; | CPI &lt;dbl&gt; | Unemployment &lt;dbl&gt; | IsHoliday &lt;lgl&gt; |\n",
       "|---|---|---|---|---|---|---|---|---|---|---|---|---|\n",
       "| 1 | 1 | 2010-02-05 | 42.31 | 2.572 | NA | NA | NA | NA | NA | 211.0964 | 8.106 | FALSE |\n",
       "| 2 | 1 | 2010-02-12 | 38.51 | 2.548 | NA | NA | NA | NA | NA | 211.2422 | 8.106 |  TRUE |\n",
       "| 3 | 1 | 2010-02-19 | 39.93 | 2.514 | NA | NA | NA | NA | NA | 211.2891 | 8.106 | FALSE |\n",
       "| 4 | 1 | 2010-02-26 | 46.63 | 2.561 | NA | NA | NA | NA | NA | 211.3196 | 8.106 | FALSE |\n",
       "| 5 | 1 | 2010-03-05 | 46.50 | 2.625 | NA | NA | NA | NA | NA | 211.3501 | 8.106 | FALSE |\n",
       "| 6 | 1 | 2010-03-12 | 57.79 | 2.667 | NA | NA | NA | NA | NA | 211.3806 | 8.106 | FALSE |\n",
       "\n"
      ],
      "text/plain": [
       "  Store Date       Temperature Fuel_Price MarkDown1 MarkDown2 MarkDown3\n",
       "1 1     2010-02-05 42.31       2.572      NA        NA        NA       \n",
       "2 1     2010-02-12 38.51       2.548      NA        NA        NA       \n",
       "3 1     2010-02-19 39.93       2.514      NA        NA        NA       \n",
       "4 1     2010-02-26 46.63       2.561      NA        NA        NA       \n",
       "5 1     2010-03-05 46.50       2.625      NA        NA        NA       \n",
       "6 1     2010-03-12 57.79       2.667      NA        NA        NA       \n",
       "  MarkDown4 MarkDown5 CPI      Unemployment IsHoliday\n",
       "1 NA        NA        211.0964 8.106        FALSE    \n",
       "2 NA        NA        211.2422 8.106         TRUE    \n",
       "3 NA        NA        211.2891 8.106        FALSE    \n",
       "4 NA        NA        211.3196 8.106        FALSE    \n",
       "5 NA        NA        211.3501 8.106        FALSE    \n",
       "6 NA        NA        211.3806 8.106        FALSE    "
      ]
     },
     "metadata": {},
     "output_type": "display_data"
    }
   ],
   "source": [
    "head(walmart_features)"
   ]
  },
  {
   "cell_type": "code",
   "execution_count": 5,
   "id": "761ac9f2",
   "metadata": {},
   "outputs": [
    {
     "data": {
      "text/html": [
       "421570"
      ],
      "text/latex": [
       "421570"
      ],
      "text/markdown": [
       "421570"
      ],
      "text/plain": [
       "[1] 421570"
      ]
     },
     "metadata": {},
     "output_type": "display_data"
    }
   ],
   "source": [
    "n_rows=nrow(walmart_data)\n",
    "n_rows"
   ]
  },
  {
   "cell_type": "code",
   "execution_count": 6,
   "id": "d2da60fc",
   "metadata": {},
   "outputs": [
    {
     "data": {
      "text/plain": [
       "\n",
       "    1     2     3     4     5     6     7     8     9    10    11    12    13 \n",
       "10244 10238  9036 10272  8999 10211  9762  9895  8867 10315 10062  9705 10474 \n",
       "   14    15    16    17    18    19    20    21    22    23    24    25    26 \n",
       "10040  9901  9443  9864  9859 10148 10214  9582  9688 10050 10228  9804  9854 \n",
       "   27    28    29    30    31    32    33    34    35    36    37    38    39 \n",
       "10225 10113  9455  7156 10142 10202  6487 10224  9528  6222  7206  7362  9878 \n",
       "   40    41    42    43    44    45 \n",
       "10017 10088  6953  6751  7169  9637 "
      ]
     },
     "metadata": {},
     "output_type": "display_data"
    }
   ],
   "source": [
    "rows_per_store =table(walmart_data$Store) #counting rows by store\n",
    "rows_per_store"
   ]
  },
  {
   "cell_type": "code",
   "execution_count": 7,
   "id": "fdb12857",
   "metadata": {},
   "outputs": [
    {
     "data": {
      "text/html": [
       "<table class=\"dataframe\">\n",
       "<caption>A data.frame: 45 × 2</caption>\n",
       "<thead>\n",
       "\t<tr><th scope=col>Var1</th><th scope=col>Freq</th></tr>\n",
       "\t<tr><th scope=col>&lt;fct&gt;</th><th scope=col>&lt;int&gt;</th></tr>\n",
       "</thead>\n",
       "<tbody>\n",
       "\t<tr><td>1 </td><td>10244</td></tr>\n",
       "\t<tr><td>2 </td><td>10238</td></tr>\n",
       "\t<tr><td>3 </td><td> 9036</td></tr>\n",
       "\t<tr><td>4 </td><td>10272</td></tr>\n",
       "\t<tr><td>5 </td><td> 8999</td></tr>\n",
       "\t<tr><td>6 </td><td>10211</td></tr>\n",
       "\t<tr><td>7 </td><td> 9762</td></tr>\n",
       "\t<tr><td>8 </td><td> 9895</td></tr>\n",
       "\t<tr><td>9 </td><td> 8867</td></tr>\n",
       "\t<tr><td>10</td><td>10315</td></tr>\n",
       "\t<tr><td>11</td><td>10062</td></tr>\n",
       "\t<tr><td>12</td><td> 9705</td></tr>\n",
       "\t<tr><td>13</td><td>10474</td></tr>\n",
       "\t<tr><td>14</td><td>10040</td></tr>\n",
       "\t<tr><td>15</td><td> 9901</td></tr>\n",
       "\t<tr><td>16</td><td> 9443</td></tr>\n",
       "\t<tr><td>17</td><td> 9864</td></tr>\n",
       "\t<tr><td>18</td><td> 9859</td></tr>\n",
       "\t<tr><td>19</td><td>10148</td></tr>\n",
       "\t<tr><td>20</td><td>10214</td></tr>\n",
       "\t<tr><td>21</td><td> 9582</td></tr>\n",
       "\t<tr><td>22</td><td> 9688</td></tr>\n",
       "\t<tr><td>23</td><td>10050</td></tr>\n",
       "\t<tr><td>24</td><td>10228</td></tr>\n",
       "\t<tr><td>25</td><td> 9804</td></tr>\n",
       "\t<tr><td>26</td><td> 9854</td></tr>\n",
       "\t<tr><td>27</td><td>10225</td></tr>\n",
       "\t<tr><td>28</td><td>10113</td></tr>\n",
       "\t<tr><td>29</td><td> 9455</td></tr>\n",
       "\t<tr><td>30</td><td> 7156</td></tr>\n",
       "\t<tr><td>31</td><td>10142</td></tr>\n",
       "\t<tr><td>32</td><td>10202</td></tr>\n",
       "\t<tr><td>33</td><td> 6487</td></tr>\n",
       "\t<tr><td>34</td><td>10224</td></tr>\n",
       "\t<tr><td>35</td><td> 9528</td></tr>\n",
       "\t<tr><td>36</td><td> 6222</td></tr>\n",
       "\t<tr><td>37</td><td> 7206</td></tr>\n",
       "\t<tr><td>38</td><td> 7362</td></tr>\n",
       "\t<tr><td>39</td><td> 9878</td></tr>\n",
       "\t<tr><td>40</td><td>10017</td></tr>\n",
       "\t<tr><td>41</td><td>10088</td></tr>\n",
       "\t<tr><td>42</td><td> 6953</td></tr>\n",
       "\t<tr><td>43</td><td> 6751</td></tr>\n",
       "\t<tr><td>44</td><td> 7169</td></tr>\n",
       "\t<tr><td>45</td><td> 9637</td></tr>\n",
       "</tbody>\n",
       "</table>\n"
      ],
      "text/latex": [
       "A data.frame: 45 × 2\n",
       "\\begin{tabular}{ll}\n",
       " Var1 & Freq\\\\\n",
       " <fct> & <int>\\\\\n",
       "\\hline\n",
       "\t 1  & 10244\\\\\n",
       "\t 2  & 10238\\\\\n",
       "\t 3  &  9036\\\\\n",
       "\t 4  & 10272\\\\\n",
       "\t 5  &  8999\\\\\n",
       "\t 6  & 10211\\\\\n",
       "\t 7  &  9762\\\\\n",
       "\t 8  &  9895\\\\\n",
       "\t 9  &  8867\\\\\n",
       "\t 10 & 10315\\\\\n",
       "\t 11 & 10062\\\\\n",
       "\t 12 &  9705\\\\\n",
       "\t 13 & 10474\\\\\n",
       "\t 14 & 10040\\\\\n",
       "\t 15 &  9901\\\\\n",
       "\t 16 &  9443\\\\\n",
       "\t 17 &  9864\\\\\n",
       "\t 18 &  9859\\\\\n",
       "\t 19 & 10148\\\\\n",
       "\t 20 & 10214\\\\\n",
       "\t 21 &  9582\\\\\n",
       "\t 22 &  9688\\\\\n",
       "\t 23 & 10050\\\\\n",
       "\t 24 & 10228\\\\\n",
       "\t 25 &  9804\\\\\n",
       "\t 26 &  9854\\\\\n",
       "\t 27 & 10225\\\\\n",
       "\t 28 & 10113\\\\\n",
       "\t 29 &  9455\\\\\n",
       "\t 30 &  7156\\\\\n",
       "\t 31 & 10142\\\\\n",
       "\t 32 & 10202\\\\\n",
       "\t 33 &  6487\\\\\n",
       "\t 34 & 10224\\\\\n",
       "\t 35 &  9528\\\\\n",
       "\t 36 &  6222\\\\\n",
       "\t 37 &  7206\\\\\n",
       "\t 38 &  7362\\\\\n",
       "\t 39 &  9878\\\\\n",
       "\t 40 & 10017\\\\\n",
       "\t 41 & 10088\\\\\n",
       "\t 42 &  6953\\\\\n",
       "\t 43 &  6751\\\\\n",
       "\t 44 &  7169\\\\\n",
       "\t 45 &  9637\\\\\n",
       "\\end{tabular}\n"
      ],
      "text/markdown": [
       "\n",
       "A data.frame: 45 × 2\n",
       "\n",
       "| Var1 &lt;fct&gt; | Freq &lt;int&gt; |\n",
       "|---|---|\n",
       "| 1  | 10244 |\n",
       "| 2  | 10238 |\n",
       "| 3  |  9036 |\n",
       "| 4  | 10272 |\n",
       "| 5  |  8999 |\n",
       "| 6  | 10211 |\n",
       "| 7  |  9762 |\n",
       "| 8  |  9895 |\n",
       "| 9  |  8867 |\n",
       "| 10 | 10315 |\n",
       "| 11 | 10062 |\n",
       "| 12 |  9705 |\n",
       "| 13 | 10474 |\n",
       "| 14 | 10040 |\n",
       "| 15 |  9901 |\n",
       "| 16 |  9443 |\n",
       "| 17 |  9864 |\n",
       "| 18 |  9859 |\n",
       "| 19 | 10148 |\n",
       "| 20 | 10214 |\n",
       "| 21 |  9582 |\n",
       "| 22 |  9688 |\n",
       "| 23 | 10050 |\n",
       "| 24 | 10228 |\n",
       "| 25 |  9804 |\n",
       "| 26 |  9854 |\n",
       "| 27 | 10225 |\n",
       "| 28 | 10113 |\n",
       "| 29 |  9455 |\n",
       "| 30 |  7156 |\n",
       "| 31 | 10142 |\n",
       "| 32 | 10202 |\n",
       "| 33 |  6487 |\n",
       "| 34 | 10224 |\n",
       "| 35 |  9528 |\n",
       "| 36 |  6222 |\n",
       "| 37 |  7206 |\n",
       "| 38 |  7362 |\n",
       "| 39 |  9878 |\n",
       "| 40 | 10017 |\n",
       "| 41 | 10088 |\n",
       "| 42 |  6953 |\n",
       "| 43 |  6751 |\n",
       "| 44 |  7169 |\n",
       "| 45 |  9637 |\n",
       "\n"
      ],
      "text/plain": [
       "   Var1 Freq \n",
       "1  1    10244\n",
       "2  2    10238\n",
       "3  3     9036\n",
       "4  4    10272\n",
       "5  5     8999\n",
       "6  6    10211\n",
       "7  7     9762\n",
       "8  8     9895\n",
       "9  9     8867\n",
       "10 10   10315\n",
       "11 11   10062\n",
       "12 12    9705\n",
       "13 13   10474\n",
       "14 14   10040\n",
       "15 15    9901\n",
       "16 16    9443\n",
       "17 17    9864\n",
       "18 18    9859\n",
       "19 19   10148\n",
       "20 20   10214\n",
       "21 21    9582\n",
       "22 22    9688\n",
       "23 23   10050\n",
       "24 24   10228\n",
       "25 25    9804\n",
       "26 26    9854\n",
       "27 27   10225\n",
       "28 28   10113\n",
       "29 29    9455\n",
       "30 30    7156\n",
       "31 31   10142\n",
       "32 32   10202\n",
       "33 33    6487\n",
       "34 34   10224\n",
       "35 35    9528\n",
       "36 36    6222\n",
       "37 37    7206\n",
       "38 38    7362\n",
       "39 39    9878\n",
       "40 40   10017\n",
       "41 41   10088\n",
       "42 42    6953\n",
       "43 43    6751\n",
       "44 44    7169\n",
       "45 45    9637"
      ]
     },
     "metadata": {},
     "output_type": "display_data"
    }
   ],
   "source": [
    "rows_per_store=as.data.frame(rows_per_store)\n",
    "rows_per_store"
   ]
  },
  {
   "cell_type": "code",
   "execution_count": 8,
   "id": "eb7ea8dd",
   "metadata": {},
   "outputs": [
    {
     "data": {
      "text/html": [
       "<table class=\"dataframe\">\n",
       "<caption>A data.frame: 45 × 2</caption>\n",
       "<thead>\n",
       "\t<tr><th scope=col>Group.1</th><th scope=col>x</th></tr>\n",
       "\t<tr><th scope=col>&lt;int&gt;</th><th scope=col>&lt;int&gt;</th></tr>\n",
       "</thead>\n",
       "<tbody>\n",
       "\t<tr><td> 1</td><td>10244</td></tr>\n",
       "\t<tr><td> 2</td><td>10238</td></tr>\n",
       "\t<tr><td> 3</td><td> 9036</td></tr>\n",
       "\t<tr><td> 4</td><td>10272</td></tr>\n",
       "\t<tr><td> 5</td><td> 8999</td></tr>\n",
       "\t<tr><td> 6</td><td>10211</td></tr>\n",
       "\t<tr><td> 7</td><td> 9762</td></tr>\n",
       "\t<tr><td> 8</td><td> 9895</td></tr>\n",
       "\t<tr><td> 9</td><td> 8867</td></tr>\n",
       "\t<tr><td>10</td><td>10315</td></tr>\n",
       "\t<tr><td>11</td><td>10062</td></tr>\n",
       "\t<tr><td>12</td><td> 9705</td></tr>\n",
       "\t<tr><td>13</td><td>10474</td></tr>\n",
       "\t<tr><td>14</td><td>10040</td></tr>\n",
       "\t<tr><td>15</td><td> 9901</td></tr>\n",
       "\t<tr><td>16</td><td> 9443</td></tr>\n",
       "\t<tr><td>17</td><td> 9864</td></tr>\n",
       "\t<tr><td>18</td><td> 9859</td></tr>\n",
       "\t<tr><td>19</td><td>10148</td></tr>\n",
       "\t<tr><td>20</td><td>10214</td></tr>\n",
       "\t<tr><td>21</td><td> 9582</td></tr>\n",
       "\t<tr><td>22</td><td> 9688</td></tr>\n",
       "\t<tr><td>23</td><td>10050</td></tr>\n",
       "\t<tr><td>24</td><td>10228</td></tr>\n",
       "\t<tr><td>25</td><td> 9804</td></tr>\n",
       "\t<tr><td>26</td><td> 9854</td></tr>\n",
       "\t<tr><td>27</td><td>10225</td></tr>\n",
       "\t<tr><td>28</td><td>10113</td></tr>\n",
       "\t<tr><td>29</td><td> 9455</td></tr>\n",
       "\t<tr><td>30</td><td> 7156</td></tr>\n",
       "\t<tr><td>31</td><td>10142</td></tr>\n",
       "\t<tr><td>32</td><td>10202</td></tr>\n",
       "\t<tr><td>33</td><td> 6487</td></tr>\n",
       "\t<tr><td>34</td><td>10224</td></tr>\n",
       "\t<tr><td>35</td><td> 9528</td></tr>\n",
       "\t<tr><td>36</td><td> 6222</td></tr>\n",
       "\t<tr><td>37</td><td> 7206</td></tr>\n",
       "\t<tr><td>38</td><td> 7362</td></tr>\n",
       "\t<tr><td>39</td><td> 9878</td></tr>\n",
       "\t<tr><td>40</td><td>10017</td></tr>\n",
       "\t<tr><td>41</td><td>10088</td></tr>\n",
       "\t<tr><td>42</td><td> 6953</td></tr>\n",
       "\t<tr><td>43</td><td> 6751</td></tr>\n",
       "\t<tr><td>44</td><td> 7169</td></tr>\n",
       "\t<tr><td>45</td><td> 9637</td></tr>\n",
       "</tbody>\n",
       "</table>\n"
      ],
      "text/latex": [
       "A data.frame: 45 × 2\n",
       "\\begin{tabular}{ll}\n",
       " Group.1 & x\\\\\n",
       " <int> & <int>\\\\\n",
       "\\hline\n",
       "\t  1 & 10244\\\\\n",
       "\t  2 & 10238\\\\\n",
       "\t  3 &  9036\\\\\n",
       "\t  4 & 10272\\\\\n",
       "\t  5 &  8999\\\\\n",
       "\t  6 & 10211\\\\\n",
       "\t  7 &  9762\\\\\n",
       "\t  8 &  9895\\\\\n",
       "\t  9 &  8867\\\\\n",
       "\t 10 & 10315\\\\\n",
       "\t 11 & 10062\\\\\n",
       "\t 12 &  9705\\\\\n",
       "\t 13 & 10474\\\\\n",
       "\t 14 & 10040\\\\\n",
       "\t 15 &  9901\\\\\n",
       "\t 16 &  9443\\\\\n",
       "\t 17 &  9864\\\\\n",
       "\t 18 &  9859\\\\\n",
       "\t 19 & 10148\\\\\n",
       "\t 20 & 10214\\\\\n",
       "\t 21 &  9582\\\\\n",
       "\t 22 &  9688\\\\\n",
       "\t 23 & 10050\\\\\n",
       "\t 24 & 10228\\\\\n",
       "\t 25 &  9804\\\\\n",
       "\t 26 &  9854\\\\\n",
       "\t 27 & 10225\\\\\n",
       "\t 28 & 10113\\\\\n",
       "\t 29 &  9455\\\\\n",
       "\t 30 &  7156\\\\\n",
       "\t 31 & 10142\\\\\n",
       "\t 32 & 10202\\\\\n",
       "\t 33 &  6487\\\\\n",
       "\t 34 & 10224\\\\\n",
       "\t 35 &  9528\\\\\n",
       "\t 36 &  6222\\\\\n",
       "\t 37 &  7206\\\\\n",
       "\t 38 &  7362\\\\\n",
       "\t 39 &  9878\\\\\n",
       "\t 40 & 10017\\\\\n",
       "\t 41 & 10088\\\\\n",
       "\t 42 &  6953\\\\\n",
       "\t 43 &  6751\\\\\n",
       "\t 44 &  7169\\\\\n",
       "\t 45 &  9637\\\\\n",
       "\\end{tabular}\n"
      ],
      "text/markdown": [
       "\n",
       "A data.frame: 45 × 2\n",
       "\n",
       "| Group.1 &lt;int&gt; | x &lt;int&gt; |\n",
       "|---|---|\n",
       "|  1 | 10244 |\n",
       "|  2 | 10238 |\n",
       "|  3 |  9036 |\n",
       "|  4 | 10272 |\n",
       "|  5 |  8999 |\n",
       "|  6 | 10211 |\n",
       "|  7 |  9762 |\n",
       "|  8 |  9895 |\n",
       "|  9 |  8867 |\n",
       "| 10 | 10315 |\n",
       "| 11 | 10062 |\n",
       "| 12 |  9705 |\n",
       "| 13 | 10474 |\n",
       "| 14 | 10040 |\n",
       "| 15 |  9901 |\n",
       "| 16 |  9443 |\n",
       "| 17 |  9864 |\n",
       "| 18 |  9859 |\n",
       "| 19 | 10148 |\n",
       "| 20 | 10214 |\n",
       "| 21 |  9582 |\n",
       "| 22 |  9688 |\n",
       "| 23 | 10050 |\n",
       "| 24 | 10228 |\n",
       "| 25 |  9804 |\n",
       "| 26 |  9854 |\n",
       "| 27 | 10225 |\n",
       "| 28 | 10113 |\n",
       "| 29 |  9455 |\n",
       "| 30 |  7156 |\n",
       "| 31 | 10142 |\n",
       "| 32 | 10202 |\n",
       "| 33 |  6487 |\n",
       "| 34 | 10224 |\n",
       "| 35 |  9528 |\n",
       "| 36 |  6222 |\n",
       "| 37 |  7206 |\n",
       "| 38 |  7362 |\n",
       "| 39 |  9878 |\n",
       "| 40 | 10017 |\n",
       "| 41 | 10088 |\n",
       "| 42 |  6953 |\n",
       "| 43 |  6751 |\n",
       "| 44 |  7169 |\n",
       "| 45 |  9637 |\n",
       "\n"
      ],
      "text/plain": [
       "   Group.1 x    \n",
       "1   1      10244\n",
       "2   2      10238\n",
       "3   3       9036\n",
       "4   4      10272\n",
       "5   5       8999\n",
       "6   6      10211\n",
       "7   7       9762\n",
       "8   8       9895\n",
       "9   9       8867\n",
       "10 10      10315\n",
       "11 11      10062\n",
       "12 12       9705\n",
       "13 13      10474\n",
       "14 14      10040\n",
       "15 15       9901\n",
       "16 16       9443\n",
       "17 17       9864\n",
       "18 18       9859\n",
       "19 19      10148\n",
       "20 20      10214\n",
       "21 21       9582\n",
       "22 22       9688\n",
       "23 23      10050\n",
       "24 24      10228\n",
       "25 25       9804\n",
       "26 26       9854\n",
       "27 27      10225\n",
       "28 28      10113\n",
       "29 29       9455\n",
       "30 30       7156\n",
       "31 31      10142\n",
       "32 32      10202\n",
       "33 33       6487\n",
       "34 34      10224\n",
       "35 35       9528\n",
       "36 36       6222\n",
       "37 37       7206\n",
       "38 38       7362\n",
       "39 39       9878\n",
       "40 40      10017\n",
       "41 41      10088\n",
       "42 42       6953\n",
       "43 43       6751\n",
       "44 44       7169\n",
       "45 45       9637"
      ]
     },
     "metadata": {},
     "output_type": "display_data"
    }
   ],
   "source": [
    "aggregate(x=walmart_data$Store, by=list(walmart_data$Store), FUN=length)"
   ]
  },
  {
   "cell_type": "code",
   "execution_count": 9,
   "id": "106427d9",
   "metadata": {},
   "outputs": [
    {
     "data": {
      "text/html": [
       "'13'"
      ],
      "text/latex": [
       "'13'"
      ],
      "text/markdown": [
       "'13'"
      ],
      "text/plain": [
       "[1] \"13\""
      ]
     },
     "metadata": {},
     "output_type": "display_data"
    }
   ],
   "source": [
    "#Which store has the most rows\n",
    "as.character(rows_per_store[order(-rows_per_store$Freq),'Var1'][1])"
   ]
  },
  {
   "cell_type": "code",
   "execution_count": 10,
   "id": "8b6c5237",
   "metadata": {},
   "outputs": [
    {
     "data": {
      "text/html": [
       "<table class=\"dataframe\">\n",
       "<caption>A data.frame: 45 × 2</caption>\n",
       "<thead>\n",
       "\t<tr><th scope=col>Group.1</th><th scope=col>x</th></tr>\n",
       "\t<tr><th scope=col>&lt;int&gt;</th><th scope=col>&lt;dbl&gt;</th></tr>\n",
       "</thead>\n",
       "<tbody>\n",
       "\t<tr><td> 1</td><td>222402809</td></tr>\n",
       "\t<tr><td> 2</td><td>275382441</td></tr>\n",
       "\t<tr><td> 3</td><td> 57586735</td></tr>\n",
       "\t<tr><td> 4</td><td>299543953</td></tr>\n",
       "\t<tr><td> 5</td><td> 45475689</td></tr>\n",
       "\t<tr><td> 6</td><td>223756131</td></tr>\n",
       "\t<tr><td> 7</td><td> 81598275</td></tr>\n",
       "\t<tr><td> 8</td><td>129951181</td></tr>\n",
       "\t<tr><td> 9</td><td> 77789219</td></tr>\n",
       "\t<tr><td>10</td><td>271617714</td></tr>\n",
       "\t<tr><td>11</td><td>193962787</td></tr>\n",
       "\t<tr><td>12</td><td>144287230</td></tr>\n",
       "\t<tr><td>13</td><td>286517704</td></tr>\n",
       "\t<tr><td>14</td><td>288999911</td></tr>\n",
       "\t<tr><td>15</td><td> 89133684</td></tr>\n",
       "\t<tr><td>16</td><td> 74252425</td></tr>\n",
       "\t<tr><td>17</td><td>127782139</td></tr>\n",
       "\t<tr><td>18</td><td>155114734</td></tr>\n",
       "\t<tr><td>19</td><td>206634862</td></tr>\n",
       "\t<tr><td>20</td><td>301397792</td></tr>\n",
       "\t<tr><td>21</td><td>108117879</td></tr>\n",
       "\t<tr><td>22</td><td>147075649</td></tr>\n",
       "\t<tr><td>23</td><td>198750618</td></tr>\n",
       "\t<tr><td>24</td><td>194016021</td></tr>\n",
       "\t<tr><td>25</td><td>101061179</td></tr>\n",
       "\t<tr><td>26</td><td>143416394</td></tr>\n",
       "\t<tr><td>27</td><td>253855917</td></tr>\n",
       "\t<tr><td>28</td><td>189263681</td></tr>\n",
       "\t<tr><td>29</td><td> 77141554</td></tr>\n",
       "\t<tr><td>30</td><td> 62716885</td></tr>\n",
       "\t<tr><td>31</td><td>199613906</td></tr>\n",
       "\t<tr><td>32</td><td>166819246</td></tr>\n",
       "\t<tr><td>33</td><td> 37160222</td></tr>\n",
       "\t<tr><td>34</td><td>138249763</td></tr>\n",
       "\t<tr><td>35</td><td>131520672</td></tr>\n",
       "\t<tr><td>36</td><td> 53412215</td></tr>\n",
       "\t<tr><td>37</td><td> 74202740</td></tr>\n",
       "\t<tr><td>38</td><td> 55159626</td></tr>\n",
       "\t<tr><td>39</td><td>207445542</td></tr>\n",
       "\t<tr><td>40</td><td>137870310</td></tr>\n",
       "\t<tr><td>41</td><td>181341935</td></tr>\n",
       "\t<tr><td>42</td><td> 79565752</td></tr>\n",
       "\t<tr><td>43</td><td> 90565435</td></tr>\n",
       "\t<tr><td>44</td><td> 43293088</td></tr>\n",
       "\t<tr><td>45</td><td>112395341</td></tr>\n",
       "</tbody>\n",
       "</table>\n"
      ],
      "text/latex": [
       "A data.frame: 45 × 2\n",
       "\\begin{tabular}{ll}\n",
       " Group.1 & x\\\\\n",
       " <int> & <dbl>\\\\\n",
       "\\hline\n",
       "\t  1 & 222402809\\\\\n",
       "\t  2 & 275382441\\\\\n",
       "\t  3 &  57586735\\\\\n",
       "\t  4 & 299543953\\\\\n",
       "\t  5 &  45475689\\\\\n",
       "\t  6 & 223756131\\\\\n",
       "\t  7 &  81598275\\\\\n",
       "\t  8 & 129951181\\\\\n",
       "\t  9 &  77789219\\\\\n",
       "\t 10 & 271617714\\\\\n",
       "\t 11 & 193962787\\\\\n",
       "\t 12 & 144287230\\\\\n",
       "\t 13 & 286517704\\\\\n",
       "\t 14 & 288999911\\\\\n",
       "\t 15 &  89133684\\\\\n",
       "\t 16 &  74252425\\\\\n",
       "\t 17 & 127782139\\\\\n",
       "\t 18 & 155114734\\\\\n",
       "\t 19 & 206634862\\\\\n",
       "\t 20 & 301397792\\\\\n",
       "\t 21 & 108117879\\\\\n",
       "\t 22 & 147075649\\\\\n",
       "\t 23 & 198750618\\\\\n",
       "\t 24 & 194016021\\\\\n",
       "\t 25 & 101061179\\\\\n",
       "\t 26 & 143416394\\\\\n",
       "\t 27 & 253855917\\\\\n",
       "\t 28 & 189263681\\\\\n",
       "\t 29 &  77141554\\\\\n",
       "\t 30 &  62716885\\\\\n",
       "\t 31 & 199613906\\\\\n",
       "\t 32 & 166819246\\\\\n",
       "\t 33 &  37160222\\\\\n",
       "\t 34 & 138249763\\\\\n",
       "\t 35 & 131520672\\\\\n",
       "\t 36 &  53412215\\\\\n",
       "\t 37 &  74202740\\\\\n",
       "\t 38 &  55159626\\\\\n",
       "\t 39 & 207445542\\\\\n",
       "\t 40 & 137870310\\\\\n",
       "\t 41 & 181341935\\\\\n",
       "\t 42 &  79565752\\\\\n",
       "\t 43 &  90565435\\\\\n",
       "\t 44 &  43293088\\\\\n",
       "\t 45 & 112395341\\\\\n",
       "\\end{tabular}\n"
      ],
      "text/markdown": [
       "\n",
       "A data.frame: 45 × 2\n",
       "\n",
       "| Group.1 &lt;int&gt; | x &lt;dbl&gt; |\n",
       "|---|---|\n",
       "|  1 | 222402809 |\n",
       "|  2 | 275382441 |\n",
       "|  3 |  57586735 |\n",
       "|  4 | 299543953 |\n",
       "|  5 |  45475689 |\n",
       "|  6 | 223756131 |\n",
       "|  7 |  81598275 |\n",
       "|  8 | 129951181 |\n",
       "|  9 |  77789219 |\n",
       "| 10 | 271617714 |\n",
       "| 11 | 193962787 |\n",
       "| 12 | 144287230 |\n",
       "| 13 | 286517704 |\n",
       "| 14 | 288999911 |\n",
       "| 15 |  89133684 |\n",
       "| 16 |  74252425 |\n",
       "| 17 | 127782139 |\n",
       "| 18 | 155114734 |\n",
       "| 19 | 206634862 |\n",
       "| 20 | 301397792 |\n",
       "| 21 | 108117879 |\n",
       "| 22 | 147075649 |\n",
       "| 23 | 198750618 |\n",
       "| 24 | 194016021 |\n",
       "| 25 | 101061179 |\n",
       "| 26 | 143416394 |\n",
       "| 27 | 253855917 |\n",
       "| 28 | 189263681 |\n",
       "| 29 |  77141554 |\n",
       "| 30 |  62716885 |\n",
       "| 31 | 199613906 |\n",
       "| 32 | 166819246 |\n",
       "| 33 |  37160222 |\n",
       "| 34 | 138249763 |\n",
       "| 35 | 131520672 |\n",
       "| 36 |  53412215 |\n",
       "| 37 |  74202740 |\n",
       "| 38 |  55159626 |\n",
       "| 39 | 207445542 |\n",
       "| 40 | 137870310 |\n",
       "| 41 | 181341935 |\n",
       "| 42 |  79565752 |\n",
       "| 43 |  90565435 |\n",
       "| 44 |  43293088 |\n",
       "| 45 | 112395341 |\n",
       "\n"
      ],
      "text/plain": [
       "   Group.1 x        \n",
       "1   1      222402809\n",
       "2   2      275382441\n",
       "3   3       57586735\n",
       "4   4      299543953\n",
       "5   5       45475689\n",
       "6   6      223756131\n",
       "7   7       81598275\n",
       "8   8      129951181\n",
       "9   9       77789219\n",
       "10 10      271617714\n",
       "11 11      193962787\n",
       "12 12      144287230\n",
       "13 13      286517704\n",
       "14 14      288999911\n",
       "15 15       89133684\n",
       "16 16       74252425\n",
       "17 17      127782139\n",
       "18 18      155114734\n",
       "19 19      206634862\n",
       "20 20      301397792\n",
       "21 21      108117879\n",
       "22 22      147075649\n",
       "23 23      198750618\n",
       "24 24      194016021\n",
       "25 25      101061179\n",
       "26 26      143416394\n",
       "27 27      253855917\n",
       "28 28      189263681\n",
       "29 29       77141554\n",
       "30 30       62716885\n",
       "31 31      199613906\n",
       "32 32      166819246\n",
       "33 33       37160222\n",
       "34 34      138249763\n",
       "35 35      131520672\n",
       "36 36       53412215\n",
       "37 37       74202740\n",
       "38 38       55159626\n",
       "39 39      207445542\n",
       "40 40      137870310\n",
       "41 41      181341935\n",
       "42 42       79565752\n",
       "43 43       90565435\n",
       "44 44       43293088\n",
       "45 45      112395341"
      ]
     },
     "metadata": {},
     "output_type": "display_data"
    }
   ],
   "source": [
    "#Summing up the Total sales by store\n",
    "sums_by_store=aggregate(\n",
    "    x=walmart_data$Weekly_Sales,\n",
    "    by=list(walmart_data$Store), \n",
    "    FUN=sum\n",
    ")\n",
    "sums_by_store"
   ]
  },
  {
   "cell_type": "code",
   "execution_count": 11,
   "id": "46d04d03",
   "metadata": {},
   "outputs": [],
   "source": [
    "colnames(sums_by_store) <- c('store_number','total_sales')"
   ]
  },
  {
   "cell_type": "code",
   "execution_count": 12,
   "id": "76e66287",
   "metadata": {},
   "outputs": [
    {
     "data": {
      "image/png": "[encoded data removed]",
      "text/plain": [
       "Plot with title \"Sales by store\""
      ]
     },
     "metadata": {
      "image/png": {
       "height": 420,
       "width": 420
      }
     },
     "output_type": "display_data"
    }
   ],
   "source": [
    "barplot(sums_by_store[order(-sums_by_store$total_sales),'total_sales'],\n",
    "       main='Sales by store', col='darkgreen')"
   ]
  },
  {
   "cell_type": "code",
   "execution_count": 13,
   "id": "4bbcc366",
   "metadata": {},
   "outputs": [
    {
     "name": "stderr",
     "output_type": "stream",
     "text": [
      "Warning message in mean.default(X[[i]], ...):\n",
      "\"argument is not numeric or logical: returning NA\"\n"
     ]
    },
    {
     "data": {
      "text/html": [
       "<style>\n",
       ".dl-inline {width: auto; margin:0; padding: 0}\n",
       ".dl-inline>dt, .dl-inline>dd {float: none; width: auto; display: inline-block}\n",
       ".dl-inline>dt::after {content: \":\\0020\"; padding-right: .5ex}\n",
       ".dl-inline>dt:not(:first-of-type) {padding-left: .5ex}\n",
       "</style><dl class=dl-inline><dt>Store</dt><dd>23</dd><dt>Date</dt><dd>&lt;NA&gt;</dd><dt>Temperature</dt><dd>59.3561978021978</dd><dt>Fuel_Price</dt><dd>3.40599181929182</dd><dt>MarkDown1</dt><dd>&lt;NA&gt;</dd><dt>MarkDown2</dt><dd>&lt;NA&gt;</dd><dt>MarkDown3</dt><dd>&lt;NA&gt;</dd><dt>MarkDown4</dt><dd>&lt;NA&gt;</dd><dt>MarkDown5</dt><dd>&lt;NA&gt;</dd><dt>CPI</dt><dd>&lt;NA&gt;</dd><dt>Unemployment</dt><dd>&lt;NA&gt;</dd><dt>IsHoliday</dt><dd>0.0714285714285714</dd></dl>\n"
      ],
      "text/latex": [
       "\\begin{description*}\n",
       "\\item[Store] 23\n",
       "\\item[Date] <NA>\n",
       "\\item[Temperature] 59.3561978021978\n",
       "\\item[Fuel\\textbackslash{}\\_Price] 3.40599181929182\n",
       "\\item[MarkDown1] <NA>\n",
       "\\item[MarkDown2] <NA>\n",
       "\\item[MarkDown3] <NA>\n",
       "\\item[MarkDown4] <NA>\n",
       "\\item[MarkDown5] <NA>\n",
       "\\item[CPI] <NA>\n",
       "\\item[Unemployment] <NA>\n",
       "\\item[IsHoliday] 0.0714285714285714\n",
       "\\end{description*}\n"
      ],
      "text/markdown": [
       "Store\n",
       ":   23Date\n",
       ":   &lt;NA&gt;Temperature\n",
       ":   59.3561978021978Fuel_Price\n",
       ":   3.40599181929182MarkDown1\n",
       ":   &lt;NA&gt;MarkDown2\n",
       ":   &lt;NA&gt;MarkDown3\n",
       ":   &lt;NA&gt;MarkDown4\n",
       ":   &lt;NA&gt;MarkDown5\n",
       ":   &lt;NA&gt;CPI\n",
       ":   &lt;NA&gt;Unemployment\n",
       ":   &lt;NA&gt;IsHoliday\n",
       ":   0.0714285714285714\n",
       "\n"
      ],
      "text/plain": [
       "       Store         Date  Temperature   Fuel_Price    MarkDown1    MarkDown2 \n",
       " 23.00000000           NA  59.35619780   3.40599182           NA           NA \n",
       "   MarkDown3    MarkDown4    MarkDown5          CPI Unemployment    IsHoliday \n",
       "          NA           NA           NA           NA           NA   0.07142857 "
      ]
     },
     "metadata": {},
     "output_type": "display_data"
    }
   ],
   "source": [
    "#mean of every column\n",
    "sapply(walmart_features, mean)"
   ]
  },
  {
   "cell_type": "code",
   "execution_count": 14,
   "id": "35aa429e",
   "metadata": {},
   "outputs": [
    {
     "data": {
      "text/html": [
       "4.33990908315131"
      ],
      "text/latex": [
       "4.33990908315131"
      ],
      "text/markdown": [
       "4.33990908315131"
      ],
      "text/plain": [
       "[1] 4.339909"
      ]
     },
     "metadata": {},
     "output_type": "display_data"
    }
   ],
   "source": [
    "(\n",
    "mean(walmart_features$CPI, na.rm = TRUE)\n",
    "/\n",
    "sd(walmart_features$CPI, na.rm=TRUE)\n",
    ")"
   ]
  },
  {
   "cell_type": "code",
   "execution_count": 15,
   "id": "203e9eb5",
   "metadata": {},
   "outputs": [
    {
     "data": {
      "text/html": [
       "172.460809182761"
      ],
      "text/latex": [
       "172.460809182761"
      ],
      "text/markdown": [
       "172.460809182761"
      ],
      "text/plain": [
       "[1] 172.4608"
      ]
     },
     "metadata": {},
     "output_type": "display_data"
    }
   ],
   "source": [
    "mean(walmart_features$CPI, na.rm = TRUE)"
   ]
  },
  {
   "cell_type": "code",
   "execution_count": 16,
   "id": "2f4abedd",
   "metadata": {},
   "outputs": [
    {
     "data": {
      "text/html": [
       "39.7383460986085"
      ],
      "text/latex": [
       "39.7383460986085"
      ],
      "text/markdown": [
       "39.7383460986085"
      ],
      "text/plain": [
       "[1] 39.73835"
      ]
     },
     "metadata": {},
     "output_type": "display_data"
    }
   ],
   "source": [
    "sd(walmart_features$CPI, na.rm=TRUE)"
   ]
  },
  {
   "cell_type": "code",
   "execution_count": 17,
   "id": "b931165b",
   "metadata": {},
   "outputs": [
    {
     "data": {
      "image/png": "[encoded data removed]",
      "text/plain": [
       "Plot with title \"Histogram of walmart_features$CPI\""
      ]
     },
     "metadata": {
      "image/png": {
       "height": 420,
       "width": 420
      }
     },
     "output_type": "display_data"
    }
   ],
   "source": [
    "hist(walmart_features$CPI)"
   ]
  },
  {
   "cell_type": "code",
   "execution_count": 18,
   "id": "3df1de45",
   "metadata": {},
   "outputs": [],
   "source": [
    "walmart_features$CPI_Stand= (\n",
    "    (walmart_features$CPI- mean(walmart_features$CPI, na.rm = TRUE))/\n",
    "    sd(walmart_features$CPI,  na.rm=TRUE)\n",
    ")"
   ]
  },
  {
   "cell_type": "code",
   "execution_count": 19,
   "id": "d7ab2af7",
   "metadata": {},
   "outputs": [
    {
     "data": {
      "image/png": "[encoded data removed]",
      "text/plain": [
       "Plot with title \"Histogram of walmart_features$CPI_Stand\""
      ]
     },
     "metadata": {
      "image/png": {
       "height": 420,
       "width": 420
      }
     },
     "output_type": "display_data"
    }
   ],
   "source": [
    "hist(walmart_features$CPI_Stand)"
   ]
  },
  {
   "cell_type": "code",
   "execution_count": 20,
   "id": "0acfaf0e",
   "metadata": {},
   "outputs": [
    {
     "data": {
      "text/html": [
       "<table class=\"dataframe\">\n",
       "<caption>A data.frame: 6 × 2</caption>\n",
       "<thead>\n",
       "\t<tr><th></th><th scope=col>Group.1</th><th scope=col>x</th></tr>\n",
       "\t<tr><th></th><th scope=col>&lt;chr&gt;</th><th scope=col>&lt;dbl&gt;</th></tr>\n",
       "</thead>\n",
       "<tbody>\n",
       "\t<tr><th scope=row>1</th><td>2010-02-05</td><td>1643691</td></tr>\n",
       "\t<tr><th scope=row>2</th><td>2010-02-12</td><td>1641957</td></tr>\n",
       "\t<tr><th scope=row>3</th><td>2010-02-19</td><td>1611968</td></tr>\n",
       "\t<tr><th scope=row>4</th><td>2010-02-26</td><td>1409728</td></tr>\n",
       "\t<tr><th scope=row>5</th><td>2010-03-05</td><td>1554807</td></tr>\n",
       "\t<tr><th scope=row>6</th><td>2010-03-12</td><td>1439542</td></tr>\n",
       "</tbody>\n",
       "</table>\n"
      ],
      "text/latex": [
       "A data.frame: 6 × 2\n",
       "\\begin{tabular}{r|ll}\n",
       "  & Group.1 & x\\\\\n",
       "  & <chr> & <dbl>\\\\\n",
       "\\hline\n",
       "\t1 & 2010-02-05 & 1643691\\\\\n",
       "\t2 & 2010-02-12 & 1641957\\\\\n",
       "\t3 & 2010-02-19 & 1611968\\\\\n",
       "\t4 & 2010-02-26 & 1409728\\\\\n",
       "\t5 & 2010-03-05 & 1554807\\\\\n",
       "\t6 & 2010-03-12 & 1439542\\\\\n",
       "\\end{tabular}\n"
      ],
      "text/markdown": [
       "\n",
       "A data.frame: 6 × 2\n",
       "\n",
       "| <!--/--> | Group.1 &lt;chr&gt; | x &lt;dbl&gt; |\n",
       "|---|---|---|\n",
       "| 1 | 2010-02-05 | 1643691 |\n",
       "| 2 | 2010-02-12 | 1641957 |\n",
       "| 3 | 2010-02-19 | 1611968 |\n",
       "| 4 | 2010-02-26 | 1409728 |\n",
       "| 5 | 2010-03-05 | 1554807 |\n",
       "| 6 | 2010-03-12 | 1439542 |\n",
       "\n"
      ],
      "text/plain": [
       "  Group.1    x      \n",
       "1 2010-02-05 1643691\n",
       "2 2010-02-12 1641957\n",
       "3 2010-02-19 1611968\n",
       "4 2010-02-26 1409728\n",
       "5 2010-03-05 1554807\n",
       "6 2010-03-12 1439542"
      ]
     },
     "metadata": {},
     "output_type": "display_data"
    }
   ],
   "source": [
    "store_1=walmart_data[walmart_data$Store==1,]\n",
    "store_1_total=aggregate(x = store_1$Weekly_Sales, by = list(store_1$Date), FUN = sum,na.rm = TRUE )\n",
    "head(store_1_total)"
   ]
  },
  {
   "cell_type": "code",
   "execution_count": 27,
   "id": "0a6132c0",
   "metadata": {},
   "outputs": [
    {
     "data": {
      "image/png": "[encoded data removed]",
      "text/plain": [
       "plot without title"
      ]
     },
     "metadata": {
      "image/png": {
       "height": 420,
       "width": 420
      }
     },
     "output_type": "display_data"
    }
   ],
   "source": [
    "plot( \n",
    "    x=as.factor(store_1_total$Group.1),\n",
    "    y=store_1_total$x,\n",
    "    xlab='Date',\n",
    "    ylab='Sales'\n",
    ")\n",
    "lines( \n",
    "    x=as.factor(store_1_total$Group.1),\n",
    "    y=store_1_total$x,\n",
    ")"
   ]
  },
  {
   "cell_type": "code",
   "execution_count": 35,
   "id": "6f5c8d3a",
   "metadata": {},
   "outputs": [
    {
     "data": {
      "text/html": [
       "<table class=\"dataframe\">\n",
       "<caption>A data.frame: 6 × 2</caption>\n",
       "<thead>\n",
       "\t<tr><th></th><th scope=col>Group.1</th><th scope=col>x</th></tr>\n",
       "\t<tr><th></th><th scope=col>&lt;chr&gt;</th><th scope=col>&lt;dbl&gt;</th></tr>\n",
       "</thead>\n",
       "<tbody>\n",
       "\t<tr><th scope=row>1</th><td>2010-02-05</td><td>2401395</td></tr>\n",
       "\t<tr><th scope=row>2</th><td>2010-02-12</td><td>2109108</td></tr>\n",
       "\t<tr><th scope=row>3</th><td>2010-02-19</td><td>2161550</td></tr>\n",
       "\t<tr><th scope=row>4</th><td>2010-02-26</td><td>1898194</td></tr>\n",
       "\t<tr><th scope=row>5</th><td>2010-03-05</td><td>2119214</td></tr>\n",
       "\t<tr><th scope=row>6</th><td>2010-03-12</td><td>2010975</td></tr>\n",
       "</tbody>\n",
       "</table>\n"
      ],
      "text/latex": [
       "A data.frame: 6 × 2\n",
       "\\begin{tabular}{r|ll}\n",
       "  & Group.1 & x\\\\\n",
       "  & <chr> & <dbl>\\\\\n",
       "\\hline\n",
       "\t1 & 2010-02-05 & 2401395\\\\\n",
       "\t2 & 2010-02-12 & 2109108\\\\\n",
       "\t3 & 2010-02-19 & 2161550\\\\\n",
       "\t4 & 2010-02-26 & 1898194\\\\\n",
       "\t5 & 2010-03-05 & 2119214\\\\\n",
       "\t6 & 2010-03-12 & 2010975\\\\\n",
       "\\end{tabular}\n"
      ],
      "text/markdown": [
       "\n",
       "A data.frame: 6 × 2\n",
       "\n",
       "| <!--/--> | Group.1 &lt;chr&gt; | x &lt;dbl&gt; |\n",
       "|---|---|---|\n",
       "| 1 | 2010-02-05 | 2401395 |\n",
       "| 2 | 2010-02-12 | 2109108 |\n",
       "| 3 | 2010-02-19 | 2161550 |\n",
       "| 4 | 2010-02-26 | 1898194 |\n",
       "| 5 | 2010-03-05 | 2119214 |\n",
       "| 6 | 2010-03-12 | 2010975 |\n",
       "\n"
      ],
      "text/plain": [
       "  Group.1    x      \n",
       "1 2010-02-05 2401395\n",
       "2 2010-02-12 2109108\n",
       "3 2010-02-19 2161550\n",
       "4 2010-02-26 1898194\n",
       "5 2010-03-05 2119214\n",
       "6 2010-03-12 2010975"
      ]
     },
     "metadata": {},
     "output_type": "display_data"
    }
   ],
   "source": [
    "store_20=walmart_data[walmart_data$Store==20,]\n",
    "store_20_total=aggregate(x = store_20$Weekly_Sales, by = list(store_20$Date), FUN = sum,na.rm = TRUE )\n",
    "head(store_20_total)"
   ]
  },
  {
   "cell_type": "code",
   "execution_count": 36,
   "id": "cae17eeb",
   "metadata": {},
   "outputs": [],
   "source": [
    "library(ggplot2)"
   ]
  },
  {
   "cell_type": "code",
   "execution_count": 42,
   "id": "ce99be93",
   "metadata": {},
   "outputs": [
    {
     "data": {
      "text/html": [
       "'numeric'"
      ],
      "text/latex": [
       "'numeric'"
      ],
      "text/markdown": [
       "'numeric'"
      ],
      "text/plain": [
       "[1] \"numeric\""
      ]
     },
     "metadata": {},
     "output_type": "display_data"
    }
   ],
   "source": [
    "class(store_20_total$x)"
   ]
  },
  {
   "cell_type": "code",
   "execution_count": 50,
   "id": "3317bbc5",
   "metadata": {},
   "outputs": [
    {
     "data": {
      "image/png": "[encoded data removed]",
      "text/plain": [
       "plot without title"
      ]
     },
     "metadata": {
      "image/png": {
       "height": 420,
       "width": 420
      }
     },
     "output_type": "display_data"
    }
   ],
   "source": [
    "ggplot(\n",
    "    data=store_20_total,\n",
    "    aes(x=as.Date(Group.1), y=x, group=1)\n",
    ")+geom_line(color='blue') +geom_point(color='darkorange') +ylab('Sales') + xlab('Date')"
   ]
  },
  {
   "cell_type": "code",
   "execution_count": 70,
   "id": "e5013ee1",
   "metadata": {
    "scrolled": false
   },
   "outputs": [
    {
     "data": {
      "text/html": [
       "<table class=\"dataframe\">\n",
       "<caption>A data.frame: 5 × 2</caption>\n",
       "<thead>\n",
       "\t<tr><th></th><th scope=col>Group.1</th><th scope=col>x</th></tr>\n",
       "\t<tr><th></th><th scope=col>&lt;int&gt;</th><th scope=col>&lt;dbl&gt;</th></tr>\n",
       "</thead>\n",
       "<tbody>\n",
       "\t<tr><th scope=row>2</th><td> 2</td><td>275382441</td></tr>\n",
       "\t<tr><th scope=row>13</th><td>13</td><td>286517704</td></tr>\n",
       "\t<tr><th scope=row>14</th><td>14</td><td>288999911</td></tr>\n",
       "\t<tr><th scope=row>4</th><td> 4</td><td>299543953</td></tr>\n",
       "\t<tr><th scope=row>20</th><td>20</td><td>301397792</td></tr>\n",
       "</tbody>\n",
       "</table>\n"
      ],
      "text/latex": [
       "A data.frame: 5 × 2\n",
       "\\begin{tabular}{r|ll}\n",
       "  & Group.1 & x\\\\\n",
       "  & <int> & <dbl>\\\\\n",
       "\\hline\n",
       "\t2 &  2 & 275382441\\\\\n",
       "\t13 & 13 & 286517704\\\\\n",
       "\t14 & 14 & 288999911\\\\\n",
       "\t4 &  4 & 299543953\\\\\n",
       "\t20 & 20 & 301397792\\\\\n",
       "\\end{tabular}\n"
      ],
      "text/markdown": [
       "\n",
       "A data.frame: 5 × 2\n",
       "\n",
       "| <!--/--> | Group.1 &lt;int&gt; | x &lt;dbl&gt; |\n",
       "|---|---|---|\n",
       "| 2 |  2 | 275382441 |\n",
       "| 13 | 13 | 286517704 |\n",
       "| 14 | 14 | 288999911 |\n",
       "| 4 |  4 | 299543953 |\n",
       "| 20 | 20 | 301397792 |\n",
       "\n"
      ],
      "text/plain": [
       "   Group.1 x        \n",
       "2   2      275382441\n",
       "13 13      286517704\n",
       "14 14      288999911\n",
       "4   4      299543953\n",
       "20 20      301397792"
      ]
     },
     "metadata": {},
     "output_type": "display_data"
    }
   ],
   "source": [
    "sale=aggregate(walmart_data$Weekly_Sale, by=list(walmart_data$Store), FUN = sum)\n",
    "top_5_sale=tail(sale[order(sale$x),],5)\n",
    "top_5_sale"
   ]
  },
  {
   "cell_type": "code",
   "execution_count": 74,
   "id": "322e5ebf",
   "metadata": {},
   "outputs": [
    {
     "data": {
      "image/png": "[encoded data removed]",
      "text/plain": [
       "plot without title"
      ]
     },
     "metadata": {
      "image/png": {
       "height": 420,
       "width": 420
      }
     },
     "output_type": "display_data"
    }
   ],
   "source": [
    "barplot(height =top_5_sale$x)"
   ]
  },
  {
   "cell_type": "code",
   "execution_count": 83,
   "id": "cba53ea3",
   "metadata": {},
   "outputs": [
    {
     "data": {
      "text/html": [
       "<style>\n",
       ".list-inline {list-style: none; margin:0; padding: 0}\n",
       ".list-inline>li {display: inline-block}\n",
       ".list-inline>li:not(:last-child)::after {content: \"\\00b7\"; padding: 0 .5ex}\n",
       "</style>\n",
       "<ol class=list-inline><li>92</li><li>95</li><li>90</li><li>38</li><li>91</li></ol>\n"
      ],
      "text/latex": [
       "\\begin{enumerate*}\n",
       "\\item 92\n",
       "\\item 95\n",
       "\\item 90\n",
       "\\item 38\n",
       "\\item 91\n",
       "\\end{enumerate*}\n"
      ],
      "text/markdown": [
       "1. 92\n",
       "2. 95\n",
       "3. 90\n",
       "4. 38\n",
       "5. 91\n",
       "\n",
       "\n"
      ],
      "text/plain": [
       "[1] 92 95 90 38 91"
      ]
     },
     "metadata": {},
     "output_type": "display_data"
    }
   ],
   "source": [
    "store_2=walmart_data[walmart_data$Store ==2,]\n",
    "sales_by_department = aggregate(\n",
    "    x=store_2$Weekly_Sales,\n",
    "    by=list(store_2$Dept),\n",
    "    FUN=sum\n",
    ")\n",
    "top_5_dept =sales_by_department[order(-sales_by_department$x), 'Group.1'][1:5]\n",
    "top_5_dept"
   ]
  },
  {
   "cell_type": "code",
   "execution_count": 87,
   "id": "1fc1e1ca",
   "metadata": {},
   "outputs": [
    {
     "data": {
      "text/html": [
       "<table class=\"dataframe\">\n",
       "<caption>A data.frame: 715 × 5</caption>\n",
       "<thead>\n",
       "\t<tr><th></th><th scope=col>Store</th><th scope=col>Dept</th><th scope=col>Date</th><th scope=col>Weekly_Sales</th><th scope=col>IsHoliday</th></tr>\n",
       "\t<tr><th></th><th scope=col>&lt;int&gt;</th><th scope=col>&lt;int&gt;</th><th scope=col>&lt;chr&gt;</th><th scope=col>&lt;dbl&gt;</th><th scope=col>&lt;lgl&gt;</th></tr>\n",
       "</thead>\n",
       "<tbody>\n",
       "\t<tr><th scope=row>15363</th><td>2</td><td>38</td><td>2010-02-05</td><td>113144.90</td><td>FALSE</td></tr>\n",
       "\t<tr><th scope=row>15364</th><td>2</td><td>38</td><td>2010-02-12</td><td>100344.36</td><td> TRUE</td></tr>\n",
       "\t<tr><th scope=row>15365</th><td>2</td><td>38</td><td>2010-02-19</td><td> 93181.36</td><td>FALSE</td></tr>\n",
       "\t<tr><th scope=row>15366</th><td>2</td><td>38</td><td>2010-02-26</td><td>109233.51</td><td>FALSE</td></tr>\n",
       "\t<tr><th scope=row>15367</th><td>2</td><td>38</td><td>2010-03-05</td><td>116410.09</td><td>FALSE</td></tr>\n",
       "\t<tr><th scope=row>15368</th><td>2</td><td>38</td><td>2010-03-12</td><td>172794.20</td><td>FALSE</td></tr>\n",
       "\t<tr><th scope=row>15369</th><td>2</td><td>38</td><td>2010-03-19</td><td> 98552.33</td><td>FALSE</td></tr>\n",
       "\t<tr><th scope=row>15370</th><td>2</td><td>38</td><td>2010-03-26</td><td> 96659.43</td><td>FALSE</td></tr>\n",
       "\t<tr><th scope=row>15371</th><td>2</td><td>38</td><td>2010-04-02</td><td> 96264.28</td><td>FALSE</td></tr>\n",
       "\t<tr><th scope=row>15372</th><td>2</td><td>38</td><td>2010-04-09</td><td>108465.19</td><td>FALSE</td></tr>\n",
       "\t<tr><th scope=row>15373</th><td>2</td><td>38</td><td>2010-04-16</td><td> 91761.12</td><td>FALSE</td></tr>\n",
       "\t<tr><th scope=row>15374</th><td>2</td><td>38</td><td>2010-04-23</td><td> 90616.12</td><td>FALSE</td></tr>\n",
       "\t<tr><th scope=row>15375</th><td>2</td><td>38</td><td>2010-04-30</td><td> 95362.77</td><td>FALSE</td></tr>\n",
       "\t<tr><th scope=row>15376</th><td>2</td><td>38</td><td>2010-05-07</td><td>115724.51</td><td>FALSE</td></tr>\n",
       "\t<tr><th scope=row>15377</th><td>2</td><td>38</td><td>2010-05-14</td><td>102736.89</td><td>FALSE</td></tr>\n",
       "\t<tr><th scope=row>15378</th><td>2</td><td>38</td><td>2010-05-21</td><td> 90889.35</td><td>FALSE</td></tr>\n",
       "\t<tr><th scope=row>15379</th><td>2</td><td>38</td><td>2010-05-28</td><td> 91070.95</td><td>FALSE</td></tr>\n",
       "\t<tr><th scope=row>15380</th><td>2</td><td>38</td><td>2010-06-04</td><td> 88626.40</td><td>FALSE</td></tr>\n",
       "\t<tr><th scope=row>15381</th><td>2</td><td>38</td><td>2010-06-11</td><td> 87577.92</td><td>FALSE</td></tr>\n",
       "\t<tr><th scope=row>15382</th><td>2</td><td>38</td><td>2010-06-18</td><td>100604.36</td><td>FALSE</td></tr>\n",
       "\t<tr><th scope=row>15383</th><td>2</td><td>38</td><td>2010-06-25</td><td> 90427.67</td><td>FALSE</td></tr>\n",
       "\t<tr><th scope=row>15384</th><td>2</td><td>38</td><td>2010-07-02</td><td> 94049.47</td><td>FALSE</td></tr>\n",
       "\t<tr><th scope=row>15385</th><td>2</td><td>38</td><td>2010-07-09</td><td> 81926.84</td><td>FALSE</td></tr>\n",
       "\t<tr><th scope=row>15386</th><td>2</td><td>38</td><td>2010-07-16</td><td> 73848.66</td><td>FALSE</td></tr>\n",
       "\t<tr><th scope=row>15387</th><td>2</td><td>38</td><td>2010-07-23</td><td> 74734.81</td><td>FALSE</td></tr>\n",
       "\t<tr><th scope=row>15388</th><td>2</td><td>38</td><td>2010-07-30</td><td> 79166.83</td><td>FALSE</td></tr>\n",
       "\t<tr><th scope=row>15389</th><td>2</td><td>38</td><td>2010-08-06</td><td> 91908.96</td><td>FALSE</td></tr>\n",
       "\t<tr><th scope=row>15390</th><td>2</td><td>38</td><td>2010-08-13</td><td> 78352.91</td><td>FALSE</td></tr>\n",
       "\t<tr><th scope=row>15391</th><td>2</td><td>38</td><td>2010-08-20</td><td> 76760.45</td><td>FALSE</td></tr>\n",
       "\t<tr><th scope=row>15392</th><td>2</td><td>38</td><td>2010-08-27</td><td> 79687.99</td><td>FALSE</td></tr>\n",
       "\t<tr><th scope=row>⋮</th><td>⋮</td><td>⋮</td><td>⋮</td><td>⋮</td><td>⋮</td></tr>\n",
       "\t<tr><th scope=row>19982</th><td>2</td><td>95</td><td>2012-04-06</td><td>154687.6</td><td>FALSE</td></tr>\n",
       "\t<tr><th scope=row>19983</th><td>2</td><td>95</td><td>2012-04-13</td><td>146405.2</td><td>FALSE</td></tr>\n",
       "\t<tr><th scope=row>19984</th><td>2</td><td>95</td><td>2012-04-20</td><td>142351.1</td><td>FALSE</td></tr>\n",
       "\t<tr><th scope=row>19985</th><td>2</td><td>95</td><td>2012-04-27</td><td>139256.2</td><td>FALSE</td></tr>\n",
       "\t<tr><th scope=row>19986</th><td>2</td><td>95</td><td>2012-05-04</td><td>152357.5</td><td>FALSE</td></tr>\n",
       "\t<tr><th scope=row>19987</th><td>2</td><td>95</td><td>2012-05-11</td><td>151941.9</td><td>FALSE</td></tr>\n",
       "\t<tr><th scope=row>19988</th><td>2</td><td>95</td><td>2012-05-18</td><td>153161.2</td><td>FALSE</td></tr>\n",
       "\t<tr><th scope=row>19989</th><td>2</td><td>95</td><td>2012-05-25</td><td>155112.1</td><td>FALSE</td></tr>\n",
       "\t<tr><th scope=row>19990</th><td>2</td><td>95</td><td>2012-06-01</td><td>149743.3</td><td>FALSE</td></tr>\n",
       "\t<tr><th scope=row>19991</th><td>2</td><td>95</td><td>2012-06-08</td><td>164570.4</td><td>FALSE</td></tr>\n",
       "\t<tr><th scope=row>19992</th><td>2</td><td>95</td><td>2012-06-15</td><td>162591.5</td><td>FALSE</td></tr>\n",
       "\t<tr><th scope=row>19993</th><td>2</td><td>95</td><td>2012-06-22</td><td>152744.9</td><td>FALSE</td></tr>\n",
       "\t<tr><th scope=row>19994</th><td>2</td><td>95</td><td>2012-06-29</td><td>157961.8</td><td>FALSE</td></tr>\n",
       "\t<tr><th scope=row>19995</th><td>2</td><td>95</td><td>2012-07-06</td><td>168544.0</td><td>FALSE</td></tr>\n",
       "\t<tr><th scope=row>19996</th><td>2</td><td>95</td><td>2012-07-13</td><td>146470.0</td><td>FALSE</td></tr>\n",
       "\t<tr><th scope=row>19997</th><td>2</td><td>95</td><td>2012-07-20</td><td>148192.1</td><td>FALSE</td></tr>\n",
       "\t<tr><th scope=row>19998</th><td>2</td><td>95</td><td>2012-07-27</td><td>149196.0</td><td>FALSE</td></tr>\n",
       "\t<tr><th scope=row>19999</th><td>2</td><td>95</td><td>2012-08-03</td><td>159757.3</td><td>FALSE</td></tr>\n",
       "\t<tr><th scope=row>20000</th><td>2</td><td>95</td><td>2012-08-10</td><td>157227.5</td><td>FALSE</td></tr>\n",
       "\t<tr><th scope=row>20001</th><td>2</td><td>95</td><td>2012-08-17</td><td>151758.6</td><td>FALSE</td></tr>\n",
       "\t<tr><th scope=row>20002</th><td>2</td><td>95</td><td>2012-08-24</td><td>137902.5</td><td>FALSE</td></tr>\n",
       "\t<tr><th scope=row>20003</th><td>2</td><td>95</td><td>2012-08-31</td><td>154732.0</td><td>FALSE</td></tr>\n",
       "\t<tr><th scope=row>20004</th><td>2</td><td>95</td><td>2012-09-07</td><td>155701.6</td><td> TRUE</td></tr>\n",
       "\t<tr><th scope=row>20005</th><td>2</td><td>95</td><td>2012-09-14</td><td>151208.6</td><td>FALSE</td></tr>\n",
       "\t<tr><th scope=row>20006</th><td>2</td><td>95</td><td>2012-09-21</td><td>145469.6</td><td>FALSE</td></tr>\n",
       "\t<tr><th scope=row>20007</th><td>2</td><td>95</td><td>2012-09-28</td><td>144370.8</td><td>FALSE</td></tr>\n",
       "\t<tr><th scope=row>20008</th><td>2</td><td>95</td><td>2012-10-05</td><td>152482.2</td><td>FALSE</td></tr>\n",
       "\t<tr><th scope=row>20009</th><td>2</td><td>95</td><td>2012-10-12</td><td>145394.4</td><td>FALSE</td></tr>\n",
       "\t<tr><th scope=row>20010</th><td>2</td><td>95</td><td>2012-10-19</td><td>146283.1</td><td>FALSE</td></tr>\n",
       "\t<tr><th scope=row>20011</th><td>2</td><td>95</td><td>2012-10-26</td><td>138019.0</td><td>FALSE</td></tr>\n",
       "</tbody>\n",
       "</table>\n"
      ],
      "text/latex": [
       "A data.frame: 715 × 5\n",
       "\\begin{tabular}{r|lllll}\n",
       "  & Store & Dept & Date & Weekly\\_Sales & IsHoliday\\\\\n",
       "  & <int> & <int> & <chr> & <dbl> & <lgl>\\\\\n",
       "\\hline\n",
       "\t15363 & 2 & 38 & 2010-02-05 & 113144.90 & FALSE\\\\\n",
       "\t15364 & 2 & 38 & 2010-02-12 & 100344.36 &  TRUE\\\\\n",
       "\t15365 & 2 & 38 & 2010-02-19 &  93181.36 & FALSE\\\\\n",
       "\t15366 & 2 & 38 & 2010-02-26 & 109233.51 & FALSE\\\\\n",
       "\t15367 & 2 & 38 & 2010-03-05 & 116410.09 & FALSE\\\\\n",
       "\t15368 & 2 & 38 & 2010-03-12 & 172794.20 & FALSE\\\\\n",
       "\t15369 & 2 & 38 & 2010-03-19 &  98552.33 & FALSE\\\\\n",
       "\t15370 & 2 & 38 & 2010-03-26 &  96659.43 & FALSE\\\\\n",
       "\t15371 & 2 & 38 & 2010-04-02 &  96264.28 & FALSE\\\\\n",
       "\t15372 & 2 & 38 & 2010-04-09 & 108465.19 & FALSE\\\\\n",
       "\t15373 & 2 & 38 & 2010-04-16 &  91761.12 & FALSE\\\\\n",
       "\t15374 & 2 & 38 & 2010-04-23 &  90616.12 & FALSE\\\\\n",
       "\t15375 & 2 & 38 & 2010-04-30 &  95362.77 & FALSE\\\\\n",
       "\t15376 & 2 & 38 & 2010-05-07 & 115724.51 & FALSE\\\\\n",
       "\t15377 & 2 & 38 & 2010-05-14 & 102736.89 & FALSE\\\\\n",
       "\t15378 & 2 & 38 & 2010-05-21 &  90889.35 & FALSE\\\\\n",
       "\t15379 & 2 & 38 & 2010-05-28 &  91070.95 & FALSE\\\\\n",
       "\t15380 & 2 & 38 & 2010-06-04 &  88626.40 & FALSE\\\\\n",
       "\t15381 & 2 & 38 & 2010-06-11 &  87577.92 & FALSE\\\\\n",
       "\t15382 & 2 & 38 & 2010-06-18 & 100604.36 & FALSE\\\\\n",
       "\t15383 & 2 & 38 & 2010-06-25 &  90427.67 & FALSE\\\\\n",
       "\t15384 & 2 & 38 & 2010-07-02 &  94049.47 & FALSE\\\\\n",
       "\t15385 & 2 & 38 & 2010-07-09 &  81926.84 & FALSE\\\\\n",
       "\t15386 & 2 & 38 & 2010-07-16 &  73848.66 & FALSE\\\\\n",
       "\t15387 & 2 & 38 & 2010-07-23 &  74734.81 & FALSE\\\\\n",
       "\t15388 & 2 & 38 & 2010-07-30 &  79166.83 & FALSE\\\\\n",
       "\t15389 & 2 & 38 & 2010-08-06 &  91908.96 & FALSE\\\\\n",
       "\t15390 & 2 & 38 & 2010-08-13 &  78352.91 & FALSE\\\\\n",
       "\t15391 & 2 & 38 & 2010-08-20 &  76760.45 & FALSE\\\\\n",
       "\t15392 & 2 & 38 & 2010-08-27 &  79687.99 & FALSE\\\\\n",
       "\t⋮ & ⋮ & ⋮ & ⋮ & ⋮ & ⋮\\\\\n",
       "\t19982 & 2 & 95 & 2012-04-06 & 154687.6 & FALSE\\\\\n",
       "\t19983 & 2 & 95 & 2012-04-13 & 146405.2 & FALSE\\\\\n",
       "\t19984 & 2 & 95 & 2012-04-20 & 142351.1 & FALSE\\\\\n",
       "\t19985 & 2 & 95 & 2012-04-27 & 139256.2 & FALSE\\\\\n",
       "\t19986 & 2 & 95 & 2012-05-04 & 152357.5 & FALSE\\\\\n",
       "\t19987 & 2 & 95 & 2012-05-11 & 151941.9 & FALSE\\\\\n",
       "\t19988 & 2 & 95 & 2012-05-18 & 153161.2 & FALSE\\\\\n",
       "\t19989 & 2 & 95 & 2012-05-25 & 155112.1 & FALSE\\\\\n",
       "\t19990 & 2 & 95 & 2012-06-01 & 149743.3 & FALSE\\\\\n",
       "\t19991 & 2 & 95 & 2012-06-08 & 164570.4 & FALSE\\\\\n",
       "\t19992 & 2 & 95 & 2012-06-15 & 162591.5 & FALSE\\\\\n",
       "\t19993 & 2 & 95 & 2012-06-22 & 152744.9 & FALSE\\\\\n",
       "\t19994 & 2 & 95 & 2012-06-29 & 157961.8 & FALSE\\\\\n",
       "\t19995 & 2 & 95 & 2012-07-06 & 168544.0 & FALSE\\\\\n",
       "\t19996 & 2 & 95 & 2012-07-13 & 146470.0 & FALSE\\\\\n",
       "\t19997 & 2 & 95 & 2012-07-20 & 148192.1 & FALSE\\\\\n",
       "\t19998 & 2 & 95 & 2012-07-27 & 149196.0 & FALSE\\\\\n",
       "\t19999 & 2 & 95 & 2012-08-03 & 159757.3 & FALSE\\\\\n",
       "\t20000 & 2 & 95 & 2012-08-10 & 157227.5 & FALSE\\\\\n",
       "\t20001 & 2 & 95 & 2012-08-17 & 151758.6 & FALSE\\\\\n",
       "\t20002 & 2 & 95 & 2012-08-24 & 137902.5 & FALSE\\\\\n",
       "\t20003 & 2 & 95 & 2012-08-31 & 154732.0 & FALSE\\\\\n",
       "\t20004 & 2 & 95 & 2012-09-07 & 155701.6 &  TRUE\\\\\n",
       "\t20005 & 2 & 95 & 2012-09-14 & 151208.6 & FALSE\\\\\n",
       "\t20006 & 2 & 95 & 2012-09-21 & 145469.6 & FALSE\\\\\n",
       "\t20007 & 2 & 95 & 2012-09-28 & 144370.8 & FALSE\\\\\n",
       "\t20008 & 2 & 95 & 2012-10-05 & 152482.2 & FALSE\\\\\n",
       "\t20009 & 2 & 95 & 2012-10-12 & 145394.4 & FALSE\\\\\n",
       "\t20010 & 2 & 95 & 2012-10-19 & 146283.1 & FALSE\\\\\n",
       "\t20011 & 2 & 95 & 2012-10-26 & 138019.0 & FALSE\\\\\n",
       "\\end{tabular}\n"
      ],
      "text/markdown": [
       "\n",
       "A data.frame: 715 × 5\n",
       "\n",
       "| <!--/--> | Store &lt;int&gt; | Dept &lt;int&gt; | Date &lt;chr&gt; | Weekly_Sales &lt;dbl&gt; | IsHoliday &lt;lgl&gt; |\n",
       "|---|---|---|---|---|---|\n",
       "| 15363 | 2 | 38 | 2010-02-05 | 113144.90 | FALSE |\n",
       "| 15364 | 2 | 38 | 2010-02-12 | 100344.36 |  TRUE |\n",
       "| 15365 | 2 | 38 | 2010-02-19 |  93181.36 | FALSE |\n",
       "| 15366 | 2 | 38 | 2010-02-26 | 109233.51 | FALSE |\n",
       "| 15367 | 2 | 38 | 2010-03-05 | 116410.09 | FALSE |\n",
       "| 15368 | 2 | 38 | 2010-03-12 | 172794.20 | FALSE |\n",
       "| 15369 | 2 | 38 | 2010-03-19 |  98552.33 | FALSE |\n",
       "| 15370 | 2 | 38 | 2010-03-26 |  96659.43 | FALSE |\n",
       "| 15371 | 2 | 38 | 2010-04-02 |  96264.28 | FALSE |\n",
       "| 15372 | 2 | 38 | 2010-04-09 | 108465.19 | FALSE |\n",
       "| 15373 | 2 | 38 | 2010-04-16 |  91761.12 | FALSE |\n",
       "| 15374 | 2 | 38 | 2010-04-23 |  90616.12 | FALSE |\n",
       "| 15375 | 2 | 38 | 2010-04-30 |  95362.77 | FALSE |\n",
       "| 15376 | 2 | 38 | 2010-05-07 | 115724.51 | FALSE |\n",
       "| 15377 | 2 | 38 | 2010-05-14 | 102736.89 | FALSE |\n",
       "| 15378 | 2 | 38 | 2010-05-21 |  90889.35 | FALSE |\n",
       "| 15379 | 2 | 38 | 2010-05-28 |  91070.95 | FALSE |\n",
       "| 15380 | 2 | 38 | 2010-06-04 |  88626.40 | FALSE |\n",
       "| 15381 | 2 | 38 | 2010-06-11 |  87577.92 | FALSE |\n",
       "| 15382 | 2 | 38 | 2010-06-18 | 100604.36 | FALSE |\n",
       "| 15383 | 2 | 38 | 2010-06-25 |  90427.67 | FALSE |\n",
       "| 15384 | 2 | 38 | 2010-07-02 |  94049.47 | FALSE |\n",
       "| 15385 | 2 | 38 | 2010-07-09 |  81926.84 | FALSE |\n",
       "| 15386 | 2 | 38 | 2010-07-16 |  73848.66 | FALSE |\n",
       "| 15387 | 2 | 38 | 2010-07-23 |  74734.81 | FALSE |\n",
       "| 15388 | 2 | 38 | 2010-07-30 |  79166.83 | FALSE |\n",
       "| 15389 | 2 | 38 | 2010-08-06 |  91908.96 | FALSE |\n",
       "| 15390 | 2 | 38 | 2010-08-13 |  78352.91 | FALSE |\n",
       "| 15391 | 2 | 38 | 2010-08-20 |  76760.45 | FALSE |\n",
       "| 15392 | 2 | 38 | 2010-08-27 |  79687.99 | FALSE |\n",
       "| ⋮ | ⋮ | ⋮ | ⋮ | ⋮ | ⋮ |\n",
       "| 19982 | 2 | 95 | 2012-04-06 | 154687.6 | FALSE |\n",
       "| 19983 | 2 | 95 | 2012-04-13 | 146405.2 | FALSE |\n",
       "| 19984 | 2 | 95 | 2012-04-20 | 142351.1 | FALSE |\n",
       "| 19985 | 2 | 95 | 2012-04-27 | 139256.2 | FALSE |\n",
       "| 19986 | 2 | 95 | 2012-05-04 | 152357.5 | FALSE |\n",
       "| 19987 | 2 | 95 | 2012-05-11 | 151941.9 | FALSE |\n",
       "| 19988 | 2 | 95 | 2012-05-18 | 153161.2 | FALSE |\n",
       "| 19989 | 2 | 95 | 2012-05-25 | 155112.1 | FALSE |\n",
       "| 19990 | 2 | 95 | 2012-06-01 | 149743.3 | FALSE |\n",
       "| 19991 | 2 | 95 | 2012-06-08 | 164570.4 | FALSE |\n",
       "| 19992 | 2 | 95 | 2012-06-15 | 162591.5 | FALSE |\n",
       "| 19993 | 2 | 95 | 2012-06-22 | 152744.9 | FALSE |\n",
       "| 19994 | 2 | 95 | 2012-06-29 | 157961.8 | FALSE |\n",
       "| 19995 | 2 | 95 | 2012-07-06 | 168544.0 | FALSE |\n",
       "| 19996 | 2 | 95 | 2012-07-13 | 146470.0 | FALSE |\n",
       "| 19997 | 2 | 95 | 2012-07-20 | 148192.1 | FALSE |\n",
       "| 19998 | 2 | 95 | 2012-07-27 | 149196.0 | FALSE |\n",
       "| 19999 | 2 | 95 | 2012-08-03 | 159757.3 | FALSE |\n",
       "| 20000 | 2 | 95 | 2012-08-10 | 157227.5 | FALSE |\n",
       "| 20001 | 2 | 95 | 2012-08-17 | 151758.6 | FALSE |\n",
       "| 20002 | 2 | 95 | 2012-08-24 | 137902.5 | FALSE |\n",
       "| 20003 | 2 | 95 | 2012-08-31 | 154732.0 | FALSE |\n",
       "| 20004 | 2 | 95 | 2012-09-07 | 155701.6 |  TRUE |\n",
       "| 20005 | 2 | 95 | 2012-09-14 | 151208.6 | FALSE |\n",
       "| 20006 | 2 | 95 | 2012-09-21 | 145469.6 | FALSE |\n",
       "| 20007 | 2 | 95 | 2012-09-28 | 144370.8 | FALSE |\n",
       "| 20008 | 2 | 95 | 2012-10-05 | 152482.2 | FALSE |\n",
       "| 20009 | 2 | 95 | 2012-10-12 | 145394.4 | FALSE |\n",
       "| 20010 | 2 | 95 | 2012-10-19 | 146283.1 | FALSE |\n",
       "| 20011 | 2 | 95 | 2012-10-26 | 138019.0 | FALSE |\n",
       "\n"
      ],
      "text/plain": [
       "      Store Dept Date       Weekly_Sales IsHoliday\n",
       "15363 2     38   2010-02-05 113144.90    FALSE    \n",
       "15364 2     38   2010-02-12 100344.36     TRUE    \n",
       "15365 2     38   2010-02-19  93181.36    FALSE    \n",
       "15366 2     38   2010-02-26 109233.51    FALSE    \n",
       "15367 2     38   2010-03-05 116410.09    FALSE    \n",
       "15368 2     38   2010-03-12 172794.20    FALSE    \n",
       "15369 2     38   2010-03-19  98552.33    FALSE    \n",
       "15370 2     38   2010-03-26  96659.43    FALSE    \n",
       "15371 2     38   2010-04-02  96264.28    FALSE    \n",
       "15372 2     38   2010-04-09 108465.19    FALSE    \n",
       "15373 2     38   2010-04-16  91761.12    FALSE    \n",
       "15374 2     38   2010-04-23  90616.12    FALSE    \n",
       "15375 2     38   2010-04-30  95362.77    FALSE    \n",
       "15376 2     38   2010-05-07 115724.51    FALSE    \n",
       "15377 2     38   2010-05-14 102736.89    FALSE    \n",
       "15378 2     38   2010-05-21  90889.35    FALSE    \n",
       "15379 2     38   2010-05-28  91070.95    FALSE    \n",
       "15380 2     38   2010-06-04  88626.40    FALSE    \n",
       "15381 2     38   2010-06-11  87577.92    FALSE    \n",
       "15382 2     38   2010-06-18 100604.36    FALSE    \n",
       "15383 2     38   2010-06-25  90427.67    FALSE    \n",
       "15384 2     38   2010-07-02  94049.47    FALSE    \n",
       "15385 2     38   2010-07-09  81926.84    FALSE    \n",
       "15386 2     38   2010-07-16  73848.66    FALSE    \n",
       "15387 2     38   2010-07-23  74734.81    FALSE    \n",
       "15388 2     38   2010-07-30  79166.83    FALSE    \n",
       "15389 2     38   2010-08-06  91908.96    FALSE    \n",
       "15390 2     38   2010-08-13  78352.91    FALSE    \n",
       "15391 2     38   2010-08-20  76760.45    FALSE    \n",
       "15392 2     38   2010-08-27  79687.99    FALSE    \n",
       "⋮     ⋮     ⋮    ⋮          ⋮            ⋮        \n",
       "19982 2     95   2012-04-06 154687.6     FALSE    \n",
       "19983 2     95   2012-04-13 146405.2     FALSE    \n",
       "19984 2     95   2012-04-20 142351.1     FALSE    \n",
       "19985 2     95   2012-04-27 139256.2     FALSE    \n",
       "19986 2     95   2012-05-04 152357.5     FALSE    \n",
       "19987 2     95   2012-05-11 151941.9     FALSE    \n",
       "19988 2     95   2012-05-18 153161.2     FALSE    \n",
       "19989 2     95   2012-05-25 155112.1     FALSE    \n",
       "19990 2     95   2012-06-01 149743.3     FALSE    \n",
       "19991 2     95   2012-06-08 164570.4     FALSE    \n",
       "19992 2     95   2012-06-15 162591.5     FALSE    \n",
       "19993 2     95   2012-06-22 152744.9     FALSE    \n",
       "19994 2     95   2012-06-29 157961.8     FALSE    \n",
       "19995 2     95   2012-07-06 168544.0     FALSE    \n",
       "19996 2     95   2012-07-13 146470.0     FALSE    \n",
       "19997 2     95   2012-07-20 148192.1     FALSE    \n",
       "19998 2     95   2012-07-27 149196.0     FALSE    \n",
       "19999 2     95   2012-08-03 159757.3     FALSE    \n",
       "20000 2     95   2012-08-10 157227.5     FALSE    \n",
       "20001 2     95   2012-08-17 151758.6     FALSE    \n",
       "20002 2     95   2012-08-24 137902.5     FALSE    \n",
       "20003 2     95   2012-08-31 154732.0     FALSE    \n",
       "20004 2     95   2012-09-07 155701.6      TRUE    \n",
       "20005 2     95   2012-09-14 151208.6     FALSE    \n",
       "20006 2     95   2012-09-21 145469.6     FALSE    \n",
       "20007 2     95   2012-09-28 144370.8     FALSE    \n",
       "20008 2     95   2012-10-05 152482.2     FALSE    \n",
       "20009 2     95   2012-10-12 145394.4     FALSE    \n",
       "20010 2     95   2012-10-19 146283.1     FALSE    \n",
       "20011 2     95   2012-10-26 138019.0     FALSE    "
      ]
     },
     "metadata": {},
     "output_type": "display_data"
    }
   ],
   "source": [
    "top_5_dept_sales=store_2[store_2$Dept %in% top_5_dept,]\n",
    "top_5_dept_sales"
   ]
  },
  {
   "cell_type": "code",
   "execution_count": 91,
   "id": "9b1e02fc",
   "metadata": {},
   "outputs": [
    {
     "data": {
      "image/png": "[encoded data removed]",
      "text/plain": [
       "plot without title"
      ]
     },
     "metadata": {
      "image/png": {
       "height": 420,
       "width": 420
      }
     },
     "output_type": "display_data"
    }
   ],
   "source": [
    "ggplot(\n",
    "    data=top_5_dept_sales,\n",
    "    aes(x=as.Date(Date), y=Weekly_Sales, group=Dept, color=as.factor(Dept))\n",
    ") + geom_line()"
   ]
  }
 ],
 "metadata": {
  "kernelspec": {
   "display_name": "R",
   "language": "R",
   "name": "ir"
  },
  "language_info": {
   "codemirror_mode": "r",
   "file_extension": ".r",
   "mimetype": "text/x-r-source",
   "name": "R",
   "pygments_lexer": "r",
   "version": "4.2.2"
  }
 },
 "nbformat": 4,
 "nbformat_minor": 5
}
